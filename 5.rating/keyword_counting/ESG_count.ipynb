{
 "cells": [
  {
   "cell_type": "code",
   "execution_count": 1,
   "metadata": {},
   "outputs": [],
   "source": [
    "import pandas as pd\n",
    "with open('./counting_data/지속가능경영보고서_키워드.csv','r',encoding='utf-8') as f:\n",
    "    keywords = [lines.strip() for lines in f.readlines()][1:]\n",
    "keyword_label = [tuple(keyword.split(',')) for keyword in keywords]\n",
    "df_news = pd.read_csv('./counting_data/total_kosdaq_data.csv')"
   ]
  },
  {
   "cell_type": "code",
   "execution_count": 4,
   "metadata": {},
   "outputs": [
    {
     "name": "stdout",
     "output_type": "stream",
     "text": [
      "현재년도: 2024\n"
     ]
    }
   ],
   "source": [
    "import datetime\n",
    "current_datetime = datetime.datetime.now()\n",
    "now_year = current_datetime.year\n",
    "print(\"현재년도:\", now_year)"
   ]
  },
  {
   "cell_type": "code",
   "execution_count": 6,
   "metadata": {},
   "outputs": [],
   "source": [
    "from counting_data.mariadb import MariaDB\n",
    "with open('./counting_data/aws_config','r',encoding='utf-8') as f:\n",
    "    db_config = {lines.split('=')[0].strip():lines.split('=')[1].strip() for lines in f.readlines()}\n",
    "db = MariaDB(db_config)"
   ]
  },
  {
   "cell_type": "code",
   "execution_count": 9,
   "metadata": {},
   "outputs": [],
   "source": [
    "df_year = df_news[df_news['Date'].apply(lambda x: x.split('.')[0] == str(2023))] # 현재날짜 년도의 컨텐츠만"
   ]
  },
  {
   "cell_type": "code",
   "execution_count": 15,
   "metadata": {},
   "outputs": [
    {
     "data": {
      "text/html": [
       "<div>\n",
       "<style scoped>\n",
       "    .dataframe tbody tr th:only-of-type {\n",
       "        vertical-align: middle;\n",
       "    }\n",
       "\n",
       "    .dataframe tbody tr th {\n",
       "        vertical-align: top;\n",
       "    }\n",
       "\n",
       "    .dataframe thead th {\n",
       "        text-align: right;\n",
       "    }\n",
       "</style>\n",
       "<table border=\"1\" class=\"dataframe\">\n",
       "  <thead>\n",
       "    <tr style=\"text-align: right;\">\n",
       "      <th></th>\n",
       "      <th>Unnamed: 0</th>\n",
       "      <th>Company</th>\n",
       "      <th>Date</th>\n",
       "      <th>URL</th>\n",
       "      <th>Sentence</th>\n",
       "    </tr>\n",
       "  </thead>\n",
       "  <tbody>\n",
       "    <tr>\n",
       "      <th>3228897</th>\n",
       "      <td>3616483</td>\n",
       "      <td>엔젤로보틱스</td>\n",
       "      <td>2023.01.09</td>\n",
       "      <td>https://n.news.naver.com/mnews/article/023/000...</td>\n",
       "      <td>코로나 팬데믹대유행 이후 3년 만에 전면 오프라인으로 열린 세계 최대 IT 전시회 ...</td>\n",
       "    </tr>\n",
       "    <tr>\n",
       "      <th>3228898</th>\n",
       "      <td>3616484</td>\n",
       "      <td>엔젤로보틱스</td>\n",
       "      <td>2023.01.09</td>\n",
       "      <td>https://n.news.naver.com/mnews/article/023/000...</td>\n",
       "      <td>부스마다 길게 늘어선 줄과 마스크를 쓰지 않은 참가자들의 모습은 코로나 이전으로 완...</td>\n",
       "    </tr>\n",
       "    <tr>\n",
       "      <th>3228899</th>\n",
       "      <td>3616485</td>\n",
       "      <td>엔젤로보틱스</td>\n",
       "      <td>2023.01.09</td>\n",
       "      <td>https://n.news.naver.com/mnews/article/023/000...</td>\n",
       "      <td>7일 CES 전시가 한창인 미국 라스베이거스 유레카파크에서 선정윤 서울대 재료공학부...</td>\n",
       "    </tr>\n",
       "    <tr>\n",
       "      <th>3228900</th>\n",
       "      <td>3616486</td>\n",
       "      <td>엔젤로보틱스</td>\n",
       "      <td>2023.01.09</td>\n",
       "      <td>https://n.news.naver.com/mnews/article/023/000...</td>\n",
       "      <td>이들은 규모는 코로나 이전을 회복했지만 기업들이 추구하는 전시의 방향성이 완전히 달...</td>\n",
       "    </tr>\n",
       "    <tr>\n",
       "      <th>3228901</th>\n",
       "      <td>3616487</td>\n",
       "      <td>엔젤로보틱스</td>\n",
       "      <td>2023.01.09</td>\n",
       "      <td>https://n.news.naver.com/mnews/article/023/000...</td>\n",
       "      <td>공경철 교수는 이전에 없었던 놀라운 기술은 거의 등장하지 않았지만 기존에 기업들이 ...</td>\n",
       "    </tr>\n",
       "    <tr>\n",
       "      <th>...</th>\n",
       "      <td>...</td>\n",
       "      <td>...</td>\n",
       "      <td>...</td>\n",
       "      <td>...</td>\n",
       "      <td>...</td>\n",
       "    </tr>\n",
       "    <tr>\n",
       "      <th>4268944</th>\n",
       "      <td>4738482</td>\n",
       "      <td>리더스 기술투자</td>\n",
       "      <td>2023.12.19</td>\n",
       "      <td>https://n.news.naver.com/mnews/article/016/000...</td>\n",
       "      <td>승계형 그룹 상장사213개의 시가총액은 2020년 12월 30일 1309조3780억...</td>\n",
       "    </tr>\n",
       "    <tr>\n",
       "      <th>4268945</th>\n",
       "      <td>4738483</td>\n",
       "      <td>리더스 기술투자</td>\n",
       "      <td>2023.12.19</td>\n",
       "      <td>https://n.news.naver.com/mnews/article/016/000...</td>\n",
       "      <td>반면 같은 기간 창업형 그룹들의 상장사58개의 시가총액은 223조9650억원에서 2...</td>\n",
       "    </tr>\n",
       "    <tr>\n",
       "      <th>4268946</th>\n",
       "      <td>4738484</td>\n",
       "      <td>리더스 기술투자</td>\n",
       "      <td>2023.12.19</td>\n",
       "      <td>https://n.news.naver.com/mnews/article/016/000...</td>\n",
       "      <td>리더스인덱스는 이번 조사에 대해 팬데믹 종료와 함께 정보기술IT 플랫폼 게임 등 창...</td>\n",
       "    </tr>\n",
       "    <tr>\n",
       "      <th>4268947</th>\n",
       "      <td>4738485</td>\n",
       "      <td>리더스 기술투자</td>\n",
       "      <td>2023.12.19</td>\n",
       "      <td>https://n.news.naver.com/mnews/article/016/000...</td>\n",
       "      <td>2020년부터 올해까지 시가총액이 가장 많이 증가한 그룹은 LG47조828억원였고 ...</td>\n",
       "    </tr>\n",
       "    <tr>\n",
       "      <th>4268948</th>\n",
       "      <td>4738486</td>\n",
       "      <td>리더스 기술투자</td>\n",
       "      <td>2023.12.19</td>\n",
       "      <td>https://n.news.naver.com/mnews/article/016/000...</td>\n",
       "      <td>삼성은 이 기간 시가총액이 61조5585억원 줄어 가장 감소폭이 컸고 셀트리온40조...</td>\n",
       "    </tr>\n",
       "  </tbody>\n",
       "</table>\n",
       "<p>1040052 rows × 5 columns</p>\n",
       "</div>"
      ],
      "text/plain": [
       "         Unnamed: 0   Company        Date  \\\n",
       "3228897     3616483    엔젤로보틱스  2023.01.09   \n",
       "3228898     3616484    엔젤로보틱스  2023.01.09   \n",
       "3228899     3616485    엔젤로보틱스  2023.01.09   \n",
       "3228900     3616486    엔젤로보틱스  2023.01.09   \n",
       "3228901     3616487    엔젤로보틱스  2023.01.09   \n",
       "...             ...       ...         ...   \n",
       "4268944     4738482  리더스 기술투자  2023.12.19   \n",
       "4268945     4738483  리더스 기술투자  2023.12.19   \n",
       "4268946     4738484  리더스 기술투자  2023.12.19   \n",
       "4268947     4738485  리더스 기술투자  2023.12.19   \n",
       "4268948     4738486  리더스 기술투자  2023.12.19   \n",
       "\n",
       "                                                       URL  \\\n",
       "3228897  https://n.news.naver.com/mnews/article/023/000...   \n",
       "3228898  https://n.news.naver.com/mnews/article/023/000...   \n",
       "3228899  https://n.news.naver.com/mnews/article/023/000...   \n",
       "3228900  https://n.news.naver.com/mnews/article/023/000...   \n",
       "3228901  https://n.news.naver.com/mnews/article/023/000...   \n",
       "...                                                    ...   \n",
       "4268944  https://n.news.naver.com/mnews/article/016/000...   \n",
       "4268945  https://n.news.naver.com/mnews/article/016/000...   \n",
       "4268946  https://n.news.naver.com/mnews/article/016/000...   \n",
       "4268947  https://n.news.naver.com/mnews/article/016/000...   \n",
       "4268948  https://n.news.naver.com/mnews/article/016/000...   \n",
       "\n",
       "                                                  Sentence  \n",
       "3228897  코로나 팬데믹대유행 이후 3년 만에 전면 오프라인으로 열린 세계 최대 IT 전시회 ...  \n",
       "3228898  부스마다 길게 늘어선 줄과 마스크를 쓰지 않은 참가자들의 모습은 코로나 이전으로 완...  \n",
       "3228899  7일 CES 전시가 한창인 미국 라스베이거스 유레카파크에서 선정윤 서울대 재료공학부...  \n",
       "3228900  이들은 규모는 코로나 이전을 회복했지만 기업들이 추구하는 전시의 방향성이 완전히 달...  \n",
       "3228901  공경철 교수는 이전에 없었던 놀라운 기술은 거의 등장하지 않았지만 기존에 기업들이 ...  \n",
       "...                                                    ...  \n",
       "4268944  승계형 그룹 상장사213개의 시가총액은 2020년 12월 30일 1309조3780억...  \n",
       "4268945  반면 같은 기간 창업형 그룹들의 상장사58개의 시가총액은 223조9650억원에서 2...  \n",
       "4268946  리더스인덱스는 이번 조사에 대해 팬데믹 종료와 함께 정보기술IT 플랫폼 게임 등 창...  \n",
       "4268947  2020년부터 올해까지 시가총액이 가장 많이 증가한 그룹은 LG47조828억원였고 ...  \n",
       "4268948  삼성은 이 기간 시가총액이 61조5585억원 줄어 가장 감소폭이 컸고 셀트리온40조...  \n",
       "\n",
       "[1040052 rows x 5 columns]"
      ]
     },
     "execution_count": 15,
     "metadata": {},
     "output_type": "execute_result"
    }
   ],
   "source": [
    "len(df_year) , len(df_news)\n",
    "df_year"
   ]
  },
  {
   "cell_type": "code",
   "execution_count": 16,
   "metadata": {},
   "outputs": [],
   "source": [
    "keyword_counts = {keyword: {'E': 0, 'S': 0, 'G': 0} for keyword, _ in keyword_label}\n",
    "\n",
    "for index, row in df_year.iterrows():\n",
    "    sentence = row['Sentence']\n",
    "    for keyword, label in keyword_label:\n",
    "        count = sentence.count(keyword)\n",
    "        if count > 0:\n",
    "            keyword_counts[keyword][label.strip()] += count"
   ]
  },
  {
   "cell_type": "code",
   "execution_count": 22,
   "metadata": {},
   "outputs": [],
   "source": [
    "key = keyword_counts.keys()\n",
    "E = [keyword_counts[key]['E'] for key in keyword_counts]\n",
    "S = [keyword_counts[key]['S'] for key in keyword_counts]\n",
    "G = [keyword_counts[key]['G'] for key in keyword_counts]\n",
    "data = list(zip(key,E,S,G))"
   ]
  },
  {
   "cell_type": "code",
   "execution_count": 24,
   "metadata": {},
   "outputs": [
    {
     "data": {
      "text/plain": [
       "True"
      ]
     },
     "execution_count": 24,
     "metadata": {},
     "output_type": "execute_result"
    }
   ],
   "source": [
    "db.insert_many('tb_ESG_keyword','Keyword,E_Count,S_Count,G_Count',data)"
   ]
  },
  {
   "cell_type": "code",
   "execution_count": null,
   "metadata": {},
   "outputs": [],
   "source": []
  }
 ],
 "metadata": {
  "kernelspec": {
   "display_name": "bok",
   "language": "python",
   "name": "python3"
  },
  "language_info": {
   "codemirror_mode": {
    "name": "ipython",
    "version": 3
   },
   "file_extension": ".py",
   "mimetype": "text/x-python",
   "name": "python",
   "nbconvert_exporter": "python",
   "pygments_lexer": "ipython3",
   "version": "3.11.8"
  }
 },
 "nbformat": 4,
 "nbformat_minor": 2
}
