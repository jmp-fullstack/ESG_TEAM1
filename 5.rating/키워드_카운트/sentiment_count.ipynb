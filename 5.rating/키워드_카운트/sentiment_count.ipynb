{
 "cells": [
  {
   "cell_type": "markdown",
   "metadata": {},
   "source": [
    "### 년도별 문장들 긍/부정 키워드 기반 카운팅\n"
   ]
  },
  {
   "cell_type": "code",
   "execution_count": 1,
   "metadata": {},
   "outputs": [],
   "source": [
    "from counting_data.mariadb import MariaDB\n",
    "with open('./counting_data/aws_config','r',encoding='utf-8') as f:\n",
    "    db_config = {lines.split('=')[0].strip():lines.split('=')[1].strip() for lines in f.readlines()}\n",
    "db = MariaDB(db_config)"
   ]
  },
  {
   "cell_type": "code",
   "execution_count": 6,
   "metadata": {},
   "outputs": [],
   "source": [
    "import pandas as pd\n",
    "import json"
   ]
  },
  {
   "cell_type": "code",
   "execution_count": 7,
   "metadata": {},
   "outputs": [],
   "source": [
    "with open('./counting_data/total_kosdaq.json') as f:\n",
    "    company_year_sentence = json.load(f)"
   ]
  },
  {
   "cell_type": "code",
   "execution_count": 8,
   "metadata": {},
   "outputs": [],
   "source": [
    "# 키워드 설정\n",
    "keywords = [('행복', 1), ('부정', 0), ('기쁘다',1),('자살',0),('긍정',1),('아니',0)]\n",
    "pos_keywords = {kw for kw, val in keywords if val == 1}\n",
    "neg_keywords = {kw for kw, val in keywords if val == 0}\n",
    "\n",
    "# \n",
    "columns = ['company', 'year', 'pos_count', 'neg_count']\n",
    "counting_df = pd.DataFrame(columns=columns)"
   ]
  },
  {
   "cell_type": "code",
   "execution_count": 9,
   "metadata": {},
   "outputs": [],
   "source": [
    "index = 0\n",
    "for company, years in company_year_sentence.items():\n",
    "    for year, sentences in years.items():\n",
    "        pos_count = 0\n",
    "        neg_count = 0\n",
    "\n",
    "        # 각 문장별 긍정 키워드 계산\n",
    "        for sentence in sentences:\n",
    "            if not isinstance(sentence, str):\n",
    "                continue\n",
    "            sentence_pos_count = 0\n",
    "            for word in pos_keywords:\n",
    "                sentence_pos_count += sentence.count(word)\n",
    "            pos_count += sentence_pos_count\n",
    "\n",
    "        # 각 문장별 부정 키워드 계산\n",
    "        for sentence in sentences:\n",
    "            if not isinstance(sentence, str):\n",
    "                continue\n",
    "            sentence_neg_count = 0\n",
    "            for word in neg_keywords:\n",
    "                sentence_neg_count += sentence.count(word)\n",
    "            neg_count += sentence_neg_count\n",
    "\n",
    "        counting_df.loc[index] = [company, year, pos_count, neg_count]\n",
    "        index += 1"
   ]
  },
  {
   "cell_type": "code",
   "execution_count": 4,
   "metadata": {},
   "outputs": [
    {
     "data": {
      "text/plain": [
       "1"
      ]
     },
     "execution_count": 4,
     "metadata": {},
     "output_type": "execute_result"
    }
   ],
   "source": [
    "a = '안녕 나는'\n",
    "b = '안녕'\n",
    "a.count(b)\n",
    "float 에러"
   ]
  },
  {
   "cell_type": "code",
   "execution_count": 23,
   "metadata": {},
   "outputs": [
    {
     "data": {
      "text/html": [
       "<div>\n",
       "<style scoped>\n",
       "    .dataframe tbody tr th:only-of-type {\n",
       "        vertical-align: middle;\n",
       "    }\n",
       "\n",
       "    .dataframe tbody tr th {\n",
       "        vertical-align: top;\n",
       "    }\n",
       "\n",
       "    .dataframe thead th {\n",
       "        text-align: right;\n",
       "    }\n",
       "</style>\n",
       "<table border=\"1\" class=\"dataframe\">\n",
       "  <thead>\n",
       "    <tr style=\"text-align: right;\">\n",
       "      <th></th>\n",
       "      <th>company</th>\n",
       "      <th>year</th>\n",
       "      <th>pos_count</th>\n",
       "      <th>neg_count</th>\n",
       "    </tr>\n",
       "  </thead>\n",
       "  <tbody>\n",
       "    <tr>\n",
       "      <th>0</th>\n",
       "      <td>오상헬스케어</td>\n",
       "      <td>2019</td>\n",
       "      <td>0</td>\n",
       "      <td>1</td>\n",
       "    </tr>\n",
       "    <tr>\n",
       "      <th>1</th>\n",
       "      <td>오상헬스케어</td>\n",
       "      <td>2020</td>\n",
       "      <td>8</td>\n",
       "      <td>24</td>\n",
       "    </tr>\n",
       "    <tr>\n",
       "      <th>2</th>\n",
       "      <td>오상헬스케어</td>\n",
       "      <td>2021</td>\n",
       "      <td>2</td>\n",
       "      <td>16</td>\n",
       "    </tr>\n",
       "  </tbody>\n",
       "</table>\n",
       "</div>"
      ],
      "text/plain": [
       "  company  year  pos_count  neg_count\n",
       "0  오상헬스케어  2019          0          1\n",
       "1  오상헬스케어  2020          8         24\n",
       "2  오상헬스케어  2021          2         16"
      ]
     },
     "execution_count": 23,
     "metadata": {},
     "output_type": "execute_result"
    }
   ],
   "source": [
    "company_count = (counting_df['company'],counting_df['year'],counting_df['pos_count'],counting_df['neg_count'])"
   ]
  },
  {
   "cell_type": "code",
   "execution_count": 22,
   "metadata": {},
   "outputs": [
    {
     "data": {
      "text/plain": [
       "True"
      ]
     },
     "execution_count": 22,
     "metadata": {},
     "output_type": "execute_result"
    }
   ],
   "source": [
    "db.insert_many('tb_company_keyword','Company,Year,Keyword,Pos_Count,Neg_Count',company_count)"
   ]
  }
 ],
 "metadata": {
  "kernelspec": {
   "display_name": "bok",
   "language": "python",
   "name": "python3"
  },
  "language_info": {
   "codemirror_mode": {
    "name": "ipython",
    "version": 3
   },
   "file_extension": ".py",
   "mimetype": "text/x-python",
   "name": "python",
   "nbconvert_exporter": "python",
   "pygments_lexer": "ipython3",
   "version": "3.11.8"
  }
 },
 "nbformat": 4,
 "nbformat_minor": 2
}
