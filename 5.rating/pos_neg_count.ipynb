{
 "cells": [
  {
   "cell_type": "code",
   "execution_count": null,
   "metadata": {},
   "outputs": [],
   "source": [
    "# 1. esg 키워드별 환경,사회,지배구조에 카운트한것 db에 넣는 코드\n",
    "\n",
    "# 2. 기업별 문장에 긍정/부정 키워드 카운트 한거 db에 넣는코드"
   ]
  },
  {
   "cell_type": "code",
   "execution_count": 1,
   "metadata": {},
   "outputs": [],
   "source": [
    "import pandas as pd"
   ]
  },
  {
   "cell_type": "code",
   "execution_count": 3,
   "metadata": {},
   "outputs": [],
   "source": [
    "sentences = ['오늘 기분이 안좋다','집에 언제가지','프로젝트 힘들어','기분이 너무 좋다','오늘 세상이 밝아']\n",
    "neg_keyword = ['안좋다,힘들다,언제']\n",
    "pos_keyword = ['밝아','좋다']"
   ]
  },
  {
   "cell_type": "code",
   "execution_count": null,
   "metadata": {},
   "outputs": [],
   "source": [
    "for sentence in sentences:\n",
    "    \n"
   ]
  },
  {
   "cell_type": "code",
   "execution_count": null,
   "metadata": {},
   "outputs": [],
   "source": [
    "# df = df.drop_duplicates(subset='content')\n",
    "# data = []\n",
    "\n",
    "# for index, row in df.iterrows():\n",
    "#     sentences = row['content'].split('&&')\n",
    "#     for sentence in sentences:\n",
    "#         if len(sentence) > 40:\n",
    "#             setting = {'E': 0, 'S': 0, 'G': 0}\n",
    "#             for keyword, label in keywords:\n",
    "#                 if keyword in sentence:\n",
    "#                     setting[label.strip()] = 1\n",
    "#             data.append((row['company'], row['date'],row['url'], sentence, setting['E'], setting['S'], setting['G']))  # 데이터프레임에 맞춰서 설정\n",
    "# pd.DataFrame(data, columns=['Company','Date','URL', 'Sentence', 'E', 'S', 'G']) # 데이터 프레임에 맞춰서 설정"
   ]
  },
  {
   "cell_type": "code",
   "execution_count": null,
   "metadata": {},
   "outputs": [],
   "source": []
  }
 ],
 "metadata": {
  "kernelspec": {
   "display_name": "bok",
   "language": "python",
   "name": "python3"
  },
  "language_info": {
   "codemirror_mode": {
    "name": "ipython",
    "version": 3
   },
   "file_extension": ".py",
   "mimetype": "text/x-python",
   "name": "python",
   "nbconvert_exporter": "python",
   "pygments_lexer": "ipython3",
   "version": "3.11.8"
  }
 },
 "nbformat": 4,
 "nbformat_minor": 2
}
