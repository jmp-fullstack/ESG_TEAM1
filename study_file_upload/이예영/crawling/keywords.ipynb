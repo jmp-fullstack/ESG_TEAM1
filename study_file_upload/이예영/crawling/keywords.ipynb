{
 "cells": [
  {
   "cell_type": "code",
   "execution_count": null,
   "metadata": {},
   "outputs": [],
   "source": [
    "import re\n",
    "from PyPDF2 import PdfReader"
   ]
  },
  {
   "cell_type": "code",
   "execution_count": 6,
   "metadata": {},
   "outputs": [
    {
     "name": "stdout",
     "output_type": "stream",
     "text": [
      "176\n"
     ]
    }
   ],
   "source": [
    "## initiate PdfReader\n",
    "pdf_path = '가이드라인.pdf'\n",
    "reader = PdfReader(pdf_path)\n",
    "\n",
    "print(len(reader.pages))\n",
    "\n",
    "## extract text from a pdf file\n",
    "text_all = []\n",
    "\n",
    "for page in reader.pages:\n",
    "    text = page.extract_text()\n",
    "    text_all.append(text)"
   ]
  },
  {
   "cell_type": "code",
   "execution_count": 183,
   "metadata": {},
   "outputs": [
    {
     "name": "stdout",
     "output_type": "stream",
     "text": [
      "정보공시 형식   \n",
      "정보공시 내용          \n",
      "정보공시 검증 \n",
      "환경경영 목표         \n",
      "원부자재    \n",
      "온실가스             \n",
      "에너지          \n",
      "용수         \n",
      "폐기물       \n",
      "오염물질         \n",
      "환경 법/규제 위반\n",
      "환경 라벨링       \n",
      "사회 목표       \n",
      "노동            \n",
      "다양성 및 양성평등          \n",
      "산업안전          \n",
      "인권           \n",
      "동반성장           \n",
      "지역사회         \n",
      "정보보호   \n",
      "사회/법 규제 위반        \n",
      "이사회 구성          \n",
      "이사회 활동          \n",
      "주주권리       \n",
      "윤리경영           \n",
      "감사기구       \n",
      "지배구조 법/규제위반\n"
     ]
    }
   ],
   "source": [
    "# 19 페이지\n",
    "text = text_all[18].split('\\n')\n",
    "text = '\\n'.join(text[2:]).replace('●', '')\n",
    "key_words_1 = text.split(\"<표 5>\")[0].strip()\n",
    "\n",
    "print(key_words_1)"
   ]
  },
  {
   "cell_type": "code",
   "execution_count": 205,
   "metadata": {},
   "outputs": [],
   "source": [
    "# 26,27,28 페이지 텍스트 추출\n",
    "text_26 = text_all[25].split('\\n')\n",
    "text_26[5:]\n",
    "text_27 = text_all[26].split('\\n')\n",
    "text_27[3:]\n",
    "text_28 = text_all[27].split('\\n')\n",
    "text_28[4:25:]\n",
    "\n",
    "text = text_26[5:] + text_27[3:] + text_28[4:25:]\n",
    "\n",
    "a = []\n",
    "for data in text:\n",
    "    pattern = r'[A-Z]-\\d+-\\d+ (.*)'\n",
    "    result = re.search(pattern, data)\n",
    "    if result:\n",
    "        key_words_2 = result.group(1)\n",
    "        a.append(key_words_2)"
   ]
  },
  {
   "cell_type": "code",
   "execution_count": 210,
   "metadata": {},
   "outputs": [
    {
     "name": "stdout",
     "output_type": "stream",
     "text": [
      "정보가 key_words.txt에 저장되었습니다.\n"
     ]
    }
   ],
   "source": [
    "# 리스트를 하나의 문자열로 변환\n",
    "information = '\\n'.join(a)\n",
    "\n",
    "# 파일에 정보 저장\n",
    "file_name = \"key_words.txt\"\n",
    "with open(file_name, \"w\") as file:\n",
    "    file.write(information)\n",
    "\n",
    "print(f\"정보가 {file_name}에 저장되었습니다.\")"
   ]
  },
  {
   "cell_type": "code",
   "execution_count": null,
   "metadata": {},
   "outputs": [],
   "source": []
  }
 ],
 "metadata": {
  "kernelspec": {
   "display_name": "base",
   "language": "python",
   "name": "python3"
  },
  "language_info": {
   "codemirror_mode": {
    "name": "ipython",
    "version": 3
   },
   "file_extension": ".py",
   "mimetype": "text/x-python",
   "name": "python",
   "nbconvert_exporter": "python",
   "pygments_lexer": "ipython3",
   "version": "3.11.5"
  }
 },
 "nbformat": 4,
 "nbformat_minor": 2
}
