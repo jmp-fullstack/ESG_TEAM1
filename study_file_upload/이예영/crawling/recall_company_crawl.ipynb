{
 "cells": [
  {
   "cell_type": "code",
   "execution_count": 1,
   "metadata": {},
   "outputs": [],
   "source": [
    "import requests\n",
    "import json\n",
    "import pandas as pd\n",
    "from bs4 import BeautifulSoup"
   ]
  },
  {
   "cell_type": "code",
   "execution_count": 2,
   "metadata": {},
   "outputs": [],
   "source": [
    "soup = []\n",
    "for page in range(0, 366 + 1):  # 366 페이지까지 \n",
    "    URL = 'https://www.safetykorea.kr/recall/recallBoard'\n",
    "    response = requests.post(URL, data={\n",
    "        'selectedOption': 0,\n",
    "        'pageNo': f'{page}',\n",
    "    })\n",
    "    soup.append(BeautifulSoup(response.text, 'html.parser'))"
   ]
  },
  {
   "cell_type": "code",
   "execution_count": 3,
   "metadata": {},
   "outputs": [
    {
     "name": "stdout",
     "output_type": "stream",
     "text": [
      "10 페이지 크롤링 완료했습니다.\n",
      "20 페이지 크롤링 완료했습니다.\n",
      "30 페이지 크롤링 완료했습니다.\n",
      "40 페이지 크롤링 완료했습니다.\n",
      "50 페이지 크롤링 완료했습니다.\n",
      "60 페이지 크롤링 완료했습니다.\n",
      "70 페이지 크롤링 완료했습니다.\n",
      "80 페이지 크롤링 완료했습니다.\n",
      "90 페이지 크롤링 완료했습니다.\n",
      "100 페이지 크롤링 완료했습니다.\n",
      "110 페이지 크롤링 완료했습니다.\n",
      "120 페이지 크롤링 완료했습니다.\n",
      "130 페이지 크롤링 완료했습니다.\n",
      "140 페이지 크롤링 완료했습니다.\n",
      "150 페이지 크롤링 완료했습니다.\n",
      "160 페이지 크롤링 완료했습니다.\n",
      "170 페이지 크롤링 완료했습니다.\n",
      "180 페이지 크롤링 완료했습니다.\n",
      "190 페이지 크롤링 완료했습니다.\n",
      "200 페이지 크롤링 완료했습니다.\n",
      "210 페이지 크롤링 완료했습니다.\n",
      "220 페이지 크롤링 완료했습니다.\n",
      "230 페이지 크롤링 완료했습니다.\n",
      "240 페이지 크롤링 완료했습니다.\n",
      "250 페이지 크롤링 완료했습니다.\n",
      "260 페이지 크롤링 완료했습니다.\n",
      "270 페이지 크롤링 완료했습니다.\n",
      "280 페이지 크롤링 완료했습니다.\n",
      "290 페이지 크롤링 완료했습니다.\n",
      "300 페이지 크롤링 완료했습니다.\n",
      "310 페이지 크롤링 완료했습니다.\n",
      "320 페이지 크롤링 완료했습니다.\n",
      "330 페이지 크롤링 완료했습니다.\n",
      "340 페이지 크롤링 완료했습니다.\n",
      "350 페이지 크롤링 완료했습니다.\n",
      "360 페이지 크롤링 완료했습니다.\n",
      "370 페이지 크롤링 완료했습니다.\n",
      "380 페이지 크롤링 완료했습니다.\n",
      "390 페이지 크롤링 완료했습니다.\n",
      "400 페이지 크롤링 완료했습니다.\n",
      "410 페이지 크롤링 완료했습니다.\n",
      "420 페이지 크롤링 완료했습니다.\n",
      "430 페이지 크롤링 완료했습니다.\n",
      "440 페이지 크롤링 완료했습니다.\n",
      "450 페이지 크롤링 완료했습니다.\n"
     ]
    }
   ],
   "source": [
    "recalls = []\n",
    "for data in soup:\n",
    "    datas = data.select('td', class_='ta_center')\n",
    "    for i in range(len(datas)):\n",
    "        if i % 8 != 0:\n",
    "            continue\n",
    "        recalls.append({\n",
    "            'ID': datas[i].text, \n",
    "            '공표일': datas[i + 7].text,\n",
    "            '기업명': datas[i + 4].text, \n",
    "            '품목': datas[i + 2].text.strip(), \n",
    "            '리콜종류': datas[i + 5].text, \n",
    "        })\n",
    "\n",
    "columns = ','.join(recalls[0].keys())\n",
    "# print(columns)\n",
    "columns = ['ID', '공표일', '기업명', '품목', '리콜종류']\n",
    "values = []\n",
    "for recall in recalls:\n",
    "    values.append(tuple(recall.values()))\n",
    "\n",
    "f = open('recall.csv', 'w', encoding='utf-8')\n",
    "f.write('ID\\t공표일\\t기업명\\t품목\\t리콜종류\\n')\n",
    "for idx, recall in enumerate(recalls):\n",
    "    f.write(recall['ID'] + '\\t' + recall['공표일'] + '\\t' + recall['기업명']\n",
    "    + '\\t' + recall['품목'] + '\\t' + recall['리콜종류'] + '\\n' )\n",
    "    if (idx + 1) % 80 == 0:  # 페이지당 10개의 데이터, 10의 배수로 나타냄\n",
    "        print(int((idx + 1) / 8), \"페이지 크롤링 완료했습니다.\")\n",
    "\n",
    "f.close()"
   ]
  },
  {
   "cell_type": "code",
   "execution_count": 31,
   "metadata": {},
   "outputs": [
    {
     "data": {
      "text/html": [
       "<div>\n",
       "<style scoped>\n",
       "    .dataframe tbody tr th:only-of-type {\n",
       "        vertical-align: middle;\n",
       "    }\n",
       "\n",
       "    .dataframe tbody tr th {\n",
       "        vertical-align: top;\n",
       "    }\n",
       "\n",
       "    .dataframe thead th {\n",
       "        text-align: right;\n",
       "    }\n",
       "</style>\n",
       "<table border=\"1\" class=\"dataframe\">\n",
       "  <thead>\n",
       "    <tr style=\"text-align: right;\">\n",
       "      <th></th>\n",
       "      <th>기업명</th>\n",
       "      <th>인증연도</th>\n",
       "      <th>리콜종류</th>\n",
       "    </tr>\n",
       "  </thead>\n",
       "  <tbody>\n",
       "    <tr>\n",
       "      <th>0</th>\n",
       "      <td>신지모루</td>\n",
       "      <td>2024</td>\n",
       "      <td>자발적리콜</td>\n",
       "    </tr>\n",
       "    <tr>\n",
       "      <th>1</th>\n",
       "      <td>휴리엔</td>\n",
       "      <td>2024</td>\n",
       "      <td>자발적리콜</td>\n",
       "    </tr>\n",
       "    <tr>\n",
       "      <th>2</th>\n",
       "      <td>MTD Products Inc.</td>\n",
       "      <td>2024</td>\n",
       "      <td>자발적리콜</td>\n",
       "    </tr>\n",
       "    <tr>\n",
       "      <th>3</th>\n",
       "      <td>산바다스포츠</td>\n",
       "      <td>2024</td>\n",
       "      <td>자발적리콜</td>\n",
       "    </tr>\n",
       "    <tr>\n",
       "      <th>4</th>\n",
       "      <td>하츠</td>\n",
       "      <td>2024</td>\n",
       "      <td>자발적리콜</td>\n",
       "    </tr>\n",
       "    <tr>\n",
       "      <th>...</th>\n",
       "      <td>...</td>\n",
       "      <td>...</td>\n",
       "      <td>...</td>\n",
       "    </tr>\n",
       "    <tr>\n",
       "      <th>3663</th>\n",
       "      <td>DAWOO LUX</td>\n",
       "      <td>2012</td>\n",
       "      <td>명령에따른리콜</td>\n",
       "    </tr>\n",
       "    <tr>\n",
       "      <th>3664</th>\n",
       "      <td>동성조명</td>\n",
       "      <td>2012</td>\n",
       "      <td>명령에따른리콜</td>\n",
       "    </tr>\n",
       "    <tr>\n",
       "      <th>3665</th>\n",
       "      <td>아림산업</td>\n",
       "      <td>2012</td>\n",
       "      <td>명령에따른리콜</td>\n",
       "    </tr>\n",
       "    <tr>\n",
       "      <th>3666</th>\n",
       "      <td>에프앤에프</td>\n",
       "      <td>2012</td>\n",
       "      <td>명령에따른리콜</td>\n",
       "    </tr>\n",
       "    <tr>\n",
       "      <th>3667</th>\n",
       "      <td>한국교육시스템</td>\n",
       "      <td>2012</td>\n",
       "      <td>자발적리콜</td>\n",
       "    </tr>\n",
       "  </tbody>\n",
       "</table>\n",
       "<p>3668 rows × 3 columns</p>\n",
       "</div>"
      ],
      "text/plain": [
       "                    기업명  인증연도     리콜종류\n",
       "0                  신지모루  2024    자발적리콜\n",
       "1                   휴리엔  2024    자발적리콜\n",
       "2     MTD Products Inc.  2024    자발적리콜\n",
       "3               산바다스포츠   2024    자발적리콜\n",
       "4                    하츠  2024    자발적리콜\n",
       "...                 ...   ...      ...\n",
       "3663          DAWOO LUX  2012  명령에따른리콜\n",
       "3664               동성조명  2012  명령에따른리콜\n",
       "3665               아림산업  2012  명령에따른리콜\n",
       "3666              에프앤에프  2012  명령에따른리콜\n",
       "3667            한국교육시스템  2012    자발적리콜\n",
       "\n",
       "[3668 rows x 3 columns]"
      ]
     },
     "execution_count": 31,
     "metadata": {},
     "output_type": "execute_result"
    }
   ],
   "source": [
    "import pandas as pd\n",
    "\n",
    "file_path = 'recall.csv'\n",
    "\n",
    "# 엑셀 파일 읽어오기\n",
    "df_recall = pd.read_csv(file_path, sep='\\t')\n",
    "df_recall = df_recall.drop(columns=['ID', '품목'])\n",
    "index_to_drop = [3668, 3669]  # 삭제할 행의 인덱스\n",
    "df_recall = df_recall.drop(index_to_drop)\n",
    "df_recall['기업명'] = df_recall['기업명'].str.replace(\"\\(주\\)|주식회사|㈜|주\\)\", \"\", regex=True)\n",
    "\n",
    "df_recall['공표일'] = pd.to_datetime(df_recall['공표일'])\n",
    "df_recall['공표일'] = df_recall['공표일'].dt.year\n",
    "df_recall = df_recall.rename(columns={'공표일': '인증연도'})\n",
    "df_recall = df_recall[['기업명', '인증연도', '리콜종류']]\n",
    "df_recall"
   ]
  },
  {
   "cell_type": "code",
   "execution_count": 20,
   "metadata": {},
   "outputs": [],
   "source": [
    "file_path = 'top200_name_list.csv'\n",
    "\n",
    "# 엑셀 파일 읽어오기\n",
    "top_200 = pd.read_csv(file_path, sep='\\t')"
   ]
  },
  {
   "cell_type": "code",
   "execution_count": null,
   "metadata": {},
   "outputs": [],
   "source": [
    "df_200 = pd.DataFrame(top_200)\n",
    "df_200['label'] = -1 \n",
    "df_200"
   ]
  },
  {
   "cell_type": "code",
   "execution_count": null,
   "metadata": {},
   "outputs": [],
   "source": [
    "# '기업명'을 기준으로 두 데이터프레임 합치기\n",
    "df = pd.merge(df_recall, df_200, on='기업명', how='outer')\n",
    "df"
   ]
  },
  {
   "cell_type": "code",
   "execution_count": 43,
   "metadata": {},
   "outputs": [],
   "source": [
    "df.to_csv('파일명.csv', index=False)"
   ]
  },
  {
   "cell_type": "code",
   "execution_count": 54,
   "metadata": {},
   "outputs": [
    {
     "name": "stdout",
     "output_type": "stream",
     "text": [
      "두 데이터프레임의 '기업명' 열에서 포함된 공통된 단어: {'3M,현대모비스', '현대일렉트릭', '신세계인터내셔날', 'JYTTOOLS', '풍산사다리', '한국타이어', '제일', '삼성물산', '대상의료기', '뉴(NEW)대웅', 'HENGSHUNUMBRELLALTD.(아트박스)', 'PLSports', '롯데쇼핑롯데마트사업본부', 'ILSHIN', 'ShenzhenFujiaApplianceCo.,Ltd(신세계코리아)', '한일', '세계', '코웨이', '신세계코리아', '동서가구', '3M,삼성전자', '미래', '트리', '삼풍산업', '오리온씨엔씨', '한샘', 'TFLEDLight(남명)', '성림GS', '롯데쇼핑GF사업본부', 'LS네트웍스', '한화꿈에온의료기', '대상엘이디', 'SUNGSAMCO.LTD', '동서', '한화의료기', '한화전기', '두산테크', '디스', '3M,LG전자', 'LG전자', '에스엘이노텍', '에이치에스엘이디라이팅', 'SK매직', 'ShenzhenBorasenTechnologyPowerDevelopment(대동하이브리드코리아', 'LG패션', '효성', '에코', '이마트', 'SKIDONKOREALTD(스키드온코리아)', '금호타이어', '세모에스엘', '삼성전자'}\n"
     ]
    }
   ],
   "source": [
    "# '기업명' 열의 값을 단어로 분리하여 리스트에 저장\n",
    "words_df1 = set(' '.join(df_recall['기업명']).split())\n",
    "words_df2 = set(' '.join(top_200['기업명']).split())\n",
    "\n",
    "# 두 데이터프레임에서 발견된 단어의 교집합 찾기\n",
    "common_words = set()\n",
    "for word1 in words_df1:\n",
    "    for word2 in words_df2:\n",
    "        if word1 in word2 or word2 in word1:\n",
    "            common_words.add(word1)\n",
    "\n",
    "print(\"두 데이터프레임의 '기업명' 열에서 포함된 공통된 단어:\", common_words)"
   ]
  },
  {
   "cell_type": "code",
   "execution_count": null,
   "metadata": {},
   "outputs": [],
   "source": [
    "'3M,현대모비스', '현대일렉트릭', '신세계인터내셔날', 'JYTTOOLS', '풍산사다리', '한국타이어', '제일', '삼성물산', '대상의료기', '뉴(NEW)대웅', 'HENGSHUNUMBRELLALTD.(아트박스)', 'PLSports',\n",
    "'롯데쇼핑롯데마트사업본부', 'ILSHIN', 'ShenzhenFujiaApplianceCo.,Ltd(신세계코리아)', '한일', '세계', '코웨이', '신세계코리아', '동서가구', '3M,삼성전자', '미래', '트리', '삼풍산업',\n",
    "'오리온씨엔씨', '한샘', 'TFLEDLight(남명)', '성림GS', '롯데쇼핑GF사업본부', 'LS네트웍스', '한화꿈에온의료기', '대상엘이디', 'SUNGSAMCO.LTD', '동서', '한화의료기', '한화전기', '두산테크',\n",
    "'디스', '3M,LG전자', 'LG전자', '에스엘이노텍', '에이치에스엘이디라이팅', 'SK매직', 'ShenzhenBorasenTechnologyPowerDevelopment(대동하이브리드코리아', 'LG패션', '효성', '에코', '이마트',\n",
    "'SKIDONKOREALTD(스키드온코리아)', '금호타이어', '세모에스엘', '삼성전자'"
   ]
  }
 ],
 "metadata": {
  "kernelspec": {
   "display_name": "base",
   "language": "python",
   "name": "python3"
  },
  "language_info": {
   "codemirror_mode": {
    "name": "ipython",
    "version": 3
   },
   "file_extension": ".py",
   "mimetype": "text/x-python",
   "name": "python",
   "nbconvert_exporter": "python",
   "pygments_lexer": "ipython3",
   "version": "3.11.5"
  }
 },
 "nbformat": 4,
 "nbformat_minor": 2
}
