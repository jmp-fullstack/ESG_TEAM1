{
  "cells": [
    {
      "cell_type": "markdown",
      "metadata": {
        "id": "vlA_Fs0-Ze7V"
      },
      "source": [
        "# KoBERT 모델을 활용한 영화 리뷰 감성분석"
      ]
    },
    {
      "cell_type": "markdown",
      "metadata": {
        "id": "5qaG3PHTZkpF"
      },
      "source": [
        "## kobert를 사용하기 위한 kobert_transformers 패키지 다운로드\n",
        "\n",
        "https://github.com/monologg/KoBERT-Transformers.git\n"
      ]
    },
    {
      "cell_type": "code",
      "execution_count": null,
      "metadata": {
        "colab": {
          "base_uri": "https://localhost:8080/"
        },
        "id": "NN_E8OkOZ18M",
        "outputId": "73dfc812-9fee-4d2d-d01e-a43e0dc05333"
      },
      "outputs": [],
      "source": [
        "!wget https://raw.githubusercontent.com/monologg/KoBERT-Transformers/master/kobert_transformers/tokenization_kobert.py -O ./tokenization_kobert.py"
      ]
    },
    {
      "cell_type": "code",
      "execution_count": null,
      "metadata": {
        "colab": {
          "base_uri": "https://localhost:8080/"
        },
        "id": "ItpLurc1Zam5",
        "outputId": "658a7379-eb6b-4b17-86d2-ba92b6f24029"
      },
      "outputs": [],
      "source": [
        "!pip3 install kobert-transformers"
      ]
    },
    {
      "cell_type": "markdown",
      "metadata": {
        "id": "IwP8HRY5aCOE"
      },
      "source": [
        "## 패키지 임포트\n",
        "\n",
        "- kobert_transformers를 활용해 kobert 모델을 불러옵니다.\n",
        "- tokenization_kobert는 kobert github에서 tokenizer를 가져오기위해 사용한 모듈입니다."
      ]
    },
    {
      "cell_type": "code",
      "execution_count": null,
      "metadata": {
        "id": "l-RVMvbTZ-ki"
      },
      "outputs": [],
      "source": [
        "import torch\n",
        "from torch import nn\n",
        "from torch.utils.data import Dataset, DataLoader\n",
        "\n",
        "from kobert_transformers import get_kobert_model, get_distilkobert_model\n",
        "from tokenization_kobert import KoBertTokenizer\n",
        "\n",
        "#transformers\n",
        "from transformers import AdamW\n",
        "from transformers.optimization import get_cosine_schedule_with_warmup\n",
        "\n",
        "import numpy as np"
      ]
    },
    {
      "cell_type": "markdown",
      "metadata": {
        "id": "armWNAeWaX3j"
      },
      "source": [
        "## 데이터 준비\n",
        "\n",
        "- 네이버 영화 리뷰 데이터\n",
        "- 학습 데이터 15만개, 테스트 데이터 5만개로 이루어져 있습니다.\n",
        "\n",
        "https://github.com/e9t/nsmc.git"
      ]
    },
    {
      "cell_type": "code",
      "execution_count": null,
      "metadata": {
        "colab": {
          "base_uri": "https://localhost:8080/"
        },
        "id": "Ppef73ZGagCb",
        "outputId": "a9b06832-f759-4a41-f025-5a5e77b026b6"
      },
      "outputs": [],
      "source": [
        "!wget https://raw.githubusercontent.com/e9t/nsmc/master/ratings_train.txt -O ./nsmc_train.tsv\n",
        "!wget https://raw.githubusercontent.com/e9t/nsmc/master/ratings_test.txt -O ./nsmc_test.tsv"
      ]
    },
    {
      "cell_type": "code",
      "execution_count": null,
      "metadata": {
        "id": "4ZRJL5b9agvT"
      },
      "outputs": [],
      "source": [
        "train_reviews = [l.rstrip().split('\\t') for l in open('./nsmc_train.tsv').readlines()[1:]]\n",
        "test_reviews = [l.rstrip().split('\\t') for l in open('./nsmc_test.tsv').readlines()[1:]]"
      ]
    },
    {
      "cell_type": "code",
      "execution_count": null,
      "metadata": {
        "colab": {
          "base_uri": "https://localhost:8080/"
        },
        "id": "ywbDmdU7bV27",
        "outputId": "e578a0c3-c6e1-42f6-adcb-91dd128a2af5"
      },
      "outputs": [],
      "source": [
        "# id, review, label\n",
        "test_reviews[0]"
      ]
    },
    {
      "cell_type": "code",
      "execution_count": null,
      "metadata": {
        "id": "FwaYTH-uel2y"
      },
      "outputs": [],
      "source": [
        "train_sentences, train_labels = list(zip(*[(sentence, int(label)) for _, sentence, label in train_reviews]))\n",
        "test_sentences, test_labels = list(zip(*[(sentence, int(label)) for _, sentence, label in test_reviews]))"
      ]
    },
    {
      "cell_type": "markdown",
      "metadata": {
        "id": "sjdvxJpDbuqE"
      },
      "source": [
        "### EDA : 이벤트 기반 '아키텍처'"
      ]
    },
    {
      "cell_type": "code",
      "execution_count": null,
      "metadata": {
        "id": "DAqYY9U6bufU"
      },
      "outputs": [],
      "source": []
    },
    {
      "cell_type": "code",
      "execution_count": null,
      "metadata": {
        "id": "0q4sXecNbuJU"
      },
      "outputs": [],
      "source": []
    },
    {
      "cell_type": "code",
      "execution_count": null,
      "metadata": {
        "id": "7mQlCxy9buQ7"
      },
      "outputs": [],
      "source": []
    },
    {
      "cell_type": "markdown",
      "metadata": {
        "id": "5W3sFNGyaVDU"
      },
      "source": [
        "## Configs 설정"
      ]
    },
    {
      "cell_type": "code",
      "execution_count": null,
      "metadata": {
        "id": "SeyZuX1waEgk"
      },
      "outputs": [],
      "source": [
        "max_len = 128 # 문장 최대길이, EDA 필요\n",
        "batch_size = 64"
      ]
    },
    {
      "cell_type": "code",
      "execution_count": null,
      "metadata": {
        "id": "OCSZffpHaWmb"
      },
      "outputs": [],
      "source": [
        "device = torch.device(\"cuda\" if torch.cuda.is_available() else 'cpu')"
      ]
    },
    {
      "cell_type": "code",
      "execution_count": null,
      "metadata": {
        "colab": {
          "base_uri": "https://localhost:8080/"
        },
        "id": "8FDsBHtCb3Cz",
        "outputId": "f56edfcb-7a08-46a9-c40a-5c6a9c6e10ea"
      },
      "outputs": [],
      "source": [
        "device"
      ]
    },
    {
      "cell_type": "markdown",
      "metadata": {
        "id": "BsMmNz38b3rj"
      },
      "source": [
        "## Input Transformer\n",
        "\n",
        "- 입력 문장을 bert 입력에 필요한 값들로 바꿔줍니다.\n",
        "- token_ids : 입력 문장을 토큰화한 값\n",
        "    - 입력 문장을 토큰화합니다.\n",
        "    - [CLS], [SEP]토큰을 추가합니다.\n",
        "    - 토큰들을 id (숫자값)으로 치환합니다.\n",
        "    - 문장이 길 경우 max_len까지만 사용합니다.\n",
        "- valid_lengths : 유효 토큰 길이 값\n",
        "- segment_ids : NSP task에서 문장 구분을 위해 사용합니다.\n",
        "앞 문장 0, 뒷 문장 1. 여기서는 모두 0입니다.\n"
      ]
    },
    {
      "cell_type": "code",
      "execution_count": null,
      "metadata": {
        "id": "mvcYSZz_b3Kc"
      },
      "outputs": [],
      "source": [
        "class InputTransformer:\n",
        "\n",
        "    def __init__(self, tokenizer, max_len=128):\n",
        "        self.tokenizer = tokenizer\n",
        "        self.max_len = max_len\n",
        "        self.pad_token = tokenizer.convert_tokens_to_ids(['[PAD]'])[0]\n",
        "\n",
        "    def transform(self, sentences):\n",
        "        # 성능개선필요 https://github.com/monologg/KoBERT-nsmc/blob/master/data_loader.py\n",
        "        tokenized = [self.tokenizer.tokenize(sentence) for sentence in sentences]\n",
        "        input_ids = [self.tokenizer.convert_tokens_to_ids(['[CLS]'] + tokens + ['[SEP]'])[:self.max_len]\n",
        "                     for tokens in tokenized]\n",
        "        valid_lengths = [input_id.index(3) if len(input_id) < self.max_len else self.max_len for input_id in input_ids]\n",
        "        token_ids = [np.array(input_id + [self.pad_token]*(self.max_len-valid_lengths[i]-1)) for i, input_id in enumerate(input_ids)]\n",
        "        segment_ids = [np.zeros(self.max_len) for i in range(len(sentences))]\n",
        "\n",
        "        return list(zip(token_ids, valid_lengths, segment_ids))\n",
        "\n",
        "# class InputTransformer:\n",
        "\n",
        "#     def __init__(self, tokenizer, max_len=128):\n",
        "#         self.tokenizer = tokenizer\n",
        "#         self.max_len = max_len\n",
        "#         self.pad_token = tokenizer.convert_tokens_to_ids(['[PAD]'])[0]\n",
        "\n",
        "#     def transform(self, sentences):\n",
        "#         inputs = [self.tokenizer(sentence,\n",
        "#                                  padding='max_length',\n",
        "#                                  max_length=self.max_len,\n",
        "#                                  truncation=True)\n",
        "#                                  for sentence in sentences] #{input_ids, token_type_ids, attention_mask}\n",
        "\n",
        "#         return inputs"
      ]
    },
    {
      "cell_type": "markdown",
      "metadata": {
        "id": "x-LR_VJ0rs3l"
      },
      "source": [
        "## BERT Dataset\n",
        "\n",
        "- 문장들을 Input Transformer 처리하고 label을 텐서 자료형으로 변환합니다."
      ]
    },
    {
      "cell_type": "code",
      "execution_count": null,
      "metadata": {
        "id": "ifrOFc2-b850"
      },
      "outputs": [],
      "source": [
        "class BERTDataset(Dataset):\n",
        "\n",
        "    def __init__(self, transformer, sentences, labels=()):\n",
        "        self.sentences = transformer.transform(sentences)\n",
        "        self.is_test = False if labels else True\n",
        "        self.labels = torch.tensor(labels, dtype=torch.long)\n",
        "\n",
        "    def __getitem__(self, i):\n",
        "        return self.sentences[i], self.labels[i] if not self.is_test else _\n",
        "\n",
        "    def __len__(self):\n",
        "        return len(self.sentences)\n"
      ]
    },
    {
      "cell_type": "code",
      "execution_count": null,
      "metadata": {
        "colab": {
          "base_uri": "https://localhost:8080/"
        },
        "id": "yDR7piYzcKrr",
        "outputId": "55ebd6a3-6d36-4840-a79e-197a77a2aa33"
      },
      "outputs": [],
      "source": [
        "tokenizer = KoBertTokenizer.from_pretrained('monologg/kobert')\n",
        "input_transformer = InputTransformer(tokenizer, max_len)\n",
        "\n",
        "# train & test 데이터로 나누기\n",
        "from sklearn.model_selection import train_test_split\n",
        "\n",
        "trn_sents, valid_sents, trn_labels, valid_labels = train_test_split(train_sentences, train_labels, test_size=0.25, random_state=0, stratify=train_labels, shuffle=True)\n",
        "\n",
        "train_dataset = BERTDataset(input_transformer, trn_sents, trn_labels)\n",
        "train_loader = DataLoader(train_dataset, batch_size=batch_size, num_workers=0)\n",
        "\n",
        "valid_dataset = BERTDataset(input_transformer, valid_sents, valid_labels)\n",
        "valid_loader = DataLoader(valid_dataset, batch_size=batch_size, num_workers=0)"
      ]
    },
    {
      "cell_type": "code",
      "execution_count": null,
      "metadata": {
        "id": "vdz8iG8dt2Fc"
      },
      "outputs": [],
      "source": [
        "length_list = [l for _, l, _ in train_dataset.sentences]"
      ]
    },
    {
      "cell_type": "code",
      "execution_count": null,
      "metadata": {
        "colab": {
          "base_uri": "https://localhost:8080/",
          "height": 524
        },
        "id": "_LnT2Pept3s2",
        "outputId": "0e7232b4-20c2-4111-b4fa-7f95e2201562"
      },
      "outputs": [],
      "source": [
        "import seaborn as sns\n",
        "\n",
        "sns.displot(length_list, kde=True)"
      ]
    },
    {
      "cell_type": "markdown",
      "metadata": {
        "id": "p65gQenHr7L_"
      },
      "source": [
        "## 모델링\n",
        "\n",
        "Bert모델에 pytorch 코드 구현 자료\n",
        "https://neptune.ai/blog/how-to-code-bert-using-pytorch-tutorial\n",
        "\n",
        "BERT Classifier 모델입니다.\n",
        "\n",
        "forward에서 사용하는 attention_mask는 gen_attention_mask에서 생성합니다.\n",
        "<br /><br />\n",
        "\n",
        "#### _, pooler = self.bert(...) 에 대한 설명\n",
        "\n",
        "- bert에 Feed Forward 하여 앞서 input_transformer 적용 시 문장별로 맨 앞에 주었던 [CLS] 토큰에 대한 임베딩 벡터를 반환합니다. (pooled)\n",
        "- 앞의 _는 bert의 output으로 전체 sequence에 대한 embedding 벡터입니다."
      ]
    },
    {
      "cell_type": "code",
      "execution_count": null,
      "metadata": {
        "id": "juoz8QsAb__k"
      },
      "outputs": [],
      "source": [
        "class BERTClassifier(nn.Module):\n",
        "    def __init__(self,\n",
        "                 bert,\n",
        "                 hidden_size = 768,\n",
        "                 num_classes=2,\n",
        "                 dr_rate=None):\n",
        "        super(BERTClassifier, self).__init__()\n",
        "        self.bert = bert\n",
        "        self.dr_rate = dr_rate\n",
        "        self.regressor = nn.Linear(hidden_size , num_classes)\n",
        "\n",
        "        if dr_rate:\n",
        "            self.dropout = nn.Dropout(p=dr_rate)\n",
        "\n",
        "    def gen_attention_mask(self, token_ids, valid_length):\n",
        "        attention_mask = torch.zeros_like(token_ids)\n",
        "\n",
        "        for i, v in enumerate(valid_length):\n",
        "            attention_mask[i][:v] = 1\n",
        "\n",
        "        return attention_mask.float()\n",
        "\n",
        "    def forward(self, token_ids, valid_length, segment_ids):\n",
        "        attention_mask = self.gen_attention_mask(token_ids, valid_length)\n",
        "        _, pooler = self.bert(input_ids = token_ids, token_type_ids = segment_ids.long(),\n",
        "                              attention_mask = attention_mask.float().to(token_ids.device), return_dict=False)\n",
        "\n",
        "        if self.dr_rate:\n",
        "            out = self.dropout(pooler)\n",
        "\n",
        "        return self.regressor(out)\n",
        "\n",
        "kobert = get_kobert_model()\n",
        "model = BERTClassifier(kobert, dr_rate=0.5).to(device)"
      ]
    },
    {
      "cell_type": "code",
      "execution_count": null,
      "metadata": {
        "id": "r4gUiwnOt3Mj"
      },
      "outputs": [],
      "source": [
        "# class BERTRegressor(nn.Module):\n",
        "#     def __init__(self,\n",
        "#                  bert,\n",
        "#                  hidden_size = 768,\n",
        "#                  num_areas=4,\n",
        "#                  dr_rate=None):\n",
        "#         super(BERTRegressor, self).__init__()\n",
        "#         self.bert = bert\n",
        "#         self.dr_rate = dr_rate\n",
        "#         self.regressor = nn.Linear(hidden_size , num_areas)\n",
        "#         if dr_rate:\n",
        "#             self.dropout = nn.Dropout(p=dr_rate)\n",
        "\n",
        "#     def forward(self, inputs):\n",
        "#         if type(self.bert) == DistilBertModel:\n",
        "#             inputs.pop('token_type_ids')\n",
        "#             sequence_output = self.bert(**inputs,\n",
        "#                                   return_dict=False)\n",
        "#             pooler = sequence_output[0][:, 0]\n",
        "#         else:\n",
        "#             _, pooler = self.bert(**inputs, return_dict=False)\n",
        "\n",
        "#         if self.dr_rate:\n",
        "#             out = self.dropout(pooler)\n",
        "#         return self.regressor(out)\n"
      ]
    },
    {
      "cell_type": "markdown",
      "metadata": {
        "id": "_wjBDAYgcear"
      },
      "source": [
        "## 모델 학습"
      ]
    },
    {
      "cell_type": "code",
      "execution_count": null,
      "metadata": {
        "id": "tX2gxlQrceKC"
      },
      "outputs": [],
      "source": [
        "num_epochs = 5\n",
        "learning_rate = 5e-5\n",
        "warmup_ratio = 0.1\n",
        "max_grad_norm = 1\n",
        "log_interval = 50"
      ]
    },
    {
      "cell_type": "code",
      "execution_count": null,
      "metadata": {
        "colab": {
          "base_uri": "https://localhost:8080/"
        },
        "id": "V2Ecc_BychNT",
        "outputId": "455c318a-15ab-4971-b079-68bd337edffa"
      },
      "outputs": [],
      "source": [
        "no_decay = ['bias', 'LayerNorm.weight']\n",
        "optimizer_grouped_parameters = [\n",
        "    {'params': [p for n, p in model.named_parameters() if not any(nd in n for nd in no_decay)], 'weight_decay': 0.01},\n",
        "    {'params': [p for n, p in model.named_parameters() if any(nd in n for nd in no_decay)], 'weight_decay': 0.0}\n",
        "]\n",
        "\n",
        "#옵티마이저, 손실함수 지정\n",
        "optimizer = AdamW(optimizer_grouped_parameters, lr=learning_rate, eps=1e-8)\n",
        "loss_fn = nn.CrossEntropyLoss().cuda()\n",
        "\n",
        "t_total = len(train_loader) * num_epochs\n",
        "warmup_step = int(t_total * warmup_ratio)\n",
        "\n",
        "scheduler = get_cosine_schedule_with_warmup(optimizer, num_warmup_steps=warmup_step, num_training_steps=t_total)"
      ]
    },
    {
      "cell_type": "code",
      "execution_count": null,
      "metadata": {
        "id": "zHLeZglrciaD"
      },
      "outputs": [],
      "source": [
        "from tqdm.auto import tqdm"
      ]
    },
    {
      "cell_type": "code",
      "execution_count": null,
      "metadata": {
        "id": "2CO726_JdLI7"
      },
      "outputs": [],
      "source": [
        "def calc_accuracy(X,Y):\n",
        "    max_vals, max_indices = torch.max(X, 1)\n",
        "    acc = (max_indices == Y).sum().data.cpu().numpy()/max_indices.size()[0]\n",
        "    return acc"
      ]
    },
    {
      "cell_type": "code",
      "execution_count": null,
      "metadata": {
        "id": "8CJoBw8whTrp"
      },
      "outputs": [],
      "source": [
        "from copy import deepcopy"
      ]
    },
    {
      "cell_type": "code",
      "execution_count": null,
      "metadata": {
        "colab": {
          "base_uri": "https://localhost:8080/",
          "height": 489,
          "referenced_widgets": [
            "d26611144fbc4233bfdefed8159a6e3b",
            "94821937e07646e98a8948d10dd6f9e3",
            "251eb01e033f4b51bf375ae7f2c66729",
            "319e8337a8404f58b5aacd39b8286c21",
            "ee3faf56462c463794e805aa381b2cc2",
            "e3b64f9a42494f8f970b091aafd23b29",
            "19beddc8bd0a45c0b3b1b1effe6e4091",
            "9f6a2dc732ee4fab8d3c4f77203954d9",
            "0b4cda4d02e643978796f96eae399f6a",
            "91a1a0c392ea43f3be13721196df5f3a",
            "06363c65a3c84eef9279085067e8fc3b"
          ]
        },
        "id": "004zgy2ZcjL6",
        "outputId": "0cf6fa88-f971-4f83-cbf8-37292c7d14ff"
      },
      "outputs": [],
      "source": [
        "loss_history = [] # 전체 loss\n",
        "avg_loss_hisroty = [] # epoch별 평균 loss\n",
        "test_history = [] # validation accuracy\n",
        "test_loss_history = [] # epoch별 평균 validation loss\n",
        "\n",
        "best_acc = 0.0\n",
        "best_acc_model = deepcopy(model)\n",
        "for e in range(num_epochs):\n",
        "    total_loss=0.0\n",
        "    train_acc = 0.0\n",
        "    test_acc = 0.0\n",
        "    test_total_loss=0.0\n",
        "\n",
        "    model.train() #훈련 선언\n",
        "    for batch_id, ((token_ids, valid_length, segment_ids), label) in enumerate(tqdm(iter(train_loader))):\n",
        "        optimizer.zero_grad()\n",
        "        token_ids = token_ids.to(device)\n",
        "        segment_ids = segment_ids.to(device)\n",
        "        valid_length= valid_length\n",
        "        label = label.to(device)\n",
        "        out = model(token_ids, valid_length, segment_ids)\n",
        "\n",
        "        #print(label.shape,out.shape)\n",
        "        loss = loss_fn(out, label)\n",
        "        loss.backward()\n",
        "        torch.nn.utils.clip_grad_norm_(model.parameters(), max_grad_norm)\n",
        "        optimizer.step()\n",
        "        scheduler.step()  # Update learning rate schedule\n",
        "\n",
        "        train_acc += calc_accuracy(out, label)\n",
        "\n",
        "        if batch_id+1 % log_interval == 0:\n",
        "            print(\"[train]\\tepoch: {}\\t batch id: {}/{}\\t train_loss: {:.4f}\\t train_acc: {:.4f}\".format(e+1, batch_id+1,\n",
        "                len(train_loader), loss.data.cpu().numpy(), train_acc / (batch_id+1)))\n",
        "            loss_history.append(loss.data.cpu().numpy())\n",
        "            total_loss+=loss.data.cpu().numpy()\n",
        "\n",
        "    avg_loss=total_loss/len(train_loader) #epoch별 평균 loss값\n",
        "    avg_loss_hisroty.append(avg_loss)\n",
        "\n",
        "    model.eval() #모델평가\n",
        "    for batch_id, ((token_ids, valid_length, segment_ids), label) in enumerate(tqdm(iter(valid_loader))):\n",
        "        token_ids = token_ids.to(device)\n",
        "        segment_ids = segment_ids.to(device)\n",
        "        valid_length= valid_length\n",
        "        label = label.to(device)\n",
        "        with torch.no_grad():\n",
        "            out = model(token_ids, valid_length, segment_ids)\n",
        "            loss = loss_fn(out, label).detach()\n",
        "            test_acc += calc_accuracy(out, label)\n",
        "            test_total_loss += loss.data.cpu().numpy()\n",
        "        test_history.append(test_acc / (batch_id+1))\n",
        "\n",
        "    test_avg_loss=test_total_loss/len(valid_loader)\n",
        "    test_loss_history.append(test_avg_loss)\n",
        "    print(\"[valid]\\tepoch: {}\\t test loss: {:.4f}\\t test acc: {:.4f}\".format(e+1, test_avg_loss,\n",
        "        test_acc/len(valid_loader)))\n",
        "\n",
        "    if (test_acc / (batch_id+1)) > best_acc:\n",
        "          best_acc = (test_acc / (batch_id+1))\n",
        "          best_acc_model = deepcopy(model)\n"
      ]
    },
    {
      "cell_type": "code",
      "execution_count": null,
      "metadata": {
        "id": "EMz0k2Vji5Xg"
      },
      "outputs": [],
      "source": []
    },
    {
      "cell_type": "markdown",
      "metadata": {
        "id": "opRjONuccm4L"
      },
      "source": [
        "## 예측, 평가"
      ]
    },
    {
      "cell_type": "markdown",
      "metadata": {
        "id": "bhB6nNCtusJW"
      },
      "source": [
        "학습때 사용하지 않은 데이터로 검증을 진행합니다.\n",
        "\n",
        "전체적인 구조는 validation 때 사용한 코드와 비슷합니다."
      ]
    },
    {
      "cell_type": "code",
      "execution_count": null,
      "metadata": {
        "id": "MjIOByBPcmhD"
      },
      "outputs": [],
      "source": [
        "predict_dataset = BERTDataset(input_transformer, test_sentences[:256], test_labels)\n",
        "test_loader = torch.utils.data.DataLoader(predict_dataset, batch_size=batch_size, num_workers=2)"
      ]
    },
    {
      "cell_type": "code",
      "execution_count": null,
      "metadata": {
        "id": "FmsNqlGfcpGi"
      },
      "outputs": [],
      "source": [
        "def predict(model, test_loader, device):\n",
        "    model.eval()\n",
        "    test_loss = 0.0\n",
        "    test_acc = 0.0\n",
        "    for (token_ids, valid_length, segment_ids), label in test_loader:\n",
        "        token_ids = token_ids.to(device)\n",
        "        segment_ids = segment_ids.to(device)\n",
        "        valid_length = valid_length\n",
        "        label = label.to(device)\n",
        "\n",
        "        with torch.no_grad():\n",
        "            out = model(token_ids, valid_length, segment_ids)\n",
        "            loss = loss_fn(out, label).detach()\n",
        "            test_acc += calc_accuracy(out, label)\n",
        "            test_loss += loss.data.cpu().numpy()\n",
        "\n",
        "    return test_loss/len(test_loader), test_acc/len(test_loader)"
      ]
    },
    {
      "cell_type": "code",
      "execution_count": null,
      "metadata": {
        "colab": {
          "base_uri": "https://localhost:8080/"
        },
        "id": "1v4Cyzotcqi6",
        "outputId": "287c91c8-3a7f-4349-f012-5a0615afd80b"
      },
      "outputs": [],
      "source": [
        "predict(model, test_loader, device)"
      ]
    },
    {
      "cell_type": "code",
      "execution_count": null,
      "metadata": {
        "id": "esR_2Rn_vew0"
      },
      "outputs": [],
      "source": []
    }
  ],
  "metadata": {
    "accelerator": "GPU",
    "colab": {
      "gpuType": "T4",
      "provenance": []
    },
    "kernelspec": {
      "display_name": "Python 3",
      "name": "python3"
    },
    "language_info": {
      "name": "python"
    },
    "widgets": {
      "application/vnd.jupyter.widget-state+json": {
        "06363c65a3c84eef9279085067e8fc3b": {
          "model_module": "@jupyter-widgets/controls",
          "model_module_version": "1.5.0",
          "model_name": "DescriptionStyleModel",
          "state": {
            "_model_module": "@jupyter-widgets/controls",
            "_model_module_version": "1.5.0",
            "_model_name": "DescriptionStyleModel",
            "_view_count": null,
            "_view_module": "@jupyter-widgets/base",
            "_view_module_version": "1.2.0",
            "_view_name": "StyleView",
            "description_width": ""
          }
        },
        "0b4cda4d02e643978796f96eae399f6a": {
          "model_module": "@jupyter-widgets/controls",
          "model_module_version": "1.5.0",
          "model_name": "ProgressStyleModel",
          "state": {
            "_model_module": "@jupyter-widgets/controls",
            "_model_module_version": "1.5.0",
            "_model_name": "ProgressStyleModel",
            "_view_count": null,
            "_view_module": "@jupyter-widgets/base",
            "_view_module_version": "1.2.0",
            "_view_name": "StyleView",
            "bar_color": null,
            "description_width": ""
          }
        },
        "19beddc8bd0a45c0b3b1b1effe6e4091": {
          "model_module": "@jupyter-widgets/controls",
          "model_module_version": "1.5.0",
          "model_name": "DescriptionStyleModel",
          "state": {
            "_model_module": "@jupyter-widgets/controls",
            "_model_module_version": "1.5.0",
            "_model_name": "DescriptionStyleModel",
            "_view_count": null,
            "_view_module": "@jupyter-widgets/base",
            "_view_module_version": "1.2.0",
            "_view_name": "StyleView",
            "description_width": ""
          }
        },
        "251eb01e033f4b51bf375ae7f2c66729": {
          "model_module": "@jupyter-widgets/controls",
          "model_module_version": "1.5.0",
          "model_name": "FloatProgressModel",
          "state": {
            "_dom_classes": [],
            "_model_module": "@jupyter-widgets/controls",
            "_model_module_version": "1.5.0",
            "_model_name": "FloatProgressModel",
            "_view_count": null,
            "_view_module": "@jupyter-widgets/controls",
            "_view_module_version": "1.5.0",
            "_view_name": "ProgressView",
            "bar_style": "danger",
            "description": "",
            "description_tooltip": null,
            "layout": "IPY_MODEL_9f6a2dc732ee4fab8d3c4f77203954d9",
            "max": 1758,
            "min": 0,
            "orientation": "horizontal",
            "style": "IPY_MODEL_0b4cda4d02e643978796f96eae399f6a",
            "value": 6
          }
        },
        "319e8337a8404f58b5aacd39b8286c21": {
          "model_module": "@jupyter-widgets/controls",
          "model_module_version": "1.5.0",
          "model_name": "HTMLModel",
          "state": {
            "_dom_classes": [],
            "_model_module": "@jupyter-widgets/controls",
            "_model_module_version": "1.5.0",
            "_model_name": "HTMLModel",
            "_view_count": null,
            "_view_module": "@jupyter-widgets/controls",
            "_view_module_version": "1.5.0",
            "_view_name": "HTMLView",
            "description": "",
            "description_tooltip": null,
            "layout": "IPY_MODEL_91a1a0c392ea43f3be13721196df5f3a",
            "placeholder": "​",
            "style": "IPY_MODEL_06363c65a3c84eef9279085067e8fc3b",
            "value": " 6/1758 [00:08&lt;34:26,  1.18s/it]"
          }
        },
        "91a1a0c392ea43f3be13721196df5f3a": {
          "model_module": "@jupyter-widgets/base",
          "model_module_version": "1.2.0",
          "model_name": "LayoutModel",
          "state": {
            "_model_module": "@jupyter-widgets/base",
            "_model_module_version": "1.2.0",
            "_model_name": "LayoutModel",
            "_view_count": null,
            "_view_module": "@jupyter-widgets/base",
            "_view_module_version": "1.2.0",
            "_view_name": "LayoutView",
            "align_content": null,
            "align_items": null,
            "align_self": null,
            "border": null,
            "bottom": null,
            "display": null,
            "flex": null,
            "flex_flow": null,
            "grid_area": null,
            "grid_auto_columns": null,
            "grid_auto_flow": null,
            "grid_auto_rows": null,
            "grid_column": null,
            "grid_gap": null,
            "grid_row": null,
            "grid_template_areas": null,
            "grid_template_columns": null,
            "grid_template_rows": null,
            "height": null,
            "justify_content": null,
            "justify_items": null,
            "left": null,
            "margin": null,
            "max_height": null,
            "max_width": null,
            "min_height": null,
            "min_width": null,
            "object_fit": null,
            "object_position": null,
            "order": null,
            "overflow": null,
            "overflow_x": null,
            "overflow_y": null,
            "padding": null,
            "right": null,
            "top": null,
            "visibility": null,
            "width": null
          }
        },
        "94821937e07646e98a8948d10dd6f9e3": {
          "model_module": "@jupyter-widgets/controls",
          "model_module_version": "1.5.0",
          "model_name": "HTMLModel",
          "state": {
            "_dom_classes": [],
            "_model_module": "@jupyter-widgets/controls",
            "_model_module_version": "1.5.0",
            "_model_name": "HTMLModel",
            "_view_count": null,
            "_view_module": "@jupyter-widgets/controls",
            "_view_module_version": "1.5.0",
            "_view_name": "HTMLView",
            "description": "",
            "description_tooltip": null,
            "layout": "IPY_MODEL_e3b64f9a42494f8f970b091aafd23b29",
            "placeholder": "​",
            "style": "IPY_MODEL_19beddc8bd0a45c0b3b1b1effe6e4091",
            "value": "  0%"
          }
        },
        "9f6a2dc732ee4fab8d3c4f77203954d9": {
          "model_module": "@jupyter-widgets/base",
          "model_module_version": "1.2.0",
          "model_name": "LayoutModel",
          "state": {
            "_model_module": "@jupyter-widgets/base",
            "_model_module_version": "1.2.0",
            "_model_name": "LayoutModel",
            "_view_count": null,
            "_view_module": "@jupyter-widgets/base",
            "_view_module_version": "1.2.0",
            "_view_name": "LayoutView",
            "align_content": null,
            "align_items": null,
            "align_self": null,
            "border": null,
            "bottom": null,
            "display": null,
            "flex": null,
            "flex_flow": null,
            "grid_area": null,
            "grid_auto_columns": null,
            "grid_auto_flow": null,
            "grid_auto_rows": null,
            "grid_column": null,
            "grid_gap": null,
            "grid_row": null,
            "grid_template_areas": null,
            "grid_template_columns": null,
            "grid_template_rows": null,
            "height": null,
            "justify_content": null,
            "justify_items": null,
            "left": null,
            "margin": null,
            "max_height": null,
            "max_width": null,
            "min_height": null,
            "min_width": null,
            "object_fit": null,
            "object_position": null,
            "order": null,
            "overflow": null,
            "overflow_x": null,
            "overflow_y": null,
            "padding": null,
            "right": null,
            "top": null,
            "visibility": null,
            "width": null
          }
        },
        "d26611144fbc4233bfdefed8159a6e3b": {
          "model_module": "@jupyter-widgets/controls",
          "model_module_version": "1.5.0",
          "model_name": "HBoxModel",
          "state": {
            "_dom_classes": [],
            "_model_module": "@jupyter-widgets/controls",
            "_model_module_version": "1.5.0",
            "_model_name": "HBoxModel",
            "_view_count": null,
            "_view_module": "@jupyter-widgets/controls",
            "_view_module_version": "1.5.0",
            "_view_name": "HBoxView",
            "box_style": "",
            "children": [
              "IPY_MODEL_94821937e07646e98a8948d10dd6f9e3",
              "IPY_MODEL_251eb01e033f4b51bf375ae7f2c66729",
              "IPY_MODEL_319e8337a8404f58b5aacd39b8286c21"
            ],
            "layout": "IPY_MODEL_ee3faf56462c463794e805aa381b2cc2"
          }
        },
        "e3b64f9a42494f8f970b091aafd23b29": {
          "model_module": "@jupyter-widgets/base",
          "model_module_version": "1.2.0",
          "model_name": "LayoutModel",
          "state": {
            "_model_module": "@jupyter-widgets/base",
            "_model_module_version": "1.2.0",
            "_model_name": "LayoutModel",
            "_view_count": null,
            "_view_module": "@jupyter-widgets/base",
            "_view_module_version": "1.2.0",
            "_view_name": "LayoutView",
            "align_content": null,
            "align_items": null,
            "align_self": null,
            "border": null,
            "bottom": null,
            "display": null,
            "flex": null,
            "flex_flow": null,
            "grid_area": null,
            "grid_auto_columns": null,
            "grid_auto_flow": null,
            "grid_auto_rows": null,
            "grid_column": null,
            "grid_gap": null,
            "grid_row": null,
            "grid_template_areas": null,
            "grid_template_columns": null,
            "grid_template_rows": null,
            "height": null,
            "justify_content": null,
            "justify_items": null,
            "left": null,
            "margin": null,
            "max_height": null,
            "max_width": null,
            "min_height": null,
            "min_width": null,
            "object_fit": null,
            "object_position": null,
            "order": null,
            "overflow": null,
            "overflow_x": null,
            "overflow_y": null,
            "padding": null,
            "right": null,
            "top": null,
            "visibility": null,
            "width": null
          }
        },
        "ee3faf56462c463794e805aa381b2cc2": {
          "model_module": "@jupyter-widgets/base",
          "model_module_version": "1.2.0",
          "model_name": "LayoutModel",
          "state": {
            "_model_module": "@jupyter-widgets/base",
            "_model_module_version": "1.2.0",
            "_model_name": "LayoutModel",
            "_view_count": null,
            "_view_module": "@jupyter-widgets/base",
            "_view_module_version": "1.2.0",
            "_view_name": "LayoutView",
            "align_content": null,
            "align_items": null,
            "align_self": null,
            "border": null,
            "bottom": null,
            "display": null,
            "flex": null,
            "flex_flow": null,
            "grid_area": null,
            "grid_auto_columns": null,
            "grid_auto_flow": null,
            "grid_auto_rows": null,
            "grid_column": null,
            "grid_gap": null,
            "grid_row": null,
            "grid_template_areas": null,
            "grid_template_columns": null,
            "grid_template_rows": null,
            "height": null,
            "justify_content": null,
            "justify_items": null,
            "left": null,
            "margin": null,
            "max_height": null,
            "max_width": null,
            "min_height": null,
            "min_width": null,
            "object_fit": null,
            "object_position": null,
            "order": null,
            "overflow": null,
            "overflow_x": null,
            "overflow_y": null,
            "padding": null,
            "right": null,
            "top": null,
            "visibility": null,
            "width": null
          }
        }
      }
    }
  },
  "nbformat": 4,
  "nbformat_minor": 0
}
