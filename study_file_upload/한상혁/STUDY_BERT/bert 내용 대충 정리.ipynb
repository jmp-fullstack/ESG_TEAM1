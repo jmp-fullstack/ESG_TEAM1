<!DOCTYPE html>
<!-- saved from url=(0027)https://wikidocs.net/152922 -->
<html lang="ko"><head><meta http-equiv="Content-Type" content="text/html; charset=UTF-8">
    
    <meta name="viewport" content="width=device-width, initial-scale=1.0">
    <meta name="google-site-verification" content="mzkAy71X1qQFWihQN535LoiToXg34MUg9nuor7Og9E8">
    <meta name="naver-site-verification" content="a7b53e9ea172d3cefcc05eaba6ebf7180eca08fa">
    <meta name="description" content="온라인 책을 제작 공유하는 플랫폼 서비스">

    
<meta property="og:type" content="website">
<meta property="og:site_name" content="위키독스">
<meta property="og:title" content="17-04 한국어 BERT의 마스크드 언어 모델(Masked Language Model) 실습">
<meta property="og:description" content="* 모든 BERT 실습은 Colab에서 진행한다고 가정합니다.    사전 학습된 한국어 BERT를 이용하여 마스크드 언어 모델을 실습해봅시다. 이번 실습을 위해서만이 아니라 앞으…">
<meta property="og:image" content="https://wikidocs.net/images/book/표지수정_S6qIVUn.png">
<meta property="og:url" content="https://wikidocs.net/152922">


    <link rel="shortcut icon" type="image/x-icon" href="https://wikidocs.net/static/img/favicon.ico">
    <link rel="canonical" href="https://wikidocs.net/book/1">
    
    <link rel="preconnect" href="https://fonts.googleapis.com/">
    <link rel="preconnect" href="https://fonts.gstatic.com/" crossorigin="">
    <link rel="stylesheet" type="text/css" href="./bert 내용 대충 정리_files/css2">

    <title>17-04 한국어 BERT의 마스크드 언어 모델(Masked Language Model) 실습 - 딥 러닝을 이용한 자연어 처리 입문</title>

    <!-- Latest compiled and minified CSS -->
    <link rel="stylesheet" href="./bert 내용 대충 정리_files/bootstrap.min.css" integrity="sha384-BVYiiSIFeK1dGmJRAkycuHAHRg32OmUcww7on3RYdg4Va+PmSTsz/K68vbdEjh4u" crossorigin="anonymous">

    <!-- Optional theme
    <link rel="stylesheet" href="https://maxcdn.bootstrapcdn.com/bootstrap/3.3.7/css/bootstrap-theme.min.css" integrity="sha384-rHyoN1iRsVXV4nD0JutlnGaslCJuC7uwjduW9SVrLvRYooPp2bWYgmgJQIXwl/Sp" crossorigin="anonymous">
    -->

    <!-- HTML5 shim and Respond.js IE8 support of HTML5 elements and media queries -->
    <!--[if lt IE 9]>
    <script src="https://oss.maxcdn.com/html5shiv/3.7.3/html5shiv.min.js"></script>
    <script src="https://oss.maxcdn.com/respond/1.4.2/respond.min.js"></script>
    <![endif]-->

    
<style>
a.wiki_link {
    color: #8B0000;
    text-decoration: none;
}
a.wiki_link:hover {
    text-decoration: underline;
}
.popover{
    max-width: 500px; /* Max Width of the popover (depending on the container!) */
}
</style>

    <link type="text/css" href="./bert 내용 대충 정리_files/style_stack.css" rel="stylesheet" media="screen">
    <script src="./bert 내용 대충 정리_files/f(6).txt"></script><script src="./bert 내용 대충 정리_files/f(7).txt"></script><script type="text/javascript" async="" src="./bert 내용 대충 정리_files/ga.js.다운로드"></script><script src="./bert 내용 대충 정리_files/jquery.min.js.다운로드"></script>
    <script src="./bert 내용 대충 정리_files/bootstrap.min.js.다운로드" integrity="sha384-Tc5IQib027qvyjSMfHjOMaLkfuWVxZxUPnCJA7l2mCWNIpG9mGCD8wGNIcPD7Txa" crossorigin="anonymous"></script>
    <script type="text/javascript" src="./bert 내용 대충 정리_files/utils.js.다운로드"></script>
    <script type="text/javascript" src="./bert 내용 대충 정리_files/base.js.다운로드"></script>
    <script type="text/javascript">
    function recommend_book(book_id) {
        var msg = [];
        msg.push('<div class="alert alert-info">');
        msg.push('<p><strong>책을 추천합니다.</strong></p>');
        msg.push('정말로 추천하시겠습니까?</p>');
        msg.push('</div>');
        msg.push('<span class="muted">※ 추천취소는 불가능합니다.</span>');

        apprise(msg.join(''), {'verify':true}, function(r) {
            if(r) {
                location.href = "/book/recommend/"+book_id;
            }
        });
        return;
    }
    </script>
    
    


<link type="text/css" href="./bert 내용 대충 정리_files/apprise.min.css" rel="stylesheet">
<link type="text/css" href="./bert 내용 대충 정리_files/markdown_stack.css" rel="stylesheet">
<link type="text/css" href="./bert 내용 대충 정리_files/bootstrap-treeview.min.css" rel="stylesheet">
<link type="text/css" href="./bert 내용 대충 정리_files/copycode.css" rel="stylesheet">

<!--  -->

<style>
.wp-content p {
    margin: 5px 0;
}
a.wiki_title {
    color: #8B0000;
    text-decoration: none;
    font-size: 16px;
}
a.inner_link {
    color: #8B0000;
    text-decoration: none;
}
a.wiki_title:hover, a.inner_link:hover {
    text-decoration: underline;
}
#search-results {
    width: 100%;
    cursor: pointer;
    padding:0;
    margin:0;
    background-color: #f2f2f2;
    border-top:none;
    border-radius: 0; /* 모서리의 radius를 0으로 설정 */
    font-weight:bold;
}
#search-results li {
    margin: 0;
    padding: 5px 30px;
}
.result-item {
    white-space: normal;
    padding: 0 15px;
    color:#000;
}

.dropdown-menu .active {
    background-color: #000;
    outline: none;
    color:#fff;
}
</style>

<script type="text/javascript" src="./bert 내용 대충 정리_files/apprise-1.5.min.js.다운로드"></script>
<script type="text/javascript" src="./bert 내용 대충 정리_files/jquery.nicescroll.js.다운로드"></script>
<!-- <script type="text/javascript" src="/static/book/js/page.js?v=20210601_01"></script> -->
<link rel="stylesheet" href="./bert 내용 대충 정리_files/default.min.css">
<script src="./bert 내용 대충 정리_files/highlight.min.js.다운로드"></script>

<!-- 수식입력 mathjax -->
<script>
window.MathJax = {
  options: {
    ignoreHtmlClass: 'tex2jax_ignore',
    processHtmlClass: 'tex2jax_process'
  },
  loader: {load: ['[tex]/physics', '[tex]/braket']},
  tex: {
    inlineMath: [['$','$'], ['\\(','\\)']],
    packages: {'[+]': ['physics', 'braket']}
  }
};
</script>
<script id="MathJax-script" async="" src="./bert 내용 대충 정리_files/tex-mml-chtml.js.다운로드"></script>
<!-- 수식입력 mathjax -->

<script>
$(document).ready(function () {
//    $("pre").addClass("prettyprint");
//    prettyPrint();

    $("#show_toc_btn").click(function () {
        $(".toc").removeClass("hide");
        $(".toc").show();
        $("#show_toc_btn").hide();
    });

    $("#feedback_btn").click(function () {

        var page_id = $("#page_id").val();
        var email = $("#email").val();
        var feedback = $("#feedback").val();

        if (!email) {
            apprise('답장받을 이메일을 입력하세요.', {}, function () {
                $("#email").focus();
            });
            return;
        }

        if (!validateEmail(email)) {
            apprise('이메일을 정확하게 입력 해 주세요.', {}, function () {
                $("#email").focus();
            });
            return;
        }

        if (!feedback) {
            apprise('피드백을 입력하세요.', {}, function () {
                $("#feedback").focus();
            });
            return;
        }

        $.post("/feedback", {
            "page_id": page_id,
            "email": email,
            "feedback": feedback
        }, function (data) {
            apprise('피드백을 남겨주셔서 감사합니다.', {}, function () {
                $('#myModal').modal('hide');
            });
        }, "html");

    });

    $("#report_btn").click(function () {
        var comment_id = $("#comment_id").val();
        var report = $("#report").val();

        if (!report) {
            apprise('신고사유를 입력하세요.', {}, function () {
                $("#report").focus();
            });
            return;
        }

        $.post("/page/comment/report", {
            "comment_id": comment_id,
            "report": report
        }, function (result) {
            if(result.success) {
                apprise('신고가 접수되었습니다. 검토까지는 최대 24시간 소요됩니다.', {}, function () {
                    $('#reportModal').modal('hide');
                });
            }else {
                $('#reportModal').modal('hide');
                alert(result.message);
            }
            
        }, "json");

    });

    $("body").on('click', "#comment_btn", function () {
        var content = $("#content").val();
        if (!content) {
            apprise('댓글을 입력해 주세요', {verify: false}, function (r) {
                $("#content").focus();
            });
            return false;
        }

        $.post("/page/comment/save", {
            "page_id": $("#page_id").val(),
            "content": content
        }, function (result) {
            if (result.success) {
                get_page_comments(result.page_id);
            }else {
                alert(result.message);
            }
        }, "json");
    });

    $('a[href="#top"]').click(function () {
        $('html,body').animate({ scrollTop: $("body").offset().top},
            {duration: 'normal', easing: 'swing'});
        return false;
    });

    var hash = window.location.hash;
    if(hash.indexOf("#comment") != -1) {
        show_comments();
    }

    // 외부 링크는 새창으로 열도록 수정.
    $('a').each(function() {
        var a = new RegExp('/' + window.location.host + '/');
        try {
            if(this.href && !a.test(this.href) && this.href.indexOf('wikidocs.net') === -1 && this.href.startsWith('http')) {
                $(this).click(function(event) {
                    event.preventDefault();
                    event.stopPropagation();
                    window.open(this.href, '_blank');
                });
            }
        }catch(e) {
        }
    });

    // popover
    var is_mobile = "False";
    let _trigger = 'click';  // focus(다른 곳 클릭시 팝업 닫힘), click 
    let _hide = 0;  // focus일 때는 200이 적당
    if (is_mobile == "True") {
        _trigger = 'click';
        _hide = 0;
    }
    
    $('.wiki_link').on('click', function(event) {
        var el = $(this);
        
        // disable this event after first binding 
        el.off(event);

        let _title = el.data('title');
        _title = "<a class='wiki_title' href='/wiki/"+_title+"' target='_wiki'>" +_title + "</a>"+
                '<button style="margin-left:10px;" type="button" id="close" class="close">&times;</button>';
        
        // add initial popovers with LOADING text
        el.popover({
            title: _title,
            content: "loading...", // maybe some loading animation like <img src='loading.gif />
            html: true,
            placement: "bottom",
            container: 'body',
            trigger: _trigger,
            delay: {"show": 0, "hide": _hide}
        }).on('shown.bs.popover', function (eventShown) {
            var $popup = $('#' + $(eventShown.target).attr('aria-describedby'));
            $popup.find('button.close, a.wiki_title, a.inner_link').click(function (e) {
                el.trigger('click');
            });
        });

        // show this LOADING popover
        // el.popover('show');

        // requesting data from unsing url from data-poload attribute
        $.get(el.data('wiki'), function (d) {
            let $tempDiv = $('<div>').html(d);
            $tempDiv.find('a').attr('target', '_blank');
            d = $tempDiv.html();

            // set new content to popover
            el.data('bs.popover').options.content = d;

            // reshow popover with new content
            // el.popover('show');
            el.trigger('click');
        });
    });
});

$(window).load(function () {
    if (!TOC_HEIGHT) {
//        init_toc();
    }

    resizeMenu();
});

function resizeMenu() {
    var wh = $(window).height() - 220;
    var ph = get_height(".page");
    var h = Math.max(wh, ph);
    $(".scrollable-menu").css("max-height", h+"px");
}

function touch_toc() {
    if ($(".page img").length == 0) {
        init_toc();
    }
}

var TOC_HEIGHT;
function init_toc() {
    var selected_toc_li_top = $(".selected_toc_li").offset().top;
    var page_height = get_height(".page");
    var toc_height = get_height(".toc-area");
    TOC_HEIGHT = toc_height;

//    console.log("page_height:"+page_height);

    if (toc_height >= 480) {
        if (page_height - 145 <= 480) {
            $(".toc-area").css("height", (page_height - 145) + "px");
            $(".toc-open").show();
            $(".toc-area").niceScroll({"cursorcolor": "#888"});
            $(".toc-area").scrollTop(selected_toc_li_top - 200);
        } else if (toc_height > 480) {
            $(".toc-area").css("height", "480px");
            $(".toc-open").show();
            $(".toc-area").niceScroll({"cursorcolor": "#888"});
            $(".toc-area").scrollTop(selected_toc_li_top - 200);
        }
    }

    if (page_height > 480 + 300) {
        $(".toc-ads").show();
    }
}
function open_toc() {
    $(".toc-area").css("overflow-y", "visible");
    $(".toc-area").css("height", TOC_HEIGHT + "px");
    $(".toc-open").hide();
}
function get_height(element) {
    var _height = $(element).css("height");
    return parseInt(_height.split("px")[0]);
}

function remove_comment(comment_id) {
    apprise('정말로 삭제하시겠습니까?', {verify: true}, function (r) {
        if (r) {
            $.post("/page/comment/remove", {
                "comment_id": comment_id
            }, function (result) {
                if (result.success) {
                    get_page_comments(result.page_id);
                }else {
                    alert(result.message);
                }
                // $(".comments").html(data);
            }, "json");
        }
    });
}

function reply_comment(comment_name) {
    $(".user_comments #content").val("@"+comment_name+"님 ");
    $(".user_comments #content").focus();
}

function show_comments() {
    $(".user_comments").toggle();
}

function show_book_comments() {
    $(".pages").css("display", "none");
    $(".comments").toggle();
}

function show_book_pages() {
    $(".comments").css("display", "none");
    $(".pages").toggle();

}

function get_all_page_comments(page_id) {
    $.ajax({
        type: "POST",
        url: "/page/comment/all",
        data: {'page_id': page_id},
        dataType: "html",
        success: function(data) {
            $("#page_all_comments").html(data);
        }
    });
}  

function get_page_comments(page_id) {
    $.ajax({
        type: "POST",
        url: "/page/comment/get",
        data: {'page_id': page_id},
        dataType: "html",
        success: function(data) {
            $(".comments").html(data);
            $("#content").val("");
        }
    });
}

function report_modal(comment_id) {
    // console.log(comment_id);
    $("#comment_id").val(comment_id);
    $('#reportModal').modal('show')
}
</script>

    <script type="text/javascript">
      var _gaq = _gaq || [];
      _gaq.push(['_setAccount', 'UA-2686629-3']);
      _gaq.push(['_trackPageview']);

      (function() {
        var ga = document.createElement('script'); ga.type = 'text/javascript'; ga.async = true;
        ga.src = ('https:' == document.location.protocol ? 'https://ssl' : 'http://www') + '.google-analytics.com/ga.js';
        var s = document.getElementsByTagName('script')[0]; s.parentNode.insertBefore(ga, s);
      })();
    </script>
    <!-- Global site tag (gtag.js) - Google Analytics -->
    <script async="" src="./bert 내용 대충 정리_files/js"></script>
    <script>
      window.dataLayer = window.dataLayer || [];
      function gtag(){dataLayer.push(arguments);}
      gtag('js', new Date());

      gtag('config', 'G-6N5MJRGLWG');
    </script>
<script src="./bert 내용 대충 정리_files/physics.js.다운로드" charset="UTF-8"></script><script src="./bert 내용 대충 정리_files/braket.js.다운로드" charset="UTF-8"></script><style type="text/css">.CtxtMenu_InfoClose {  top:.2em; right:.2em;}
.CtxtMenu_InfoContent {  overflow:auto; text-align:left; font-size:80%;  padding:.4em .6em; border:1px inset; margin:1em 0px;  max-height:20em; max-width:30em; background-color:#EEEEEE;  white-space:normal;}
.CtxtMenu_Info.CtxtMenu_MousePost {outline:none;}
.CtxtMenu_Info {  position:fixed; left:50%; width:auto; text-align:center;  border:3px outset; padding:1em 2em; background-color:#DDDDDD;  color:black;  cursor:default; font-family:message-box; font-size:120%;  font-style:normal; text-indent:0; text-transform:none;  line-height:normal; letter-spacing:normal; word-spacing:normal;  word-wrap:normal; white-space:nowrap; float:none; z-index:201;  border-radius: 15px;                     /* Opera 10.5 and IE9 */  -webkit-border-radius:15px;               /* Safari and Chrome */  -moz-border-radius:15px;                  /* Firefox */  -khtml-border-radius:15px;                /* Konqueror */  box-shadow:0px 10px 20px #808080;         /* Opera 10.5 and IE9 */  -webkit-box-shadow:0px 10px 20px #808080; /* Safari 3 & Chrome */  -moz-box-shadow:0px 10px 20px #808080;    /* Forefox 3.5 */  -khtml-box-shadow:0px 10px 20px #808080;  /* Konqueror */  filter:progid:DXImageTransform.Microsoft.dropshadow(OffX=2, OffY=2, Color="gray", Positive="true"); /* IE */}
</style><style type="text/css">.CtxtMenu_MenuClose {  position:absolute;  cursor:pointer;  display:inline-block;  border:2px solid #AAA;  border-radius:18px;  -webkit-border-radius: 18px;             /* Safari and Chrome */  -moz-border-radius: 18px;                /* Firefox */  -khtml-border-radius: 18px;              /* Konqueror */  font-family: "Courier New", Courier;  font-size:24px;  color:#F0F0F0}
.CtxtMenu_MenuClose span {  display:block; background-color:#AAA; border:1.5px solid;  border-radius:18px;  -webkit-border-radius: 18px;             /* Safari and Chrome */  -moz-border-radius: 18px;                /* Firefox */  -khtml-border-radius: 18px;              /* Konqueror */  line-height:0;  padding:8px 0 6px     /* may need to be browser-specific */}
.CtxtMenu_MenuClose:hover {  color:white!important;  border:2px solid #CCC!important}
.CtxtMenu_MenuClose:hover span {  background-color:#CCC!important}
.CtxtMenu_MenuClose:hover:focus {  outline:none}
</style><style type="text/css">.CtxtMenu_Menu {  position:absolute;  background-color:white;  color:black;  width:auto; padding:5px 0px;  border:1px solid #CCCCCC; margin:0; cursor:default;  font: menu; text-align:left; text-indent:0; text-transform:none;  line-height:normal; letter-spacing:normal; word-spacing:normal;  word-wrap:normal; white-space:nowrap; float:none; z-index:201;  border-radius: 5px;                     /* Opera 10.5 and IE9 */  -webkit-border-radius: 5px;             /* Safari and Chrome */  -moz-border-radius: 5px;                /* Firefox */  -khtml-border-radius: 5px;              /* Konqueror */  box-shadow:0px 10px 20px #808080;         /* Opera 10.5 and IE9 */  -webkit-box-shadow:0px 10px 20px #808080; /* Safari 3 & Chrome */  -moz-box-shadow:0px 10px 20px #808080;    /* Forefox 3.5 */  -khtml-box-shadow:0px 10px 20px #808080;  /* Konqueror */}
.CtxtMenu_MenuItem {  padding: 1px 2em;  background:transparent;}
.CtxtMenu_MenuArrow {  position:absolute; right:.5em; padding-top:.25em; color:#666666;  font-family: null; font-size: .75em}
.CtxtMenu_MenuActive .CtxtMenu_MenuArrow {color:white}
.CtxtMenu_MenuArrow.CtxtMenu_RTL {left:.5em; right:auto}
.CtxtMenu_MenuCheck {  position:absolute; left:.7em;  font-family: null}
.CtxtMenu_MenuCheck.CtxtMenu_RTL { right:.7em; left:auto }
.CtxtMenu_MenuRadioCheck {  position:absolute; left: .7em;}
.CtxtMenu_MenuRadioCheck.CtxtMenu_RTL {  right: .7em; left:auto}
.CtxtMenu_MenuInputBox {  padding-left: 1em; right:.5em; color:#666666;  font-family: null;}
.CtxtMenu_MenuInputBox.CtxtMenu_RTL {  left: .1em;}
.CtxtMenu_MenuComboBox {  left:.1em; padding-bottom:.5em;}
.CtxtMenu_MenuSlider {  left: .1em;}
.CtxtMenu_SliderValue {  position:absolute; right:.1em; padding-top:.25em; color:#333333;  font-size: .75em}
.CtxtMenu_SliderBar {  outline: none; background: #d3d3d3}
.CtxtMenu_MenuLabel {  padding: 1px 2em 3px 1.33em;  font-style:italic}
.CtxtMenu_MenuRule {  border-top: 1px solid #DDDDDD;  margin: 4px 3px;}
.CtxtMenu_MenuDisabled {  color:GrayText}
.CtxtMenu_MenuActive {  background-color: #606872;  color: white;}
.CtxtMenu_MenuDisabled:focus {  background-color: #E8E8E8}
.CtxtMenu_MenuLabel:focus {  background-color: #E8E8E8}
.CtxtMenu_ContextMenu:focus {  outline:none}
.CtxtMenu_ContextMenu .CtxtMenu_MenuItem:focus {  outline:none}
.CtxtMenu_SelectionMenu {  position:relative; float:left;  border-bottom: none; -webkit-box-shadow:none; -webkit-border-radius:0px; }
.CtxtMenu_SelectionItem {  padding-right: 1em;}
.CtxtMenu_Selection {  right: 40%; width:50%; }
.CtxtMenu_SelectionBox {  padding: 0em; max-height:20em; max-width: none;  background-color:#FFFFFF;}
.CtxtMenu_SelectionDivider {  clear: both; border-top: 2px solid #000000;}
.CtxtMenu_Menu .CtxtMenu_MenuClose {  top:-10px; left:-10px}
</style><style id="MJX-CHTML-styles">
mjx-container[jax="CHTML"] {
  line-height: 0;
}

mjx-container [space="1"] {
  margin-left: .111em;
}

mjx-container [space="2"] {
  margin-left: .167em;
}

mjx-container [space="3"] {
  margin-left: .222em;
}

mjx-container [space="4"] {
  margin-left: .278em;
}

mjx-container [space="5"] {
  margin-left: .333em;
}

mjx-container [rspace="1"] {
  margin-right: .111em;
}

mjx-container [rspace="2"] {
  margin-right: .167em;
}

mjx-container [rspace="3"] {
  margin-right: .222em;
}

mjx-container [rspace="4"] {
  margin-right: .278em;
}

mjx-container [rspace="5"] {
  margin-right: .333em;
}

mjx-container [size="s"] {
  font-size: 70.7%;
}

mjx-container [size="ss"] {
  font-size: 50%;
}

mjx-container [size="Tn"] {
  font-size: 60%;
}

mjx-container [size="sm"] {
  font-size: 85%;
}

mjx-container [size="lg"] {
  font-size: 120%;
}

mjx-container [size="Lg"] {
  font-size: 144%;
}

mjx-container [size="LG"] {
  font-size: 173%;
}

mjx-container [size="hg"] {
  font-size: 207%;
}

mjx-container [size="HG"] {
  font-size: 249%;
}

mjx-container [width="full"] {
  width: 100%;
}

mjx-box {
  display: inline-block;
}

mjx-block {
  display: block;
}

mjx-itable {
  display: inline-table;
}

mjx-row {
  display: table-row;
}

mjx-row > * {
  display: table-cell;
}

mjx-mtext {
  display: inline-block;
}

mjx-mstyle {
  display: inline-block;
}

mjx-merror {
  display: inline-block;
  color: red;
  background-color: yellow;
}

mjx-mphantom {
  visibility: hidden;
}

_::-webkit-full-page-media, _:future, :root mjx-container {
  will-change: opacity;
}

mjx-assistive-mml {
  position: absolute !important;
  top: 0px;
  left: 0px;
  clip: rect(1px, 1px, 1px, 1px);
  padding: 1px 0px 0px 0px !important;
  border: 0px !important;
  display: block !important;
  width: auto !important;
  overflow: hidden !important;
  -webkit-touch-callout: none;
  -webkit-user-select: none;
  -khtml-user-select: none;
  -moz-user-select: none;
  -ms-user-select: none;
  user-select: none;
}

mjx-assistive-mml[display="block"] {
  width: 100% !important;
}

mjx-c::before {
  display: block;
  width: 0;
}

.MJX-TEX {
  font-family: MJXZERO, MJXTEX;
}

.TEX-B {
  font-family: MJXZERO, MJXTEX-B;
}

.TEX-I {
  font-family: MJXZERO, MJXTEX-I;
}

.TEX-MI {
  font-family: MJXZERO, MJXTEX-MI;
}

.TEX-BI {
  font-family: MJXZERO, MJXTEX-BI;
}

.TEX-S1 {
  font-family: MJXZERO, MJXTEX-S1;
}

.TEX-S2 {
  font-family: MJXZERO, MJXTEX-S2;
}

.TEX-S3 {
  font-family: MJXZERO, MJXTEX-S3;
}

.TEX-S4 {
  font-family: MJXZERO, MJXTEX-S4;
}

.TEX-A {
  font-family: MJXZERO, MJXTEX-A;
}

.TEX-C {
  font-family: MJXZERO, MJXTEX-C;
}

.TEX-CB {
  font-family: MJXZERO, MJXTEX-CB;
}

.TEX-FR {
  font-family: MJXZERO, MJXTEX-FR;
}

.TEX-FRB {
  font-family: MJXZERO, MJXTEX-FRB;
}

.TEX-SS {
  font-family: MJXZERO, MJXTEX-SS;
}

.TEX-SSB {
  font-family: MJXZERO, MJXTEX-SSB;
}

.TEX-SSI {
  font-family: MJXZERO, MJXTEX-SSI;
}

.TEX-SC {
  font-family: MJXZERO, MJXTEX-SC;
}

.TEX-T {
  font-family: MJXZERO, MJXTEX-T;
}

.TEX-V {
  font-family: MJXZERO, MJXTEX-V;
}

.TEX-VB {
  font-family: MJXZERO, MJXTEX-VB;
}

mjx-stretchy-v mjx-c, mjx-stretchy-h mjx-c {
  font-family: MJXZERO, MJXTEX-S1, MJXTEX-S4, MJXTEX, MJXTEX-A ! important;
}

@font-face /* 0 */ {
  font-family: MJXZERO;
  src: url("https://cdn.jsdelivr.net/npm/mathjax@3/es5/output/chtml/fonts/woff-v2/MathJax_Zero.woff") format("woff");
}

@font-face /* 1 */ {
  font-family: MJXTEX;
  src: url("https://cdn.jsdelivr.net/npm/mathjax@3/es5/output/chtml/fonts/woff-v2/MathJax_Main-Regular.woff") format("woff");
}

@font-face /* 2 */ {
  font-family: MJXTEX-B;
  src: url("https://cdn.jsdelivr.net/npm/mathjax@3/es5/output/chtml/fonts/woff-v2/MathJax_Main-Bold.woff") format("woff");
}

@font-face /* 3 */ {
  font-family: MJXTEX-I;
  src: url("https://cdn.jsdelivr.net/npm/mathjax@3/es5/output/chtml/fonts/woff-v2/MathJax_Math-Italic.woff") format("woff");
}

@font-face /* 4 */ {
  font-family: MJXTEX-MI;
  src: url("https://cdn.jsdelivr.net/npm/mathjax@3/es5/output/chtml/fonts/woff-v2/MathJax_Main-Italic.woff") format("woff");
}

@font-face /* 5 */ {
  font-family: MJXTEX-BI;
  src: url("https://cdn.jsdelivr.net/npm/mathjax@3/es5/output/chtml/fonts/woff-v2/MathJax_Math-BoldItalic.woff") format("woff");
}

@font-face /* 6 */ {
  font-family: MJXTEX-S1;
  src: url("https://cdn.jsdelivr.net/npm/mathjax@3/es5/output/chtml/fonts/woff-v2/MathJax_Size1-Regular.woff") format("woff");
}

@font-face /* 7 */ {
  font-family: MJXTEX-S2;
  src: url("https://cdn.jsdelivr.net/npm/mathjax@3/es5/output/chtml/fonts/woff-v2/MathJax_Size2-Regular.woff") format("woff");
}

@font-face /* 8 */ {
  font-family: MJXTEX-S3;
  src: url("https://cdn.jsdelivr.net/npm/mathjax@3/es5/output/chtml/fonts/woff-v2/MathJax_Size3-Regular.woff") format("woff");
}

@font-face /* 9 */ {
  font-family: MJXTEX-S4;
  src: url("https://cdn.jsdelivr.net/npm/mathjax@3/es5/output/chtml/fonts/woff-v2/MathJax_Size4-Regular.woff") format("woff");
}

@font-face /* 10 */ {
  font-family: MJXTEX-A;
  src: url("https://cdn.jsdelivr.net/npm/mathjax@3/es5/output/chtml/fonts/woff-v2/MathJax_AMS-Regular.woff") format("woff");
}

@font-face /* 11 */ {
  font-family: MJXTEX-C;
  src: url("https://cdn.jsdelivr.net/npm/mathjax@3/es5/output/chtml/fonts/woff-v2/MathJax_Calligraphic-Regular.woff") format("woff");
}

@font-face /* 12 */ {
  font-family: MJXTEX-CB;
  src: url("https://cdn.jsdelivr.net/npm/mathjax@3/es5/output/chtml/fonts/woff-v2/MathJax_Calligraphic-Bold.woff") format("woff");
}

@font-face /* 13 */ {
  font-family: MJXTEX-FR;
  src: url("https://cdn.jsdelivr.net/npm/mathjax@3/es5/output/chtml/fonts/woff-v2/MathJax_Fraktur-Regular.woff") format("woff");
}

@font-face /* 14 */ {
  font-family: MJXTEX-FRB;
  src: url("https://cdn.jsdelivr.net/npm/mathjax@3/es5/output/chtml/fonts/woff-v2/MathJax_Fraktur-Bold.woff") format("woff");
}

@font-face /* 15 */ {
  font-family: MJXTEX-SS;
  src: url("https://cdn.jsdelivr.net/npm/mathjax@3/es5/output/chtml/fonts/woff-v2/MathJax_SansSerif-Regular.woff") format("woff");
}

@font-face /* 16 */ {
  font-family: MJXTEX-SSB;
  src: url("https://cdn.jsdelivr.net/npm/mathjax@3/es5/output/chtml/fonts/woff-v2/MathJax_SansSerif-Bold.woff") format("woff");
}

@font-face /* 17 */ {
  font-family: MJXTEX-SSI;
  src: url("https://cdn.jsdelivr.net/npm/mathjax@3/es5/output/chtml/fonts/woff-v2/MathJax_SansSerif-Italic.woff") format("woff");
}

@font-face /* 18 */ {
  font-family: MJXTEX-SC;
  src: url("https://cdn.jsdelivr.net/npm/mathjax@3/es5/output/chtml/fonts/woff-v2/MathJax_Script-Regular.woff") format("woff");
}

@font-face /* 19 */ {
  font-family: MJXTEX-T;
  src: url("https://cdn.jsdelivr.net/npm/mathjax@3/es5/output/chtml/fonts/woff-v2/MathJax_Typewriter-Regular.woff") format("woff");
}

@font-face /* 20 */ {
  font-family: MJXTEX-V;
  src: url("https://cdn.jsdelivr.net/npm/mathjax@3/es5/output/chtml/fonts/woff-v2/MathJax_Vector-Regular.woff") format("woff");
}

@font-face /* 21 */ {
  font-family: MJXTEX-VB;
  src: url("https://cdn.jsdelivr.net/npm/mathjax@3/es5/output/chtml/fonts/woff-v2/MathJax_Vector-Bold.woff") format("woff");
}
</style><meta http-equiv="origin-trial" content="As0hBNJ8h++fNYlkq8cTye2qDLyom8NddByiVytXGGD0YVE+2CEuTCpqXMDxdhOMILKoaiaYifwEvCRlJ/9GcQ8AAAB8eyJvcmlnaW4iOiJodHRwczovL2RvdWJsZWNsaWNrLm5ldDo0NDMiLCJmZWF0dXJlIjoiV2ViVmlld1hSZXF1ZXN0ZWRXaXRoRGVwcmVjYXRpb24iLCJleHBpcnkiOjE3MTk1MzI3OTksImlzU3ViZG9tYWluIjp0cnVlfQ=="><meta http-equiv="origin-trial" content="AgRYsXo24ypxC89CJanC+JgEmraCCBebKl8ZmG7Tj5oJNx0cmH0NtNRZs3NB5ubhpbX/bIt7l2zJOSyO64NGmwMAAACCeyJvcmlnaW4iOiJodHRwczovL2dvb2dsZXN5bmRpY2F0aW9uLmNvbTo0NDMiLCJmZWF0dXJlIjoiV2ViVmlld1hSZXF1ZXN0ZWRXaXRoRGVwcmVjYXRpb24iLCJleHBpcnkiOjE3MTk1MzI3OTksImlzU3ViZG9tYWluIjp0cnVlfQ=="><meta http-equiv="origin-trial" content="A/ERL66fN363FkXxgDc6F1+ucRUkAhjEca9W3la6xaLnD2Y1lABsqmdaJmPNaUKPKVBRpyMKEhXYl7rSvrQw+AkAAACNeyJvcmlnaW4iOiJodHRwczovL2RvdWJsZWNsaWNrLm5ldDo0NDMiLCJmZWF0dXJlIjoiRmxlZGdlQmlkZGluZ0FuZEF1Y3Rpb25TZXJ2ZXIiLCJleHBpcnkiOjE3MTkzNTk5OTksImlzU3ViZG9tYWluIjp0cnVlLCJpc1RoaXJkUGFydHkiOnRydWV9"><meta http-equiv="origin-trial" content="A6OdGH3fVf4eKRDbXb4thXA4InNqDJDRhZ8U533U/roYjp4Yau0T3YSuc63vmAs/8ga1cD0E3A7LEq6AXk1uXgsAAACTeyJvcmlnaW4iOiJodHRwczovL2dvb2dsZXN5bmRpY2F0aW9uLmNvbTo0NDMiLCJmZWF0dXJlIjoiRmxlZGdlQmlkZGluZ0FuZEF1Y3Rpb25TZXJ2ZXIiLCJleHBpcnkiOjE3MTkzNTk5OTksImlzU3ViZG9tYWluIjp0cnVlLCJpc1RoaXJkUGFydHkiOnRydWV9"><meta http-equiv="origin-trial" content="As0hBNJ8h++fNYlkq8cTye2qDLyom8NddByiVytXGGD0YVE+2CEuTCpqXMDxdhOMILKoaiaYifwEvCRlJ/9GcQ8AAAB8eyJvcmlnaW4iOiJodHRwczovL2RvdWJsZWNsaWNrLm5ldDo0NDMiLCJmZWF0dXJlIjoiV2ViVmlld1hSZXF1ZXN0ZWRXaXRoRGVwcmVjYXRpb24iLCJleHBpcnkiOjE3MTk1MzI3OTksImlzU3ViZG9tYWluIjp0cnVlfQ=="><meta http-equiv="origin-trial" content="AgRYsXo24ypxC89CJanC+JgEmraCCBebKl8ZmG7Tj5oJNx0cmH0NtNRZs3NB5ubhpbX/bIt7l2zJOSyO64NGmwMAAACCeyJvcmlnaW4iOiJodHRwczovL2dvb2dsZXN5bmRpY2F0aW9uLmNvbTo0NDMiLCJmZWF0dXJlIjoiV2ViVmlld1hSZXF1ZXN0ZWRXaXRoRGVwcmVjYXRpb24iLCJleHBpcnkiOjE3MTk1MzI3OTksImlzU3ViZG9tYWluIjp0cnVlfQ=="><meta http-equiv="origin-trial" content="A/ERL66fN363FkXxgDc6F1+ucRUkAhjEca9W3la6xaLnD2Y1lABsqmdaJmPNaUKPKVBRpyMKEhXYl7rSvrQw+AkAAACNeyJvcmlnaW4iOiJodHRwczovL2RvdWJsZWNsaWNrLm5ldDo0NDMiLCJmZWF0dXJlIjoiRmxlZGdlQmlkZGluZ0FuZEF1Y3Rpb25TZXJ2ZXIiLCJleHBpcnkiOjE3MTkzNTk5OTksImlzU3ViZG9tYWluIjp0cnVlLCJpc1RoaXJkUGFydHkiOnRydWV9"><meta http-equiv="origin-trial" content="A6OdGH3fVf4eKRDbXb4thXA4InNqDJDRhZ8U533U/roYjp4Yau0T3YSuc63vmAs/8ga1cD0E3A7LEq6AXk1uXgsAAACTeyJvcmlnaW4iOiJodHRwczovL2dvb2dsZXN5bmRpY2F0aW9uLmNvbTo0NDMiLCJmZWF0dXJlIjoiRmxlZGdlQmlkZGluZ0FuZEF1Y3Rpb25TZXJ2ZXIiLCJleHBpcnkiOjE3MTkzNTk5OTksImlzU3ViZG9tYWluIjp0cnVlLCJpc1RoaXJkUGFydHkiOnRydWV9"><meta http-equiv="origin-trial" content="As0hBNJ8h++fNYlkq8cTye2qDLyom8NddByiVytXGGD0YVE+2CEuTCpqXMDxdhOMILKoaiaYifwEvCRlJ/9GcQ8AAAB8eyJvcmlnaW4iOiJodHRwczovL2RvdWJsZWNsaWNrLm5ldDo0NDMiLCJmZWF0dXJlIjoiV2ViVmlld1hSZXF1ZXN0ZWRXaXRoRGVwcmVjYXRpb24iLCJleHBpcnkiOjE3MTk1MzI3OTksImlzU3ViZG9tYWluIjp0cnVlfQ=="><meta http-equiv="origin-trial" content="AgRYsXo24ypxC89CJanC+JgEmraCCBebKl8ZmG7Tj5oJNx0cmH0NtNRZs3NB5ubhpbX/bIt7l2zJOSyO64NGmwMAAACCeyJvcmlnaW4iOiJodHRwczovL2dvb2dsZXN5bmRpY2F0aW9uLmNvbTo0NDMiLCJmZWF0dXJlIjoiV2ViVmlld1hSZXF1ZXN0ZWRXaXRoRGVwcmVjYXRpb24iLCJleHBpcnkiOjE3MTk1MzI3OTksImlzU3ViZG9tYWluIjp0cnVlfQ=="><meta http-equiv="origin-trial" content="A/ERL66fN363FkXxgDc6F1+ucRUkAhjEca9W3la6xaLnD2Y1lABsqmdaJmPNaUKPKVBRpyMKEhXYl7rSvrQw+AkAAACNeyJvcmlnaW4iOiJodHRwczovL2RvdWJsZWNsaWNrLm5ldDo0NDMiLCJmZWF0dXJlIjoiRmxlZGdlQmlkZGluZ0FuZEF1Y3Rpb25TZXJ2ZXIiLCJleHBpcnkiOjE3MTkzNTk5OTksImlzU3ViZG9tYWluIjp0cnVlLCJpc1RoaXJkUGFydHkiOnRydWV9"><meta http-equiv="origin-trial" content="A6OdGH3fVf4eKRDbXb4thXA4InNqDJDRhZ8U533U/roYjp4Yau0T3YSuc63vmAs/8ga1cD0E3A7LEq6AXk1uXgsAAACTeyJvcmlnaW4iOiJodHRwczovL2dvb2dsZXN5bmRpY2F0aW9uLmNvbTo0NDMiLCJmZWF0dXJlIjoiRmxlZGdlQmlkZGluZ0FuZEF1Y3Rpb25TZXJ2ZXIiLCJleHBpcnkiOjE3MTkzNTk5OTksImlzU3ViZG9tYWluIjp0cnVlLCJpc1RoaXJkUGFydHkiOnRydWV9"><meta http-equiv="origin-trial" content="As0hBNJ8h++fNYlkq8cTye2qDLyom8NddByiVytXGGD0YVE+2CEuTCpqXMDxdhOMILKoaiaYifwEvCRlJ/9GcQ8AAAB8eyJvcmlnaW4iOiJodHRwczovL2RvdWJsZWNsaWNrLm5ldDo0NDMiLCJmZWF0dXJlIjoiV2ViVmlld1hSZXF1ZXN0ZWRXaXRoRGVwcmVjYXRpb24iLCJleHBpcnkiOjE3MTk1MzI3OTksImlzU3ViZG9tYWluIjp0cnVlfQ=="><meta http-equiv="origin-trial" content="AgRYsXo24ypxC89CJanC+JgEmraCCBebKl8ZmG7Tj5oJNx0cmH0NtNRZs3NB5ubhpbX/bIt7l2zJOSyO64NGmwMAAACCeyJvcmlnaW4iOiJodHRwczovL2dvb2dsZXN5bmRpY2F0aW9uLmNvbTo0NDMiLCJmZWF0dXJlIjoiV2ViVmlld1hSZXF1ZXN0ZWRXaXRoRGVwcmVjYXRpb24iLCJleHBpcnkiOjE3MTk1MzI3OTksImlzU3ViZG9tYWluIjp0cnVlfQ=="><meta http-equiv="origin-trial" content="A/ERL66fN363FkXxgDc6F1+ucRUkAhjEca9W3la6xaLnD2Y1lABsqmdaJmPNaUKPKVBRpyMKEhXYl7rSvrQw+AkAAACNeyJvcmlnaW4iOiJodHRwczovL2RvdWJsZWNsaWNrLm5ldDo0NDMiLCJmZWF0dXJlIjoiRmxlZGdlQmlkZGluZ0FuZEF1Y3Rpb25TZXJ2ZXIiLCJleHBpcnkiOjE3MTkzNTk5OTksImlzU3ViZG9tYWluIjp0cnVlLCJpc1RoaXJkUGFydHkiOnRydWV9"><meta http-equiv="origin-trial" content="A6OdGH3fVf4eKRDbXb4thXA4InNqDJDRhZ8U533U/roYjp4Yau0T3YSuc63vmAs/8ga1cD0E3A7LEq6AXk1uXgsAAACTeyJvcmlnaW4iOiJodHRwczovL2dvb2dsZXN5bmRpY2F0aW9uLmNvbTo0NDMiLCJmZWF0dXJlIjoiRmxlZGdlQmlkZGluZ0FuZEF1Y3Rpb25TZXJ2ZXIiLCJleHBpcnkiOjE3MTkzNTk5OTksImlzU3ViZG9tYWluIjp0cnVlLCJpc1RoaXJkUGFydHkiOnRydWV9"><meta http-equiv="origin-trial" content="As0hBNJ8h++fNYlkq8cTye2qDLyom8NddByiVytXGGD0YVE+2CEuTCpqXMDxdhOMILKoaiaYifwEvCRlJ/9GcQ8AAAB8eyJvcmlnaW4iOiJodHRwczovL2RvdWJsZWNsaWNrLm5ldDo0NDMiLCJmZWF0dXJlIjoiV2ViVmlld1hSZXF1ZXN0ZWRXaXRoRGVwcmVjYXRpb24iLCJleHBpcnkiOjE3MTk1MzI3OTksImlzU3ViZG9tYWluIjp0cnVlfQ=="><meta http-equiv="origin-trial" content="AgRYsXo24ypxC89CJanC+JgEmraCCBebKl8ZmG7Tj5oJNx0cmH0NtNRZs3NB5ubhpbX/bIt7l2zJOSyO64NGmwMAAACCeyJvcmlnaW4iOiJodHRwczovL2dvb2dsZXN5bmRpY2F0aW9uLmNvbTo0NDMiLCJmZWF0dXJlIjoiV2ViVmlld1hSZXF1ZXN0ZWRXaXRoRGVwcmVjYXRpb24iLCJleHBpcnkiOjE3MTk1MzI3OTksImlzU3ViZG9tYWluIjp0cnVlfQ=="><meta http-equiv="origin-trial" content="A/ERL66fN363FkXxgDc6F1+ucRUkAhjEca9W3la6xaLnD2Y1lABsqmdaJmPNaUKPKVBRpyMKEhXYl7rSvrQw+AkAAACNeyJvcmlnaW4iOiJodHRwczovL2RvdWJsZWNsaWNrLm5ldDo0NDMiLCJmZWF0dXJlIjoiRmxlZGdlQmlkZGluZ0FuZEF1Y3Rpb25TZXJ2ZXIiLCJleHBpcnkiOjE3MTkzNTk5OTksImlzU3ViZG9tYWluIjp0cnVlLCJpc1RoaXJkUGFydHkiOnRydWV9"><meta http-equiv="origin-trial" content="A6OdGH3fVf4eKRDbXb4thXA4InNqDJDRhZ8U533U/roYjp4Yau0T3YSuc63vmAs/8ga1cD0E3A7LEq6AXk1uXgsAAACTeyJvcmlnaW4iOiJodHRwczovL2dvb2dsZXN5bmRpY2F0aW9uLmNvbTo0NDMiLCJmZWF0dXJlIjoiRmxlZGdlQmlkZGluZ0FuZEF1Y3Rpb25TZXJ2ZXIiLCJleHBpcnkiOjE3MTkzNTk5OTksImlzU3ViZG9tYWluIjp0cnVlLCJpc1RoaXJkUGFydHkiOnRydWV9"><script async="" src="./bert 내용 대충 정리_files/ca-pub-9470517771012578"></script><script async="" src="./bert 내용 대충 정리_files/AGSKWxUlJapCXeAoxH9k3a-YM1skTQUz0h6rte6GI8RX23231er-nZJapkpFnmPLAynfp5uSEyO69LNq4NeB2oRomrSBbS-jbgrMHL3YY6jMGy7W-10ZoJs8ZVAM0MVq9rQGNB3C1n3PgA=="></script><script async="" src="./bert 내용 대충 정리_files/AGSKWxVX9RjYFcWqsSeecA7ztWZIhWvhY5p_9Hc-a6DCS4Px4TokBNW7KzUo-2egAOTl9J_WJ8W8LBmp69GtHnoLstzIGw9n5rs2my4o_ukDMSxQkzH6t1XeWU2Hdc81t5mGrz8uONRptg=="></script><meta http-equiv="origin-trial" content="As0hBNJ8h++fNYlkq8cTye2qDLyom8NddByiVytXGGD0YVE+2CEuTCpqXMDxdhOMILKoaiaYifwEvCRlJ/9GcQ8AAAB8eyJvcmlnaW4iOiJodHRwczovL2RvdWJsZWNsaWNrLm5ldDo0NDMiLCJmZWF0dXJlIjoiV2ViVmlld1hSZXF1ZXN0ZWRXaXRoRGVwcmVjYXRpb24iLCJleHBpcnkiOjE3MTk1MzI3OTksImlzU3ViZG9tYWluIjp0cnVlfQ=="><meta http-equiv="origin-trial" content="AgRYsXo24ypxC89CJanC+JgEmraCCBebKl8ZmG7Tj5oJNx0cmH0NtNRZs3NB5ubhpbX/bIt7l2zJOSyO64NGmwMAAACCeyJvcmlnaW4iOiJodHRwczovL2dvb2dsZXN5bmRpY2F0aW9uLmNvbTo0NDMiLCJmZWF0dXJlIjoiV2ViVmlld1hSZXF1ZXN0ZWRXaXRoRGVwcmVjYXRpb24iLCJleHBpcnkiOjE3MTk1MzI3OTksImlzU3ViZG9tYWluIjp0cnVlfQ=="><meta http-equiv="origin-trial" content="A/ERL66fN363FkXxgDc6F1+ucRUkAhjEca9W3la6xaLnD2Y1lABsqmdaJmPNaUKPKVBRpyMKEhXYl7rSvrQw+AkAAACNeyJvcmlnaW4iOiJodHRwczovL2RvdWJsZWNsaWNrLm5ldDo0NDMiLCJmZWF0dXJlIjoiRmxlZGdlQmlkZGluZ0FuZEF1Y3Rpb25TZXJ2ZXIiLCJleHBpcnkiOjE3MTkzNTk5OTksImlzU3ViZG9tYWluIjp0cnVlLCJpc1RoaXJkUGFydHkiOnRydWV9"><meta http-equiv="origin-trial" content="A6OdGH3fVf4eKRDbXb4thXA4InNqDJDRhZ8U533U/roYjp4Yau0T3YSuc63vmAs/8ga1cD0E3A7LEq6AXk1uXgsAAACTeyJvcmlnaW4iOiJodHRwczovL2dvb2dsZXN5bmRpY2F0aW9uLmNvbTo0NDMiLCJmZWF0dXJlIjoiRmxlZGdlQmlkZGluZ0FuZEF1Y3Rpb25TZXJ2ZXIiLCJleHBpcnkiOjE3MTkzNTk5OTksImlzU3ViZG9tYWluIjp0cnVlLCJpc1RoaXJkUGFydHkiOnRydWV9"><script async="" src="./bert 내용 대충 정리_files/AGSKWxXW4sMBkPYcKSUdXtRaAZTcHvg3fW18ioCN04wWgafi9dvSUr_RQjQk4QlEJck0hoQRHoh7sk8jnE6slDz6-q1c8ZezEpwBAsmFBLYxWXGVDGVZ0j7H9D6hBKd_FibHOmgasBbVdg=="></script></head>
<body>


    <!-- PC -->

    
        <!-- 위키독스 포인트 광고 -->
        <!-- 오른쪽 플로팅 고정광고 시작-->
        <aside id="asideRight" class="asideRight">
            <div id="chaseRight" style="top:20px;">
                <script async="" src="./bert 내용 대충 정리_files/f(8).txt" crossorigin="anonymous" data-checked-head="true"></script>
                <!-- wikidocs_sidebar -->
                <ins class="adsbygoogle" style="display: inline-block; width: 200px; height: 0px;" data-ad-client="ca-pub-9470517771012578" data-ad-channel="6628864207" data-adsbygoogle-status="done" data-ad-status="unfilled"><div id="aswift_1_host" style="border: none; height: 0px; width: 200px; margin: 0px; padding: 0px; position: relative; visibility: visible; background-color: transparent; display: inline-block; overflow: hidden; opacity: 0;"><iframe id="aswift_1" name="aswift_1" browsingtopics="true" style="left: 0px; position: absolute; top: 0px; border: 0px; width: 200px; height: 0px;" sandbox="allow-forms allow-popups allow-popups-to-escape-sandbox allow-same-origin allow-scripts allow-top-navigation-by-user-activation" width="200" height="0" frameborder="0" marginwidth="0" marginheight="0" vspace="0" hspace="0" allowtransparency="true" scrolling="no" allow="attribution-reporting; run-ad-auction" src="./bert 내용 대충 정리_files/ads.html" data-google-container-id="a!2" tabindex="0" title="Advertisement" aria-label="Advertisement" data-google-query-id="CJzyivvYoIUDFRjHFgUdEPgEDw" data-load-complete="true"></iframe></div></ins>
                <script>
                    (adsbygoogle = window.adsbygoogle || []).push({});
                </script>
            </div>
        </aside>
        <!-- 오른쪽 플로팅 고정광고 끝 -->
    








<div class="container" style="padding-bottom:50px;">

<div class="content row tex2jax_ignore" style="margin-top:0px;">
    <div class="col-sm-3">
        
<div class="row">
    <div class="col-sm-3 sidebar" style="padding: 0px; margin: 0px; overflow: hidden auto;">
        

        <div class="toc toc-checker" style="display: block;">
            <div class="row">
                <div class="col-xs-12" style="padding:0;">
                    <div class="row clearfix" style="margin:0;padding:0;border-bottom:solid 1px #ccc;">
                        <div class="pull-left" style="width:75%;">
                            <input type="text" style="margin-left:15px;" id="kw" name="kw" class="input-search" placeholder="검색어를 입력하세요." autocomplete="off">
                            <ul id="search-results" class="dropdown-menu" aria-labelledby="kw" style="display: none;"></ul>
                        </div>
                        <div class="pull-right">
                            
                            <button class="btn btn-xs btn-default find-btn" style="margin-top:12px;">
                                <i class="glyphicon glyphicon-search" title="찾기"></i>
                            </button>
                            <button class="btn btn-xs btn-default menu_link menu-toggle" style="margin-right:20px;margin-top:12px;">
                                <i class="glyphicon glyphicon-menu-hamburger" title="메뉴"></i>
                            </button>
                            
                        </div>
                    </div>
                </div>
            </div>
            <div class="list-group list-group-toc" style="margin:0;">
                <a class="list-group-item " href="https://wikidocs.net/book/2155" style="margin:0;">
                    <span style="white-space:nowrap;overflow:hidden;display:block;" title="딥 러닝을 이용한 자연어 처리 입문">
                        
                            <i class="glyphicon glyphicon-book"></i>
                        
                        <strong>딥 러닝을 이용한 자연어 처리 입문</strong>
                    </span>
                </a>

                
                <a href="javascript:page(21690)" class="list-group-item ">
                    <span style="white-space:nowrap;overflow:hidden;display:block;" title="00. 글쓴이 소개 및 e-mail">
                        <span style="padding-left:0px">
                        
                        00. 글쓴이 소개 및 e-mail
                        </span>
                    </span>
                </a>
                
                <a href="javascript:page(179314)" class="list-group-item ">
                    <span style="white-space:nowrap;overflow:hidden;display:block;" title="00. 비공개 콘텐츠 &amp; E-book 구매 안내">
                        <span style="padding-left:0px">
                        
                        00. 비공개 콘텐츠 &amp; E-book 구매 안내
                        </span>
                    </span>
                </a>
                
                <a href="javascript:page(86768)" class="list-group-item ">
                    <span style="white-space:nowrap;overflow:hidden;display:block;" title="000. Part 1. 기본 과정">
                        <span style="padding-left:0px">
                        
                        000. Part 1. 기본 과정
                        </span>
                    </span>
                </a>
                
                <a href="javascript:page(21667)" class="list-group-item ">
                    <span style="white-space:nowrap;overflow:hidden;display:block;" title="01. 자연어 처리(natural language processing) 준비하기">
                        <span style="padding-left:0px">
                        
                        01. 자연어 처리(natural language processing) 준비하기
                        </span>
                    </span>
                </a>
                
                <a href="javascript:page(50698)" class="list-group-item ">
                    <span style="white-space:nowrap;overflow:hidden;display:block;" title="01-01 아나콘다(Anaconda)와 코랩(Colab)">
                        <span style="padding-left:20px">
                        
                        01-01 아나콘다(Anaconda)와 코랩(Colab)
                        </span>
                    </span>
                </a>
                
                <a href="javascript:page(25280)" class="list-group-item ">
                    <span style="white-space:nowrap;overflow:hidden;display:block;" title="01-02 필요 프레임워크와 라이브러리">
                        <span style="padding-left:20px">
                        
                        01-02 필요 프레임워크와 라이브러리
                        </span>
                    </span>
                </a>
                
                <a href="javascript:page(22488)" class="list-group-item ">
                    <span style="white-space:nowrap;overflow:hidden;display:block;" title="01-03 자연어 처리를 위한 NLTK와 KoNLPy 설치하기">
                        <span style="padding-left:20px">
                        
                        01-03 자연어 처리를 위한 NLTK와 KoNLPy 설치하기
                        </span>
                    </span>
                </a>
                
                <a href="javascript:page(32829)" class="list-group-item ">
                    <span style="white-space:nowrap;overflow:hidden;display:block;" title="01-04 판다스(Pandas) and 넘파이(Numpy) and 맷플롭립(Matplotlib)">
                        <span style="padding-left:20px">
                        
                        01-04 판다스(Pandas) and 넘파이(Numpy) and 맷플롭립(Matplotlib)
                        </span>
                    </span>
                </a>
                
                <a href="javascript:page(31947)" class="list-group-item ">
                    <span style="white-space:nowrap;overflow:hidden;display:block;" title="01-05 머신 러닝 워크플로우(Machine Learning Workflow)">
                        <span style="padding-left:20px">
                        
                        01-05 머신 러닝 워크플로우(Machine Learning Workflow)
                        </span>
                    </span>
                </a>
                
                <a href="javascript:page(21694)" class="list-group-item ">
                    <span style="white-space:nowrap;overflow:hidden;display:block;" title="02. 텍스트 전처리(Text preprocessing)">
                        <span style="padding-left:0px">
                        
                        02. 텍스트 전처리(Text preprocessing)
                        </span>
                    </span>
                </a>
                
                <a href="javascript:page(21698)" class="list-group-item ">
                    <span style="white-space:nowrap;overflow:hidden;display:block;" title="02-01 토큰화(Tokenization)">
                        <span style="padding-left:20px">
                        
                        02-01 토큰화(Tokenization)
                        </span>
                    </span>
                </a>
                
                <a href="javascript:page(21693)" class="list-group-item ">
                    <span style="white-space:nowrap;overflow:hidden;display:block;" title="02-02 정제(Cleaning) and 정규화(Normalization)">
                        <span style="padding-left:20px">
                        
                        02-02 정제(Cleaning) and 정규화(Normalization)
                        </span>
                    </span>
                </a>
                
                <a href="javascript:page(21707)" class="list-group-item ">
                    <span style="white-space:nowrap;overflow:hidden;display:block;" title="02-03 어간 추출(Stemming) and 표제어 추출(Lemmatization)">
                        <span style="padding-left:20px">
                        
                        02-03 어간 추출(Stemming) and 표제어 추출(Lemmatization)
                        </span>
                    </span>
                </a>
                
                <a href="javascript:page(22530)" class="list-group-item ">
                    <span style="white-space:nowrap;overflow:hidden;display:block;" title="02-04 불용어(Stopword)">
                        <span style="padding-left:20px">
                        
                        02-04 불용어(Stopword)
                        </span>
                    </span>
                </a>
                
                <a href="javascript:page(21703)" class="list-group-item ">
                    <span style="white-space:nowrap;overflow:hidden;display:block;" title="02-05 정규 표현식(Regular Expression)">
                        <span style="padding-left:20px">
                        
                        02-05 정규 표현식(Regular Expression)
                        </span>
                    </span>
                </a>
                
                <a href="javascript:page(31766)" class="list-group-item ">
                    <span style="white-space:nowrap;overflow:hidden;display:block;" title="02-06 정수 인코딩(Integer Encoding)">
                        <span style="padding-left:20px">
                        
                        02-06 정수 인코딩(Integer Encoding)
                        </span>
                    </span>
                </a>
                
                <a href="javascript:page(83544)" class="list-group-item ">
                    <span style="white-space:nowrap;overflow:hidden;display:block;" title="02-07 패딩(Padding)">
                        <span style="padding-left:20px">
                        
                        02-07 패딩(Padding)
                        </span>
                    </span>
                </a>
                
                <a href="javascript:page(22647)" class="list-group-item ">
                    <span style="white-space:nowrap;overflow:hidden;display:block;" title="02-08 원-핫 인코딩(One-Hot Encoding)">
                        <span style="padding-left:20px">
                        
                        02-08 원-핫 인코딩(One-Hot Encoding)
                        </span>
                    </span>
                </a>
                
                <a href="javascript:page(33274)" class="list-group-item ">
                    <span style="white-space:nowrap;overflow:hidden;display:block;" title="02-09 데이터의 분리(Splitting Data)">
                        <span style="padding-left:20px">
                        
                        02-09 데이터의 분리(Splitting Data)
                        </span>
                    </span>
                </a>
                
                <a href="javascript:page(92961)" class="list-group-item ">
                    <span style="white-space:nowrap;overflow:hidden;display:block;" title="02-10 한국어 전처리 패키지(Text Preprocessing Tools for Korean Text)">
                        <span style="padding-left:20px">
                        
                        02-10 한국어 전처리 패키지(Text Preprocessing Tools for Korean Text)
                        </span>
                    </span>
                </a>
                
                <a href="javascript:page(21695)" class="list-group-item ">
                    <span style="white-space:nowrap;overflow:hidden;display:block;" title="03. 언어 모델(Language Model)">
                        <span style="padding-left:0px">
                        
                        03. 언어 모델(Language Model)
                        </span>
                    </span>
                </a>
                
                <a href="javascript:page(21668)" class="list-group-item ">
                    <span style="white-space:nowrap;overflow:hidden;display:block;" title="03-01 언어 모델(Language Model)이란?">
                        <span style="padding-left:20px">
                        
                        03-01 언어 모델(Language Model)이란?
                        </span>
                    </span>
                </a>
                
                <a href="javascript:page(21687)" class="list-group-item ">
                    <span style="white-space:nowrap;overflow:hidden;display:block;" title="03-02 통계적 언어 모델(Statistical Language Model, SLM)">
                        <span style="padding-left:20px">
                        
                        03-02 통계적 언어 모델(Statistical Language Model, SLM)
                        </span>
                    </span>
                </a>
                
                <a href="javascript:page(21692)" class="list-group-item ">
                    <span style="white-space:nowrap;overflow:hidden;display:block;" title="03-03 N-gram 언어 모델(N-gram Language Model)">
                        <span style="padding-left:20px">
                        
                        03-03 N-gram 언어 모델(N-gram Language Model)
                        </span>
                    </span>
                </a>
                
                <a href="javascript:page(22533)" class="list-group-item ">
                    <span style="white-space:nowrap;overflow:hidden;display:block;" title="03-04 한국어에서의 언어 모델(Language Model for Korean Sentences)">
                        <span style="padding-left:20px">
                        
                        03-04 한국어에서의 언어 모델(Language Model for Korean Sentences)
                        </span>
                    </span>
                </a>
                
                <a href="javascript:page(21697)" class="list-group-item ">
                    <span style="white-space:nowrap;overflow:hidden;display:block;" title="03-05 펄플렉서티(Perplexity, PPL)">
                        <span style="padding-left:20px">
                        
                        03-05 펄플렉서티(Perplexity, PPL)
                        </span>
                    </span>
                </a>
                
                <a href="javascript:page(21681)" class="list-group-item ">
                    <span style="white-space:nowrap;overflow:hidden;display:block;" title="03-06 조건부 확률(Conditional Probability)">
                        <span style="padding-left:20px">
                        
                        03-06 조건부 확률(Conditional Probability)
                        </span>
                    </span>
                </a>
                
                <a href="javascript:page(24557)" class="list-group-item ">
                    <span style="white-space:nowrap;overflow:hidden;display:block;" title="04. 카운트 기반의 단어 표현(Count based word Representation)">
                        <span style="padding-left:0px">
                        
                        04. 카운트 기반의 단어 표현(Count based word Representation)
                        </span>
                    </span>
                </a>
                
                <a href="javascript:page(31767)" class="list-group-item ">
                    <span style="white-space:nowrap;overflow:hidden;display:block;" title="04-01 다양한 단어의 표현 방법">
                        <span style="padding-left:20px">
                        
                        04-01 다양한 단어의 표현 방법
                        </span>
                    </span>
                </a>
                
                <a href="javascript:page(22650)" class="list-group-item ">
                    <span style="white-space:nowrap;overflow:hidden;display:block;" title="04-02 Bag of Words(BoW)">
                        <span style="padding-left:20px">
                        
                        04-02 Bag of Words(BoW)
                        </span>
                    </span>
                </a>
                
                <a href="javascript:page(24559)" class="list-group-item ">
                    <span style="white-space:nowrap;overflow:hidden;display:block;" title="04-03 문서 단어 행렬(Document-Term Matrix, DTM)">
                        <span style="padding-left:20px">
                        
                        04-03 문서 단어 행렬(Document-Term Matrix, DTM)
                        </span>
                    </span>
                </a>
                
                <a href="javascript:page(31698)" class="list-group-item ">
                    <span style="white-space:nowrap;overflow:hidden;display:block;" title="04-04 TF-IDF(Term Frequency-Inverse Document Frequency)">
                        <span style="padding-left:20px">
                        
                        04-04 TF-IDF(Term Frequency-Inverse Document Frequency)
                        </span>
                    </span>
                </a>
                
                <a href="javascript:page(24602)" class="list-group-item ">
                    <span style="white-space:nowrap;overflow:hidden;display:block;" title="05. 벡터의 유사도(Vector Similarity)">
                        <span style="padding-left:0px">
                        
                        05. 벡터의 유사도(Vector Similarity)
                        </span>
                    </span>
                </a>
                
                <a href="javascript:page(24603)" class="list-group-item ">
                    <span style="white-space:nowrap;overflow:hidden;display:block;" title="05-01 코사인 유사도(Cosine Similarity)">
                        <span style="padding-left:20px">
                        
                        05-01 코사인 유사도(Cosine Similarity)
                        </span>
                    </span>
                </a>
                
                <a href="javascript:page(24654)" class="list-group-item ">
                    <span style="white-space:nowrap;overflow:hidden;display:block;" title="05-02 여러가지 유사도 기법">
                        <span style="padding-left:20px">
                        
                        05-02 여러가지 유사도 기법
                        </span>
                    </span>
                </a>
                
                <a href="javascript:page(21669)" class="list-group-item ">
                    <span style="white-space:nowrap;overflow:hidden;display:block;" title="06. 머신 러닝(Machine Learning) 개요">
                        <span style="padding-left:0px">
                        
                        06. 머신 러닝(Machine Learning) 개요
                        </span>
                    </span>
                </a>
                
                <a href="javascript:page(21679)" class="list-group-item ">
                    <span style="white-space:nowrap;overflow:hidden;display:block;" title="06-01 머신 러닝이란(What is Machine Learning?)">
                        <span style="padding-left:20px">
                        
                        06-01 머신 러닝이란(What is Machine Learning?)
                        </span>
                    </span>
                </a>
                
                <a href="javascript:page(32012)" class="list-group-item ">
                    <span style="white-space:nowrap;overflow:hidden;display:block;" title="06-02 머신 러닝 훑어보기">
                        <span style="padding-left:20px">
                        
                        06-02 머신 러닝 훑어보기
                        </span>
                    </span>
                </a>
                
                <a href="javascript:page(21670)" class="list-group-item ">
                    <span style="white-space:nowrap;overflow:hidden;display:block;" title="06-03 선형 회귀(Linear Regression)">
                        <span style="padding-left:20px">
                        
                        06-03 선형 회귀(Linear Regression)
                        </span>
                    </span>
                </a>
                
                <a href="javascript:page(111472)" class="list-group-item ">
                    <span style="white-space:nowrap;overflow:hidden;display:block;" title="06-04 자동 미분과 선형 회귀 실습">
                        <span style="padding-left:20px">
                        
                        06-04 자동 미분과 선형 회귀 실습
                        </span>
                    </span>
                </a>
                
                <a href="javascript:page(22881)" class="list-group-item ">
                    <span style="white-space:nowrap;overflow:hidden;display:block;" title="06-05 로지스틱 회귀(Logistic Regression)">
                        <span style="padding-left:20px">
                        
                        06-05 로지스틱 회귀(Logistic Regression)
                        </span>
                    </span>
                </a>
                
                <a href="javascript:page(111476)" class="list-group-item ">
                    <span style="white-space:nowrap;overflow:hidden;display:block;" title="06-06 로지스틱 회귀 실습">
                        <span style="padding-left:20px">
                        
                        06-06 로지스틱 회귀 실습
                        </span>
                    </span>
                </a>
                
                <a href="javascript:page(35821)" class="list-group-item ">
                    <span style="white-space:nowrap;overflow:hidden;display:block;" title="06-07 다중 입력에 대한 실습">
                        <span style="padding-left:20px">
                        
                        06-07 다중 입력에 대한 실습
                        </span>
                    </span>
                </a>
                
                <a href="javascript:page(37001)" class="list-group-item ">
                    <span style="white-space:nowrap;overflow:hidden;display:block;" title="06-08 벡터와 행렬 연산">
                        <span style="padding-left:20px">
                        
                        06-08 벡터와 행렬 연산
                        </span>
                    </span>
                </a>
                
                <a href="javascript:page(35476)" class="list-group-item ">
                    <span style="white-space:nowrap;overflow:hidden;display:block;" title="06-09 소프트맥스 회귀(Softmax Regression)">
                        <span style="padding-left:20px">
                        
                        06-09 소프트맥스 회귀(Softmax Regression)
                        </span>
                    </span>
                </a>
                
                <a href="javascript:page(157265)" class="list-group-item ">
                    <span style="white-space:nowrap;overflow:hidden;display:block;" title="06-10 소프트맥스 회귀 실습">
                        <span style="padding-left:20px">
                        
                        06-10 소프트맥스 회귀 실습
                        </span>
                    </span>
                </a>
                
                <a href="javascript:page(22882)" class="list-group-item ">
                    <span style="white-space:nowrap;overflow:hidden;display:block;" title="07. 딥 러닝(Deep Learning) 개요">
                        <span style="padding-left:0px">
                        
                        07. 딥 러닝(Deep Learning) 개요
                        </span>
                    </span>
                </a>
                
                <a href="javascript:page(24958)" class="list-group-item ">
                    <span style="white-space:nowrap;overflow:hidden;display:block;" title="07-01 퍼셉트론(Perceptron)">
                        <span style="padding-left:20px">
                        
                        07-01 퍼셉트론(Perceptron)
                        </span>
                    </span>
                </a>
                
                <a href="javascript:page(24987)" class="list-group-item ">
                    <span style="white-space:nowrap;overflow:hidden;display:block;" title="07-02 인공 신경망(Artificial Neural Network) 훑어보기">
                        <span style="padding-left:20px">
                        
                        07-02 인공 신경망(Artificial Neural Network) 훑어보기
                        </span>
                    </span>
                </a>
                
                <a href="javascript:page(150781)" class="list-group-item ">
                    <span style="white-space:nowrap;overflow:hidden;display:block;" title="07-03 행렬곱으로 이해하는 신경망">
                        <span style="padding-left:20px">
                        
                        07-03 행렬곱으로 이해하는 신경망
                        </span>
                    </span>
                </a>
                
                <a href="javascript:page(36033)" class="list-group-item ">
                    <span style="white-space:nowrap;overflow:hidden;display:block;" title="07-04 딥 러닝의 학습 방법">
                        <span style="padding-left:20px">
                        
                        07-04 딥 러닝의 학습 방법
                        </span>
                    </span>
                </a>
                
                <a href="javascript:page(37406)" class="list-group-item ">
                    <span style="white-space:nowrap;overflow:hidden;display:block;" title="07-05 역전파(BackPropagation) 이해하기">
                        <span style="padding-left:20px">
                        
                        07-05 역전파(BackPropagation) 이해하기
                        </span>
                    </span>
                </a>
                
                <a href="javascript:page(61374)" class="list-group-item ">
                    <span style="white-space:nowrap;overflow:hidden;display:block;" title="07-06 과적합(Overfitting)을 막는 방법들">
                        <span style="padding-left:20px">
                        
                        07-06 과적합(Overfitting)을 막는 방법들
                        </span>
                    </span>
                </a>
                
                <a href="javascript:page(61375)" class="list-group-item ">
                    <span style="white-space:nowrap;overflow:hidden;display:block;" title="07-07 기울기 소실(Gradient Vanishing)과 폭주(Exploding)">
                        <span style="padding-left:20px">
                        
                        07-07 기울기 소실(Gradient Vanishing)과 폭주(Exploding)
                        </span>
                    </span>
                </a>
                
                <a href="javascript:page(32105)" class="list-group-item ">
                    <span style="white-space:nowrap;overflow:hidden;display:block;" title="07-08 케라스(Keras) 훑어보기">
                        <span style="padding-left:20px">
                        
                        07-08 케라스(Keras) 훑어보기
                        </span>
                    </span>
                </a>
                
                <a href="javascript:page(38861)" class="list-group-item ">
                    <span style="white-space:nowrap;overflow:hidden;display:block;" title="07-09 케라스의 함수형 API(Keras Functional API)">
                        <span style="padding-left:20px">
                        
                        07-09 케라스의 함수형 API(Keras Functional API)
                        </span>
                    </span>
                </a>
                
                <a href="javascript:page(106897)" class="list-group-item ">
                    <span style="white-space:nowrap;overflow:hidden;display:block;" title="07-10 케라스 서브클래싱 API(Keras Subclassing API)">
                        <span style="padding-left:20px">
                        
                        07-10 케라스 서브클래싱 API(Keras Subclassing API)
                        </span>
                    </span>
                </a>
                
                <a href="javascript:page(49071)" class="list-group-item ">
                    <span style="white-space:nowrap;overflow:hidden;display:block;" title="07-11 다층 퍼셉트론(MultiLayer Perceptron, MLP)으로 텍스트 분류하기">
                        <span style="padding-left:20px">
                        
                        07-11 다층 퍼셉트론(MultiLayer Perceptron, MLP)으로 텍스트 분류하기
                        </span>
                    </span>
                </a>
                
                <a href="javascript:page(45609)" class="list-group-item ">
                    <span style="white-space:nowrap;overflow:hidden;display:block;" title="07-12 피드 포워드 신경망 언어 모델(Neural Network Language Model, NNLM)">
                        <span style="padding-left:20px">
                        
                        07-12 피드 포워드 신경망 언어 모델(Neural Network Language Model, NNLM)
                        </span>
                    </span>
                </a>
                
                <a href="javascript:page(48558)" class="list-group-item ">
                    <span style="white-space:nowrap;overflow:hidden;display:block;" title="08. 순환 신경망(Recurrent Neural Network)">
                        <span style="padding-left:0px">
                        
                        08. 순환 신경망(Recurrent Neural Network)
                        </span>
                    </span>
                </a>
                
                <a href="javascript:page(22886)" class="list-group-item ">
                    <span style="white-space:nowrap;overflow:hidden;display:block;" title="08-01 순환 신경망(Recurrent Neural Network, RNN)">
                        <span style="padding-left:20px">
                        
                        08-01 순환 신경망(Recurrent Neural Network, RNN)
                        </span>
                    </span>
                </a>
                
                <a href="javascript:page(22888)" class="list-group-item ">
                    <span style="white-space:nowrap;overflow:hidden;display:block;" title="08-02 장단기 메모리(Long Short-Term Memory, LSTM)">
                        <span style="padding-left:20px">
                        
                        08-02 장단기 메모리(Long Short-Term Memory, LSTM)
                        </span>
                    </span>
                </a>
                
                <a href="javascript:page(22889)" class="list-group-item ">
                    <span style="white-space:nowrap;overflow:hidden;display:block;" title="08-03 게이트 순환 유닛(Gated Recurrent Unit, GRU)">
                        <span style="padding-left:20px">
                        
                        08-03 게이트 순환 유닛(Gated Recurrent Unit, GRU)
                        </span>
                    </span>
                </a>
                
                <a href="javascript:page(106473)" class="list-group-item ">
                    <span style="white-space:nowrap;overflow:hidden;display:block;" title="08-04 케라스의 SimpleRNN과 LSTM 이해하기">
                        <span style="padding-left:20px">
                        
                        08-04 케라스의 SimpleRNN과 LSTM 이해하기
                        </span>
                    </span>
                </a>
                
                <a href="javascript:page(46496)" class="list-group-item ">
                    <span style="white-space:nowrap;overflow:hidden;display:block;" title="08-05 RNN 언어 모델(Recurrent Neural Network Language Model, RNNLM)">
                        <span style="padding-left:20px">
                        
                        08-05 RNN 언어 모델(Recurrent Neural Network Language Model, RNNLM)
                        </span>
                    </span>
                </a>
                
                <a href="javascript:page(45101)" class="list-group-item ">
                    <span style="white-space:nowrap;overflow:hidden;display:block;" title="08-06 RNN을 이용한 텍스트 생성(Text Generation using RNN)">
                        <span style="padding-left:20px">
                        
                        08-06 RNN을 이용한 텍스트 생성(Text Generation using RNN)
                        </span>
                    </span>
                </a>
                
                <a href="javascript:page(48649)" class="list-group-item ">
                    <span style="white-space:nowrap;overflow:hidden;display:block;" title="08-07 문자 단위 RNN(Char RNN)">
                        <span style="padding-left:20px">
                        
                        08-07 문자 단위 RNN(Char RNN)
                        </span>
                    </span>
                </a>
                
                <a href="javascript:page(22644)" class="list-group-item ">
                    <span style="white-space:nowrap;overflow:hidden;display:block;" title="09. 워드 임베딩(Word Embedding)">
                        <span style="padding-left:0px">
                        
                        09. 워드 임베딩(Word Embedding)
                        </span>
                    </span>
                </a>
                
                <a href="javascript:page(33520)" class="list-group-item ">
                    <span style="white-space:nowrap;overflow:hidden;display:block;" title="09-01 워드 임베딩(Word Embedding)">
                        <span style="padding-left:20px">
                        
                        09-01 워드 임베딩(Word Embedding)
                        </span>
                    </span>
                </a>
                
                <a href="javascript:page(22660)" class="list-group-item ">
                    <span style="white-space:nowrap;overflow:hidden;display:block;" title="09-02 워드투벡터(Word2Vec)">
                        <span style="padding-left:20px">
                        
                        09-02 워드투벡터(Word2Vec)
                        </span>
                    </span>
                </a>
                
                <a href="javascript:page(50739)" class="list-group-item ">
                    <span style="white-space:nowrap;overflow:hidden;display:block;" title="09-03 영어/한국어 Word2Vec 실습">
                        <span style="padding-left:20px">
                        
                        09-03 영어/한국어 Word2Vec 실습
                        </span>
                    </span>
                </a>
                
                <a href="javascript:page(69141)" class="list-group-item ">
                    <span style="white-space:nowrap;overflow:hidden;display:block;" title="09-04 네거티브 샘플링을 이용한 Word2Vec 구현(Skip-Gram with Negative Sampling, SGNS)">
                        <span style="padding-left:20px">
                        
                        09-04 네거티브 샘플링을 이용한 Word2Vec 구현(Skip-Gram with Negative Sampling, SGNS)
                        </span>
                    </span>
                </a>
                
                <a href="javascript:page(22885)" class="list-group-item ">
                    <span style="white-space:nowrap;overflow:hidden;display:block;" title="09-05) 글로브(GloVe)">
                        <span style="padding-left:20px">
                        
                        09-05) 글로브(GloVe)
                        </span>
                    </span>
                </a>
                
                <a href="javascript:page(22883)" class="list-group-item ">
                    <span style="white-space:nowrap;overflow:hidden;display:block;" title="09-06 패스트텍스트(FastText)">
                        <span style="padding-left:20px">
                        
                        09-06 패스트텍스트(FastText)
                        </span>
                    </span>
                </a>
                
                <a href="javascript:page(121755)" class="list-group-item ">
                    <span style="white-space:nowrap;overflow:hidden;display:block;" title="09-07 자모 단위 한국어 FastText 학습하기">
                        <span style="padding-left:20px">
                        
                        09-07 자모 단위 한국어 FastText 학습하기
                        </span>
                    </span>
                </a>
                
                <a href="javascript:page(33793)" class="list-group-item ">
                    <span style="white-space:nowrap;overflow:hidden;display:block;" title="09-08 사전 훈련된 워드 임베딩(Pre-trained Word Embedding)">
                        <span style="padding-left:20px">
                        
                        09-08 사전 훈련된 워드 임베딩(Pre-trained Word Embedding)
                        </span>
                    </span>
                </a>
                
                <a href="javascript:page(33930)" class="list-group-item ">
                    <span style="white-space:nowrap;overflow:hidden;display:block;" title="09-09 엘모(Embeddings from Language Model, ELMo)">
                        <span style="padding-left:20px">
                        
                        09-09 엘모(Embeddings from Language Model, ELMo)
                        </span>
                    </span>
                </a>
                
                <a href="javascript:page(50704)" class="list-group-item ">
                    <span style="white-space:nowrap;overflow:hidden;display:block;" title="09-10 임베딩 벡터의 시각화(Embedding Visualization)">
                        <span style="padding-left:20px">
                        
                        09-10 임베딩 벡터의 시각화(Embedding Visualization)
                        </span>
                    </span>
                </a>
                
                <a href="javascript:page(102705)" class="list-group-item ">
                    <span style="white-space:nowrap;overflow:hidden;display:block;" title="09-11 문서 벡터를 이용한 추천 시스템(Recommendation System using Document Embedding)">
                        <span style="padding-left:20px">
                        
                        09-11 문서 벡터를 이용한 추천 시스템(Recommendation System using Document Embedding)
                        </span>
                    </span>
                </a>
                
                <a href="javascript:page(103496)" class="list-group-item ">
                    <span style="white-space:nowrap;overflow:hidden;display:block;" title="09-12 문서 임베딩 : 워드 임베딩의 평균(Average Word Embedding)">
                        <span style="padding-left:20px">
                        
                        09-12 문서 임베딩 : 워드 임베딩의 평균(Average Word Embedding)
                        </span>
                    </span>
                </a>
                
                <a href="javascript:page(155356)" class="list-group-item ">
                    <span style="white-space:nowrap;overflow:hidden;display:block;" title="09-13 Doc2Vec으로 공시 사업보고서 유사도 계산하기">
                        <span style="padding-left:20px">
                        
                        09-13 Doc2Vec으로 공시 사업보고서 유사도 계산하기
                        </span>
                    </span>
                </a>
                
                <a href="javascript:page(152606)" class="list-group-item ">
                    <span style="white-space:nowrap;overflow:hidden;display:block;" title="09-14 실전! 한국어 위키피디아로 Word2Vec 학습하기">
                        <span style="padding-left:20px">
                        
                        09-14 실전! 한국어 위키피디아로 Word2Vec 학습하기
                        </span>
                    </span>
                </a>
                
                <a href="javascript:page(22891)" class="list-group-item ">
                    <span style="white-space:nowrap;overflow:hidden;display:block;" title="10. RNN을 이용한 텍스트 분류(Text Classification)">
                        <span style="padding-left:0px">
                        
                        10. RNN을 이용한 텍스트 분류(Text Classification)
                        </span>
                    </span>
                </a>
                
                <a href="javascript:page(24873)" class="list-group-item ">
                    <span style="white-space:nowrap;overflow:hidden;display:block;" title="10-01 케라스를 이용한 텍스트 분류 개요(Text Classification using Keras)">
                        <span style="padding-left:20px">
                        
                        10-01 케라스를 이용한 텍스트 분류 개요(Text Classification using Keras)
                        </span>
                    </span>
                </a>
                
                <a href="javascript:page(22894)" class="list-group-item ">
                    <span style="white-space:nowrap;overflow:hidden;display:block;" title="10-02 스팸 메일 분류하기(Spam Detection)">
                        <span style="padding-left:20px">
                        
                        10-02 스팸 메일 분류하기(Spam Detection)
                        </span>
                    </span>
                </a>
                
                <a href="javascript:page(22933)" class="list-group-item ">
                    <span style="white-space:nowrap;overflow:hidden;display:block;" title="10-03 로이터 뉴스 분류하기(Reuters News Classification)">
                        <span style="padding-left:20px">
                        
                        10-03 로이터 뉴스 분류하기(Reuters News Classification)
                        </span>
                    </span>
                </a>
                
                <a href="javascript:page(24586)" class="list-group-item ">
                    <span style="white-space:nowrap;overflow:hidden;display:block;" title="10-04 IMDB 리뷰 감성 분류하기(IMDB Movie Review Sentiment Analysis)">
                        <span style="padding-left:20px">
                        
                        10-04 IMDB 리뷰 감성 분류하기(IMDB Movie Review Sentiment Analysis)
                        </span>
                    </span>
                </a>
                
                <a href="javascript:page(22892)" class="list-group-item ">
                    <span style="white-space:nowrap;overflow:hidden;display:block;" title="10-05 나이브 베이즈 분류기(Naive Bayes Classifier)">
                        <span style="padding-left:20px">
                        
                        10-05 나이브 베이즈 분류기(Naive Bayes Classifier)
                        </span>
                    </span>
                </a>
                
                <a href="javascript:page(44249)" class="list-group-item ">
                    <span style="white-space:nowrap;overflow:hidden;display:block;" title="10-06 네이버 영화 리뷰 감성 분류하기(Naver Movie Review Sentiment Analysis)">
                        <span style="padding-left:20px">
                        
                        10-06 네이버 영화 리뷰 감성 분류하기(Naver Movie Review Sentiment Analysis)
                        </span>
                    </span>
                </a>
                
                <a href="javascript:page(94600)" class="list-group-item ">
                    <span style="white-space:nowrap;overflow:hidden;display:block;" title="10-07 네이버 쇼핑 리뷰 감성 분류하기(Naver Shopping Review Sentiment Analysis)">
                        <span style="padding-left:20px">
                        
                        10-07 네이버 쇼핑 리뷰 감성 분류하기(Naver Shopping Review Sentiment Analysis)
                        </span>
                    </span>
                </a>
                
                <a href="javascript:page(94748)" class="list-group-item ">
                    <span style="white-space:nowrap;overflow:hidden;display:block;" title="10-08 BiLSTM으로 한국어 스팀 리뷰 감성 분류하기">
                        <span style="padding-left:20px">
                        
                        10-08 BiLSTM으로 한국어 스팀 리뷰 감성 분류하기
                        </span>
                    </span>
                </a>
                
                <a href="javascript:page(64065)" class="list-group-item ">
                    <span style="white-space:nowrap;overflow:hidden;display:block;" title="11. NLP를 위한 합성곱 신경망(Convolution Neural Network)">
                        <span style="padding-left:0px">
                        
                        11. NLP를 위한 합성곱 신경망(Convolution Neural Network)
                        </span>
                    </span>
                </a>
                
                <a href="javascript:page(64066)" class="list-group-item ">
                    <span style="white-space:nowrap;overflow:hidden;display:block;" title="11-01 합성곱 신경망(Convolution Neural Network)">
                        <span style="padding-left:20px">
                        
                        11-01 합성곱 신경망(Convolution Neural Network)
                        </span>
                    </span>
                </a>
                
                <a href="javascript:page(80437)" class="list-group-item ">
                    <span style="white-space:nowrap;overflow:hidden;display:block;" title="11-02 자연어 처리를 위한 1D CNN(1D Convolutional Neural Networks)">
                        <span style="padding-left:20px">
                        
                        11-02 자연어 처리를 위한 1D CNN(1D Convolutional Neural Networks)
                        </span>
                    </span>
                </a>
                
                <a href="javascript:page(80783)" class="list-group-item ">
                    <span style="white-space:nowrap;overflow:hidden;display:block;" title="11-03 1D CNN으로 IMDB 리뷰 분류하기">
                        <span style="padding-left:20px">
                        
                        11-03 1D CNN으로 IMDB 리뷰 분류하기
                        </span>
                    </span>
                </a>
                
                <a href="javascript:page(80787)" class="list-group-item ">
                    <span style="white-space:nowrap;overflow:hidden;display:block;" title="11-04 1D CNN으로 스팸 메일 분류하기">
                        <span style="padding-left:20px">
                        
                        11-04 1D CNN으로 스팸 메일 분류하기
                        </span>
                    </span>
                </a>
                
                <a href="javascript:page(85337)" class="list-group-item ">
                    <span style="white-space:nowrap;overflow:hidden;display:block;" title="11-05 Multi-Kernel 1D CNN으로 네이버 영화 리뷰 분류하기">
                        <span style="padding-left:20px">
                        
                        11-05 Multi-Kernel 1D CNN으로 네이버 영화 리뷰 분류하기
                        </span>
                    </span>
                </a>
                
                <a href="javascript:page(86083)" class="list-group-item ">
                    <span style="white-space:nowrap;overflow:hidden;display:block;" title="11-06 사전 훈련된 워드 임베딩을 이용한 의도 분류(Intent Classification using Pre-trained Word Embedding)">
                        <span style="padding-left:20px">
                        
                        11-06 사전 훈련된 워드 임베딩을 이용한 의도 분류(Intent Classification using Pre-trained Word Embedding)
                        </span>
                    </span>
                </a>
                
                <a href="javascript:page(116193)" class="list-group-item ">
                    <span style="white-space:nowrap;overflow:hidden;display:block;" title="11-07 문자 임베딩(Character Embedding)">
                        <span style="padding-left:20px">
                        
                        11-07 문자 임베딩(Character Embedding)
                        </span>
                    </span>
                </a>
                
                <a href="javascript:page(25042)" class="list-group-item ">
                    <span style="white-space:nowrap;overflow:hidden;display:block;" title="12. 태깅 작업(Tagging Task)">
                        <span style="padding-left:0px">
                        
                        12. 태깅 작업(Tagging Task)
                        </span>
                    </span>
                </a>
                
                <a href="javascript:page(33805)" class="list-group-item ">
                    <span style="white-space:nowrap;overflow:hidden;display:block;" title="12-01 케라스를 이용한 태깅 작업 개요(Tagging Task using Keras)">
                        <span style="padding-left:20px">
                        
                        12-01 케라스를 이용한 태깅 작업 개요(Tagging Task using Keras)
                        </span>
                    </span>
                </a>
                
                <a href="javascript:page(33532)" class="list-group-item ">
                    <span style="white-space:nowrap;overflow:hidden;display:block;" title="12-02 양방향 LSTM를 이용한 품사 태깅(Part-of-speech Tagging using Bi-LSTM)">
                        <span style="padding-left:20px">
                        
                        12-02 양방향 LSTM를 이용한 품사 태깅(Part-of-speech Tagging using Bi-LSTM)
                        </span>
                    </span>
                </a>
                
                <a href="javascript:page(30682)" class="list-group-item ">
                    <span style="white-space:nowrap;overflow:hidden;display:block;" title="12-03 개체명 인식(Named Entity Recognition)">
                        <span style="padding-left:20px">
                        
                        12-03 개체명 인식(Named Entity Recognition)
                        </span>
                    </span>
                </a>
                
                <a href="javascript:page(24682)" class="list-group-item ">
                    <span style="white-space:nowrap;overflow:hidden;display:block;" title="12-04 개체명 인식의 BIO 표현 이해하기">
                        <span style="padding-left:20px">
                        
                        12-04 개체명 인식의 BIO 표현 이해하기
                        </span>
                    </span>
                </a>
                
                <a href="javascript:page(147219)" class="list-group-item ">
                    <span style="white-space:nowrap;overflow:hidden;display:block;" title="12-05 BiLSTM을 이용한 개체명 인식(Named Entity Recognition, NER)">
                        <span style="padding-left:20px">
                        
                        12-05 BiLSTM을 이용한 개체명 인식(Named Entity Recognition, NER)
                        </span>
                    </span>
                </a>
                
                <a href="javascript:page(147234)" class="list-group-item ">
                    <span style="white-space:nowrap;overflow:hidden;display:block;" title="12-06 BiLSTM-CRF를 이용한 개체명 인식">
                        <span style="padding-left:20px">
                        
                        12-06 BiLSTM-CRF를 이용한 개체명 인식
                        </span>
                    </span>
                </a>
                
                <a href="javascript:page(147299)" class="list-group-item ">
                    <span style="white-space:nowrap;overflow:hidden;display:block;" title="12-07 문자 임베딩(Character Embedding) 활용하기">
                        <span style="padding-left:20px">
                        
                        12-07 문자 임베딩(Character Embedding) 활용하기
                        </span>
                    </span>
                </a>
                
                <a href="javascript:page(147211)" class="list-group-item ">
                    <span style="white-space:nowrap;overflow:hidden;display:block;" title="99) ===텐서플로우 1버전 코드 (구버전)===">
                        <span style="padding-left:20px">
                        
                        99) ===텐서플로우 1버전 코드 (구버전)===
                        </span>
                    </span>
                </a>
                
                <a href="javascript:page(97519)" class="list-group-item ">
                    <span style="white-space:nowrap;overflow:hidden;display:block;" title="12-01 양방향 LSTM을 이용한 개체명 인식(Named Entity Recognition using Bi-LSTM)">
                        <span style="padding-left:40px">
                        
                        12-01 양방향 LSTM을 이용한 개체명 인식(Named Entity Recognition using Bi-LSTM)
                        </span>
                    </span>
                </a>
                
                <a href="javascript:page(34156)" class="list-group-item ">
                    <span style="white-space:nowrap;overflow:hidden;display:block;" title="12-02 양방향 LSTM과 CRF(Bidirectional LSTM + CRF)">
                        <span style="padding-left:40px">
                        
                        12-02 양방향 LSTM과 CRF(Bidirectional LSTM + CRF)
                        </span>
                    </span>
                </a>
                
                <a href="javascript:page(95838)" class="list-group-item ">
                    <span style="white-space:nowrap;overflow:hidden;display:block;" title="12-03 양방향 LSTM과 문자 임베딩(Char embedding)">
                        <span style="padding-left:40px">
                        
                        12-03 양방향 LSTM과 문자 임베딩(Char embedding)
                        </span>
                    </span>
                </a>
                
                <a href="javascript:page(86769)" class="list-group-item ">
                    <span style="white-space:nowrap;overflow:hidden;display:block;" title="13. Part 2. 심화 과정">
                        <span style="padding-left:0px">
                        
                        13. Part 2. 심화 과정
                        </span>
                    </span>
                </a>
                
                <a href="javascript:page(86649)" class="list-group-item ">
                    <span style="white-space:nowrap;overflow:hidden;display:block;" title="13. 서브워드 토크나이저(Subword Tokenizer)">
                        <span style="padding-left:0px">
                        
                        13. 서브워드 토크나이저(Subword Tokenizer)
                        </span>
                    </span>
                </a>
                
                <a href="javascript:page(22592)" class="list-group-item ">
                    <span style="white-space:nowrap;overflow:hidden;display:block;" title="13-01 바이트 페어 인코딩(Byte Pair Encoding, BPE)">
                        <span style="padding-left:20px">
                        
                        13-01 바이트 페어 인코딩(Byte Pair Encoding, BPE)
                        </span>
                    </span>
                </a>
                
                <a href="javascript:page(86657)" class="list-group-item ">
                    <span style="white-space:nowrap;overflow:hidden;display:block;" title="13-02 센텐스피스(SentencePiece)">
                        <span style="padding-left:20px">
                        
                        13-02 센텐스피스(SentencePiece)
                        </span>
                    </span>
                </a>
                
                <a href="javascript:page(86792)" class="list-group-item ">
                    <span style="white-space:nowrap;overflow:hidden;display:block;" title="13-03 서브워드텍스트인코더(SubwordTextEncoder)">
                        <span style="padding-left:20px">
                        
                        13-03 서브워드텍스트인코더(SubwordTextEncoder)
                        </span>
                    </span>
                </a>
                
                <a href="javascript:page(99893)" class="list-group-item ">
                    <span style="white-space:nowrap;overflow:hidden;display:block;" title="13-04 허깅페이스 토크나이저(Huggingface Tokenizer)">
                        <span style="padding-left:20px">
                        
                        13-04 허깅페이스 토크나이저(Huggingface Tokenizer)
                        </span>
                    </span>
                </a>
                
                <a href="javascript:page(24992)" class="list-group-item ">
                    <span style="white-space:nowrap;overflow:hidden;display:block;" title="14. RNN을 이용한 인코더-디코더">
                        <span style="padding-left:0px">
                        
                        14. RNN을 이용한 인코더-디코더
                        </span>
                    </span>
                </a>
                
                <a href="javascript:page(24996)" class="list-group-item ">
                    <span style="white-space:nowrap;overflow:hidden;display:block;" title="14-01 시퀀스-투-시퀀스(Sequence-to-Sequence, seq2seq)">
                        <span style="padding-left:20px">
                        
                        14-01 시퀀스-투-시퀀스(Sequence-to-Sequence, seq2seq)
                        </span>
                    </span>
                </a>
                
                <a href="javascript:page(86900)" class="list-group-item ">
                    <span style="white-space:nowrap;overflow:hidden;display:block;" title="14-02 Word-Level 번역기 만들기(Neural Machine Translation (seq2seq) Tutorial)">
                        <span style="padding-left:20px">
                        
                        14-02 Word-Level 번역기 만들기(Neural Machine Translation (seq2seq) Tutorial)
                        </span>
                    </span>
                </a>
                
                <a href="javascript:page(31695)" class="list-group-item ">
                    <span style="white-space:nowrap;overflow:hidden;display:block;" title="14-03 BLEU Score(Bilingual Evaluation Understudy Score)">
                        <span style="padding-left:20px">
                        
                        14-03 BLEU Score(Bilingual Evaluation Understudy Score)
                        </span>
                    </span>
                </a>
                
                <a href="javascript:page(48948)" class="list-group-item ">
                    <span style="white-space:nowrap;overflow:hidden;display:block;" title="15. 어텐션 메커니즘 (Attention Mechanism)">
                        <span style="padding-left:0px">
                        
                        15. 어텐션 메커니즘 (Attention Mechanism)
                        </span>
                    </span>
                </a>
                
                <a href="javascript:page(22893)" class="list-group-item ">
                    <span style="white-space:nowrap;overflow:hidden;display:block;" title="15-01 어텐션 메커니즘 (Attention Mechanism)">
                        <span style="padding-left:20px">
                        
                        15-01 어텐션 메커니즘 (Attention Mechanism)
                        </span>
                    </span>
                </a>
                
                <a href="javascript:page(73161)" class="list-group-item ">
                    <span style="white-space:nowrap;overflow:hidden;display:block;" title="15-02 바다나우 어텐션(Bahdanau Attention)">
                        <span style="padding-left:20px">
                        
                        15-02 바다나우 어텐션(Bahdanau Attention)
                        </span>
                    </span>
                </a>
                
                <a href="javascript:page(48920)" class="list-group-item ">
                    <span style="white-space:nowrap;overflow:hidden;display:block;" title="15-03 양방향 LSTM과 어텐션 메커니즘(BiLSTM with Attention mechanism)">
                        <span style="padding-left:20px">
                        
                        15-03 양방향 LSTM과 어텐션 메커니즘(BiLSTM with Attention mechanism)
                        </span>
                    </span>
                </a>
                
                <a href="javascript:page(35596)" class="list-group-item ">
                    <span style="white-space:nowrap;overflow:hidden;display:block;" title="16. 트랜스포머(Transformer)">
                        <span style="padding-left:0px">
                        
                        16. 트랜스포머(Transformer)
                        </span>
                    </span>
                </a>
                
                <a href="javascript:page(31379)" class="list-group-item ">
                    <span style="white-space:nowrap;overflow:hidden;display:block;" title="16-01 트랜스포머(Transformer)">
                        <span style="padding-left:20px">
                        
                        16-01 트랜스포머(Transformer)
                        </span>
                    </span>
                </a>
                
                <a href="javascript:page(89786)" class="list-group-item ">
                    <span style="white-space:nowrap;overflow:hidden;display:block;" title="16-02 트랜스포머를 이용한 한국어 챗봇(Transformer Chatbot Tutorial)">
                        <span style="padding-left:20px">
                        
                        16-02 트랜스포머를 이용한 한국어 챗봇(Transformer Chatbot Tutorial)
                        </span>
                    </span>
                </a>
                
                <a href="javascript:page(103802)" class="list-group-item ">
                    <span style="white-space:nowrap;overflow:hidden;display:block;" title="16-03 셀프 어텐션을 이용한 텍스트 분류(Multi-head Self Attention for Text Classification)">
                        <span style="padding-left:20px">
                        
                        16-03 셀프 어텐션을 이용한 텍스트 분류(Multi-head Self Attention for Text Classification)
                        </span>
                    </span>
                </a>
                
                <a href="javascript:page(109251)" class="list-group-item ">
                    <span style="white-space:nowrap;overflow:hidden;display:block;" title="17. BERT(Bidirectional Encoder Representations from Transformers)">
                        <span style="padding-left:0px">
                        
                        17. BERT(Bidirectional Encoder Representations from Transformers)
                        </span>
                    </span>
                </a>
                
                <a href="javascript:page(108730)" class="list-group-item ">
                    <span style="white-space:nowrap;overflow:hidden;display:block;" title="17-01 NLP에서의 사전 훈련(Pre-training)">
                        <span style="padding-left:20px">
                        
                        17-01 NLP에서의 사전 훈련(Pre-training)
                        </span>
                    </span>
                </a>
                
                <a href="javascript:page(115055)" class="list-group-item ">
                    <span style="white-space:nowrap;overflow:hidden;display:block;" title="17-02 버트(Bidirectional Encoder Representations from Transformers, BERT)">
                        <span style="padding-left:20px">
                        
                        17-02 버트(Bidirectional Encoder Representations from Transformers, BERT)
                        </span>
                    </span>
                </a>
                
                <a href="javascript:page(153992)" class="list-group-item ">
                    <span style="white-space:nowrap;overflow:hidden;display:block;" title="17-03 구글 BERT의 마스크드 언어 모델(Masked Language Model) 실습 ">
                        <span style="padding-left:20px">
                        
                        17-03 구글 BERT의 마스크드 언어 모델(Masked Language Model) 실습 
                        </span>
                    </span>
                </a>
                
                <a href="javascript:page(152922)" class="list-group-item active">
                    <span style="white-space:nowrap;overflow:hidden;display:block;" title="17-04 한국어 BERT의 마스크드 언어 모델(Masked Language Model) 실습">
                        <span style="padding-left:20px">
                        
                        17-04 한국어 BERT의 마스크드 언어 모델(Masked Language Model) 실습
                        </span>
                    </span>
                </a>
                
                <a href="javascript:page(156767)" class="list-group-item ">
                    <span style="white-space:nowrap;overflow:hidden;display:block;" title="17-05 구글 BERT의 다음 문장 예측(Next Sentence Prediction)">
                        <span style="padding-left:20px">
                        
                        17-05 구글 BERT의 다음 문장 예측(Next Sentence Prediction)
                        </span>
                    </span>
                </a>
                
                <a href="javascript:page(156774)" class="list-group-item ">
                    <span style="white-space:nowrap;overflow:hidden;display:block;" title="17-06 한국어 BERT의 다음 문장 예측(Next Sentence Prediction)">
                        <span style="padding-left:20px">
                        
                        17-06 한국어 BERT의 다음 문장 예측(Next Sentence Prediction)
                        </span>
                    </span>
                </a>
                
                <a href="javascript:page(156176)" class="list-group-item ">
                    <span style="white-space:nowrap;overflow:hidden;display:block;" title="17-07 센텐스버트(Sentence BERT, SBERT)">
                        <span style="padding-left:20px">
                        
                        17-07 센텐스버트(Sentence BERT, SBERT)
                        </span>
                    </span>
                </a>
                
                <a href="javascript:page(156772)" class="list-group-item ">
                    <span style="white-space:nowrap;overflow:hidden;display:block;" title="18. 실전! BERT 실습하기">
                        <span style="padding-left:0px">
                        
                        18. 실전! BERT 실습하기
                        </span>
                    </span>
                </a>
                
                <a href="javascript:page(119990)" class="list-group-item ">
                    <span style="white-space:nowrap;overflow:hidden;display:block;" title="18-01 코랩(Colab)에서 TPU 사용하기">
                        <span style="padding-left:20px">
                        
                        18-01 코랩(Colab)에서 TPU 사용하기
                        </span>
                    </span>
                </a>
                
                <a href="javascript:page(158085)" class="list-group-item ">
                    <span style="white-space:nowrap;overflow:hidden;display:block;" title="18-02 transformers의 모델 클래스 불러오기">
                        <span style="padding-left:20px">
                        
                        18-02 transformers의 모델 클래스 불러오기
                        </span>
                    </span>
                </a>
                
                <a href="javascript:page(106446)" class="list-group-item ">
                    <span style="white-space:nowrap;overflow:hidden;display:block;" title="18-03 KoBERT를 이용한 네이버 영화 리뷰 분류하기">
                        <span style="padding-left:20px">
                        
                        18-03 KoBERT를 이용한 네이버 영화 리뷰 분류하기
                        </span>
                    </span>
                </a>
                
                <a href="javascript:page(158088)" class="list-group-item ">
                    <span style="white-space:nowrap;overflow:hidden;display:block;" title="18-04 TFBertForSequenceClassification">
                        <span style="padding-left:20px">
                        
                        18-04 TFBertForSequenceClassification
                        </span>
                    </span>
                </a>
                
                <a href="javascript:page(106447)" class="list-group-item ">
                    <span style="white-space:nowrap;overflow:hidden;display:block;" title="18-05 KoBERT를 이용한 KorNLI 풀어보기 (다중 클래스 분류)">
                        <span style="padding-left:20px">
                        
                        18-05 KoBERT를 이용한 KorNLI 풀어보기 (다중 클래스 분류)
                        </span>
                    </span>
                </a>
                
                <a href="javascript:page(106449)" class="list-group-item ">
                    <span style="white-space:nowrap;overflow:hidden;display:block;" title="18-06 KoBERT를 이용한 개체명 인식(Named Entity Recognition)">
                        <span style="padding-left:20px">
                        
                        18-06 KoBERT를 이용한 개체명 인식(Named Entity Recognition)
                        </span>
                    </span>
                </a>
                
                <a href="javascript:page(151138)" class="list-group-item ">
                    <span style="white-space:nowrap;overflow:hidden;display:block;" title="18-07 KoBERT를 이용한 기계 독해(Machine Reading Comprehension)">
                        <span style="padding-left:20px">
                        
                        18-07 KoBERT를 이용한 기계 독해(Machine Reading Comprehension)
                        </span>
                    </span>
                </a>
                
                <a href="javascript:page(154530)" class="list-group-item ">
                    <span style="white-space:nowrap;overflow:hidden;display:block;" title="18-08 BERT의 문장 임베딩(SBERT)을 이용한 한국어 챗봇">
                        <span style="padding-left:20px">
                        
                        18-08 BERT의 문장 임베딩(SBERT)을 이용한 한국어 챗봇
                        </span>
                    </span>
                </a>
                
                <a href="javascript:page(162007)" class="list-group-item ">
                    <span style="white-space:nowrap;overflow:hidden;display:block;" title="18-09 Faiss와 SBERT를 이용한 시맨틱 검색기(Semantic Search)">
                        <span style="padding-left:20px">
                        
                        18-09 Faiss와 SBERT를 이용한 시맨틱 검색기(Semantic Search)
                        </span>
                    </span>
                </a>
                
                <a href="javascript:page(30707)" class="list-group-item ">
                    <span style="white-space:nowrap;overflow:hidden;display:block;" title="19. 토픽 모델링(Topic Modeling)">
                        <span style="padding-left:0px">
                        
                        19. 토픽 모델링(Topic Modeling)
                        </span>
                    </span>
                </a>
                
                <a href="javascript:page(24949)" class="list-group-item ">
                    <span style="white-space:nowrap;overflow:hidden;display:block;" title="19-01 잠재 의미 분석(Latent Semantic Analysis, LSA)">
                        <span style="padding-left:20px">
                        
                        19-01 잠재 의미 분석(Latent Semantic Analysis, LSA)
                        </span>
                    </span>
                </a>
                
                <a href="javascript:page(30708)" class="list-group-item ">
                    <span style="white-space:nowrap;overflow:hidden;display:block;" title="19-02 잠재 디리클레 할당(Latent Dirichlet Allocation, LDA)">
                        <span style="padding-left:20px">
                        
                        19-02 잠재 디리클레 할당(Latent Dirichlet Allocation, LDA)
                        </span>
                    </span>
                </a>
                
                <a href="javascript:page(40710)" class="list-group-item ">
                    <span style="white-space:nowrap;overflow:hidden;display:block;" title="19-03 사이킷런의 잠재 디리클레 할당(LDA) 실습">
                        <span style="padding-left:20px">
                        
                        19-03 사이킷런의 잠재 디리클레 할당(LDA) 실습
                        </span>
                    </span>
                </a>
                
                <a href="javascript:page(159467)" class="list-group-item ">
                    <span style="white-space:nowrap;overflow:hidden;display:block;" title="19-04 BERT를 이용한 키워드 추출 : 키버트(KeyBERT)">
                        <span style="padding-left:20px">
                        
                        19-04 BERT를 이용한 키워드 추출 : 키버트(KeyBERT)
                        </span>
                    </span>
                </a>
                
                <a href="javascript:page(179271)" class="list-group-item ">
                    <span style="white-space:nowrap;overflow:hidden;display:block;" title="19-05 한국어 키버트(Korean KeyBERT)를 이용한 키워드 추출">
                        <span style="padding-left:20px">
                        
                        19-05 한국어 키버트(Korean KeyBERT)를 이용한 키워드 추출
                        </span>
                    </span>
                </a>
                
                <a href="javascript:page(161310)" class="list-group-item ">
                    <span style="white-space:nowrap;overflow:hidden;display:block;" title="19-06 BERT 기반 복합 토픽 모델(Combined Topic Models, CTM)">
                        <span style="padding-left:20px">
                        
                        19-06 BERT 기반 복합 토픽 모델(Combined Topic Models, CTM)
                        </span>
                    </span>
                </a>
                
                <a href="javascript:page(161414)" class="list-group-item ">
                    <span style="white-space:nowrap;overflow:hidden;display:block;" title="19-07 BERT 기반 한국어 복합 토픽 모델(Korean CTM)">
                        <span style="padding-left:20px">
                        
                        19-07 BERT 기반 한국어 복합 토픽 모델(Korean CTM)
                        </span>
                    </span>
                </a>
                
                <a href="javascript:page(162076)" class="list-group-item ">
                    <span style="white-space:nowrap;overflow:hidden;display:block;" title="19-08 버토픽(BERTopic)">
                        <span style="padding-left:20px">
                        
                        19-08 버토픽(BERTopic)
                        </span>
                    </span>
                </a>
                
                <a href="javascript:page(162079)" class="list-group-item ">
                    <span style="white-space:nowrap;overflow:hidden;display:block;" title="19-09 한국어 버토픽(Korean BERTopic)">
                        <span style="padding-left:20px">
                        
                        19-09 한국어 버토픽(Korean BERTopic)
                        </span>
                    </span>
                </a>
                
                <a href="javascript:page(90975)" class="list-group-item ">
                    <span style="white-space:nowrap;overflow:hidden;display:block;" title="20. 텍스트 요약(Text Summarization)">
                        <span style="padding-left:0px">
                        
                        20. 텍스트 요약(Text Summarization)
                        </span>
                    </span>
                </a>
                
                <a href="javascript:page(72820)" class="list-group-item ">
                    <span style="white-space:nowrap;overflow:hidden;display:block;" title="20-01 어텐션을 이용한 텍스트 요약(Text Summarization with Attention mechanism)">
                        <span style="padding-left:20px">
                        
                        20-01 어텐션을 이용한 텍스트 요약(Text Summarization with Attention mechanism)
                        </span>
                    </span>
                </a>
                
                <a href="javascript:page(91051)" class="list-group-item ">
                    <span style="white-space:nowrap;overflow:hidden;display:block;" title="20-02 문장 임베딩 기반 텍스트 랭크(TextRank Based on Sentence Embedding)">
                        <span style="padding-left:20px">
                        
                        20-02 문장 임베딩 기반 텍스트 랭크(TextRank Based on Sentence Embedding)
                        </span>
                    </span>
                </a>
                
                <a href="javascript:page(48251)" class="list-group-item ">
                    <span style="white-space:nowrap;overflow:hidden;display:block;" title="21. 질의 응답(Question Answering, QA)">
                        <span style="padding-left:0px">
                        
                        21. 질의 응답(Question Answering, QA)
                        </span>
                    </span>
                </a>
                
                <a href="javascript:page(82475)" class="list-group-item ">
                    <span style="white-space:nowrap;overflow:hidden;display:block;" title="21-01 메모리 네트워크(Memory Network, MemN)를 이용한 QA">
                        <span style="padding-left:20px">
                        
                        21-01 메모리 네트워크(Memory Network, MemN)를 이용한 QA
                        </span>
                    </span>
                </a>
                
                <a href="javascript:page(85470)" class="list-group-item ">
                    <span style="white-space:nowrap;overflow:hidden;display:block;" title="21-02 MemN으로 한국어 QA 해보기">
                        <span style="padding-left:20px">
                        
                        21-02 MemN으로 한국어 QA 해보기
                        </span>
                    </span>
                </a>
                
                <a href="javascript:page(159431)" class="list-group-item ">
                    <span style="white-space:nowrap;overflow:hidden;display:block;" title="22. GPT(Generative Pre-trained Transformer)">
                        <span style="padding-left:0px">
                        
                        22. GPT(Generative Pre-trained Transformer)
                        </span>
                    </span>
                </a>
                
                <a href="javascript:page(159432)" class="list-group-item ">
                    <span style="white-space:nowrap;overflow:hidden;display:block;" title="22-01 지피티(Generative Pre-trained Transformer, GPT)">
                        <span style="padding-left:20px">
                        
                        22-01 지피티(Generative Pre-trained Transformer, GPT)
                        </span>
                    </span>
                </a>
                
                <a href="javascript:page(159433)" class="list-group-item ">
                    <span style="white-space:nowrap;overflow:hidden;display:block;" title="22-02 KoGPT를 이용한 문장 생성">
                        <span style="padding-left:20px">
                        
                        22-02 KoGPT를 이용한 문장 생성
                        </span>
                    </span>
                </a>
                
                <a href="javascript:page(159434)" class="list-group-item ">
                    <span style="white-space:nowrap;overflow:hidden;display:block;" title="22-03 KoGPT-2 텍스트 생성을 이용한 한국어 챗봇">
                        <span style="padding-left:20px">
                        
                        22-03 KoGPT-2 텍스트 생성을 이용한 한국어 챗봇
                        </span>
                    </span>
                </a>
                
                <a href="javascript:page(159435)" class="list-group-item ">
                    <span style="white-space:nowrap;overflow:hidden;display:block;" title="22-04 KoGPT-2를 이용한 네이버 영화 리뷰 분류">
                        <span style="padding-left:20px">
                        
                        22-04 KoGPT-2를 이용한 네이버 영화 리뷰 분류
                        </span>
                    </span>
                </a>
                
                <a href="javascript:page(159436)" class="list-group-item ">
                    <span style="white-space:nowrap;overflow:hidden;display:block;" title="22-05 KoGPT-2를 이용한 KorNLI 분류">
                        <span style="padding-left:20px">
                        
                        22-05 KoGPT-2를 이용한 KorNLI 분류
                        </span>
                    </span>
                </a>
                
                <a href="javascript:page(175427)" class="list-group-item ">
                    <span style="white-space:nowrap;overflow:hidden;display:block;" title="23. 교육 문의">
                        <span style="padding-left:0px">
                        
                        23. 교육 문의
                        </span>
                    </span>
                </a>
                
            </div>
        </div>
        
        <div class="row">
            <div class="small" style="border-top:solid 1px #ccc;padding:15px 15px 30px 15px;font-family:consolas;">
                <a href="https://wikidocs.net/" style="padding-left:15px;color:#333;">Published with WikiDocs</a>
            </div>
        </div>
        
        <input type="hidden" name="request_mobile" id="request_mobile" value="0">
    </div>
</div>

<script>
function myTrim(x) {
    return x.replace(/^\s+|\s+$/gm,'');
}

function search_json() {
    var kw = myTrim($("#kw").val());
    if(!kw) {
        return;
    }

    location.href = "/book/search/result/2155?keyword="+kw;
}

$(document).ready(function () {
    $(".book-search").on("click", function() {
        $("#search_form").submit();
    });

    $("#mobile_search_btn").on("click", function() {
        search_json();
    });

    $(".home").on("click", function() {
        location.href = "/";
    });

    if (typeof(Storage) !== "undefined") {
        if(localStorage.sidebar == "hidden") {
            menuToggle();
        }else {
            $(".sidebar").show();
            $(".toc-header").show();
        }
    }else {
        $(".sidebar").show();
        $(".toc-header").show();
    }

    $(".toc").css("display", "block");
    if (typeof(Storage) !== "undefined") {
        $(".sidebar").scrollTop(localStorage.sp);
    }

    $(".sidebar").css("overflow-y", "auto");

    $(".toc_item").on("click", function() {
        var page_id = $(this).attr("page_id");
        // $(".selected_toc").removeClass("selected_toc");
        // $(this).addClass("selected_toc");
        page(page_id);

    });

    $(".menu-toggle").on("click", function() {
        menuToggle();

        if (typeof(Storage) !== "undefined") {
            if(localStorage.sidebar == "hidden") {
                localStorage.sidebar = "show";
            }else {
                localStorage.sidebar = "hidden";
            }
        }
    });

    

    $("#load_content").show();
});


function menuToggle(no_sidebar) {
    if(!no_sidebar) {
        $(".sidebar").toggle();
        $(".toc-header").toggle();
    }
    $("#load_content").toggleClass("col-sm-offset-3");
    $("#load_content").toggleClass("col-sm-9");
    $("#load_content").toggleClass("col-sm-12");
    $("#load_content").toggleClass("sidebar-padding");
    $(".prev_next_indicator").toggle();
    $(".menu-group").toggle();
}

function page(no) {
    var scrollpos = $(".sidebar").scrollTop();
    if (typeof(Storage) !== "undefined") {
        localStorage.sp = scrollpos;
    }

    location.href = "/"+no;
    return false;

    $(".selected_toc").removeClass("selected_toc");
    $(".toc_item").each(function() {
        var page_id = $(this).attr("page_id");
        if(page_id == no) {
            $(this).addClass("selected_toc");
        }
    });

    var url = "/load/"+no;
    $("#load_content").load(url, function(responseTxt, statusTxt, xhr){
        if(statusTxt == "success") {
            // alert("External content loaded successfully!");
            $("#load_content").scrollTop(0);
            window.history.pushState("object or string", "17-04 한국어 BERT의 마스크드 언어 모델(Masked Language Model) 실습", "/"+no);
        }
        if(statusTxt == "error") {
            alert("Error: " + xhr.status + ": " + xhr.statusText);
        }
    });

}


/* search keyword */
$(document).ready(function() {
    const $searchInput = $('#kw');
    const $searchResults = $('#search-results');

    const ajax_search = function(event) {
        var query = $searchInput.val().trim();
        if (query.length >= 1) {  // 예시로 2글자 이상 입력될 때 검색을 시작합니다.
            $.ajax({
                url: '/book/search.json/',  // 검색 요청을 처리할 서버의 URL
                data: {
                    'kw': query,
                    'book_id': '2155',
                },
                dataType: 'json',
                success: function(data) {
                    $searchResults.empty();
                    if (data.results.length > 0) {
                        data.results.forEach(function(item) {
                            $searchResults.append('<li class="dropdown-item result-item" data-url="/'+item.id+'">' + item.subject + '</li>');
                        });
                        $searchResults.show();
                    } else {
                        $searchResults.hide();
                    }
                }
            });
        } else {
            $searchResults.empty().hide();
        }
    }

    $searchInput.on('keydown', function(event) {
        if (event.key === 'ArrowDown') {
            event.preventDefault();
            const $results = $searchResults.find('li');
            if ($results.length > 0) {
                $results.first().addClass('active').attr('tabindex', -1).focus();
            }
        }else if(event.key == 'Escape') {
            $searchResults.empty().hide();
            $searchInput.val('');
            $searchInput.attr('tabindex', -1).focus();
        }
    });

    $searchInput.on('keyup', function(event) {
        if (event.key === 'Enter') {
            let val = $(this).val();
            if (val.length >= 1) {
                window.location.href = "/book/search/result/2155?find_kw="+val+"&exact_match=1&page=1";
            }
        }else if(event.key == 'Escape') {
            $searchResults.empty().hide();
            $searchInput.val('');
            $searchInput.attr('tabindex', -1).focus();
        }else if (!event.key.startsWith('Arrow')) {
            ajax_search(event);
        }
    });

    $searchResults.on('keydown', 'li', function(event) {
        const $results = $searchResults.find('li');
        const currentIndex = $results.index(this);
        if (event.key === 'ArrowDown') {
            
            event.preventDefault();
            const nextIndex = (currentIndex + 1) % $results.length;
            
            $results.removeClass('active');
            $results.eq(nextIndex).addClass('active').attr('tabindex', -1).focus();            
        } else if (event.key === 'ArrowUp') {
            event.preventDefault();
            $results.removeClass('active');
            if(currentIndex == 0) {
                $searchInput.attr('tabindex', -1).focus();
            }else {
                const prevIndex = (currentIndex - 1 + $results.length) % $results.length;
                $results.eq(prevIndex).addClass('active').attr('tabindex', -1).focus();
            }
        }else if(event.key == 'Enter') {
            window.location.href = $(this).data('url');
        }else if(event.key == 'Escape') {
            $searchResults.empty().hide();
            $searchInput.val('');
            $searchInput.attr('tabindex', -1).focus();
        }
    });

    $(document).on('click', function(event) {
        if(event.target !== $searchResults[0]) {
            $searchResults.empty().hide();
        }
    });

    $(document).on('click', ".result-item", function(event) {
        window.location.href = $(this).data('url');
    });

    $(".find-btn").on('click', function(event) {
        let val = $searchInput.val();
        // if (val.length >= 1) {
            window.location.href = "/book/search/result/2155?find_kw="+val+"&exact_match=1&page=1";
        // }
    })
});


</script>



    </div>

    
    <div class="page col-sm-offset-3 col-sm-9" id="load_content" style="margin-top: 0px;">
        <!-- <div style="margin: 50px 0; padding: 20px; border: 1px solid #ddd; border-radius: 10px; background-color: #f9f9f9;">
    <div style="font-size: 24px; font-weight: bold; margin-bottom: 20px;">[중요] 서버 점검 공지</div>
    <div style="font-size: 16px; line-height: 1.6;">
        <p>안녕하세요, 고객 여러분,</p>
        <p>저희는 시스템의 안정성을 향상시키기 위해 예정된 서버 점검을 진행하게 되었습니다. 이로 인해 일시적으로 서비스 이용에 불편을 드릴 수 있음을 알려드립니다.</p>
        <p><strong>- 점검 일시: 2023년 6월 17일 (토요일), 23시부터 24시까지 (1시간 동안)</strong></p>
        <p>점검 동안에는 모든 서비스가 일시적으로 중단됩니다. 점검이 완료된 후에는 정상적으로 서비스를 이용하실 수 있습니다.</p>
        <p>점검 시간 동안에는 서비스 이용이 불가능하오니, 이 점 참고하시어 불편함이 없으시길 바랍니다.</p>
        <p>저희는 고객 여러분께 더 나은 서비스를 제공하기 위해 노력하고 있습니다. 이해와 협조에 감사드립니다.</p>
        <p>감사합니다.</p>
    </div>
</div>
 -->
        








<div class="btn-group pull-right menu-group" role="group">
    <button class="btn btn-xs btn-default menu_link menu-toggle">
        <i class="glyphicon glyphicon-menu-hamburger" title="메뉴"></i>
    </button>
</div>
<div class="menu-wikidocs">
</div>




<div class="clearfix page-depth">
    <ol class="breadcrumb pull-left">
        <li><small><a href="https://wikidocs.net/book/2155"><i class="glyphicon glyphicon-book"></i> <strong>딥 러닝을 이용한 자연어 처리 입문</strong></a></small></li>
        
        <li><small><a href="https://wikidocs.net/109251">17. BERT(Bidirectional E…</a></small></li>
        
        <li><small><a href="https://wikidocs.net/152922">17-04 한국어 BERT의 마스크드 언어 …</a></small></li>
        
    </ol>
    
    <ol class="breadcrumb pull-right">
        

        
        <li>
            <a href="https://wikidocs.net/"><small class="logo"><i class="glyphicon glyphicon-home"></i> 위키독스</small></a>
        </li>
    </ol>
    
</div>


<h1 class="page-subject">
    17-04 한국어 BERT의 마스크드 언어 모델(Masked Language Model) 실습
    
        
    
</h1>

<!-- google adsense -->
<!-- PC -->

    
        <!-- 위키독스 포인트 광고 -->
        <div style="margin:30px 0;">
            <!-- 위키독스 포인트 광고 -->
<div class="clearfix">
    <div class="pull-left" style="margin-right:30px">
        <script async="" src="./bert 내용 대충 정리_files/f(8).txt" crossorigin="anonymous" data-checked-head="true"></script>
        <ins class="adsbygoogle" style="display:inline-block;width:336px;height:280px" data-ad-client="ca-pub-9470517771012578" data-ad-channel="6628864207" data-ad-slot="3437110462" data-adsbygoogle-status="done" data-ad-status="filled"><div id="aswift_2_host" style="border: none; height: 280px; width: 336px; margin: 0px; padding: 0px; position: relative; visibility: visible; background-color: transparent; display: inline-block;"><iframe id="aswift_2" name="aswift_2" browsingtopics="true" style="left:0;position:absolute;top:0;border:0;width:336px;height:280px;" sandbox="allow-forms allow-popups allow-popups-to-escape-sandbox allow-same-origin allow-scripts allow-top-navigation-by-user-activation" width="336" height="280" frameborder="0" marginwidth="0" marginheight="0" vspace="0" hspace="0" allowtransparency="true" scrolling="no" allow="attribution-reporting; run-ad-auction" src="./bert 내용 대충 정리_files/ads(1).html" data-google-container-id="a!3" tabindex="0" title="Advertisement" aria-label="Advertisement" data-google-query-id="CO_5ivvYoIUDFXDbFgUdOGwGvQ" data-load-complete="true"></iframe></div></ins>
        <script>
        (adsbygoogle = window.adsbygoogle || []).push({});
        </script>
    </div>
    <div class="pull-left">
        <script async="" src="./bert 내용 대충 정리_files/f(8).txt" crossorigin="anonymous" data-checked-head="true"></script>
        <ins class="adsbygoogle" style="display:inline-block;width:336px;height:280px" data-ad-client="ca-pub-9470517771012578" data-ad-channel="6628864207" data-ad-slot="3437110462" data-adsbygoogle-status="done" data-ad-status="filled"><div id="aswift_3_host" style="border: none; height: 280px; width: 336px; margin: 0px; padding: 0px; position: relative; visibility: visible; background-color: transparent; display: inline-block;"><iframe id="aswift_3" name="aswift_3" browsingtopics="true" style="left:0;position:absolute;top:0;border:0;width:336px;height:280px;" sandbox="allow-forms allow-popups allow-popups-to-escape-sandbox allow-same-origin allow-scripts allow-top-navigation-by-user-activation" width="336" height="280" frameborder="0" marginwidth="0" marginheight="0" vspace="0" hspace="0" allowtransparency="true" scrolling="no" allow="attribution-reporting; run-ad-auction" src="./bert 내용 대충 정리_files/ads(2).html" data-google-container-id="a!4" tabindex="0" title="Advertisement" aria-label="Advertisement" data-google-query-id="CIT5ivvYoIUDFZLJFgUdVeoMAQ" data-load-complete="true"></iframe></div></ins>
        <script>
        (adsbygoogle = window.adsbygoogle || []).push({});
        </script>
    </div>
</div>
        </div>
    


<!-- Mobile -->


<!-- google adsense -->

<div class="page-content tex2jax_process">
    <ul>
<li>모든 BERT 실습은 Colab에서 진행한다고 가정합니다.  </li>
</ul>
<p>사전 학습된 한국어 BERT를 이용하여 마스크드 언어 모델을 실습해봅시다. 이번 실습을 위해서만이 아니라 앞으로 사전 학습된 BERT를 사용할 때는 transformers라는 패키지를 자주 사용하게 됩니다. 실습 환경에 transformers 패키지를 설치해둡시다.</p>
<pre><code class="hljs language-undefined md-csc-wrap"><button class="md-csc-button btn btn-xs btn-default"><span class="copymsg">Copy</span></button>pip install transformers
</code></pre>
<h2 id="1">1. 마스크드 언어 모델과 토크나이저</h2>
<p>transformers 패키지를 사용하여 모델과 토크나이저를 로드합니다. BERT는 이미 누군가가 학습해둔 모델을 사용하는 것이므로 우리가 사용하는 모델과 토크나이저는 항상 맵핑 관계여야 합니다. 예를 들어서 A라는 이름의 BERT를 사용하는데, B라는 이름의 BERT의 토크나이저를 사용하면 모델은 텍스트를 제대로 이해할 수 없습니다. A라는 BERT의 토크나이저는 '사과'라는 단어를 36번으로 정수 인코딩하는 반면에, B라는 BERT의 토크나이저는 '사과'라는 단어를 42번으로 정수 인코딩하는 등 단어와 맵핑되는 정수 정보 자체가 다르기 때문입니다.  </p>
<p>klue/bert-base는 대표적인 한국어 BERT입니다. klue/bert-base의 마스크드 언어 모델과 klue/bert-base의 토크나이저를 로드해봅시다.</p>
<pre><code class="language-python hljs md-csc-wrap"><button class="md-csc-button btn btn-xs btn-default"><span class="copymsg">Copy</span></button><span class="hljs-keyword">from</span> transformers <span class="hljs-keyword">import</span> TFBertForMaskedLM
<span class="hljs-keyword">from</span> transformers <span class="hljs-keyword">import</span> AutoTokenizer
</code></pre>
<p>TFBertForMaskedLM.from_pretrained('BERT 모델 이름')을 넣으면 [MASK]라고 되어있는 단어를 맞추기 위한 마스크드 언어 모델링을 위한 구조로 BERT를 로드합니다. 다시 말해서 BERT를 마스크드 언어 모델 형태로 로드합니다. from_pt=True는 해당 모델이 기존에는 텐서플로우가 아니라 파이토치로 학습된 모델이었지만 이를 텐서플로우에서 사용하겠다라는 의미입니다.  </p>
<p>AutoTokenizer.from_pretrained('모델 이름')을 넣으면 해당 모델이 학습되었을 당시에 사용되었던 토크나이저를 로드합니다.</p>
<pre><code class="language-python hljs md-csc-wrap"><button class="md-csc-button btn btn-xs btn-default"><span class="copymsg">Copy</span></button>model = TFBertForMaskedLM.from_pretrained(<span class="hljs-string">'klue/bert-base'</span>, from_pt=<span class="hljs-literal">True</span>)
tokenizer = AutoTokenizer.from_pretrained(<span class="hljs-string">"klue/bert-base"</span>)
</code></pre>
<h2 id="2-bert">2. BERT의 입력</h2>
<p>'축구는 정말 재미있는 [MASK]다'라는 임의의 문장이 있다고 해봅시다. 이를 마스크드 언어 모델의 입력으로 넣으면, 마스크드 언어 모델은 [MASK]의 위치에 해당하는 단어를 예측합니다. 마스크드 언어 모델의 예측 결과를 보기위해서 klue/bert-base의 토크나이저를 사용하여 해당 문장을 정수 인코딩해봅시다.</p>
<pre><code class="language-python hljs md-csc-wrap"><button class="md-csc-button btn btn-xs btn-default"><span class="copymsg">Copy</span></button>inputs = tokenizer(<span class="hljs-string">'축구는 정말 재미있는 [MASK]다.'</span>, return_tensors=<span class="hljs-string">'tf'</span>)
</code></pre>
<p>토크나이저로 변환된 결과에서 input_ids를 통해 정수 인코딩 결과를 확인할 수 있습니다.</p>
<pre><code class="language-python hljs md-csc-wrap"><button class="md-csc-button btn btn-xs btn-default"><span class="copymsg">Copy</span></button><span class="hljs-built_in">print</span>(inputs[<span class="hljs-string">'input_ids'</span>])
</code></pre>
<pre><code class="language-python hljs md-csc-wrap"><button class="md-csc-button btn btn-xs btn-default"><span class="copymsg">Copy</span></button>tf.Tensor([[   <span class="hljs-number">2</span> <span class="hljs-number">4713</span> <span class="hljs-number">2259</span> <span class="hljs-number">3944</span> <span class="hljs-number">6001</span> <span class="hljs-number">2259</span>    <span class="hljs-number">4</span>  <span class="hljs-number">809</span>   <span class="hljs-number">18</span>    <span class="hljs-number">3</span>]], shape=(<span class="hljs-number">1</span>, <span class="hljs-number">10</span>), dtype=int32)
</code></pre>
<p>토크나이저로 변환된 결과에서 token_type_ids를 통해서 문장을 구분하는 세그먼트 인코딩 결과를 확인할 수 있습니다.</p>
<pre><code class="language-python hljs md-csc-wrap"><button class="md-csc-button btn btn-xs btn-default"><span class="copymsg">Copy</span></button><span class="hljs-built_in">print</span>(inputs[<span class="hljs-string">'token_type_ids'</span>])
</code></pre>
<pre><code class="language-python hljs md-csc-wrap"><button class="md-csc-button btn btn-xs btn-default"><span class="copymsg">Copy</span></button>tf.Tensor([[<span class="hljs-number">0</span> <span class="hljs-number">0</span> <span class="hljs-number">0</span> <span class="hljs-number">0</span> <span class="hljs-number">0</span> <span class="hljs-number">0</span> <span class="hljs-number">0</span> <span class="hljs-number">0</span> <span class="hljs-number">0</span> <span class="hljs-number">0</span>]], shape=(<span class="hljs-number">1</span>, <span class="hljs-number">10</span>), dtype=int32)
</code></pre>
<p>현재의 입력은 문장이 두 개가 아니라 한 개이므로 여기서는 문장 길이만큼의 0 시퀀스를 얻습니다. 만약 문장이 두 개였다면 두번째 문장이 시작되는 구간부터는 1의 시퀀스가 나오게 되지만, 여기서는 해당되지 않습니다.  </p>
<p>토크나이저로 변환된 결과에서 attention_mask를 통해서 실제 단어와 패딩 토큰을 구분하는 용도인 어텐션 마스크를 확인할 수 있습니다.</p>
<pre><code class="language-python hljs md-csc-wrap"><button class="md-csc-button btn btn-xs btn-default"><span class="copymsg">Copy</span></button><span class="hljs-built_in">print</span>(inputs[<span class="hljs-string">'attention_mask'</span>])
</code></pre>
<pre><code class="language-python hljs md-csc-wrap"><button class="md-csc-button btn btn-xs btn-default"><span class="copymsg">Copy</span></button>tf.Tensor([[<span class="hljs-number">1</span> <span class="hljs-number">1</span> <span class="hljs-number">1</span> <span class="hljs-number">1</span> <span class="hljs-number">1</span> <span class="hljs-number">1</span> <span class="hljs-number">1</span> <span class="hljs-number">1</span> <span class="hljs-number">1</span> <span class="hljs-number">1</span>]], shape=(<span class="hljs-number">1</span>, <span class="hljs-number">10</span>), dtype=int32)
</code></pre>
<p>현재의 입력에서는 패딩이 없으므로 여기서는 문장 길이만큼의 1 시퀀스를 얻습니다. 만약 뒤에 패딩이 있었다면 패딩이 시작되는 구간부터는 0의 시퀀스가 나오게 되지만, 여기서는 해당되지 않습니다. 좀 더 다양한 패턴의 입력은 뒤의 텍스트 분류, 개체명 인식, 질의 응답 실습에서 이어서 보겠습니다.</p>
<h2 id="3-mask">3. [MASK] 토큰 예측하기</h2>
<p>FillMaskPipeline은 모델과 토크나이저를 지정하면 손쉽게 마스크드 언어 모델의 예측 결과를 정리해서 보여줍니다. FillMaskPipeline에 우선 앞서 불러온 모델과 토크나이저를 지정해줍니다.</p>
<pre><code class="language-python hljs md-csc-wrap"><button class="md-csc-button btn btn-xs btn-default"><span class="copymsg">Copy</span></button><span class="hljs-keyword">from</span> transformers <span class="hljs-keyword">import</span> FillMaskPipeline
pip = FillMaskPipeline(model=model, tokenizer=tokenizer)
</code></pre>
<p>이제 입력 문장으로부터 [MASK]의 위치에 들어갈 수 있는 상위 5개의 후보 단어들을 출력해봅시다.</p>
<pre><code class="language-python hljs md-csc-wrap"><button class="md-csc-button btn btn-xs btn-default"><span class="copymsg">Copy</span></button>pip(<span class="hljs-string">'축구는 정말 재미있는 [MASK]다.'</span>)
</code></pre>
<pre><code class="language-python hljs md-csc-wrap"><button class="md-csc-button btn btn-xs btn-default"><span class="copymsg">Copy</span></button>[{<span class="hljs-string">'score'</span>: <span class="hljs-number">0.8963505625724792</span>,
  <span class="hljs-string">'sequence'</span>: <span class="hljs-string">'축구는 정말 재미있는 스포츠 다.'</span>,
  <span class="hljs-string">'token'</span>: <span class="hljs-number">4559</span>,
  <span class="hljs-string">'token_str'</span>: <span class="hljs-string">'스포츠'</span>},
 {<span class="hljs-string">'score'</span>: <span class="hljs-number">0.02595764957368374</span>,
  <span class="hljs-string">'sequence'</span>: <span class="hljs-string">'축구는 정말 재미있는 거 다.'</span>,
  <span class="hljs-string">'token'</span>: <span class="hljs-number">568</span>,
  <span class="hljs-string">'token_str'</span>: <span class="hljs-string">'거'</span>},
 {<span class="hljs-string">'score'</span>: <span class="hljs-number">0.010033931583166122</span>,
  <span class="hljs-string">'sequence'</span>: <span class="hljs-string">'축구는 정말 재미있는 경기 다.'</span>,
  <span class="hljs-string">'token'</span>: <span class="hljs-number">3682</span>,
  <span class="hljs-string">'token_str'</span>: <span class="hljs-string">'경기'</span>},
 {<span class="hljs-string">'score'</span>: <span class="hljs-number">0.007924391888082027</span>,
  <span class="hljs-string">'sequence'</span>: <span class="hljs-string">'축구는 정말 재미있는 축구 다.'</span>,
  <span class="hljs-string">'token'</span>: <span class="hljs-number">4713</span>,
  <span class="hljs-string">'token_str'</span>: <span class="hljs-string">'축구'</span>},
 {<span class="hljs-string">'score'</span>: <span class="hljs-number">0.00784421805292368</span>,
  <span class="hljs-string">'sequence'</span>: <span class="hljs-string">'축구는 정말 재미있는 놀이 다.'</span>,
  <span class="hljs-string">'token'</span>: <span class="hljs-number">5845</span>,
  <span class="hljs-string">'token_str'</span>: <span class="hljs-string">'놀이'</span>}]
</code></pre>
<pre><code class="language-python hljs md-csc-wrap"><button class="md-csc-button btn btn-xs btn-default"><span class="copymsg">Copy</span></button>pip(<span class="hljs-string">'어벤져스는 정말 재미있는 [MASK]다.'</span>)
</code></pre>
<pre><code class="language-python hljs md-csc-wrap"><button class="md-csc-button btn btn-xs btn-default"><span class="copymsg">Copy</span></button>[{<span class="hljs-string">'score'</span>: <span class="hljs-number">0.8382411599159241</span>,
  <span class="hljs-string">'sequence'</span>: <span class="hljs-string">'어벤져스는 정말 재미있는 영화 다.'</span>,
  <span class="hljs-string">'token'</span>: <span class="hljs-number">3771</span>,
  <span class="hljs-string">'token_str'</span>: <span class="hljs-string">'영화'</span>},
 {<span class="hljs-string">'score'</span>: <span class="hljs-number">0.028275618329644203</span>,
  <span class="hljs-string">'sequence'</span>: <span class="hljs-string">'어벤져스는 정말 재미있는 거 다.'</span>,
  <span class="hljs-string">'token'</span>: <span class="hljs-number">568</span>,
  <span class="hljs-string">'token_str'</span>: <span class="hljs-string">'거'</span>},
 {<span class="hljs-string">'score'</span>: <span class="hljs-number">0.017189407721161842</span>,
  <span class="hljs-string">'sequence'</span>: <span class="hljs-string">'어벤져스는 정말 재미있는 드라마 다.'</span>,
  <span class="hljs-string">'token'</span>: <span class="hljs-number">4665</span>,
  <span class="hljs-string">'token_str'</span>: <span class="hljs-string">'드라마'</span>},
 {<span class="hljs-string">'score'</span>: <span class="hljs-number">0.014989694580435753</span>,
  <span class="hljs-string">'sequence'</span>: <span class="hljs-string">'어벤져스는 정말 재미있는 이야기 다.'</span>,
  <span class="hljs-string">'token'</span>: <span class="hljs-number">3758</span>,
  <span class="hljs-string">'token_str'</span>: <span class="hljs-string">'이야기'</span>},
 {<span class="hljs-string">'score'</span>: <span class="hljs-number">0.009382619522511959</span>,
  <span class="hljs-string">'sequence'</span>: <span class="hljs-string">'어벤져스는 정말 재미있는 장소 다.'</span>,
  <span class="hljs-string">'token'</span>: <span class="hljs-number">4938</span>,
  <span class="hljs-string">'token_str'</span>: <span class="hljs-string">'장소'</span>}]
</code></pre>
<pre><code class="language-python hljs md-csc-wrap"><button class="md-csc-button btn btn-xs btn-default"><span class="copymsg">Copy</span></button>pip(<span class="hljs-string">'나는 오늘 아침에 [MASK]에 출근을 했다.'</span>)
</code></pre>
<pre><code class="language-python hljs md-csc-wrap"><button class="md-csc-button btn btn-xs btn-default"><span class="copymsg">Copy</span></button>[{<span class="hljs-string">'score'</span>: <span class="hljs-number">0.08012567460536957</span>,
  <span class="hljs-string">'sequence'</span>: <span class="hljs-string">'나는 오늘 아침에 회사 에 출근을 했다.'</span>,
  <span class="hljs-string">'token'</span>: <span class="hljs-number">3769</span>,
  <span class="hljs-string">'token_str'</span>: <span class="hljs-string">'회사'</span>},
 {<span class="hljs-string">'score'</span>: <span class="hljs-number">0.06124098226428032</span>,
  <span class="hljs-string">'sequence'</span>: <span class="hljs-string">'나는 오늘 아침에 에 출근을 했다.'</span>,
  <span class="hljs-string">'token'</span>: <span class="hljs-number">1</span>,
  <span class="hljs-string">'token_str'</span>: <span class="hljs-string">'[UNK]'</span>},
 {<span class="hljs-string">'score'</span>: <span class="hljs-number">0.017486684024333954</span>,
  <span class="hljs-string">'sequence'</span>: <span class="hljs-string">'나는 오늘 아침에 공장 에 출근을 했다.'</span>,
  <span class="hljs-string">'token'</span>: <span class="hljs-number">4345</span>,
  <span class="hljs-string">'token_str'</span>: <span class="hljs-string">'공장'</span>},
 {<span class="hljs-string">'score'</span>: <span class="hljs-number">0.016131816431879997</span>,
  <span class="hljs-string">'sequence'</span>: <span class="hljs-string">'나는 오늘 아침에 사무실 에 출근을 했다.'</span>,
  <span class="hljs-string">'token'</span>: <span class="hljs-number">5841</span>,
  <span class="hljs-string">'token_str'</span>: <span class="hljs-string">'사무실'</span>},
 {<span class="hljs-string">'score'</span>: <span class="hljs-number">0.015360789373517036</span>,
  <span class="hljs-string">'sequence'</span>: <span class="hljs-string">'나는 오늘 아침에 서울 에 출근을 했다.'</span>,
  <span class="hljs-string">'token'</span>: <span class="hljs-number">3671</span>,
  <span class="hljs-string">'token_str'</span>: <span class="hljs-string">'서울'</span>}]
</code></pre>
</div>

<div class="muted text-right" style="font-size: 0.9em;margin:10px 0;">
    
    마지막 편집일시 : 2022년 11월 14일 4:50 오후
    
</div>

<!-- google adsense -->
<!-- PC -->

    
        <div style="margin:30px 0;">
            <!-- 위키독스 포인트 광고 -->
            <div class="clearfix">
                <div class="pull-left" style="margin-right:30px">
                    <script async="" src="./bert 내용 대충 정리_files/f(9).txt"></script>
                    <ins class="adsbygoogle" style="display:inline-block;width:336px;height:280px" data-ad-client="ca-pub-9470517771012578" data-ad-channel="6628864207" data-adsbygoogle-status="done" data-ad-status="filled"><div id="aswift_4_host" style="border: none; height: 280px; width: 336px; margin: 0px; padding: 0px; position: relative; visibility: visible; background-color: transparent; display: inline-block;"><iframe id="aswift_4" name="aswift_4" browsingtopics="true" style="left:0;position:absolute;top:0;border:0;width:336px;height:280px;" sandbox="allow-forms allow-popups allow-popups-to-escape-sandbox allow-same-origin allow-scripts allow-top-navigation-by-user-activation" width="336" height="280" frameborder="0" marginwidth="0" marginheight="0" vspace="0" hspace="0" allowtransparency="true" scrolling="no" allow="attribution-reporting; run-ad-auction" src="./bert 내용 대충 정리_files/ads(3).html" data-google-container-id="a!5" tabindex="0" title="Advertisement" aria-label="Advertisement" data-google-query-id="CODxkvzYoIUDFTfXFgUdTgEBGg" data-load-complete="true"></iframe></div></ins>
                    <script>
                    (adsbygoogle = window.adsbygoogle || []).push({});
                    </script>
                </div>
                <div class="pull-left">
                    <script async="" src="./bert 내용 대충 정리_files/f(9).txt"></script>
                    <ins class="adsbygoogle" style="display:inline-block;width:336px;height:280px" data-ad-client="ca-pub-9470517771012578" data-ad-channel="6628864207" data-adsbygoogle-status="done" data-ad-status="filled"><div id="aswift_5_host" style="border: none; height: 280px; width: 336px; margin: 0px; padding: 0px; position: relative; visibility: visible; background-color: transparent; display: inline-block;"><iframe id="aswift_5" name="aswift_5" browsingtopics="true" style="left:0;position:absolute;top:0;border:0;width:336px;height:280px;" sandbox="allow-forms allow-popups allow-popups-to-escape-sandbox allow-same-origin allow-scripts allow-top-navigation-by-user-activation" width="336" height="280" frameborder="0" marginwidth="0" marginheight="0" vspace="0" hspace="0" allowtransparency="true" scrolling="no" allow="attribution-reporting; run-ad-auction" src="./bert 내용 대충 정리_files/ads(4).html" data-google-container-id="a!6" tabindex="0" title="Advertisement" aria-label="Advertisement" data-google-query-id="CJjeqPzYoIUDFYvIFgUdLmoCwA" data-load-complete="true"></iframe></div></ins>
                    <script>
                    (adsbygoogle = window.adsbygoogle || []).push({});
                    </script>
                </div>
            </div>
        </div>
    

<!-- Mobile -->


<!-- google adsense -->

<!--

<div id="fb-root"></div>
<script>(function(d, s, id) {
  var js, fjs = d.getElementsByTagName(s)[0];
  if (d.getElementById(id)) return;
  js = d.createElement(s); js.id = id;
  js.src = "//connect.facebook.net/ko_KR/sdk.js#xfbml=1&version=v2.10&appId=189410671132641";
  fjs.parentNode.insertBefore(js, fjs);
}(document, 'script', 'facebook-jssdk'));</script>
<div class="clearfix">
    <div class="fb-like" data-href="" data-layout="standard" data-action="like" data-size="small" data-show-faces="false" data-share="true"></div>
    <div style="margin-top:2px; margin-right:5px;" class="pull-left">
        <a href="https://twitter.com/share" class="twitter-share-button">Tweet</a> <script>!function(d,s,id){var js,fjs=d.getElementsByTagName(s)[0],p=/^http:/.test(d.location)?'http':'https';if(!d.getElementById(id)){js=d.createElement(s);js.id=id;js.src=p+'://platform.twitter.com/widgets.js';fjs.parentNode.insertBefore(js,fjs);}}(document, 'script', 'twitter-wjs');</script>
    </div>
</div>

-->

<div class="clearfix">
    <a href="javascript:show_comments();" class="label label-info">댓글 0</a>
    <a href="https://wikidocs.net/152922#myModal" data-toggle="modal" title="피드백을 남겨주세요" class="label label-info">피드백</a>
</div>

<div class="user_comments" style="display:none">

    <div class="comments" id="page_all_comments">
        






    </div>

    
    <a href="https://wikidocs.net/loginForm" class="text-info" style="font-size:12px">※ 댓글 작성은 로그인이 필요합니다.</a>
    <a href="https://wikidocs.net/152922#myModal" data-toggle="modal" style="font-size:12px">(또는 피드백을 이용해 주세요.)</a>
    
</div>

<div class="page-prev-next">
    
<div class="clearfix">
    <div class="pull-left">
        <ul>
            
                <li><strong>이전글</strong> : <a href="javascript:page(153992)">17-03 구글 BERT의 마스크드 언어 모델(Masked Language Model) 실습 </a></li>
            
            
                <li><strong>다음글</strong> : <a href="javascript:page(156767)">17-05 구글 BERT의 다음 문장 예측(Next Sentence Prediction)</a></li>
            
        </ul>
    </div>
</div>


</div>





<a href="https://wikidocs.net/152922#top" class="label label-default back-to-top">
    <span class="glyphicon glyphicon-arrow-up"></span>
    TOP
</a>

<!-- 책갈피 모달 -->
<div class="modal fade" id="bookmarkModal" tabindex="-1" role="dialog" aria-labelledby="bookmarkModalLabel">
    <div class="modal-dialog" role="document">
        <div class="modal-content">
            <div class="modal-header">
                <button type="button" class="close" data-dismiss="modal" aria-label="Close"><span aria-hidden="true">×</span></button>
                <h4 class="modal-title" id="bookmarkModalLabel">책갈피</h4>
            </div>
            <div class="modal-body bookmark-body">
                <!-- 여기에 동적 데이터가 로드됩니다 -->
            </div>
            <div class="modal-footer">
                <button type="button" class="btn btn-primary">추가</button>
                <button type="button" class="btn btn-default" data-dismiss="modal">닫기</button>
            </div>
        </div>
    </div>
</div>
<script>
var is_mobile = "False";
$(document).ready(function () {
    if (is_mobile == "True") {
        if($(window).width() >= 768) {
            // show toc
            localStorage.toc = "show";
            $('#toc_on').prop('checked', true);
            $(".toc-checker").removeClass("hide");
            $(".toc-checker").show();

        }else {
            // hide toc
            localStorage.toc = "hide";
            $('#toc_off').prop('checked', true);
            $(".toc-checker").hide();
        }
        $(".mobile-toc").click(function() {
            $('#toc_on').prop('checked', true);
            $(".toc-checker").removeClass("hide");
            $(".toc-checker").show();
        });
    }

    $('.bookmark_btn').click(function(){
        var pathname = window.location.pathname;
        $.ajax({
            url: "/bookmark/",
            method: "post",
            data: {pathname: pathname},
            success: function(data){
                $('#bookmarkModal .modal-body').html(data);
                $('#bookmarkModal').modal("show");
            }
        });
    });

    $('#bookmarkModal .btn-primary').click(function(){
        var pathname = window.location.pathname;
        $.ajax({
            url: "/bookmark/add/",
            method: "post",
            data: {pathname: pathname},
            success: function(data){
                $('#bookmarkModal .modal-body').html(data);
            }
        });
    });

    $('#bookmarkModal .item-delete').click(function(){
        
        $.ajax({
            url: "/bookmark/delete/",
            method: "post",
            data: {pathname: pathname},
            success: function(data){
                $('#bookmarkModal .modal-body').html(data);
            }
        });
    });
});
function deleteBookmark(bookmarkId) {
    if (confirm('정말 삭제하시겠습니까?')) {
        $.ajax({
            url: '/bookmark/delete/' + bookmarkId + '/',
            type: 'POST',
            data: {
                'csrfmiddlewaretoken': 'MfsYsjZPX6WE86nYEgdgtmXx24RCX17LJwsRgKKKZ218FrpfzyBCLZ54K7htZDVv'
            },
            success: function(response) {
                $('#bookmarkModal .modal-body').html(response);
            },
            error: function(xhr, status, error) {
                // 오류 처리
                alert('삭제 실패: ' + error);
            }
        });
    }
}
</script>
    

    </div>

</div>

<div style="display:none" class="prev_next_indicator">
    
    <a class="prev_icon" href="javascript:page(153992)" role="button">
        <span class="glyphicon glyphicon-chevron-left" style="font-size:2em;"></span>
    </a>


    <a class="next_icon" href="javascript:page(156767)" role="button">
        <span class="glyphicon glyphicon-chevron-right" style="font-size:2em;"></span>
    </a>


</div>


<!-- Modal -->
<div id="myModal" class="modal fade" tabindex="-1" role="dialog" aria-labelledby="myModalLabel" aria-hidden="true">
    <div class="modal-dialog">
        <div class="modal-content">
            <div class="modal-header">
                <button type="button" class="close" data-dismiss="modal" aria-hidden="true">×</button>
                <h3 id="myModalLabel" class="modal-title">이 페이지에 대한 피드백을 남겨주세요</h3>
            </div>
            <div class="modal-body">
                <form class="form" role="form">
                    <input type="hidden" name="page_id" id="page_id" value="152922">
                    <div class="form-group">
                        <label class="control-label" for="email">답장받을 이메일 주소</label>
                        <div class="">
                            <input class="form-control" type="text" id="email" placeholder="Email">
                        </div>
                    </div>

                    <div class="form-group">
                        <label class="control-label" for="feedback">하고 싶은 말</label>
                        <div class="controls">
                            <textarea class="form-control" id="feedback" rows="5"></textarea>
                        </div>
                    </div>
                    <p style="font-size:12px;">※ 피드백은 저자에게 e-메일로 전달됩니다.</p>
                </form>
            </div>
            <div class="modal-footer">
                <button class="btn btn-default" data-dismiss="modal">Close</button>
                <button class="btn btn-primary" id="feedback_btn">전송하기</button>
            </div>
        </div>
    </div>
</div>

<!-- Modal -->
<div id="reportModal" class="modal fade" tabindex="-1" role="dialog" aria-labelledby="reportModalLabel" aria-hidden="true">
    <div class="modal-dialog">
        <div class="modal-content">
            <div class="modal-header">
                <button type="button" class="close" data-dismiss="modal" aria-hidden="true">×</button>
                <h3 id="reportModalLabel" class="modal-title">댓글을 신고합니다.</h3>
            </div>
            <div class="modal-body">
                <form class="form" role="form">
                    <input type="hidden" name="comment_id" id="comment_id">
                    해당 댓글을 신고하시겠습니까? 댓글 신고는 다음과 같은 경우에 사용해주세요:
                    <ol>
                        <li>스팸 또는 광고성 내용이 포함된 경우</li>
                        <li>욕설, 비방, 개인정보 유출 등 부적절한 내용이 포함된 경우</li>
                        <li>저작권을 침해하는 내용이 포함된 경우</li>
                    </ol>
                    <div class="form-group">
                        <label class="control-label" for="report">신고 사유를 입력해 주세요.</label>
                        <div class="controls">
                            <textarea class="form-control" id="report" rows="5"></textarea>
                        </div>
                    </div>
                    <p style="font-size:12px;">※ 신고하신 내용은 관리자에게 전달되며, 확인 후 적절한 조치가 이루어집니다. 신고는 익명으로 처리되며, 신고자의 정보는 공개되지 않습니다.</p>
                </form>
            </div>
            <div class="modal-footer">
                <button class="btn btn-default" data-dismiss="modal">Close</button>
                <button class="btn btn-primary" id="report_btn">전송하기</button>
            </div>
        </div>
    </div>
</div>

</div>



<script>
$(document).ready(function () {
    $('pre code').each(function(i, e) {
        hljs.highlightElement(e);
        $(e).html($(e).html()
            .replace(/\[\[MARK\]\]/g,'<mark class="add">')
            .replace(/\[\[\/MARK\]\]/g, '</mark>')
            .replace(/\[\[SMARK\]\]/g,'<mark class="del"><strike>')
            .replace(/\[\[\/SMARK\]\]/g, '</strike></mark>')
            .replace(/\[\[\/.*SMARK.*\]\]/g, '</strike></mark>')
            .replace(/\[\[.*SMARK.*\]\]/g,'<mark class="del"><strike>')
            .replace(/\[\[\/.*MARK.*\]\]/g, '</mark>')
            .replace(/\[\[.*MARK.*\]\]/g,'<mark class="add">')
        );
    });

    $("pre code").addClass("md-csc-wrap");
    $(".hljs").prepend("<button class='md-csc-button btn btn-xs btn-default'><span class='copymsg'>Copy</span></button>");

    $(".md-csc-button").click(function(){
        let text = $(this).parent().text();
        text = text.substring(4); // "Copy 문자열 이후부터.."
        const textArea = document.createElement('textarea');
        textArea.textContent = text;
        document.body.append(textArea);
        textArea.select();
        document.execCommand("copy");
        textArea.remove();

        $(this).find(".copymsg").html("Copied!");
        setTimeout(() => {
            $(this).find(".copymsg").html("Copy");
        }, 2000);
    });
});
</script>



<ins class="adsbygoogle adsbygoogle-noablate" data-adsbygoogle-status="done" style="display: none !important;" data-ad-status="unfilled"><div id="aswift_0_host" style="border: none; height: 0px; width: 0px; margin: 0px; padding: 0px; position: relative; visibility: visible; background-color: transparent; display: inline-block;"><iframe id="aswift_0" name="aswift_0" browsingtopics="true" style="left:0;position:absolute;top:0;border:0;width:undefinedpx;height:undefinedpx;" sandbox="allow-forms allow-popups allow-popups-to-escape-sandbox allow-same-origin allow-scripts allow-top-navigation-by-user-activation" frameborder="0" marginwidth="0" marginheight="0" vspace="0" hspace="0" allowtransparency="true" scrolling="no" allow="attribution-reporting; run-ad-auction" src="./bert 내용 대충 정리_files/ads(5).html" data-google-container-id="a!1" tabindex="0" title="Advertisement" aria-label="Advertisement" data-load-complete="true"></iframe></div></ins><iframe name="googlefcPresent" style="display: none; width: 0px; height: 0px; border: none; z-index: -1000; left: -1000px; top: -1000px;" src="./bert 내용 대충 정리_files/saved_resource(4).html"></iframe><iframe name="__tcfapiLocator" src="./bert 내용 대충 정리_files/saved_resource(5).html" style="display: none; width: 0px; height: 0px; border: none; z-index: -1000; left: -1000px; top: -1000px;"></iframe><iframe name="googlefcInactive" src="./bert 내용 대충 정리_files/saved_resource(6).html" style="display: none; width: 0px; height: 0px; border: none; z-index: -1000; left: -1000px; top: -1000px;"></iframe><iframe name="googlefcLoaded" src="./bert 내용 대충 정리_files/saved_resource(7).html" style="display: none; width: 0px; height: 0px; border: none; z-index: -1000; left: -1000px; top: -1000px;"></iframe><iframe src="./bert 내용 대충 정리_files/aframe.html" width="0" height="0" style="display: none;"></iframe></body></html>