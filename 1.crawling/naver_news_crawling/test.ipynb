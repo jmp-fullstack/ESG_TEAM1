{
 "cells": [
  {
   "cell_type": "code",
   "execution_count": 1,
   "metadata": {},
   "outputs": [],
   "source": [
    "data = [\n",
    "    '마드라스체크에 따르면 서울우유가 국내 유업체의 선두주자인 만큼 이번 플로우 도입으로 업무 소통 효율을 높이되 프로젝트의 기획 산출물이나 계약 사항 누출에 매우 민감해 외부 유출을 원천 방지할 수 있도록 철저한 보안 기능까지 안정적으로 지원하여 협업툴 공급 계약 체결에 신중을 기했다고 한다',\n",
    "    '한편 서울우유 공급 계약 체결 소식을 전한 플로우는 국내 유일하게 ΔSaaS형 Δ클라우드 호스팅형 Δ사내서버설치형OnPremise형 가지 형태의 서비스를 지원하고 있어 다양로젝트의 기획 산출물이나 계약 사항 누출에 매우 민감해 외부 유출을 원천 방지할 수 있도록 철저한 보안 기능까지 안정적으한 고객들의 업무 환경에 알맞는 협업툴을 공급하고 있다',\n",
    "    '회사 측에 따르면 년 월 기준 국내 여개의 기업에서 협업 내 유일하게 ΔSaaS형 Δ클라우드 호스팅형 Δ사내서버설치형OnPremise형 가지 형태의 서비스를 지원하고 있어 다양한 고객들의 툴 플로우를 활용하여 디지털 협업 환경을 구축하고 조직문화를 혁신하고 있다'\n",
    "]"
   ]
  },
  {
   "cell_type": "code",
   "execution_count": 11,
   "metadata": {},
   "outputs": [],
   "source": [
    "from keywords.mariadb import MariaDB"
   ]
  },
  {
   "cell_type": "code",
   "execution_count": 19,
   "metadata": {},
   "outputs": [],
   "source": [
    "with open('./keywords/aws_config','r') as f:\n",
    "    lines = f.readlines()\n",
    "    a = {line.split('=')[0].strip():line.split('=')[1].strip() for line in lines}\n",
    "\n",
    "db = MariaDB(a)"
   ]
  },
  {
   "cell_type": "code",
   "execution_count": 20,
   "metadata": {},
   "outputs": [
    {
     "data": {
      "text/plain": [
       "['DB',\n",
       " '__class__',\n",
       " '__del__',\n",
       " '__delattr__',\n",
       " '__dict__',\n",
       " '__dir__',\n",
       " '__doc__',\n",
       " '__eq__',\n",
       " '__format__',\n",
       " '__ge__',\n",
       " '__getattribute__',\n",
       " '__getstate__',\n",
       " '__gt__',\n",
       " '__hash__',\n",
       " '__init__',\n",
       " '__init_subclass__',\n",
       " '__le__',\n",
       " '__lt__',\n",
       " '__module__',\n",
       " '__ne__',\n",
       " '__new__',\n",
       " '__reduce__',\n",
       " '__reduce_ex__',\n",
       " '__repr__',\n",
       " '__setattr__',\n",
       " '__sizeof__',\n",
       " '__str__',\n",
       " '__subclasshook__',\n",
       " '__weakref__',\n",
       " 'cursor_type',\n",
       " 'insert',\n",
       " 'insert_many',\n",
       " 'select']"
      ]
     },
     "execution_count": 20,
     "metadata": {},
     "output_type": "execute_result"
    }
   ],
   "source": [
    "db.insert"
   ]
  },
  {
   "cell_type": "code",
   "execution_count": 14,
   "metadata": {},
   "outputs": [
    {
     "data": {
      "text/plain": [
       "2"
      ]
     },
     "execution_count": 14,
     "metadata": {},
     "output_type": "execute_result"
    }
   ],
   "source": [
    "db.insert('test', 'name, age', ('[백수정]', '7'))"
   ]
  },
  {
   "cell_type": "code",
   "execution_count": null,
   "metadata": {},
   "outputs": [],
   "source": [
    "columns = 'name, age'\n",
    "values = ('[백수정]', 7)\n",
    "db.insert('test', columns, values)"
   ]
  },
  {
   "cell_type": "code",
   "execution_count": 36,
   "metadata": {},
   "outputs": [
    {
     "data": {
      "text/plain": [
       "3"
      ]
     },
     "execution_count": 36,
     "metadata": {},
     "output_type": "execute_result"
    }
   ],
   "source": [
    "a = (1,2,3)\n",
    "len(a)"
   ]
  },
  {
   "cell_type": "code",
   "execution_count": null,
   "metadata": {},
   "outputs": [],
   "source": [
    "a = df['제품명'].tolist()\n",
    "b = [i.strip() for i in a]\n",
    "print(b)\n",
    "    "
   ]
  }
 ],
 "metadata": {
  "kernelspec": {
   "display_name": "bok",
   "language": "python",
   "name": "python3"
  },
  "language_info": {
   "codemirror_mode": {
    "name": "ipython",
    "version": 3
   },
   "file_extension": ".py",
   "mimetype": "text/x-python",
   "name": "python",
   "nbconvert_exporter": "python",
   "pygments_lexer": "ipython3",
   "version": "3.11.8"
  }
 },
 "nbformat": 4,
 "nbformat_minor": 2
}
