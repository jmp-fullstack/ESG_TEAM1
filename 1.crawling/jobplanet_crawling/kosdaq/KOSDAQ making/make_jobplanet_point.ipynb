{
 "cells": [
  {
   "cell_type": "code",
   "execution_count": 1,
   "metadata": {},
   "outputs": [],
   "source": [
    "import pandas as pd\n",
    "import numpy as np\n",
    "import os"
   ]
  },
  {
   "cell_type": "code",
   "execution_count": 2,
   "metadata": {},
   "outputs": [
    {
     "data": {
      "text/plain": [
       "'c:\\\\Users\\\\SDA02\\\\Desktop\\\\my_workspace\\\\sanghyuk29-package\\\\hsh_esg_project\\\\jobplanet_crawling\\\\kosdaq\\\\KOSDAQ result'"
      ]
     },
     "execution_count": 2,
     "metadata": {},
     "output_type": "execute_result"
    }
   ],
   "source": [
    "# 경로 설정하기\n",
    "target_dir = 'c:\\\\Users\\\\SDA02\\\\Desktop\\\\my_workspace\\\\sanghyuk29-package\\\\hsh_esg_project\\\\jobplanet_crawling\\\\kosdaq\\\\KOSDAQ result'\n",
    "os.chdir(target_dir)\n",
    "os.getcwd()"
   ]
  },
  {
   "cell_type": "code",
   "execution_count": 38,
   "metadata": {},
   "outputs": [],
   "source": [
    "# 각 범위의 최소 최대 범위 구하기\n",
    "\n",
    "# 항목 최소-최대 결측치변경값\n",
    "\n",
    "# 복지개수 1-78 10\n",
    "# 복지평점 1-5 1\n",
    "# 리뷰평점 1-5 1\n",
    "# 복지 및 급여 1-5 1\n",
    "# 워라밸 1-5 1\n",
    "# 사내문화 1-5 1\n",
    "# 승진 및 기회가능성 1-5 1\n",
    "# 경영진 점수 1-5 1\n",
    "# 기업추천율 2-100 20\n",
    "# ceo지지율 5-100 20\n",
    "# 성장가능성 1-100 20"
   ]
  },
  {
   "cell_type": "code",
   "execution_count": 3,
   "metadata": {},
   "outputs": [],
   "source": [
    "jp_point_df = pd.read_csv('./kosdaq_jobplanet_numer_data_result.csv')"
   ]
  },
  {
   "cell_type": "code",
   "execution_count": 4,
   "metadata": {},
   "outputs": [],
   "source": [
    "# 확인용\n",
    "# print(max([num for num in jp_point_df['s_point']]))\n",
    "# print(([num for num in jp_point_df['s_point']]))\n",
    "# print(len([(num, corp) for num, corp in zip(jp_point_df['s_point'], jp_point_df['회사명']) if num > 0.0]))"
   ]
  },
  {
   "cell_type": "code",
   "execution_count": 5,
   "metadata": {},
   "outputs": [],
   "source": [
    "del jp_point_df['Unnamed: 0.1']\n",
    "del jp_point_df['Unnamed: 0']\n",
    "del jp_point_df['순서']"
   ]
  },
  {
   "cell_type": "code",
   "execution_count": 7,
   "metadata": {},
   "outputs": [],
   "source": [
    "jp_point_df['s_point'] = jp_point_df['s_point'] /3 * 2\n",
    "jp_point_df['g_point'] = jp_point_df['g_point'] /3 * 2"
   ]
  },
  {
   "cell_type": "code",
   "execution_count": 8,
   "metadata": {},
   "outputs": [
    {
     "name": "stdout",
     "output_type": "stream",
     "text": [
      "s_가산점 => 최소 : 0.05716666666666667 ||| 최대 : 7.888000000000003\n",
      "g_가산점 => 최소 : 0.16 ||| 최대 : 10.0\n"
     ]
    }
   ],
   "source": [
    "# s_point 값 범위\n",
    "s_max = max([num for num in jp_point_df['s_point']])\n",
    "s_min = min([num for num in jp_point_df['s_point']])\n",
    "print(f's_가산점 => 최소 : {s_min} ||| 최대 : {s_max}')\n",
    "# g_point 값 범위\n",
    "g_max = max([num for num in jp_point_df['g_point']])\n",
    "g_min = min([num for num in jp_point_df['g_point']])\n",
    "print(f'g_가산점 => 최소 : {g_min} ||| 최대 : {g_max}')"
   ]
  },
  {
   "cell_type": "code",
   "execution_count": 9,
   "metadata": {},
   "outputs": [],
   "source": [
    "jp_point_df.to_csv('./잡플래닛 가즈아.csv')"
   ]
  },
  {
   "cell_type": "code",
   "execution_count": null,
   "metadata": {},
   "outputs": [],
   "source": []
  }
 ],
 "metadata": {
  "kernelspec": {
   "display_name": "study",
   "language": "python",
   "name": "python3"
  },
  "language_info": {
   "codemirror_mode": {
    "name": "ipython",
    "version": 3
   },
   "file_extension": ".py",
   "mimetype": "text/x-python",
   "name": "python",
   "nbconvert_exporter": "python",
   "pygments_lexer": "ipython3",
   "version": "3.10.13"
  }
 },
 "nbformat": 4,
 "nbformat_minor": 2
}
