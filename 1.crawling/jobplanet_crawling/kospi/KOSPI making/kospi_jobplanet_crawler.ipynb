{
 "cells": [
  {
   "cell_type": "markdown",
   "metadata": {},
   "source": [
    "# 필요 모듈 정리"
   ]
  },
  {
   "cell_type": "code",
   "execution_count": null,
   "metadata": {},
   "outputs": [],
   "source": [
    "%pip install selenium\n",
    "%pip install webdriver-manager"
   ]
  },
  {
   "cell_type": "code",
   "execution_count": 1,
   "metadata": {},
   "outputs": [],
   "source": [
    "from selenium import webdriver\n",
    "from selenium.webdriver.chrome.service import Service\n",
    "from webdriver_manager.chrome import ChromeDriverManager\n",
    "import requests\n",
    "from bs4 import BeautifulSoup\n",
    "import json\n",
    "from selenium.webdriver.common.by import By\n",
    "import time\n",
    "import re\n",
    "import pandas as pd"
   ]
  },
  {
   "cell_type": "code",
   "execution_count": 3,
   "metadata": {},
   "outputs": [],
   "source": [
    "driver = webdriver.Chrome(service=Service(ChromeDriverManager().install()))"
   ]
  },
  {
   "cell_type": "markdown",
   "metadata": {},
   "source": [
    "# jobplanet 페이지 구조\n",
    "\n",
    "- https://www.jobplanet.co.kr/companies/30139/reviews/삼성전자\n",
    "    - span[class=\"rate_point] : 전체 리뷰 평점\n",
    "    - span[class=\"txt_point\"] : 순서대로 [복지 및 급여, 업무와 삶의 균형, 사내문화, 승진 기회 및 가능성, 경영진, 기업 추천율, ceo 지지율, 성장 가능성]\n",
    "\n",
    "- https://www.jobplanet.co.kr/companies/30139/benefits/삼성전자\n",
    "    - span[class=\"welfare-star__point] : 전체 복지 평점\n",
    "    - button[class=\"welfare-overview__num\"] : 복지 개수\n"
   ]
  },
  {
   "cell_type": "markdown",
   "metadata": {},
   "source": [
    "# jobplanet 기업 고유번호 가져오기\n",
    "- selenium 이용\n",
    "- 구글 -> 잡플래닛 + 기업명 검색\n",
    "- 구글 로봇 정책을 피하기 위해서 10개씩 나누어 jobplanet_corp_code.json 저장"
   ]
  },
  {
   "cell_type": "code",
   "execution_count": 24,
   "metadata": {},
   "outputs": [],
   "source": [
    "# 기업명을 반복문 돌리기 위한 kospi200 기업 리스트 만들기\n",
    "with open('top200_name_list.csv', 'r', encoding= 'utf-8') as file :\n",
    "    kospi_200_corp_list = [corp_name.strip() for corp_name in file.readlines()]"
   ]
  },
  {
   "cell_type": "code",
   "execution_count": 77,
   "metadata": {},
   "outputs": [],
   "source": [
    "# corp_code 정리를 위한 딕셔너리 생성\n",
    "job_planet_corp_code = {}\n",
    "crawling_failed_list = []"
   ]
  },
  {
   "cell_type": "code",
   "execution_count": 78,
   "metadata": {},
   "outputs": [],
   "source": [
    "for corp in kospi_200_corp_list[190:200] : \n",
    "    # 1. 구글 사이트 접속하기\n",
    "    driver.get('https://www.google.com')\n",
    "\n",
    "    # 2. 검색창에 커서 놓기\n",
    "    search_part = driver.find_element(By.CSS_SELECTOR, 'textarea[class=\"gLFyf\"]')\n",
    "\n",
    "    # 3. 잡플래닛 + 기업명 검색어 입력하기\n",
    "    search_part.send_keys(f'잡플래닛 {corp}')\n",
    "\n",
    "    # 4. 구글 검색 아이콘 클릭하기\n",
    "    driver.find_elements(By.CSS_SELECTOR, 'input[role=\"button\"]')[1].click()\n",
    "\n",
    "    time.sleep(1)\n",
    "\n",
    "    # 5. selenium을 통해 동적 html 소스 가져오기\n",
    "    soup = BeautifulSoup(driver.page_source, 'html.parser')\n",
    "\n",
    "    corp_code_htmls = soup.select('a[jsname=\"UWckNb\"]')\n",
    "\n",
    "    html_tags = ''\n",
    "    for corp_code in corp_code_htmls :\n",
    "        html_tags += str(corp_code)\n",
    "    \n",
    "    if re.findall('https://www.jobplanet.co.kr/companies/[0-9]+', html_tags) != [] :\n",
    "        corp_code = int(re.findall('https://www.jobplanet.co.kr/companies/[0-9]+', html_tags)[0].split('/')[-1])\n",
    "        job_planet_corp_code[corp] = corp_code\n",
    "    else :\n",
    "        crawling_failed_list.append(corp)\n",
    "        print(f'{corp} 회사는 크롤링에 실패했습니다')\n",
    "        \n",
    "    \n",
    "# db 금융지주에서 오류남!"
   ]
  },
  {
   "cell_type": "code",
   "execution_count": 79,
   "metadata": {},
   "outputs": [],
   "source": [
    "with open('jobplanet_corp_code.json', 'a', encoding='utf-8-sig') as f : \n",
    "\tjson.dump(job_planet_corp_code, f, ensure_ascii=False, indent= '\\t')"
   ]
  },
  {
   "cell_type": "markdown",
   "metadata": {},
   "source": [
    "# 잡플래닛 회사 고유번호를 이용한 잡플래닛 크롤링\n",
    "- 잡플래닛 자체가 cloudfare로 로봇 크롤링을 막아놨기 때문에 selenium으로 진행\n",
    "- jobplanet_corp_code.json 불러오기"
   ]
  },
  {
   "cell_type": "code",
   "execution_count": 3,
   "metadata": {},
   "outputs": [
    {
     "data": {
      "text/plain": [
       "63"
      ]
     },
     "execution_count": 3,
     "metadata": {},
     "output_type": "execute_result"
    }
   ],
   "source": [
    "# 잡플래닛 내부 회사 번호 딕셔너리 불러오기\n",
    "with open('./kospi_jobplanet_corp_code_크롤링 해야 할 회사.json', 'r', encoding='utf-8-sig') as file :\n",
    "    jp_corp_code = json.load(file)\n",
    "len(jp_corp_code)"
   ]
  },
  {
   "cell_type": "markdown",
   "metadata": {},
   "source": [
    "- 잡플래닛 로그인 하기\n",
    "    - 셀레니움은 기본적으로 세션 유지가 되기 때문에 로그인 상태를 유지하면서 페이지를 바꿀 수 있다. "
   ]
  },
  {
   "cell_type": "code",
   "execution_count": 4,
   "metadata": {},
   "outputs": [],
   "source": [
    "driver = webdriver.Chrome(service=Service(ChromeDriverManager().install()))\n",
    "# 1. 잡플래닛 로그인 url로 접속하기\n",
    "driver.get('https://www.jobplanet.co.kr/users/sign_in?_nav=gb')"
   ]
  },
  {
   "cell_type": "code",
   "execution_count": 5,
   "metadata": {},
   "outputs": [],
   "source": [
    "# 2. 아이디 입력창에 커서 놓기\n",
    "input_id = driver.find_element(By.CSS_SELECTOR, 'input[id=\"user_email\"]')\n",
    "\n",
    "# 3. 아이디 입력창에 아이디 입력\n",
    "input_id.send_keys(f'12203193@inha.edu')\n",
    "\n",
    "# 4. 비밀번호 입력창에 커서 놓기\n",
    "input_password = driver.find_element(By.CSS_SELECTOR, 'input[id=\"user_password\"]')\n",
    "\n",
    "# 5. 비밀번호 입력창에 비밀번호 입력\n",
    "input_password.send_keys(f'24172019sh!')\n",
    "\n",
    "# 6. 로그인 버튼 클릭하기\n",
    "driver.find_element(By.CSS_SELECTOR, 'button[class=\"btn_sign_up\"]').click()\n",
    "\n",
    "# 로그인 상태를 유지함.\n"
   ]
  },
  {
   "cell_type": "markdown",
   "metadata": {},
   "source": [
    "- 각 기업 별 <리뷰>와 <복지> 탭에 있는 정보들 크롤링하기\n",
    "    - 리뷰 탭 크롤링 대상 \n",
    "        - 1p : [전체 리뷰 평점, 복지 및 급여, 업무와 삶의 균형, 사내문화, 승진 기회 및 가능성, 경영진, 기업추천율, ceo 지지율, 성장 가능성] \n",
    "        - 모든 페이지 : 기업 리뷰들\n",
    "    - 복지 탭 크롤링 대상\n",
    "        - 1p : [전체 복지 평점, 복지 개수]\n",
    "        - 모든 페이지 : 복지 리뷰들"
   ]
  },
  {
   "cell_type": "markdown",
   "metadata": {},
   "source": [
    "## 최종 데이터 셋\n",
    "\n",
    "- [판다스]   \n",
    "    - 인덱스 -> jp_corp_code 기업순서   \n",
    "    - 칼럼 ->   \n",
    "전체 리뷰 평점, 복지 및 급여, 업무와 삶의 균형, 사내문화, 승진 기회 및 가능성, 경영진, 기업추천율,   \n",
    "ceo 지지율, 성장 가능성 ,기업 리뷰들, 전체 복지 평점, 복지 개수 복지 리뷰들    \n",
    "--> 기업 순서별로 각각의 리스트에 넣어주기"
   ]
  },
  {
   "cell_type": "code",
   "execution_count": 6,
   "metadata": {},
   "outputs": [],
   "source": [
    "아이디, 회사순서, 전체리뷰평점,복지및급여,업무와삶의균형 ,사내문화 ,승진기회및가능성 ,경영진 ,기업추천율 ,ceo지지율 ,성장가능성, 총복지평점, 총복지개수, 장점리뷰, 단점리뷰 = [[] for _ in range(15)]"
   ]
  },
  {
   "cell_type": "code",
<<<<<<< HEAD
   "execution_count": null,
   "metadata": {},
   "outputs": [],
=======
   "execution_count": 27,
   "metadata": {},
   "outputs": [
    {
     "name": "stdout",
     "output_type": "stream",
     "text": [
      "크롤링 완료\n"
     ]
    }
   ],
>>>>>>> 4dfbdf451bd1e388ba816d371dcd9f9485cf2f4f
   "source": [
    "for i, corp_name in enumerate(jp_corp_code) :\n",
    "    # if corp_name != 'CJ대한통운' : --> 기업 범위 지정할 때 사용할 로직\n",
    "        # 1. 리뷰 탭에 있는 수치형 데이터 크롤링하기\n",
    "        try:\n",
    "            driver.get(f'https://www.jobplanet.co.kr/companies/{jp_corp_code[corp_name]}/reviews?page=1')\n",
    "            \n",
    "            리뷰평점 = float(driver.find_element(By.CSS_SELECTOR, 'span[class=\"rate_point\"]').text)\n",
    "            \n",
    "            review_datas = driver.find_elements(By.CSS_SELECTOR, 'span[class=\"txt_point\"]')\n",
    "            review_composition = [float(review_data.text.replace('%', '').replace('--', '0')) if '%' in review_data.text else float(review_data.text) for review_data in review_datas]\n",
    "            \n",
    "            아이디.append(i+1)\n",
    "            회사순서.append(corp_name)\n",
    "            전체리뷰평점.append(리뷰평점)\n",
    "            복지및급여.append(review_composition[0])\n",
    "            업무와삶의균형.append(review_composition[1])\n",
    "            사내문화.append(review_composition[2])\n",
    "            승진기회및가능성.append(review_composition[3])\n",
    "            경영진.append(review_composition[4])\n",
    "            기업추천율.append(review_composition[5])\n",
    "            ceo지지율.append(review_composition[6])\n",
    "            성장가능성.append(review_composition[7])\n",
    "        except :\n",
    "            아이디.append(i+1)\n",
    "            회사순서.append('NULL')\n",
    "            전체리뷰평점.append('NULL')\n",
    "            복지및급여.append('NULL')\n",
    "            업무와삶의균형.append('NULL')\n",
    "            사내문화.append('NULL')\n",
    "            승진기회및가능성.append('NULL')\n",
    "            경영진.append('NULL')\n",
    "            기업추천율.append('NULL')\n",
    "            ceo지지율.append('NULL')\n",
    "            성장가능성.append('NULL')\n",
    "        \n",
    "\n",
    "\n",
    "        # 2. 복지 탭에 있는 수치형 데이터 크롤링하기\n",
    "        driver.get(f'https://www.jobplanet.co.kr/companies/{jp_corp_code[corp_name]}/benefits')\n",
    "        try : # 복지 종합 데이터가 존재할 경우\n",
    "            복지평점 = driver.find_element(By.CSS_SELECTOR, 'span[class=\"welfare-star__point\"]').text\n",
    "            복지개수 = driver.find_element(By.CSS_SELECTOR, 'button[class=\"welfare-overview__num\"]').text\n",
    "            총복지평점.append(복지평점)\n",
    "            총복지개수.append(복지개수)\n",
    "        except :\n",
    "            총복지평점.append('NUll')\n",
    "            총복지개수.append('NUll')\n",
    "        \n",
    "\n",
    "print('크롤링 완료')\n",
    "\n",
    "    "
   ]
  },
  {
   "cell_type": "code",
   "execution_count": 11,
   "metadata": {},
   "outputs": [],
   "source": [
    "jp_df = pd.DataFrame({'회사명' : 회사순서, '복지평점' : 총복지평점, '복지개수' : 총복지개수, '리뷰평점' : 전체리뷰평점, '복지 및 급여' : 복지및급여,\n",
    "                      '워라밸' : 업무와삶의균형, '사내문화' : 사내문화, '승진기회및가능성' : 승진기회및가능성, '경영진 점수' : 경영진, '기업추천율' : 기업추천율,\n",
    "                      'ceo지지율' : ceo지지율, '성장가능성' : 성장가능성, '직원들이 평가한 장점' : 장점리뷰, '직원들이 평가한 단점' : 단점리뷰 })"
   ]
  },
  {
   "cell_type": "code",
<<<<<<< HEAD
   "execution_count": null,
   "metadata": {},
   "outputs": [],
=======
   "execution_count": 12,
   "metadata": {},
   "outputs": [
    {
     "data": {
      "text/html": [
       "<div>\n",
       "<style scoped>\n",
       "    .dataframe tbody tr th:only-of-type {\n",
       "        vertical-align: middle;\n",
       "    }\n",
       "\n",
       "    .dataframe tbody tr th {\n",
       "        vertical-align: top;\n",
       "    }\n",
       "\n",
       "    .dataframe thead th {\n",
       "        text-align: right;\n",
       "    }\n",
       "</style>\n",
       "<table border=\"1\" class=\"dataframe\">\n",
       "  <thead>\n",
       "    <tr style=\"text-align: right;\">\n",
       "      <th></th>\n",
       "      <th>회사명</th>\n",
       "      <th>복지평점</th>\n",
       "      <th>복지개수</th>\n",
       "      <th>리뷰평점</th>\n",
       "      <th>복지 및 급여</th>\n",
       "      <th>워라밸</th>\n",
       "      <th>사내문화</th>\n",
       "      <th>승진기회및가능성</th>\n",
       "      <th>경영진 점수</th>\n",
       "      <th>기업추천율</th>\n",
       "      <th>ceo지지율</th>\n",
       "      <th>성장가능성</th>\n",
       "      <th>직원들이 평가한 장점</th>\n",
       "      <th>직원들이 평가한 단점</th>\n",
       "    </tr>\n",
       "  </thead>\n",
       "  <tbody>\n",
       "    <tr>\n",
       "      <th>0</th>\n",
       "      <td>이마트</td>\n",
       "      <td>3.7</td>\n",
       "      <td>60</td>\n",
       "      <td>3.5</td>\n",
       "      <td>3.4</td>\n",
       "      <td>3.4</td>\n",
       "      <td>3.2</td>\n",
       "      <td>2.7</td>\n",
       "      <td>2.9</td>\n",
       "      <td>56.0</td>\n",
       "      <td>62.0</td>\n",
       "      <td>23.0</td>\n",
       "      <td>인사파트장 , sv , 여사님들 다들 친절하고 날카로운사람들이 없어서 직원스트레스가...</td>\n",
       "      <td>유연근무제로 주말에 쉬기 어렵고 밥은 항상 메인반찬은 부족하고 별로임||부서마다 다...</td>\n",
       "    </tr>\n",
       "    <tr>\n",
       "      <th>1</th>\n",
       "      <td>일진하이솔루스</td>\n",
       "      <td>2.2</td>\n",
       "      <td>40</td>\n",
       "      <td>2.3</td>\n",
       "      <td>2.4</td>\n",
       "      <td>2.2</td>\n",
       "      <td>2.2</td>\n",
       "      <td>1.9</td>\n",
       "      <td>1.7</td>\n",
       "      <td>24.0</td>\n",
       "      <td>15.0</td>\n",
       "      <td>24.0</td>\n",
       "      <td>당연 직장인들의 최고의 복지는 급여일 거로 생각함 급여 괜찮음||상장해서 투자금 여...</td>\n",
       "      <td>소통의 부재 현장과 관리자들의 소통이 부족해보임 조금 아쉬울 따름..||꼴에 그룹사...</td>\n",
       "    </tr>\n",
       "    <tr>\n",
       "      <th>2</th>\n",
       "      <td>제일기획</td>\n",
       "      <td>4.1</td>\n",
       "      <td>65</td>\n",
       "      <td>3.7</td>\n",
       "      <td>3.8</td>\n",
       "      <td>2.9</td>\n",
       "      <td>3.6</td>\n",
       "      <td>3.2</td>\n",
       "      <td>2.9</td>\n",
       "      <td>75.0</td>\n",
       "      <td>61.0</td>\n",
       "      <td>29.0</td>\n",
       "      <td>다양한 직무의 사람들이 많아 서로 배울 수 있고 프로젝트 베이스로 일하기에 챌린징하...</td>\n",
       "      <td>업무 강도가 세고 클라이언트 업무기에 타임라인 조정이 힘들다||광고주 잘만나야댐 프...</td>\n",
       "    </tr>\n",
       "    <tr>\n",
       "      <th>3</th>\n",
       "      <td>종근당</td>\n",
       "      <td>3.3</td>\n",
       "      <td>60</td>\n",
       "      <td>2.9</td>\n",
       "      <td>3.5</td>\n",
       "      <td>2.5</td>\n",
       "      <td>2.2</td>\n",
       "      <td>2.9</td>\n",
       "      <td>2.1</td>\n",
       "      <td>39.0</td>\n",
       "      <td>32.0</td>\n",
       "      <td>25.0</td>\n",
       "      <td>높은 기본급 스탭직무 기준 업무 강도 적당함 망할 걱정은 없음||타제약 비해서 연봉...</td>\n",
       "      <td>임원진들의 권위의식이 너무 강함 처음엔 회사가 다 이런줄 알았다 돌이켜보니 다 이렇...</td>\n",
       "    </tr>\n",
       "    <tr>\n",
       "      <th>4</th>\n",
       "      <td>카카오</td>\n",
       "      <td>4.2</td>\n",
       "      <td>63</td>\n",
       "      <td>3.8</td>\n",
       "      <td>3.5</td>\n",
       "      <td>4.2</td>\n",
       "      <td>4.1</td>\n",
       "      <td>3.2</td>\n",
       "      <td>3.0</td>\n",
       "      <td>80.0</td>\n",
       "      <td>54.0</td>\n",
       "      <td>49.0</td>\n",
       "      <td>일하는데 걱정없는 환경이 조성되어 있으며 업무 관련한 자유로운 의견개진이 이루어짐|...</td>\n",
       "      <td>대기업이 되어 가면서 고착화된 업무행태가 늘어나고 있는 모습이 안타까움||IT회사의...</td>\n",
       "    </tr>\n",
       "    <tr>\n",
       "      <th>...</th>\n",
       "      <td>...</td>\n",
       "      <td>...</td>\n",
       "      <td>...</td>\n",
       "      <td>...</td>\n",
       "      <td>...</td>\n",
       "      <td>...</td>\n",
       "      <td>...</td>\n",
       "      <td>...</td>\n",
       "      <td>...</td>\n",
       "      <td>...</td>\n",
       "      <td>...</td>\n",
       "      <td>...</td>\n",
       "      <td>...</td>\n",
       "      <td>...</td>\n",
       "    </tr>\n",
       "    <tr>\n",
       "      <th>58</th>\n",
       "      <td>효성</td>\n",
       "      <td>2.4</td>\n",
       "      <td>44</td>\n",
       "      <td>2.7</td>\n",
       "      <td>2.5</td>\n",
       "      <td>2.6</td>\n",
       "      <td>2.4</td>\n",
       "      <td>2.8</td>\n",
       "      <td>2.1</td>\n",
       "      <td>29.0</td>\n",
       "      <td>28.0</td>\n",
       "      <td>14.0</td>\n",
       "      <td>사원대리급을 사관학교급으로 굴리기 때문에 매일같이 야근하는 과정에서 돈독해질수있음|...</td>\n",
       "      <td>일이 저 위에서부터 계속 내려오기만함. 내려오고, 내려오고, 또 내려옴||마인드가 ...</td>\n",
       "    </tr>\n",
       "    <tr>\n",
       "      <th>59</th>\n",
       "      <td>효성첨단소재</td>\n",
       "      <td>2.5</td>\n",
       "      <td>60</td>\n",
       "      <td>2.3</td>\n",
       "      <td>2.2</td>\n",
       "      <td>2.2</td>\n",
       "      <td>2.0</td>\n",
       "      <td>2.4</td>\n",
       "      <td>1.7</td>\n",
       "      <td>16.0</td>\n",
       "      <td>19.0</td>\n",
       "      <td>15.0</td>\n",
       "      <td>알려주지 않은 회사 복지 같은 복지 제도가 있습니다.||사내 분위기가 좋고 구성원이...</td>\n",
       "      <td>생산직과 사무직은 마찬가지로 근무환경 많이 달라요. 이점 기억하시길.||최상위단에서...</td>\n",
       "    </tr>\n",
       "    <tr>\n",
       "      <th>60</th>\n",
       "      <td>효성티앤씨</td>\n",
       "      <td>2.8</td>\n",
       "      <td>51</td>\n",
       "      <td>2.4</td>\n",
       "      <td>2.2</td>\n",
       "      <td>2.8</td>\n",
       "      <td>2.2</td>\n",
       "      <td>2.4</td>\n",
       "      <td>1.8</td>\n",
       "      <td>19.0</td>\n",
       "      <td>22.0</td>\n",
       "      <td>6.0</td>\n",
       "      <td>워라벨 굿, (반포)건물너무쾌적, 사람들 다 좋음, 복지 점점 좋아지는중||공덕역에...</td>\n",
       "      <td>4,5급은 올라가는거 없음 (연봉, 승진 등) 부바부 업무량 다름 - 워라벨도 갈림...</td>\n",
       "    </tr>\n",
       "    <tr>\n",
       "      <th>61</th>\n",
       "      <td>후성</td>\n",
       "      <td>3.0</td>\n",
       "      <td>27</td>\n",
       "      <td>3.6</td>\n",
       "      <td>3.7</td>\n",
       "      <td>3.8</td>\n",
       "      <td>3.0</td>\n",
       "      <td>3.4</td>\n",
       "      <td>2.9</td>\n",
       "      <td>70.0</td>\n",
       "      <td>68.0</td>\n",
       "      <td>42.0</td>\n",
       "      <td>연구기준 워라벨 지켜지며 현금성 복지가 좋아서 돈모으는 맛이 있음||워라밸이 좋은편...</td>\n",
       "      <td>보수적인 기업문화 꼰대문화가 남아있고 탑다운방식의 업무처리방식이라 답답할수있음||미...</td>\n",
       "    </tr>\n",
       "    <tr>\n",
       "      <th>62</th>\n",
       "      <td>휠라홀딩스</td>\n",
       "      <td>3.8</td>\n",
       "      <td>20</td>\n",
       "      <td>2.9</td>\n",
       "      <td>2.9</td>\n",
       "      <td>3.0</td>\n",
       "      <td>2.5</td>\n",
       "      <td>2.9</td>\n",
       "      <td>2.4</td>\n",
       "      <td>47.0</td>\n",
       "      <td>65.0</td>\n",
       "      <td>35.0</td>\n",
       "      <td>진취적으로 업무를 finding하며 발전하고싶은 경력직 직원에 추천.||연차자유롭습...</td>\n",
       "      <td>출근 시간은 8시인데...퇴근 시간은....말잇못. 일 하는 양에 비해 현저히 적은...</td>\n",
       "    </tr>\n",
       "  </tbody>\n",
       "</table>\n",
       "<p>63 rows × 14 columns</p>\n",
       "</div>"
      ],
      "text/plain": [
       "        회사명 복지평점 복지개수  리뷰평점  복지 및 급여  워라밸  사내문화  승진기회및가능성  경영진 점수  기업추천율  \\\n",
       "0       이마트  3.7   60   3.5      3.4  3.4   3.2       2.7     2.9   56.0   \n",
       "1   일진하이솔루스  2.2   40   2.3      2.4  2.2   2.2       1.9     1.7   24.0   \n",
       "2      제일기획  4.1   65   3.7      3.8  2.9   3.6       3.2     2.9   75.0   \n",
       "3       종근당  3.3   60   2.9      3.5  2.5   2.2       2.9     2.1   39.0   \n",
       "4       카카오  4.2   63   3.8      3.5  4.2   4.1       3.2     3.0   80.0   \n",
       "..      ...  ...  ...   ...      ...  ...   ...       ...     ...    ...   \n",
       "58       효성  2.4   44   2.7      2.5  2.6   2.4       2.8     2.1   29.0   \n",
       "59   효성첨단소재  2.5   60   2.3      2.2  2.2   2.0       2.4     1.7   16.0   \n",
       "60    효성티앤씨  2.8   51   2.4      2.2  2.8   2.2       2.4     1.8   19.0   \n",
       "61       후성  3.0   27   3.6      3.7  3.8   3.0       3.4     2.9   70.0   \n",
       "62    휠라홀딩스  3.8   20   2.9      2.9  3.0   2.5       2.9     2.4   47.0   \n",
       "\n",
       "    ceo지지율  성장가능성                                        직원들이 평가한 장점  \\\n",
       "0     62.0   23.0  인사파트장 , sv , 여사님들 다들 친절하고 날카로운사람들이 없어서 직원스트레스가...   \n",
       "1     15.0   24.0  당연 직장인들의 최고의 복지는 급여일 거로 생각함 급여 괜찮음||상장해서 투자금 여...   \n",
       "2     61.0   29.0  다양한 직무의 사람들이 많아 서로 배울 수 있고 프로젝트 베이스로 일하기에 챌린징하...   \n",
       "3     32.0   25.0  높은 기본급 스탭직무 기준 업무 강도 적당함 망할 걱정은 없음||타제약 비해서 연봉...   \n",
       "4     54.0   49.0  일하는데 걱정없는 환경이 조성되어 있으며 업무 관련한 자유로운 의견개진이 이루어짐|...   \n",
       "..     ...    ...                                                ...   \n",
       "58    28.0   14.0  사원대리급을 사관학교급으로 굴리기 때문에 매일같이 야근하는 과정에서 돈독해질수있음|...   \n",
       "59    19.0   15.0  알려주지 않은 회사 복지 같은 복지 제도가 있습니다.||사내 분위기가 좋고 구성원이...   \n",
       "60    22.0    6.0  워라벨 굿, (반포)건물너무쾌적, 사람들 다 좋음, 복지 점점 좋아지는중||공덕역에...   \n",
       "61    68.0   42.0  연구기준 워라벨 지켜지며 현금성 복지가 좋아서 돈모으는 맛이 있음||워라밸이 좋은편...   \n",
       "62    65.0   35.0  진취적으로 업무를 finding하며 발전하고싶은 경력직 직원에 추천.||연차자유롭습...   \n",
       "\n",
       "                                          직원들이 평가한 단점  \n",
       "0   유연근무제로 주말에 쉬기 어렵고 밥은 항상 메인반찬은 부족하고 별로임||부서마다 다...  \n",
       "1   소통의 부재 현장과 관리자들의 소통이 부족해보임 조금 아쉬울 따름..||꼴에 그룹사...  \n",
       "2   업무 강도가 세고 클라이언트 업무기에 타임라인 조정이 힘들다||광고주 잘만나야댐 프...  \n",
       "3   임원진들의 권위의식이 너무 강함 처음엔 회사가 다 이런줄 알았다 돌이켜보니 다 이렇...  \n",
       "4   대기업이 되어 가면서 고착화된 업무행태가 늘어나고 있는 모습이 안타까움||IT회사의...  \n",
       "..                                                ...  \n",
       "58  일이 저 위에서부터 계속 내려오기만함. 내려오고, 내려오고, 또 내려옴||마인드가 ...  \n",
       "59  생산직과 사무직은 마찬가지로 근무환경 많이 달라요. 이점 기억하시길.||최상위단에서...  \n",
       "60  4,5급은 올라가는거 없음 (연봉, 승진 등) 부바부 업무량 다름 - 워라벨도 갈림...  \n",
       "61  보수적인 기업문화 꼰대문화가 남아있고 탑다운방식의 업무처리방식이라 답답할수있음||미...  \n",
       "62  출근 시간은 8시인데...퇴근 시간은....말잇못. 일 하는 양에 비해 현저히 적은...  \n",
       "\n",
       "[63 rows x 14 columns]"
      ]
     },
     "execution_count": 12,
     "metadata": {},
     "output_type": "execute_result"
    }
   ],
>>>>>>> 4dfbdf451bd1e388ba816d371dcd9f9485cf2f4f
   "source": [
    "jp_df"
   ]
  },
  {
   "cell_type": "code",
   "execution_count": 13,
   "metadata": {},
   "outputs": [],
   "source": [
    "jp_df.to_csv('kospi_jobplanet_output139-200.csv')"
   ]
  },
  {
   "cell_type": "code",
   "execution_count": 9,
   "metadata": {},
   "outputs": [
    {
     "name": "stdout",
     "output_type": "stream",
     "text": [
      "63 63 63 63\n",
      "63 63 63\n",
      "63 63 63 63 63 63 63 63\n"
     ]
    }
   ],
   "source": [
    "print(len(아이디), len(회사순서), len(전체리뷰평점),len(복지및급여))\n",
    "print(len(업무와삶의균형), len(사내문화) ,len(승진기회및가능성)) \n",
    "print(len(경영진) ,len(기업추천율) ,len(ceo지지율) ,len(성장가능성), len(총복지평점), len(총복지개수), len(장점리뷰), len(단점리뷰))"
   ]
  },
  {
   "cell_type": "markdown",
   "metadata": {},
   "source": [
    "# 최종 데이터 셋 만들기"
   ]
  },
  {
   "cell_type": "code",
   "execution_count": 37,
   "metadata": {},
   "outputs": [],
   "source": [
    "csv0 = pd.read_csv('./kospi_jobplanet_output1-29.csv')"
   ]
  },
  {
   "cell_type": "code",
   "execution_count": 38,
   "metadata": {},
   "outputs": [],
   "source": [
    "csv1 = pd.read_csv('./kospi_jobplanet_output30-34.csv')"
   ]
  },
  {
   "cell_type": "code",
   "execution_count": 39,
   "metadata": {},
   "outputs": [],
   "source": [
    "csv2 = pd.read_csv('./kospi_jobplanet_output35-51.csv')"
   ]
  },
  {
   "cell_type": "code",
   "execution_count": 40,
   "metadata": {},
   "outputs": [],
   "source": [
    "csv3 = pd.read_csv('./kospi_obplanet_output52-85.csv')"
   ]
  },
  {
   "cell_type": "code",
   "execution_count": 41,
   "metadata": {},
   "outputs": [],
   "source": [
    "csv4 = pd.read_csv('./kospi_jobplanet_output86-138.csv')"
   ]
  },
  {
   "cell_type": "code",
   "execution_count": 42,
   "metadata": {},
   "outputs": [],
   "source": [
    "csv5 = pd.read_csv('./kospi_jobplanet_output139-200.csv')"
   ]
  },
  {
   "cell_type": "code",
   "execution_count": 43,
   "metadata": {},
   "outputs": [],
   "source": [
    "kospi200_jobplanet_output = pd.concat([csv0,csv1,csv2,csv3,csv4,csv5])"
   ]
  },
  {
   "cell_type": "code",
   "execution_count": 44,
   "metadata": {},
   "outputs": [],
   "source": [
    "kospi200_jobplanet_output\n",
    "del kospi200_jobplanet_output['Unnamed: 0']"
   ]
  },
  {
   "cell_type": "code",
   "execution_count": 45,
   "metadata": {},
   "outputs": [
    {
     "data": {
      "text/html": [
       "<div>\n",
       "<style scoped>\n",
       "    .dataframe tbody tr th:only-of-type {\n",
       "        vertical-align: middle;\n",
       "    }\n",
       "\n",
       "    .dataframe tbody tr th {\n",
       "        vertical-align: top;\n",
       "    }\n",
       "\n",
       "    .dataframe thead th {\n",
       "        text-align: right;\n",
       "    }\n",
       "</style>\n",
       "<table border=\"1\" class=\"dataframe\">\n",
       "  <thead>\n",
       "    <tr style=\"text-align: right;\">\n",
       "      <th></th>\n",
       "      <th>회사명</th>\n",
       "      <th>복지평점</th>\n",
       "      <th>복지개수</th>\n",
       "      <th>리뷰평점</th>\n",
       "      <th>복지 및 급여</th>\n",
       "      <th>워라밸</th>\n",
       "      <th>사내문화</th>\n",
       "      <th>승진기회및가능성</th>\n",
       "      <th>경영진 점수</th>\n",
       "      <th>기업추천율</th>\n",
       "      <th>ceo지지율</th>\n",
       "      <th>성장가능성</th>\n",
       "      <th>직원들이 평가한 장점</th>\n",
       "      <th>직원들이 평가한 단점</th>\n",
       "    </tr>\n",
       "  </thead>\n",
       "  <tbody>\n",
       "    <tr>\n",
       "      <th>0</th>\n",
       "      <td>BGF리테일</td>\n",
       "      <td>3.0</td>\n",
       "      <td>57</td>\n",
       "      <td>3.0</td>\n",
       "      <td>3.0</td>\n",
       "      <td>2.9</td>\n",
       "      <td>2.8</td>\n",
       "      <td>2.8</td>\n",
       "      <td>2.5</td>\n",
       "      <td>41.0</td>\n",
       "      <td>46.0</td>\n",
       "      <td>30.0</td>\n",
       "      <td>일을 제대로 배워볼 수 있음 (넓고 깊게) 이외에 장점은 없음||연봉이 하는 일에 ...</td>\n",
       "      <td>장점을 뺀 모든게 단점 복지없음 사옥구림 이상한사람있음 친구들이 회사이름 못알아먹음...</td>\n",
       "    </tr>\n",
       "    <tr>\n",
       "      <th>1</th>\n",
       "      <td>BNK금융지주</td>\n",
       "      <td>2.0</td>\n",
       "      <td>3</td>\n",
       "      <td>2.8</td>\n",
       "      <td>3.0</td>\n",
       "      <td>2.7</td>\n",
       "      <td>2.7</td>\n",
       "      <td>2.5</td>\n",
       "      <td>2.0</td>\n",
       "      <td>33.0</td>\n",
       "      <td>33.0</td>\n",
       "      <td>0.0</td>\n",
       "      <td>그래도 복지는 생각보다 괜찮다 정도 딱히 장점 잘 모르겠음||금융회사의 장점. 복리...</td>\n",
       "      <td>경영진으로 이루어진 기업 ”까라면 까야지“가 실행되는 회사||큰 단점으로 말한 만한...</td>\n",
       "    </tr>\n",
       "    <tr>\n",
       "      <th>2</th>\n",
       "      <td>CJ</td>\n",
       "      <td>NUll</td>\n",
       "      <td>NUll</td>\n",
       "      <td>3.7</td>\n",
       "      <td>3.2</td>\n",
       "      <td>2.8</td>\n",
       "      <td>3.4</td>\n",
       "      <td>3.7</td>\n",
       "      <td>3.2</td>\n",
       "      <td>72.0</td>\n",
       "      <td>90.0</td>\n",
       "      <td>61.0</td>\n",
       "      <td>사내 복지와 물리적 환경 매우 좋음. 동료들의 수준 높음||워라밸은 챙길수있고 지주...</td>\n",
       "      <td>정적이고 무거운 분위기라 혁신적인 프로젝트가 추친력있게 진행되기 어려움||보고작업이...</td>\n",
       "    </tr>\n",
       "    <tr>\n",
       "      <th>3</th>\n",
       "      <td>CJ대한통운</td>\n",
       "      <td>3.6</td>\n",
       "      <td>70</td>\n",
       "      <td>2.8</td>\n",
       "      <td>2.9</td>\n",
       "      <td>2.3</td>\n",
       "      <td>2.6</td>\n",
       "      <td>2.9</td>\n",
       "      <td>2.4</td>\n",
       "      <td>31.0</td>\n",
       "      <td>44.0</td>\n",
       "      <td>33.0</td>\n",
       "      <td>다른직장에 가면 잘 적응할수 있게 빡세게 키워준다 케바케로 복지가 좋다고 느낄수있다...</td>\n",
       "      <td>군대식 문화(까라면 까) 업무분장이 있지만 지켜지는 팀이 많이없다 윗선에 잘보이면 ...</td>\n",
       "    </tr>\n",
       "    <tr>\n",
       "      <th>4</th>\n",
       "      <td>CJ제일제당</td>\n",
       "      <td>3.6</td>\n",
       "      <td>69</td>\n",
       "      <td>2.9</td>\n",
       "      <td>3.0</td>\n",
       "      <td>2.6</td>\n",
       "      <td>2.9</td>\n",
       "      <td>3.0</td>\n",
       "      <td>2.5</td>\n",
       "      <td>37.0</td>\n",
       "      <td>45.0</td>\n",
       "      <td>33.0</td>\n",
       "      <td>계열사 할인 특히 올리브영 40퍼 할인은 진짜 좋다.. 부모님이 특히 좋아하심||3...</td>\n",
       "      <td>대기업 규모에 비해 급여가 너무 적다.. 노조가 생겼지만 5년 안에 좋아질 수도||...</td>\n",
       "    </tr>\n",
       "    <tr>\n",
       "      <th>...</th>\n",
       "      <td>...</td>\n",
       "      <td>...</td>\n",
       "      <td>...</td>\n",
       "      <td>...</td>\n",
       "      <td>...</td>\n",
       "      <td>...</td>\n",
       "      <td>...</td>\n",
       "      <td>...</td>\n",
       "      <td>...</td>\n",
       "      <td>...</td>\n",
       "      <td>...</td>\n",
       "      <td>...</td>\n",
       "      <td>...</td>\n",
       "      <td>...</td>\n",
       "    </tr>\n",
       "    <tr>\n",
       "      <th>58</th>\n",
       "      <td>효성</td>\n",
       "      <td>2.4</td>\n",
       "      <td>44</td>\n",
       "      <td>2.7</td>\n",
       "      <td>2.5</td>\n",
       "      <td>2.6</td>\n",
       "      <td>2.4</td>\n",
       "      <td>2.8</td>\n",
       "      <td>2.1</td>\n",
       "      <td>29.0</td>\n",
       "      <td>28.0</td>\n",
       "      <td>14.0</td>\n",
       "      <td>사원대리급을 사관학교급으로 굴리기 때문에 매일같이 야근하는 과정에서 돈독해질수있음|...</td>\n",
       "      <td>일이 저 위에서부터 계속 내려오기만함. 내려오고, 내려오고, 또 내려옴||마인드가 ...</td>\n",
       "    </tr>\n",
       "    <tr>\n",
       "      <th>59</th>\n",
       "      <td>효성첨단소재</td>\n",
       "      <td>2.5</td>\n",
       "      <td>60</td>\n",
       "      <td>2.3</td>\n",
       "      <td>2.2</td>\n",
       "      <td>2.2</td>\n",
       "      <td>2.0</td>\n",
       "      <td>2.4</td>\n",
       "      <td>1.7</td>\n",
       "      <td>16.0</td>\n",
       "      <td>19.0</td>\n",
       "      <td>15.0</td>\n",
       "      <td>알려주지 않은 회사 복지 같은 복지 제도가 있습니다.||사내 분위기가 좋고 구성원이...</td>\n",
       "      <td>생산직과 사무직은 마찬가지로 근무환경 많이 달라요. 이점 기억하시길.||최상위단에서...</td>\n",
       "    </tr>\n",
       "    <tr>\n",
       "      <th>60</th>\n",
       "      <td>효성티앤씨</td>\n",
       "      <td>2.8</td>\n",
       "      <td>51</td>\n",
       "      <td>2.4</td>\n",
       "      <td>2.2</td>\n",
       "      <td>2.8</td>\n",
       "      <td>2.2</td>\n",
       "      <td>2.4</td>\n",
       "      <td>1.8</td>\n",
       "      <td>19.0</td>\n",
       "      <td>22.0</td>\n",
       "      <td>6.0</td>\n",
       "      <td>워라벨 굿, (반포)건물너무쾌적, 사람들 다 좋음, 복지 점점 좋아지는중||공덕역에...</td>\n",
       "      <td>4,5급은 올라가는거 없음 (연봉, 승진 등) 부바부 업무량 다름 - 워라벨도 갈림...</td>\n",
       "    </tr>\n",
       "    <tr>\n",
       "      <th>61</th>\n",
       "      <td>후성</td>\n",
       "      <td>3.0</td>\n",
       "      <td>27</td>\n",
       "      <td>3.6</td>\n",
       "      <td>3.7</td>\n",
       "      <td>3.8</td>\n",
       "      <td>3.0</td>\n",
       "      <td>3.4</td>\n",
       "      <td>2.9</td>\n",
       "      <td>70.0</td>\n",
       "      <td>68.0</td>\n",
       "      <td>42.0</td>\n",
       "      <td>연구기준 워라벨 지켜지며 현금성 복지가 좋아서 돈모으는 맛이 있음||워라밸이 좋은편...</td>\n",
       "      <td>보수적인 기업문화 꼰대문화가 남아있고 탑다운방식의 업무처리방식이라 답답할수있음||미...</td>\n",
       "    </tr>\n",
       "    <tr>\n",
       "      <th>62</th>\n",
       "      <td>휠라홀딩스</td>\n",
       "      <td>3.8</td>\n",
       "      <td>20</td>\n",
       "      <td>2.9</td>\n",
       "      <td>2.9</td>\n",
       "      <td>3.0</td>\n",
       "      <td>2.5</td>\n",
       "      <td>2.9</td>\n",
       "      <td>2.4</td>\n",
       "      <td>47.0</td>\n",
       "      <td>65.0</td>\n",
       "      <td>35.0</td>\n",
       "      <td>진취적으로 업무를 finding하며 발전하고싶은 경력직 직원에 추천.||연차자유롭습...</td>\n",
       "      <td>출근 시간은 8시인데...퇴근 시간은....말잇못. 일 하는 양에 비해 현저히 적은...</td>\n",
       "    </tr>\n",
       "  </tbody>\n",
       "</table>\n",
       "<p>200 rows × 14 columns</p>\n",
       "</div>"
      ],
      "text/plain": [
       "        회사명  복지평점  복지개수  리뷰평점  복지 및 급여  워라밸  사내문화  승진기회및가능성  경영진 점수  기업추천율  \\\n",
       "0    BGF리테일   3.0    57   3.0      3.0  2.9   2.8       2.8     2.5   41.0   \n",
       "1   BNK금융지주   2.0     3   2.8      3.0  2.7   2.7       2.5     2.0   33.0   \n",
       "2        CJ  NUll  NUll   3.7      3.2  2.8   3.4       3.7     3.2   72.0   \n",
       "3    CJ대한통운   3.6    70   2.8      2.9  2.3   2.6       2.9     2.4   31.0   \n",
       "4    CJ제일제당   3.6    69   2.9      3.0  2.6   2.9       3.0     2.5   37.0   \n",
       "..      ...   ...   ...   ...      ...  ...   ...       ...     ...    ...   \n",
       "58       효성   2.4    44   2.7      2.5  2.6   2.4       2.8     2.1   29.0   \n",
       "59   효성첨단소재   2.5    60   2.3      2.2  2.2   2.0       2.4     1.7   16.0   \n",
       "60    효성티앤씨   2.8    51   2.4      2.2  2.8   2.2       2.4     1.8   19.0   \n",
       "61       후성   3.0    27   3.6      3.7  3.8   3.0       3.4     2.9   70.0   \n",
       "62    휠라홀딩스   3.8    20   2.9      2.9  3.0   2.5       2.9     2.4   47.0   \n",
       "\n",
       "    ceo지지율  성장가능성                                        직원들이 평가한 장점  \\\n",
       "0     46.0   30.0  일을 제대로 배워볼 수 있음 (넓고 깊게) 이외에 장점은 없음||연봉이 하는 일에 ...   \n",
       "1     33.0    0.0  그래도 복지는 생각보다 괜찮다 정도 딱히 장점 잘 모르겠음||금융회사의 장점. 복리...   \n",
       "2     90.0   61.0  사내 복지와 물리적 환경 매우 좋음. 동료들의 수준 높음||워라밸은 챙길수있고 지주...   \n",
       "3     44.0   33.0  다른직장에 가면 잘 적응할수 있게 빡세게 키워준다 케바케로 복지가 좋다고 느낄수있다...   \n",
       "4     45.0   33.0  계열사 할인 특히 올리브영 40퍼 할인은 진짜 좋다.. 부모님이 특히 좋아하심||3...   \n",
       "..     ...    ...                                                ...   \n",
       "58    28.0   14.0  사원대리급을 사관학교급으로 굴리기 때문에 매일같이 야근하는 과정에서 돈독해질수있음|...   \n",
       "59    19.0   15.0  알려주지 않은 회사 복지 같은 복지 제도가 있습니다.||사내 분위기가 좋고 구성원이...   \n",
       "60    22.0    6.0  워라벨 굿, (반포)건물너무쾌적, 사람들 다 좋음, 복지 점점 좋아지는중||공덕역에...   \n",
       "61    68.0   42.0  연구기준 워라벨 지켜지며 현금성 복지가 좋아서 돈모으는 맛이 있음||워라밸이 좋은편...   \n",
       "62    65.0   35.0  진취적으로 업무를 finding하며 발전하고싶은 경력직 직원에 추천.||연차자유롭습...   \n",
       "\n",
       "                                          직원들이 평가한 단점  \n",
       "0   장점을 뺀 모든게 단점 복지없음 사옥구림 이상한사람있음 친구들이 회사이름 못알아먹음...  \n",
       "1   경영진으로 이루어진 기업 ”까라면 까야지“가 실행되는 회사||큰 단점으로 말한 만한...  \n",
       "2   정적이고 무거운 분위기라 혁신적인 프로젝트가 추친력있게 진행되기 어려움||보고작업이...  \n",
       "3   군대식 문화(까라면 까) 업무분장이 있지만 지켜지는 팀이 많이없다 윗선에 잘보이면 ...  \n",
       "4   대기업 규모에 비해 급여가 너무 적다.. 노조가 생겼지만 5년 안에 좋아질 수도||...  \n",
       "..                                                ...  \n",
       "58  일이 저 위에서부터 계속 내려오기만함. 내려오고, 내려오고, 또 내려옴||마인드가 ...  \n",
       "59  생산직과 사무직은 마찬가지로 근무환경 많이 달라요. 이점 기억하시길.||최상위단에서...  \n",
       "60  4,5급은 올라가는거 없음 (연봉, 승진 등) 부바부 업무량 다름 - 워라벨도 갈림...  \n",
       "61  보수적인 기업문화 꼰대문화가 남아있고 탑다운방식의 업무처리방식이라 답답할수있음||미...  \n",
       "62  출근 시간은 8시인데...퇴근 시간은....말잇못. 일 하는 양에 비해 현저히 적은...  \n",
       "\n",
       "[200 rows x 14 columns]"
      ]
     },
     "execution_count": 45,
     "metadata": {},
     "output_type": "execute_result"
    }
   ],
   "source": [
    "kospi200_jobplanet_output"
   ]
  },
  {
   "cell_type": "code",
   "execution_count": 49,
   "metadata": {},
   "outputs": [],
   "source": [
    "kospi200_jobplanet_output = kospi200_jobplanet_output.reset_index(drop = True)\n"
   ]
  },
  {
   "cell_type": "code",
   "execution_count": 54,
   "metadata": {},
   "outputs": [],
   "source": [
    "kospi200_jobplanet_output = pd.DataFrame(kospi200_jobplanet_output, index=[i+1 for i in range(200)])"
   ]
  },
  {
   "cell_type": "code",
   "execution_count": 56,
   "metadata": {},
   "outputs": [],
   "source": [
    "kospi200_jobplanet_output.to_csv('kospi200_jobplanet_output.csv')"
   ]
  },
  {
   "cell_type": "code",
   "execution_count": null,
   "metadata": {},
   "outputs": [],
   "source": [
    "jp_df.to_csv('kospi_jobplanet_output139-200.csv')"
   ]
  },
  {
   "cell_type": "markdown",
   "metadata": {},
   "source": [
    "# 날짜 + 장단점 크롤링 하기"
   ]
  },
  {
   "cell_type": "code",
   "execution_count": 111,
   "metadata": {},
   "outputs": [
    {
     "data": {
      "text/plain": [
       "200"
      ]
     },
     "execution_count": 111,
     "metadata": {},
     "output_type": "execute_result"
    }
   ],
   "source": [
    "# 잡플래닛 내부 회사 번호 딕셔너리 불러오기\n",
    "with open('./kospi_jobplanet_corp_code.json', 'r', encoding='utf-8-sig') as file :\n",
    "    jp_corp_code = json.load(file)\n",
    "len(jp_corp_code)"
   ]
  },
  {
   "cell_type": "code",
   "execution_count": 112,
   "metadata": {},
   "outputs": [],
   "source": [
    "driver = webdriver.Chrome(service=Service(ChromeDriverManager().install()))\n",
    "# 1. 잡플래닛 로그인 url로 접속하기\n",
    "driver.get('https://www.jobplanet.co.kr/users/sign_in?_nav=gb')"
   ]
  },
  {
   "cell_type": "code",
   "execution_count": 113,
   "metadata": {},
   "outputs": [],
   "source": [
    "with open('./kospi_jobplanet_config', 'r', encoding = 'utf-8') as file :\n",
    "    id_pw = file.readlines()\n",
    "\n",
    "id = id_pw[0].strip()\n",
    "pw = id_pw[1].strip()"
   ]
  },
  {
   "cell_type": "code",
   "execution_count": 114,
   "metadata": {},
   "outputs": [],
   "source": [
    "# 2. 아이디 입력창에 커서 놓기\n",
    "input_id = driver.find_element(By.CSS_SELECTOR, 'input[id=\"user_email\"]')\n",
    "\n",
    "# 3. 아이디 입력창에 아이디 입력\n",
    "input_id.send_keys(id)\n",
    "\n",
    "# 4. 비밀번호 입력창에 커서 놓기\n",
    "input_password = driver.find_element(By.CSS_SELECTOR, 'input[id=\"user_password\"]')\n",
    "\n",
    "# 5. 비밀번호 입력창에 비밀번호 입력\n",
    "input_password.send_keys(pw)\n",
    "\n",
    "# 6. 로그인 버튼 클릭하기\n",
    "driver.find_element(By.CSS_SELECTOR, 'button[class=\"btn_sign_up\"]').click()\n",
    "\n",
    "# 로그인 상태를 유지함."
   ]
  },
  {
   "cell_type": "code",
   "execution_count": 115,
   "metadata": {},
   "outputs": [],
   "source": [
    "기업명 = []\n",
    "날짜 = []\n",
    "장점리뷰 = []\n",
    "단점리뷰 = []"
   ]
  },
  {
   "cell_type": "code",
   "execution_count": null,
   "metadata": {},
   "outputs": [],
   "source": [
    "for corp_name in jp_corp_code : # 한 기업에 대해서 \n",
    "    for page_num in range(1, 150) :\n",
    "        try : # 여기서 원하는 html을 찾아올 것 단 없는 경우가 있을 수 있으므로 예외처리 하기\n",
    "            driver.get(f'https://www.jobplanet.co.kr/companies/{jp_corp_code[corp_name]}/reviews?page={page_num}&year%5B%5D=2024&year%5B%5D=2023&year%5B%5D=2022&year%5B%5D=2021')\n",
    "\n",
    "            # 날짜 추가하기\n",
    "            review_infos = driver.find_elements(By.CSS_SELECTOR, 'span[class=\"txt1\"]')\n",
    "            one_page_date = [review_info.text.split('.')[0] for i, review_info in enumerate(review_infos) if i % 4 == 3]\n",
    "\n",
    "            날짜.extend(one_page_date)\n",
    "            기업명.extend([corp_name] * len(one_page_date))\n",
    "            \n",
    "\n",
    "            # 장/단점리뷰 추가하기\n",
    "            employee_talks = driver.find_elements(By.CSS_SELECTOR, 'dd[class=\"df1\"]')\n",
    "\n",
    "                \n",
    "            pos = [posi.text.replace('\\n', ' ').strip() for i, posi in enumerate(employee_talks) if i % 3 == 0 ]\n",
    "            neg = [nega.text.replace('\\n', ' ').strip() for i, nega in enumerate(employee_talks) if i % 3 == 1 ]\n",
    "\n",
    "            장점리뷰.extend(pos)\n",
    "            단점리뷰.extend(neg)\n",
    "\n",
    "        except : \n",
    "            print(f'{corp_name}의 {page_num}에서 크롤링을 멈췄습니다. 리뷰데이터가 없거나 날짜가 존재하지 않을 수 있습니다')\n",
    "    "
   ]
  },
  {
   "cell_type": "code",
   "execution_count": 108,
   "metadata": {},
   "outputs": [],
   "source": [
    "jobplanet_date_review = pd.DataFrame({'기업명' : 기업명, '날짜' : 날짜, '장점 리뷰' : 장점리뷰, '단점 리뷰' : 단점리뷰})"
   ]
  },
  {
   "cell_type": "code",
   "execution_count": null,
   "metadata": {},
   "outputs": [],
   "source": [
    "jobplanet_date_review"
   ]
  },
  {
   "cell_type": "code",
   "execution_count": null,
   "metadata": {},
   "outputs": [],
   "source": [
    "# 확인용\n",
    "print(기업명)\n",
    "print(날짜) \n",
    "print(장점리뷰)\n",
    "print(단점리뷰)\n",
    "print(len(기업명), len(날짜), len(장점리뷰), len(단점리뷰))"
   ]
  },
  {
   "cell_type": "markdown",
   "metadata": {},
   "source": [
    "# 날짜 크롤링 하기"
   ]
  },
  {
   "cell_type": "code",
   "execution_count": 6,
   "metadata": {},
   "outputs": [],
   "source": [
    "total = pd.read_csv('./kospi200_jobplanet_output.csv')\n",
    "\n",
    "del total['직원들이 평가한 장점']\n",
    "del total['직원들이 평가한 단점']\n",
    "del total['Unnamed: 0']"
   ]
  },
  {
   "cell_type": "code",
   "execution_count": 8,
   "metadata": {},
   "outputs": [],
   "source": [
    "total.to_csv('kospi_numer_data_jobplanet.csv')"
   ]
  },
  {
   "cell_type": "code",
   "execution_count": null,
   "metadata": {},
   "outputs": [],
   "source": []
  }
 ],
 "metadata": {
  "kernelspec": {
   "display_name": "study",
   "language": "python",
   "name": "python3"
  },
  "language_info": {
   "codemirror_mode": {
    "name": "ipython",
    "version": 3
   },
   "file_extension": ".py",
   "mimetype": "text/x-python",
   "name": "python",
   "nbconvert_exporter": "python",
   "pygments_lexer": "ipython3",
<<<<<<< HEAD:hsh_esg_project/jobplanet_crawling/kospi/kospi_jobplanet_crawler.ipynb
   "version": "3.10.13"
=======
<<<<<<< HEAD
   "version": "3.11.5"
=======
   "version": "3.11.7"
>>>>>>> 4dfbdf451bd1e388ba816d371dcd9f9485cf2f4f
>>>>>>> 044965bb4851fa4cc4150d134edbc4a36f24baf5:hsh_esg_project/jobplanet_crawling/jobplanet_crawler.ipynb
  }
 },
 "nbformat": 4,
 "nbformat_minor": 2
}
