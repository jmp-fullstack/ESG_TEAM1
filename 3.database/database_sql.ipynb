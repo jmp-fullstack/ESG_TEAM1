{
 "cells": [
  {
   "cell_type": "code",
   "execution_count": 1,
   "metadata": {},
   "outputs": [],
   "source": [
    "from mariadb import MariaDB\n",
    "with open('aws_config','r',encoding='utf-8') as f:\n",
    "    db_config = {lines.split('=')[0].strip():lines.split('=')[1].strip() for lines in f.readlines()}"
   ]
  },
  {
   "cell_type": "code",
   "execution_count": null,
   "metadata": {},
   "outputs": [],
   "source": []
  },
  {
   "cell_type": "code",
   "execution_count": null,
   "metadata": {},
   "outputs": [],
   "source": []
  },
  {
   "cell_type": "code",
   "execution_count": null,
   "metadata": {},
   "outputs": [],
   "source": []
  },
  {
   "cell_type": "code",
   "execution_count": 2,
   "metadata": {},
   "outputs": [],
   "source": [
    "db = MariaDB(db_config)"
   ]
  },
  {
   "cell_type": "code",
   "execution_count": 2,
   "metadata": {},
   "outputs": [],
   "source": [
    "# tb_industry\n",
    "industry = ['제조업','서비스업','금융업','광고업','공급업']\n",
    "industry = [(i,) for i in industry]"
   ]
  },
  {
   "cell_type": "code",
   "execution_count": 44,
   "metadata": {},
   "outputs": [],
   "source": [
    "# tb_industry_score\n",
    "industry_score = [('2023', 86.0, 1), ('2023', 89.0, 2), ('2023', 91.0, 3), ('2023', 83.0, 4), ('2023', 78.0, 5),('2024', 87.0, 1), ('2024', 90.0, 2), ('2024', 92.0, 3), ('2024', 84.0, 4), ('2024', 79.0, 5),('2022', 85.5, 1),('2022', 88.2, 2),('2022', 90.3, 3),('2022', 82.1, 4),('2022', 77.4, 5)]"
   ]
  },
  {
   "cell_type": "code",
   "execution_count": 54,
   "metadata": {},
   "outputs": [],
   "source": [
    "# tb_company\n",
    "company = [(1, '삼성', 10, 5, 1),\n",
    "(2, '엘지', 15, 4, 2),\n",
    "(3, '애플', 20, 3, 3),\n",
    "(4, '넥슨', 25, 2, 4),\n",
    "(5, '한화', 30, 1, 5),\n",
    "(6, '구글', 35, 1, 1),\n",
    "(7, '아마존', 40, 2, 2),\n",
    "(8, '테슬라', 45, 3, 3),\n",
    "(9, '소니', 50, 4, 4),\n",
    "(10, '마이크로소프트', 55, 5, 5),\n",
    "(11, '인텔', 60, 6, 1),\n",
    "(12, 'AMD', 65, 7, 2),\n",
    "(13, 'IBM', 70, 8, 3),\n",
    "(14, '오라클', 75, 9, 4),\n",
    "(15, '페이스북', 80, 10, 5)]"
   ]
  },
  {
   "cell_type": "code",
   "execution_count": 50,
   "metadata": {},
   "outputs": [],
   "source": [
    "# tb_company_detail\n",
    "company_detail = [\n",
    "    (6, '2022', 130, 70, 86.5, 71.2, 61.3, 73.0, 0.6, -0.1, 0.2, 0.1),\n",
    "    (7, '2022', 140, 80, 87.7, 72.4, 62.8, 74.0, 0.7, 0.0, -0.1, 0.2),\n",
    "    (8, '2022', 150, 90, 88.1, 73.0, 63.5, 75.5, -0.2, 0.3, 0.1, 0.0),\n",
    "    (9, '2022', 160, 100, 89.3, 74.2, 64.8, 76.1, 0.1, 0.2, 0.3, 0.3),\n",
    "    (10, '2022', 170, 110, 90.4, 75.9, 65.7, 77.0, -0.3, -0.2, 0.0, -0.1),\n",
    "    (11, '2022', 180, 120, 91.5, 77.2, 66.3, 78.0, 0.4, 0.1, 0.2, 0.1),\n",
    "    (12, '2022', 190, 130, 92.7, 78.4, 67.8, 79.0, 0.5, -0.1, -0.2, 0.2),\n",
    "    (13, '2022', 200, 140, 93.1, 79.0, 68.5, 80.5, -0.1, 0.2, 0.1, 0.0),\n",
    "    (14, '2022', 210, 150, 94.3, 80.2, 69.8, 81.1, 0.0, 0.1, 0.2, 0.3),\n",
    "    (15, '2022', 220, 160, 95.4, 81.9, 70.7, 82.0, -0.2, -0.1, 0.0, -0.1)\n",
    "]"
   ]
  },
  {
   "cell_type": "code",
   "execution_count": 3,
   "metadata": {},
   "outputs": [],
   "source": [
    "# tb_company_keyword\n",
    "keyword_data = [\n",
    "    ('삼성','2022','사랑', 130, 10), ('삼성','2022','관심', 135, 15), ('삼성','2022','미움', 140, 20),\n",
    "    ('삼성','2022','지원', 145, 25), ('삼성','2022','무관심', 150, 30), ('삼성','2022','동정', 155, 35),\n",
    "    ('삼성','2022','부러움', 160, 40), ('삼성','2022','열정', 165, 45), ('삼성','2022','애증', 170, 50),\n",
    "    ('삼성','2022','불신', 175, 55),\n",
    "    ('삼성','2023','사랑', 130, 10), ('삼성','2023','관심', 135, 15), ('삼성','2023','미움', 140, 20),\n",
    "    ('삼성','2023','지원', 145, 25), ('삼성','2023','무관심', 150, 30), ('삼성','2023','동정', 155, 35),\n",
    "    ('삼성','2023','부러움', 160, 40), ('삼성','2023','열정', 165, 45), ('삼성','2023','애증', 170, 50),\n",
    "    ('삼성','2023','불신', 175, 55),\n",
    "    ('삼성','2024','사랑', 130, 10), ('삼성','2024','관심', 135, 15), ('삼성','2024','미움', 140, 20),\n",
    "    ('삼성','2024','지원', 145, 25), ('삼성','2024','무관심', 150, 30), ('삼성','2024','동정', 155, 35),\n",
    "    ('삼성','2024','부러움', 160, 40), ('삼성','2024','열정', 165, 45), ('삼성','2024','애증', 170, 50),\n",
    "    ('삼성','2024','불신', 175, 55),\n",
    "    ('엘지','2022','사랑', 130, 10), ('엘지','2022','관심', 135, 15), ('엘지','2022','미움', 140, 20),\n",
    "    ('엘지','2022','지원', 145, 25), ('엘지','2022','무관심', 150, 30), ('엘지','2022','동정', 155, 35),\n",
    "    ('엘지','2022','부러움', 160, 40), ('엘지','2022','열정', 165, 45), ('엘지','2022','애증', 170, 50),\n",
    "    ('엘지','2022','불신', 175, 55),\n",
    "    ('엘지','2023','사랑', 130, 10), ('엘지','2023','관심', 135, 15), ('엘지','2023','미움', 140, 20),\n",
    "    ('엘지','2023','지원', 145, 25), ('엘지','2023','무관심', 150, 30), ('엘지','2023','동정', 155, 35),\n",
    "    ('엘지','2023','부러움', 160, 40), ('엘지','2023','열정', 165, 45), ('엘지','2023','애증', 170, 50),\n",
    "    ('엘지','2023','불신', 175, 55),\n",
    "    ('엘지','2024','사랑', 130, 10), ('엘지','2024','관심', 135, 15), ('엘지','2024','미움', 140, 20),\n",
    "    ('엘지','2024','지원', 145, 25), ('엘지','2024','무관심', 150, 30), ('엘지','2024','동정', 155, 35),\n",
    "    ('엘지','2024','부러움', 160, 40), ('엘지','2024','열정', 165, 45), ('엘지','2024','애증', 170, 50),\n",
    "    ('엘지','2024','불신', 175, 55),\n",
    "]"
   ]
  },
  {
   "cell_type": "code",
   "execution_count": 39,
   "metadata": {},
   "outputs": [],
   "source": [
    "# tb_ESG_keyword\n",
    "esg_keywords_data = [\n",
    "    ('지속가능성', 110, 95, 85),\n",
    "    ('재생에너지', 125, 80, 75),\n",
    "    ('윤리경영', 80, 130, 140),\n",
    "    ('인권보호', 70, 145, 60),\n",
    "    ('녹색기술', 95, 85, 90),\n",
    "    ('에너지효율', 120, 100, 70),\n",
    "    ('물자원관리', 130, 110, 80),\n",
    "    ('평등', 100, 120, 95),\n",
    "    ('투명성', 80, 100, 115),\n",
    "    ('사회적 책임', 90, 140, 100)\n",
    "]"
   ]
  },
  {
   "cell_type": "code",
   "execution_count": null,
   "metadata": {},
   "outputs": [],
   "source": []
  },
  {
   "cell_type": "code",
   "execution_count": null,
   "metadata": {},
   "outputs": [],
   "source": []
  },
  {
   "cell_type": "markdown",
   "metadata": {},
   "source": [
    "`insert_many 사용`"
   ]
  },
  {
   "cell_type": "code",
   "execution_count": null,
   "metadata": {},
   "outputs": [],
   "source": [
    "# 업종 테이블\n",
    "db.insert_many('tb_industry','Industry',industry)"
   ]
  },
  {
   "cell_type": "code",
   "execution_count": 45,
   "metadata": {},
   "outputs": [
    {
     "data": {
      "text/plain": [
       "True"
      ]
     },
     "execution_count": 45,
     "metadata": {},
     "output_type": "execute_result"
    }
   ],
   "source": [
    "# 업종 점수 테이블\n",
    "db.insert_many('tb_industry_score','Year,ESG_Score,IndustryID',industry_score)"
   ]
  },
  {
   "cell_type": "code",
   "execution_count": 49,
   "metadata": {},
   "outputs": [
    {
     "data": {
      "text/plain": [
       "True"
      ]
     },
     "execution_count": 49,
     "metadata": {},
     "output_type": "execute_result"
    }
   ],
   "source": [
    "# 기업 테이블\n",
    "db.insert_many('tb_company','Company,Kosdaq_Rank,ESG_Rank,IndustryID',company)"
   ]
  },
  {
   "cell_type": "code",
   "execution_count": 51,
   "metadata": {},
   "outputs": [
    {
     "data": {
      "text/plain": [
       "True"
      ]
     },
     "execution_count": 51,
     "metadata": {},
     "output_type": "execute_result"
    }
   ],
   "source": [
    "# 기업 상세 테이블\n",
    "db.insert_many(\n",
    "    'tb_company_detail',\n",
    "    'CompanyID, Year, Company_Pos, Company_Neg, E_Score, S_Score, G_Score, Total_Score, E_Socre_Change, S_Socre_Change, G_Socre_Change, Total_Socre_Change',\n",
    "    company_detail\n",
    ")"
   ]
  },
  {
   "cell_type": "code",
   "execution_count": 4,
   "metadata": {},
   "outputs": [
    {
     "data": {
      "text/plain": [
       "True"
      ]
     },
     "execution_count": 4,
     "metadata": {},
     "output_type": "execute_result"
    }
   ],
   "source": [
    "# 기업 긍정 부정 카운트 테이블\n",
    "db.insert_many('tb_company_keyword','Company, Year, Keyword, Pos_Count, Neg_Count', keyword_data)"
   ]
  },
  {
   "cell_type": "code",
   "execution_count": 40,
   "metadata": {},
   "outputs": [
    {
     "data": {
      "text/plain": [
       "True"
      ]
     },
     "execution_count": 40,
     "metadata": {},
     "output_type": "execute_result"
    }
   ],
   "source": [
    "# 키워드별 esg 카운트 테이블\n",
    "db.insert_many('tb_ESG_keyword', 'Keyword, E_Count, S_Count, G_Count', esg_keywords_data)"
   ]
  },
  {
   "cell_type": "code",
   "execution_count": null,
   "metadata": {},
   "outputs": [],
   "source": []
  }
 ],
 "metadata": {
  "kernelspec": {
   "display_name": "bok",
   "language": "python",
   "name": "python3"
  },
  "language_info": {
   "codemirror_mode": {
    "name": "ipython",
    "version": 3
   },
   "file_extension": ".py",
   "mimetype": "text/x-python",
   "name": "python",
   "nbconvert_exporter": "python",
   "pygments_lexer": "ipython3",
   "version": "3.11.8"
  }
 },
 "nbformat": 4,
 "nbformat_minor": 2
}
