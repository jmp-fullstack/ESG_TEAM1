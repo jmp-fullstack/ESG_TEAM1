{
 "cells": [
  {
   "cell_type": "markdown",
   "metadata": {},
   "source": [
    "## 두 파일 합쳐서 저장\n",
    "{기업 : {년도 : 문장들모음리스트}}  \n",
    "+  \n",
    "{문장 : (e,s,g,p,n)} 점수  "
   ]
  },
  {
   "cell_type": "code",
   "execution_count": null,
   "metadata": {},
   "outputs": [],
   "source": [
    "# pip install ipywidgets"
   ]
  },
  {
   "cell_type": "code",
   "execution_count": 1,
   "metadata": {},
   "outputs": [
    {
     "data": {
      "application/vnd.jupyter.widget-view+json": {
       "model_id": "fd8915adf5c544d0bc011cbb6eacb14c",
       "version_major": 2,
       "version_minor": 0
      },
      "text/plain": [
       "  0%|          | 0/1717 [00:00<?, ?it/s]"
      ]
     },
     "metadata": {},
     "output_type": "display_data"
    }
   ],
   "source": [
    "import json\n",
    "from tqdm.notebook import tqdm\n",
    "\n",
    "# {기업 : {년도 : 문장들모음리스트}}\n",
    "with open('total_kosdaq_result.json', 'r') as kosdaq_json:\n",
    "    company_date_sentence = json.load(kosdaq_json)\n",
    "# {문장 : (e,s,g,p,n)} 점수\n",
    "with open('kosdaq_esgpn_data.json', 'r') as file:\n",
    "    esgpn_scores = json.load(file)\n",
    "\n",
    "for corp in tqdm(company_date_sentence):  # 기업으로 접근\n",
    "    for date in company_date_sentence[corp]:  # 기업 -> 날짜로 접근\n",
    "        sentences = company_date_sentence[corp][date]\n",
    "        updated_sentences = []\n",
    "        for sent in sentences:\n",
    "            if sent in esgpn_scores:  # 문장이 ESGPN 점수를 가지고 있다면, 그 점수를 리스트에 저장\n",
    "                updated_sentences.append([sent, esgpn_scores[sent]])\n",
    "            else:\n",
    "                updated_sentences.append([sent, (None, None, None, None, None)])  # 문장이 ESGPN 점수를 갖고 있지 않다면, None값으로 저장\n",
    "        company_date_sentence[corp][date] = updated_sentences\n",
    "\n",
    "# 파일로 저장 (크기가 큰 파일임)\n",
    "with open('updated_total_kosdaq_result.json', 'w') as outfile:\n",
    "    json.dump(company_date_sentence, outfile, ensure_ascii=False, indent=4)"
   ]
  },
  {
   "cell_type": "markdown",
   "metadata": {},
   "source": [
    "## 파일 불러오기"
   ]
  },
  {
   "cell_type": "code",
   "execution_count": 2,
   "metadata": {},
   "outputs": [],
   "source": [
    "# 데이터 불러오기\n",
    "import json\n",
    "with open('updated_total_kosdaq_result.json', 'r') as file:\n",
    "    company_date_sentence = json.load(file)"
   ]
  },
  {
   "cell_type": "markdown",
   "metadata": {},
   "source": [
    "## 키워드 추출"
   ]
  },
  {
   "cell_type": "code",
   "execution_count": 3,
   "metadata": {},
   "outputs": [
    {
     "data": {
      "text/html": [
       "<div>\n",
       "<style scoped>\n",
       "    .dataframe tbody tr th:only-of-type {\n",
       "        vertical-align: middle;\n",
       "    }\n",
       "\n",
       "    .dataframe tbody tr th {\n",
       "        vertical-align: top;\n",
       "    }\n",
       "\n",
       "    .dataframe thead th {\n",
       "        text-align: right;\n",
       "    }\n",
       "</style>\n",
       "<table border=\"1\" class=\"dataframe\">\n",
       "  <thead>\n",
       "    <tr style=\"text-align: right;\">\n",
       "      <th></th>\n",
       "      <th>Company</th>\n",
       "      <th>Type</th>\n",
       "      <th>Keyword</th>\n",
       "      <th>Count</th>\n",
       "    </tr>\n",
       "  </thead>\n",
       "  <tbody>\n",
       "    <tr>\n",
       "      <th>0</th>\n",
       "      <td>오상헬스케어</td>\n",
       "      <td>positive</td>\n",
       "      <td>기업</td>\n",
       "      <td>212</td>\n",
       "    </tr>\n",
       "    <tr>\n",
       "      <th>1</th>\n",
       "      <td>오상헬스케어</td>\n",
       "      <td>positive</td>\n",
       "      <td>상장</td>\n",
       "      <td>179</td>\n",
       "    </tr>\n",
       "    <tr>\n",
       "      <th>2</th>\n",
       "      <td>오상헬스케어</td>\n",
       "      <td>positive</td>\n",
       "      <td>진단</td>\n",
       "      <td>145</td>\n",
       "    </tr>\n",
       "    <tr>\n",
       "      <th>3</th>\n",
       "      <td>오상헬스케어</td>\n",
       "      <td>positive</td>\n",
       "      <td>오상</td>\n",
       "      <td>134</td>\n",
       "    </tr>\n",
       "    <tr>\n",
       "      <th>4</th>\n",
       "      <td>오상헬스케어</td>\n",
       "      <td>positive</td>\n",
       "      <td>바이오</td>\n",
       "      <td>115</td>\n",
       "    </tr>\n",
       "    <tr>\n",
       "      <th>...</th>\n",
       "      <td>...</td>\n",
       "      <td>...</td>\n",
       "      <td>...</td>\n",
       "      <td>...</td>\n",
       "    </tr>\n",
       "    <tr>\n",
       "      <th>17582</th>\n",
       "      <td>엔에이치스팩30호</td>\n",
       "      <td>positive</td>\n",
       "      <td>증시</td>\n",
       "      <td>6</td>\n",
       "    </tr>\n",
       "    <tr>\n",
       "      <th>17583</th>\n",
       "      <td>엔에이치스팩30호</td>\n",
       "      <td>positive</td>\n",
       "      <td>상위</td>\n",
       "      <td>5</td>\n",
       "    </tr>\n",
       "    <tr>\n",
       "      <th>17584</th>\n",
       "      <td>엔에이치스팩30호</td>\n",
       "      <td>positive</td>\n",
       "      <td>테마주</td>\n",
       "      <td>5</td>\n",
       "    </tr>\n",
       "    <tr>\n",
       "      <th>17585</th>\n",
       "      <td>엔에이치스팩30호</td>\n",
       "      <td>positive</td>\n",
       "      <td>삼성</td>\n",
       "      <td>5</td>\n",
       "    </tr>\n",
       "    <tr>\n",
       "      <th>17586</th>\n",
       "      <td>엔에이치스팩30호</td>\n",
       "      <td>positive</td>\n",
       "      <td>홀딩스</td>\n",
       "      <td>5</td>\n",
       "    </tr>\n",
       "  </tbody>\n",
       "</table>\n",
       "<p>17587 rows × 4 columns</p>\n",
       "</div>"
      ],
      "text/plain": [
       "         Company      Type Keyword  Count\n",
       "0         오상헬스케어  positive      기업    212\n",
       "1         오상헬스케어  positive      상장    179\n",
       "2         오상헬스케어  positive      진단    145\n",
       "3         오상헬스케어  positive      오상    134\n",
       "4         오상헬스케어  positive     바이오    115\n",
       "...          ...       ...     ...    ...\n",
       "17582  엔에이치스팩30호  positive      증시      6\n",
       "17583  엔에이치스팩30호  positive      상위      5\n",
       "17584  엔에이치스팩30호  positive     테마주      5\n",
       "17585  엔에이치스팩30호  positive      삼성      5\n",
       "17586  엔에이치스팩30호  positive     홀딩스      5\n",
       "\n",
       "[17587 rows x 4 columns]"
      ]
     },
     "execution_count": 3,
     "metadata": {},
     "output_type": "execute_result"
    }
   ],
   "source": [
    "import pandas as pd\n",
    "from collections import Counter\n",
    "from konlpy.tag import Mecab\n",
    "\n",
    "# Initialize Mecab\n",
    "mecab = Mecab(dicpath=r\"C:\\mecab\\mecab-ko-dic\")\n",
    "\n",
    "# 결과를 저장할 구조\n",
    "result = {}\n",
    "\n",
    "# 데이터 처리\n",
    "for company, data in company_date_sentence.items():\n",
    "    if '2023' in data:\n",
    "        positive_keywords = []\n",
    "        negative_keywords = []\n",
    "        \n",
    "        for sentence_data in data['2023']:\n",
    "            sentence, scores = sentence_data\n",
    "            E, S, G, P, N = scores\n",
    "            \n",
    "            # P, N이 None이 아니고, P와 N 점수 비교\n",
    "            if P is not None and N is not None:\n",
    "                # 문장에서 명사와 동사만 추출하여 키워드로 사용\n",
    "                keywords = [token[0] for token in mecab.pos(sentence) if token[1][0] in ['N', 'V'] and len(token[0]) >= 2]\n",
    "                \n",
    "                if P > N:\n",
    "                    positive_keywords.extend(keywords)\n",
    "                elif P < N:\n",
    "                    negative_keywords.extend(keywords)\n",
    "\n",
    "        # 키워드 출현 빈도 계산 및 상위 10개 선택\n",
    "        positive_counts = Counter(positive_keywords).most_common(10)\n",
    "        negative_counts = Counter(negative_keywords).most_common(10)\n",
    "\n",
    "        # 결과 저장\n",
    "        result[company] = {'positive': positive_counts, 'negative': negative_counts}\n",
    "\n",
    "# 결과 데이터프레임 생성\n",
    "rows = []\n",
    "for company, data in result.items():\n",
    "    for type_label, keywords in data.items():\n",
    "        for keyword, count in keywords:\n",
    "            rows.append({'Company': company, 'Type': type_label, 'Keyword': keyword, 'Count': count})\n",
    "\n",
    "df = pd.DataFrame(rows)\n",
    "\n",
    "# 데이터프레임 출력\n",
    "df"
   ]
  },
  {
   "cell_type": "markdown",
   "metadata": {},
   "source": [
    "## 데이터베이스에 저장"
   ]
  },
  {
   "cell_type": "code",
   "execution_count": 4,
   "metadata": {},
   "outputs": [],
   "source": [
    "from mariadb import MariaDB\n",
    "with open('./aws_config','r',encoding='utf-8') as f:\n",
    "    db_config = {lines.split('=')[0].strip():lines.split('=')[1].strip() for lines in f.readlines()}\n",
    "db = MariaDB(db_config)"
   ]
  },
  {
   "cell_type": "code",
   "execution_count": 5,
   "metadata": {},
   "outputs": [
    {
     "data": {
      "text/plain": [
       "True"
      ]
     },
     "execution_count": 5,
     "metadata": {},
     "output_type": "execute_result"
    }
   ],
   "source": [
    "# 인덱스 초기화\n",
    "db.truncate('tb_company_keyword')"
   ]
  },
  {
   "cell_type": "code",
   "execution_count": 6,
   "metadata": {},
   "outputs": [
    {
     "data": {
      "text/plain": [
       "True"
      ]
     },
     "execution_count": 6,
     "metadata": {},
     "output_type": "execute_result"
    }
   ],
   "source": [
    "company_detail = list(zip(df['Company'], df['Type'], df['Keyword'], df['Count']))\n",
    "\n",
    "db.insert_many(\n",
    "    'tb_company_keyword',\n",
    "    ','.join(['Company', 'Type', 'Keyword', 'Count']),\n",
    "    company_detail\n",
    ")"
   ]
  }
 ],
 "metadata": {
  "kernelspec": {
   "display_name": "esg",
   "language": "python",
   "name": "python3"
  },
  "language_info": {
   "codemirror_mode": {
    "name": "ipython",
    "version": 3
   },
   "file_extension": ".py",
   "mimetype": "text/x-python",
   "name": "python",
   "nbconvert_exporter": "python",
   "pygments_lexer": "ipython3",
   "version": "3.9.19"
  }
 },
 "nbformat": 4,
 "nbformat_minor": 2
}
