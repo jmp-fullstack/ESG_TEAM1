{
 "cells": [
  {
   "cell_type": "code",
   "execution_count": 1,
   "metadata": {},
   "outputs": [],
   "source": [
    "import pandas as pd\n",
    "import numpy as np\n",
    "import requests\n",
    "import zipfile\n",
    "import io\n",
    "import xml.etree.ElementTree as et\n",
    "from io import BytesIO\n",
    "from zipfile import ZipFile\n",
    "from bs4 import BeautifulSoup as bs\n",
    "import xmltodict\n",
    "import json\n",
    "import dart_fss as dart\n",
    "from lxml import html\n",
    "from xml.etree.ElementTree import parse\n",
    "from urllib.request import Request, urlopen\n",
    "from urllib.parse import urlencode, quote_plus, unquote\n",
    "import numpy as np\n",
    "import datetime\n",
    "try:\n",
    "    from pandas import json_normalize\n",
    "except ImportError:\n",
    "    from pandas.io.json import json_normalize\n",
    "import OpenDartReader\n",
    "from bs4 import BeautifulSoup\n",
    "import FinanceDataReader as fdr\n",
    "%matplotlib inline\n",
    "import matplotlib.pyplot as plt"
   ]
  },
  {
   "cell_type": "code",
   "execution_count": 2,
   "metadata": {},
   "outputs": [],
   "source": [
    "kosdaq = pd.read_excel(\"C:/Users/SDA08/Desktop/workspace/bobae_/0_프로젝트/0_ESG.bb/2_preprocessing.bb/DART_kosdaq_preprocessing.bb/kosdaq_report.xlsx\")"
   ]
  },
  {
   "cell_type": "code",
   "execution_count": 3,
   "metadata": {},
   "outputs": [
    {
     "data": {
      "text/plain": [
       "30"
      ]
     },
     "execution_count": 3,
     "metadata": {},
     "output_type": "execute_result"
    }
   ],
   "source": [
    "len(kosdaq.columns)"
   ]
  },
  {
   "cell_type": "code",
   "execution_count": 4,
   "metadata": {},
   "outputs": [
    {
     "data": {
      "text/plain": [
       "Index(['고유번호', '종목코드', '회사명', '업종', '주요제품', '상장일', '결산월', '대표자명', '홈페이지', '지역',\n",
       "       '사업자등록번호', '주소', '업종코드', '설립일', '최대주주_성명', '최대주주_관계', '최대주주_주식종류',\n",
       "       '최대주주_기초주식수', '최대주주_기초주식지분율', '최대주주_기말주식수', '최대주주_기말주식지분율', '소액주주수',\n",
       "       '주주수', '소액주주비율', '소액주주_주식수', '총주식수', '소액주주_주식지분율', '감사의견', '감사의견_강조사항',\n",
       "       '감사의견_핵심감사사항'],\n",
       "      dtype='object')"
      ]
     },
     "execution_count": 4,
     "metadata": {},
     "output_type": "execute_result"
    }
   ],
   "source": [
    "kosdaq.columns"
   ]
  },
  {
   "cell_type": "code",
   "execution_count": 8,
   "metadata": {},
   "outputs": [
    {
     "name": "stdout",
     "output_type": "stream",
     "text": [
      "<class 'pandas.core.frame.DataFrame'>\n",
      "RangeIndex: 1718 entries, 0 to 1717\n",
      "Data columns (total 30 columns):\n",
      " #   Column        Non-Null Count  Dtype  \n",
      "---  ------        --------------  -----  \n",
      " 0   고유번호          1718 non-null   int64  \n",
      " 1   종목코드          1718 non-null   int64  \n",
      " 2   회사명           1718 non-null   object \n",
      " 3   업종            1718 non-null   object \n",
      " 4   주요제품          1715 non-null   object \n",
      " 5   상장일           1718 non-null   int64  \n",
      " 6   결산월           1718 non-null   object \n",
      " 7   대표자명          1718 non-null   object \n",
      " 8   홈페이지          1572 non-null   object \n",
      " 9   지역            1718 non-null   object \n",
      " 10  사업자등록번호       690 non-null    object \n",
      " 11  주소            690 non-null    object \n",
      " 12  업종코드          690 non-null    float64\n",
      " 13  설립일           690 non-null    float64\n",
      " 14  최대주주_성명       658 non-null    object \n",
      " 15  최대주주_관계       658 non-null    object \n",
      " 16  최대주주_주식종류     658 non-null    object \n",
      " 17  최대주주_기초주식수    658 non-null    object \n",
      " 18  최대주주_기초주식지분율  658 non-null    float64\n",
      " 19  최대주주_기말주식수    658 non-null    object \n",
      " 20  최대주주_기말주식지분율  658 non-null    float64\n",
      " 21  소액주주수         1704 non-null   object \n",
      " 22  주주수           1704 non-null   object \n",
      " 23  소액주주비율        1704 non-null   object \n",
      " 24  소액주주_주식수      1704 non-null   object \n",
      " 25  총주식수          1704 non-null   object \n",
      " 26  소액주주_주식지분율    1704 non-null   object \n",
      " 27  감사의견          1704 non-null   object \n",
      " 28  감사의견_강조사항     1704 non-null   object \n",
      " 29  감사의견_핵심감사사항   1704 non-null   object \n",
      "dtypes: float64(4), int64(3), object(23)\n",
      "memory usage: 402.8+ KB\n"
     ]
    }
   ],
   "source": [
    "company_info = kosdaq.iloc[:,:30]\n",
    "company_info.info()"
   ]
  },
  {
   "cell_type": "code",
   "execution_count": 11,
   "metadata": {},
   "outputs": [
    {
     "name": "stdout",
     "output_type": "stream",
     "text": [
      "<class 'pandas.core.frame.DataFrame'>\n",
      "RangeIndex: 1718 entries, 0 to 1717\n",
      "Data columns (total 19 columns):\n",
      " #   Column        Non-Null Count  Dtype  \n",
      "---  ------        --------------  -----  \n",
      " 0   회사명           1718 non-null   object \n",
      " 1   업종            1718 non-null   object \n",
      " 2   대표자명          1718 non-null   object \n",
      " 3   최대주주_성명       658 non-null    object \n",
      " 4   최대주주_관계       658 non-null    object \n",
      " 5   최대주주_주식종류     658 non-null    object \n",
      " 6   최대주주_기초주식수    658 non-null    object \n",
      " 7   최대주주_기초주식지분율  658 non-null    float64\n",
      " 8   최대주주_기말주식수    658 non-null    object \n",
      " 9   최대주주_기말주식지분율  658 non-null    float64\n",
      " 10  소액주주수         1704 non-null   object \n",
      " 11  주주수           1704 non-null   object \n",
      " 12  소액주주비율        1704 non-null   object \n",
      " 13  소액주주_주식수      1704 non-null   object \n",
      " 14  총주식수          1704 non-null   object \n",
      " 15  소액주주_주식지분율    1704 non-null   object \n",
      " 16  감사의견          1704 non-null   object \n",
      " 17  감사의견_강조사항     1704 non-null   object \n",
      " 18  감사의견_핵심감사사항   1704 non-null   object \n",
      "dtypes: float64(2), object(17)\n",
      "memory usage: 255.1+ KB\n"
     ]
    }
   ],
   "source": [
    "company_info.drop(['고유번호', '종목코드', '주요제품', '상장일', '결산월', '홈페이지', '지역', '사업자등록번호', '주소', '업종코드', '설립일'], axis=1, inplace=True)\n",
    "company_info.info()"
   ]
  },
  {
   "cell_type": "code",
   "execution_count": 12,
   "metadata": {},
   "outputs": [],
   "source": [
    "company_info.to_excel('company_info.xlsx', index=False)"
   ]
  },
  {
   "cell_type": "code",
   "execution_count": 14,
   "metadata": {},
   "outputs": [],
   "source": [
    "kosdaq['감사의견'] = kosdaq['감사의견'].str.replace('\\n', '')"
   ]
  },
  {
   "cell_type": "markdown",
   "metadata": {},
   "source": [
    "소액주주 지분율(%) 실수화"
   ]
  },
  {
   "cell_type": "code",
   "execution_count": 20,
   "metadata": {},
   "outputs": [],
   "source": [
    "import pandas as pd\n",
    "\n",
    "# 쉼표 제거 및 NaN 값 처리\n",
    "숫자열 = ['소액주주수', '주주수', '소액주주_주식수', '총주식수']\n",
    "kosdaq[숫자열] = kosdaq[숫자열].replace({',': '', '-': pd.NA}, regex=True)\n",
    "\n",
    "# 빈 문자열이면 0으로 대체\n",
    "kosdaq[숫자열] = kosdaq[숫자열].fillna(0)\n",
    "\n",
    "# 정수형으로 변환\n",
    "kosdaq[숫자열] = kosdaq[숫자열].astype('int64')\n",
    "\n",
    "# 소숫점이 있는 열은 실수형으로 변환\n",
    "kosdaq[['소액주주비율', '소액주주_주식지분율']] = kosdaq[['소액주주비율', '소액주주_주식지분율']].replace('-', pd.NA)\n",
    "\n",
    "# NA 값을 평균값으로 대체 (문자열을 제외하고 계산)\n",
    "mean_value = kosdaq[['소액주주비율', '소액주주_주식지분율']].apply(pd.to_numeric, errors='coerce').mean()\n",
    "kosdaq[['소액주주비율', '소액주주_주식지분율']] = kosdaq[['소액주주비율', '소액주주_주식지분율']].fillna(mean_value)\n",
    "\n",
    "# 정수형으로 변환\n",
    "kosdaq[['소액주주비율', '소액주주_주식지분율']] = kosdaq[['소액주주비율', '소액주주_주식지분율']].astype(float)\n"
   ]
  },
  {
   "cell_type": "code",
   "execution_count": null,
   "metadata": {},
   "outputs": [],
   "source": []
  },
  {
   "cell_type": "code",
   "execution_count": 25,
   "metadata": {},
   "outputs": [],
   "source": [
    "result_info = kosdaq.drop(['고유번호', '종목코드', '주요제품', '상장일', '결산월', '홈페이지', '지역', '사업자등록번호', '주소', '업종코드', '설립일'], axis=1, inplace=True)"
   ]
  },
  {
   "cell_type": "code",
   "execution_count": 27,
   "metadata": {},
   "outputs": [
    {
     "name": "stdout",
     "output_type": "stream",
     "text": [
      "<class 'pandas.core.frame.DataFrame'>\n",
      "RangeIndex: 1718 entries, 0 to 1717\n",
      "Data columns (total 19 columns):\n",
      " #   Column        Non-Null Count  Dtype  \n",
      "---  ------        --------------  -----  \n",
      " 0   회사명           1718 non-null   object \n",
      " 1   업종            1718 non-null   object \n",
      " 2   대표자명          1718 non-null   object \n",
      " 3   최대주주_성명       658 non-null    object \n",
      " 4   최대주주_관계       658 non-null    object \n",
      " 5   최대주주_주식종류     658 non-null    object \n",
      " 6   최대주주_기초주식수    658 non-null    object \n",
      " 7   최대주주_기초주식지분율  658 non-null    float64\n",
      " 8   최대주주_기말주식수    658 non-null    object \n",
      " 9   최대주주_기말주식지분율  658 non-null    float64\n",
      " 10  소액주주수         1718 non-null   int64  \n",
      " 11  주주수           1718 non-null   int64  \n",
      " 12  소액주주비율        1718 non-null   float64\n",
      " 13  소액주주_주식수      1718 non-null   int64  \n",
      " 14  총주식수          1718 non-null   int64  \n",
      " 15  소액주주_주식지분율    1718 non-null   float64\n",
      " 16  감사의견          1704 non-null   object \n",
      " 17  감사의견_강조사항     1704 non-null   object \n",
      " 18  감사의견_핵심감사사항   1704 non-null   object \n",
      "dtypes: float64(4), int64(4), object(11)\n",
      "memory usage: 255.1+ KB\n"
     ]
    }
   ],
   "source": [
    "result_info= kosdaq.iloc[:,:26]\n",
    "result_info.info()"
   ]
  },
  {
   "cell_type": "code",
   "execution_count": null,
   "metadata": {},
   "outputs": [],
   "source": []
  },
  {
   "cell_type": "code",
   "execution_count": 28,
   "metadata": {},
   "outputs": [],
   "source": [
    "result_info.to_excel('Final.xlsx', index=False)"
   ]
  },
  {
   "cell_type": "code",
   "execution_count": 3,
   "metadata": {},
   "outputs": [],
   "source": [
    "list= pd.read_excel(\"C:/Users/SDA08/Desktop/workspace/bobae_/0_프로젝트/0_ESG.bb/2_preprocessing.bb/DART_kosdaq_preprocessing.bb/Final.xlsx\")"
   ]
  },
  {
   "cell_type": "code",
   "execution_count": 5,
   "metadata": {},
   "outputs": [
    {
     "name": "stdout",
     "output_type": "stream",
     "text": [
      "<class 'pandas.core.frame.DataFrame'>\n",
      "RangeIndex: 1718 entries, 0 to 1717\n",
      "Data columns (total 19 columns):\n",
      " #   Column        Non-Null Count  Dtype  \n",
      "---  ------        --------------  -----  \n",
      " 0   회사명           1718 non-null   object \n",
      " 1   업종            1718 non-null   object \n",
      " 2   대표자명          1718 non-null   object \n",
      " 3   최대주주_성명       658 non-null    object \n",
      " 4   최대주주_관계       658 non-null    object \n",
      " 5   최대주주_주식종류     658 non-null    object \n",
      " 6   최대주주_기초주식수    658 non-null    object \n",
      " 7   최대주주_기초주식지분율  658 non-null    float64\n",
      " 8   최대주주_기말주식수    658 non-null    object \n",
      " 9   최대주주_기말주식지분율  658 non-null    float64\n",
      " 10  소액주주수         1718 non-null   int64  \n",
      " 11  주주수           1718 non-null   int64  \n",
      " 12  소액주주비율        1718 non-null   float64\n",
      " 13  소액주주_주식수      1718 non-null   int64  \n",
      " 14  총주식수          1718 non-null   int64  \n",
      " 15  소액주주_주식지분율    1718 non-null   float64\n",
      " 16  감사의견          1704 non-null   object \n",
      " 17  감사의견_강조사항     1704 non-null   object \n",
      " 18  감사의견_핵심감사사항   1704 non-null   object \n",
      "dtypes: float64(4), int64(4), object(11)\n",
      "memory usage: 255.1+ KB\n"
     ]
    }
   ],
   "source": [
    "list.info()"
   ]
  },
  {
   "cell_type": "code",
   "execution_count": 23,
   "metadata": {},
   "outputs": [],
   "source": [
    "# '가산점' column 추가 및 초기값 설정\n",
    "list['가산점'] = 2\n",
    "\n",
    "# '최대주주_기말주식지분율'이 60.00 이상인 경우 '가산점' 열에서 -1을 차감하고, 해당 값이 없는 경우에는 -0.5를 차감\n",
    "list.loc[list['최대주주_기말주식지분율'] >= 60.00, '가산점'] -= 1\n",
    "list.loc[list['최대주주_기말주식지분율'].isnull(), '가산점'] -= 0.5\n",
    "\n",
    "# '감사의견' 열에 '적정'이라는 값이 들어가 있지 않거나 값이 없는 경우 '가산점' 열에서 -1을 차감\n",
    "list.loc[(list['감사의견'] != '적정') | (list['감사의견'].isnull()), '가산점'] -= 1"
   ]
  },
  {
   "cell_type": "code",
   "execution_count": 42,
   "metadata": {},
   "outputs": [],
   "source": [
    "list.to_excel('list(1).xlsx', index=False)"
   ]
  },
  {
   "cell_type": "code",
   "execution_count": null,
   "metadata": {},
   "outputs": [],
   "source": []
  }
 ],
 "metadata": {
  "kernelspec": {
   "display_name": "study",
   "language": "python",
   "name": "python3"
  },
  "language_info": {
   "codemirror_mode": {
    "name": "ipython",
    "version": 3
   },
   "file_extension": ".py",
   "mimetype": "text/x-python",
   "name": "python",
   "nbconvert_exporter": "python",
   "pygments_lexer": "ipython3",
   "version": "3.10.13"
  }
 },
 "nbformat": 4,
 "nbformat_minor": 2
}
