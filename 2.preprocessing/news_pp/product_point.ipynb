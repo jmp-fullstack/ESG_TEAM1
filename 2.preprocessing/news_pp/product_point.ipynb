{
 "cells": [
  {
   "cell_type": "code",
   "execution_count": 1,
   "metadata": {},
   "outputs": [],
   "source": [
    "import pandas as pd"
   ]
  },
  {
   "cell_type": "code",
   "execution_count": 2,
   "metadata": {},
   "outputs": [],
   "source": [
    "green_df = pd.read_csv('./data/green_list_0412.csv')\n",
    "rc_df = pd.read_csv('./data/recall_list_0412.csv')"
   ]
  },
  {
   "cell_type": "code",
   "execution_count": 3,
   "metadata": {},
   "outputs": [
    {
     "data": {
      "text/html": [
       "<div>\n",
       "<style scoped>\n",
       "    .dataframe tbody tr th:only-of-type {\n",
       "        vertical-align: middle;\n",
       "    }\n",
       "\n",
       "    .dataframe tbody tr th {\n",
       "        vertical-align: top;\n",
       "    }\n",
       "\n",
       "    .dataframe thead th {\n",
       "        text-align: right;\n",
       "    }\n",
       "</style>\n",
       "<table border=\"1\" class=\"dataframe\">\n",
       "  <thead>\n",
       "    <tr style=\"text-align: right;\">\n",
       "      <th></th>\n",
       "      <th>기업명</th>\n",
       "      <th>인증연도</th>\n",
       "      <th>제품명</th>\n",
       "    </tr>\n",
       "  </thead>\n",
       "  <tbody>\n",
       "    <tr>\n",
       "      <th>0</th>\n",
       "      <td>대한제지</td>\n",
       "      <td>1997</td>\n",
       "      <td>폐지</td>\n",
       "    </tr>\n",
       "    <tr>\n",
       "      <th>1</th>\n",
       "      <td>전주페이퍼</td>\n",
       "      <td>1997</td>\n",
       "      <td>폐지</td>\n",
       "    </tr>\n",
       "    <tr>\n",
       "      <th>2</th>\n",
       "      <td>한일시멘트</td>\n",
       "      <td>1999</td>\n",
       "      <td>폐요업</td>\n",
       "    </tr>\n",
       "  </tbody>\n",
       "</table>\n",
       "</div>"
      ],
      "text/plain": [
       "     기업명  인증연도  제품명\n",
       "0   대한제지  1997   폐지\n",
       "1  전주페이퍼  1997   폐지\n",
       "2  한일시멘트  1999  폐요업"
      ]
     },
     "execution_count": 3,
     "metadata": {},
     "output_type": "execute_result"
    }
   ],
   "source": [
    "green_df[:3]"
   ]
  },
  {
   "cell_type": "code",
   "execution_count": 9,
   "metadata": {},
   "outputs": [
    {
     "data": {
      "text/html": [
       "<div>\n",
       "<style scoped>\n",
       "    .dataframe tbody tr th:only-of-type {\n",
       "        vertical-align: middle;\n",
       "    }\n",
       "\n",
       "    .dataframe tbody tr th {\n",
       "        vertical-align: top;\n",
       "    }\n",
       "\n",
       "    .dataframe thead th {\n",
       "        text-align: right;\n",
       "    }\n",
       "</style>\n",
       "<table border=\"1\" class=\"dataframe\">\n",
       "  <thead>\n",
       "    <tr style=\"text-align: right;\">\n",
       "      <th></th>\n",
       "      <th>기업명</th>\n",
       "      <th>인증연도</th>\n",
       "      <th>리콜종류</th>\n",
       "      <th>제품명</th>\n",
       "    </tr>\n",
       "  </thead>\n",
       "  <tbody>\n",
       "    <tr>\n",
       "      <th>0</th>\n",
       "      <td>신지모루</td>\n",
       "      <td>2024</td>\n",
       "      <td>자발적리콜</td>\n",
       "      <td>마그네틱 보조배터리</td>\n",
       "    </tr>\n",
       "    <tr>\n",
       "      <th>1</th>\n",
       "      <td>휴리엔</td>\n",
       "      <td>2024</td>\n",
       "      <td>자발적리콜</td>\n",
       "      <td>가정용 음식물처리기</td>\n",
       "    </tr>\n",
       "    <tr>\n",
       "      <th>2</th>\n",
       "      <td>MTD Products Inc.</td>\n",
       "      <td>2024</td>\n",
       "      <td>자발적리콜</td>\n",
       "      <td>잔디깍기(제로턴 잔디깍기, Zero Turn Lawn Mowers)</td>\n",
       "    </tr>\n",
       "  </tbody>\n",
       "</table>\n",
       "</div>"
      ],
      "text/plain": [
       "                 기업명  인증연도   리콜종류                                    제품명\n",
       "0               신지모루  2024  자발적리콜                             마그네틱 보조배터리\n",
       "1                휴리엔  2024  자발적리콜                             가정용 음식물처리기\n",
       "2  MTD Products Inc.  2024  자발적리콜  잔디깍기(제로턴 잔디깍기, Zero Turn Lawn Mowers)"
      ]
     },
     "execution_count": 9,
     "metadata": {},
     "output_type": "execute_result"
    }
   ],
   "source": [
    "rc_df[:3]"
   ]
  },
  {
   "cell_type": "code",
   "execution_count": 5,
   "metadata": {},
   "outputs": [
    {
     "data": {
      "text/html": [
       "<div>\n",
       "<style scoped>\n",
       "    .dataframe tbody tr th:only-of-type {\n",
       "        vertical-align: middle;\n",
       "    }\n",
       "\n",
       "    .dataframe tbody tr th {\n",
       "        vertical-align: top;\n",
       "    }\n",
       "\n",
       "    .dataframe thead th {\n",
       "        text-align: right;\n",
       "    }\n",
       "</style>\n",
       "<table border=\"1\" class=\"dataframe\">\n",
       "  <thead>\n",
       "    <tr style=\"text-align: right;\">\n",
       "      <th></th>\n",
       "      <th>기업명</th>\n",
       "      <th>횟수</th>\n",
       "    </tr>\n",
       "  </thead>\n",
       "  <tbody>\n",
       "    <tr>\n",
       "      <th>0</th>\n",
       "      <td>보은아스콘</td>\n",
       "      <td>1</td>\n",
       "    </tr>\n",
       "    <tr>\n",
       "      <th>1</th>\n",
       "      <td>벽진산업</td>\n",
       "      <td>1</td>\n",
       "    </tr>\n",
       "    <tr>\n",
       "      <th>2</th>\n",
       "      <td>홍원제지</td>\n",
       "      <td>1</td>\n",
       "    </tr>\n",
       "  </tbody>\n",
       "</table>\n",
       "</div>"
      ],
      "text/plain": [
       "     기업명  횟수\n",
       "0  보은아스콘   1\n",
       "1   벽진산업   1\n",
       "2   홍원제지   1"
      ]
     },
     "execution_count": 5,
     "metadata": {},
     "output_type": "execute_result"
    }
   ],
   "source": [
    "company_green = list(set(green_df['기업명']))\n",
    "\n",
    "# 각 기업명의 카운트 계산\n",
    "counts = []\n",
    "for token in company_green:\n",
    "    count = (green_df['기업명'] == token).sum()\n",
    "    counts.append(count)\n",
    "\n",
    "# 결과를 데이터프레임으로 생성\n",
    "green_df = pd.DataFrame({\n",
    "    '기업명': company_green,\n",
    "    '횟수': counts\n",
    "})\n",
    "\n",
    "green_df[:3]"
   ]
  },
  {
   "cell_type": "code",
   "execution_count": 10,
   "metadata": {},
   "outputs": [
    {
     "data": {
      "text/html": [
       "<div>\n",
       "<style scoped>\n",
       "    .dataframe tbody tr th:only-of-type {\n",
       "        vertical-align: middle;\n",
       "    }\n",
       "\n",
       "    .dataframe tbody tr th {\n",
       "        vertical-align: top;\n",
       "    }\n",
       "\n",
       "    .dataframe thead th {\n",
       "        text-align: right;\n",
       "    }\n",
       "</style>\n",
       "<table border=\"1\" class=\"dataframe\">\n",
       "  <thead>\n",
       "    <tr style=\"text-align: right;\">\n",
       "      <th>리콜종류</th>\n",
       "      <th>기업명</th>\n",
       "      <th>권고에따른리콜</th>\n",
       "      <th>명령에따른리콜</th>\n",
       "      <th>자발적리콜</th>\n",
       "    </tr>\n",
       "  </thead>\n",
       "  <tbody>\n",
       "    <tr>\n",
       "      <th>0</th>\n",
       "      <td>(유)그룹세브코리아</td>\n",
       "      <td>0</td>\n",
       "      <td>0</td>\n",
       "      <td>1</td>\n",
       "    </tr>\n",
       "    <tr>\n",
       "      <th>1</th>\n",
       "      <td>(유)나이키코리아</td>\n",
       "      <td>0</td>\n",
       "      <td>1</td>\n",
       "      <td>0</td>\n",
       "    </tr>\n",
       "    <tr>\n",
       "      <th>2</th>\n",
       "      <td>(유)더보케이블</td>\n",
       "      <td>0</td>\n",
       "      <td>2</td>\n",
       "      <td>0</td>\n",
       "    </tr>\n",
       "  </tbody>\n",
       "</table>\n",
       "</div>"
      ],
      "text/plain": [
       "리콜종류         기업명  권고에따른리콜  명령에따른리콜  자발적리콜\n",
       "0     (유)그룹세브코리아        0        0      1\n",
       "1      (유)나이키코리아        0        1      0\n",
       "2       (유)더보케이블        0        2      0"
      ]
     },
     "execution_count": 10,
     "metadata": {},
     "output_type": "execute_result"
    }
   ],
   "source": [
    "recall_df = rc_df.groupby(['기업명', '리콜종류']).size().unstack(fill_value=0)\n",
    "recall_df.reset_index(inplace=True)  # 인덱스 리셋\n",
    "\n",
    "# 결과 출력\n",
    "recall_df[:3]"
   ]
  },
  {
   "cell_type": "code",
   "execution_count": 7,
   "metadata": {},
   "outputs": [
    {
     "data": {
      "image/png": "[encoded data removed]",
      "text/plain": [
       "<Figure size 640x480 with 1 Axes>"
      ]
     },
     "metadata": {},
     "output_type": "display_data"
    }
   ],
   "source": [
    "import matplotlib.pyplot as plt\n",
    "\n",
    "plt.plot(green_df['횟수'].tolist())\n",
    "plt.show()"
   ]
  },
  {
   "cell_type": "code",
   "execution_count": null,
   "metadata": {},
   "outputs": [],
   "source": [
    "plt.plot(recall_df['권고에따른리콜'].tolist())\n",
    "plt.show"
   ]
  },
  {
   "cell_type": "code",
   "execution_count": null,
   "metadata": {},
   "outputs": [],
   "source": [
    "plt.plot(recall_df['명령에따른리콜'].tolist())\n",
    "plt.show"
   ]
  },
  {
   "cell_type": "code",
   "execution_count": null,
   "metadata": {},
   "outputs": [],
   "source": [
    "plt.plot(recall_df['자발적리콜'].tolist())\n",
    "plt.show"
   ]
  },
  {
   "cell_type": "code",
   "execution_count": 11,
   "metadata": {},
   "outputs": [],
   "source": [
    "def company_product_count(df,company=str,count=str):\n",
    "    company_count = list(zip(df[company],df[count]))\n",
    "    return company_count\n"
   ]
  },
  {
   "cell_type": "code",
   "execution_count": 13,
   "metadata": {},
   "outputs": [
    {
     "data": {
      "text/plain": [
       "[('보은아스콘', 2), ('벽진산업', 2), ('홍원제지', 2)]"
      ]
     },
     "execution_count": 13,
     "metadata": {},
     "output_type": "execute_result"
    }
   ],
   "source": [
    "# 그린제품 만든 기업 (최고 5점)\n",
    "# 1~2번 만든 기업 : 2점\n",
    "# 3~4번 만든 기업 : 3점\n",
    "# 4~max번 만든 기업 : 5점\n",
    "\n",
    "company_count = company_product_count(green_df,'기업명','횟수')\n",
    "\n",
    "green_company = []\n",
    "for company, count in company_count :\n",
    "    green_point = 0\n",
    "    if count == 0 :\n",
    "        green_point = 0\n",
    "    elif 1 <= count <= 2 :\n",
    "        green_point = 2\n",
    "    elif 3 <= count <= 4 :\n",
    "        green_point = 3\n",
    "    else :\n",
    "        green_point = 5\n",
    "    green_company.append((company,green_point))\n",
    "\n",
    "green_company[:3]"
   ]
  },
  {
   "cell_type": "code",
   "execution_count": null,
   "metadata": {},
   "outputs": [],
   "source": [
    "# 리콜 (최고 10점 만점기준)"
   ]
  },
  {
   "cell_type": "code",
   "execution_count": 14,
   "metadata": {},
   "outputs": [
    {
     "data": {
      "text/plain": [
       "[('(유)그룹세브코리아', 3), ('(유)나이키코리아', 3), ('(유)더보케이블', 3)]"
      ]
     },
     "execution_count": 14,
     "metadata": {},
     "output_type": "execute_result"
    }
   ],
   "source": [
    "# 권고에따른리콜 (기준 : 3)\n",
    "# 0번: 3점\n",
    "# 1번: 2점\n",
    "# 2번: 1점\n",
    "# 3번: 0.5점\n",
    "# 4번~: 0점\n",
    "\n",
    "company_count = company_product_count(recall_df, '기업명', '권고에따른리콜')\n",
    "\n",
    "advice_company = []\n",
    "for company, count in company_count :\n",
    "    recall_point = 0\n",
    "    if count == 0 :\n",
    "        recall_point = 3\n",
    "    elif count == 1 :\n",
    "        recall_point = 2\n",
    "    elif count == 2 :\n",
    "        recall_point = 1\n",
    "    elif count == 3 :\n",
    "        recall_point = 0.5\n",
    "    else :\n",
    "        recall_point = 0\n",
    "    advice_company.append((company,recall_point))\n",
    "\n",
    "advice_company[:3]"
   ]
  },
  {
   "cell_type": "code",
   "execution_count": 16,
   "metadata": {},
   "outputs": [
    {
     "data": {
      "text/plain": [
       "[('(유)그룹세브코리아', 2), ('(유)나이키코리아', 1.5), ('(유)더보케이블', 1.5)]"
      ]
     },
     "execution_count": 16,
     "metadata": {},
     "output_type": "execute_result"
    }
   ],
   "source": [
    "# 명령에따른리콜 (기준 : 2)\n",
    "# 0번: 2점\n",
    "# 1~5번: 1.5점\n",
    "# 6~10번: 1점\n",
    "# 11~15번: 0.5점\n",
    "# 15~~: 0점\n",
    "\n",
    "company_count = company_product_count(recall_df, '기업명', '명령에따른리콜')\n",
    "\n",
    "instructions_company = []\n",
    "for company, count in company_count :\n",
    "    recall_point = 0\n",
    "    if count == 0 :\n",
    "        recall_point = 2\n",
    "    elif 1 <= count <= 5  :\n",
    "        recall_point = 1.5\n",
    "    elif 6 <= count <= 10 :\n",
    "        recall_point = 1\n",
    "    elif 11 <= count <= 15:\n",
    "        recall_point = 0.5\n",
    "    else :\n",
    "        recall_point = 0\n",
    "    instructions_company.append((company,recall_point))\n",
    "\n",
    "instructions_company[:3]"
   ]
  },
  {
   "cell_type": "code",
   "execution_count": 17,
   "metadata": {},
   "outputs": [
    {
     "data": {
      "text/plain": [
       "[('(유)그룹세브코리아', 4), ('(유)나이키코리아', 5), ('(유)더보케이블', 5)]"
      ]
     },
     "execution_count": 17,
     "metadata": {},
     "output_type": "execute_result"
    }
   ],
   "source": [
    "# 자발적리콜 (기준 : 5)\n",
    "# 0번: 5점\n",
    "# 1번: 4점\n",
    "# 2번: 3점\n",
    "# 3번: 2점 \n",
    "# 4번: 1점\n",
    "# 5번~ : 0점\n",
    "\n",
    "company_count = company_product_count(recall_df, '기업명', '자발적리콜')\n",
    "\n",
    "voluntary_company = []\n",
    "for company, count in company_count :\n",
    "    recall_point = 0\n",
    "    if count == 0 :\n",
    "        recall_point = 5\n",
    "    elif count == 1 :\n",
    "        recall_point = 4\n",
    "    elif count == 2 :\n",
    "        recall_point = 3\n",
    "    elif count == 3:\n",
    "        recall_point = 2\n",
    "    elif count == 4:\n",
    "        recall_point = 1\n",
    "    else :\n",
    "        recall_point = 0\n",
    "    voluntary_company.append((company,recall_point))\n",
    "\n",
    "voluntary_company[:3]"
   ]
  },
  {
   "cell_type": "code",
   "execution_count": 18,
   "metadata": {},
   "outputs": [
    {
     "data": {
      "text/plain": [
       "[('(유)그룹세브코리아', 3), ('(유)나이키코리아', 3), ('(유)더보케이블', 3)]"
      ]
     },
     "execution_count": 18,
     "metadata": {},
     "output_type": "execute_result"
    }
   ],
   "source": [
    "total_product = advice_company + green_company + voluntary_company + instructions_company\n",
    "total_product[:3]"
   ]
  },
  {
   "cell_type": "code",
   "execution_count": 19,
   "metadata": {},
   "outputs": [],
   "source": [
    "from collections import defaultdict\n",
    "\n",
    "company_scores = defaultdict(int)\n",
    "for company, score in total_product:\n",
    "    company_scores[company] += score\n",
    "\n",
    "company_total_score = list(company_scores.items())"
   ]
  },
  {
   "cell_type": "code",
   "execution_count": 21,
   "metadata": {},
   "outputs": [
    {
     "data": {
      "text/plain": [
       "[('(유)그룹세브코리아', 9),\n",
       " ('(유)나이키코리아', 9.5),\n",
       " ('(유)더보케이블', 9.5),\n",
       " ('(유)우전케이블', 9.5),\n",
       " ('(유)플러스', 9.5),\n",
       " ('(유)한국휴렛팩커드', 9),\n",
       " ('(유)한일온열기', 9.5),\n",
       " ('(제품)두드림M&B (인증)한강제이케이시', 9.5),\n",
       " ('3M', 9),\n",
       " ('3M, LG전자', 9)]"
      ]
     },
     "execution_count": 21,
     "metadata": {},
     "output_type": "execute_result"
    }
   ],
   "source": [
    "company_total_score[:10]"
   ]
  },
  {
   "cell_type": "code",
   "execution_count": null,
   "metadata": {},
   "outputs": [],
   "source": [
    "import csv\n",
    "\n",
    "with open('company_scores.csv', 'w', newline='', encoding='utf-8') as file:\n",
    "    writer = csv.writer(file)\n",
    "    writer.writerow(['회사명', '제품점수'])\n",
    "    writer.writerows(company_total_score)"
   ]
  },
  {
   "cell_type": "code",
   "execution_count": null,
   "metadata": {},
   "outputs": [],
   "source": []
  }
 ],
 "metadata": {
  "kernelspec": {
   "display_name": "esg",
   "language": "python",
   "name": "python3"
  },
  "language_info": {
   "codemirror_mode": {
    "name": "ipython",
    "version": 3
   },
   "file_extension": ".py",
   "mimetype": "text/x-python",
   "name": "python",
   "nbconvert_exporter": "python",
   "pygments_lexer": "ipython3",
   "version": "3.11.8"
  }
 },
 "nbformat": 4,
 "nbformat_minor": 2
}
