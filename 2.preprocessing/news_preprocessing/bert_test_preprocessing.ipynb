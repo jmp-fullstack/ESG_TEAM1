{
 "cells": [
  {
   "cell_type": "markdown",
   "metadata": {},
   "source": [
    "### test_dataset preprocessing  \n",
    "1. 년도별 데이터셋 dict 형식으로 변경 dict[기업별][년도별][문장리스트]  \n",
    "2. 뉴스 19년도부터의 데이터로 인해 잡플래닛 19년도 이하의 데이터들 제외  "
   ]
  },
  {
   "cell_type": "code",
   "execution_count": 1,
   "metadata": {},
   "outputs": [],
   "source": [
    "import pandas as pd"
   ]
  },
  {
   "cell_type": "code",
   "execution_count": 7,
   "metadata": {},
   "outputs": [],
   "source": [
    "df_2019 = pd.read_csv('./kosdaq_data/2019_kosdaq.csv', on_bad_lines='skip')\n",
    "df_2020 = pd.read_csv('./kosdaq_data/2020_kosdaq.csv', on_bad_lines='skip')\n",
    "df_2021 = pd.read_csv('./kosdaq_data/2021_kosdaq.csv', on_bad_lines='skip')\n",
    "df_2022 = pd.read_csv('./kosdaq_data/2022_kosdaq.csv', on_bad_lines='skip')\n",
    "df_2023 = pd.read_csv('./kosdaq_data/2023_kosdaq.csv', on_bad_lines='skip')\n",
    "df_2024 = pd.read_csv('./kosdaq_data/2024_kosdaq.csv', on_bad_lines='skip')\n",
    "\n",
    "df_news = pd.concat([df_2019,df_2020,df_2021,df_2022,df_2023,df_2024])"
   ]
  },
  {
   "cell_type": "code",
   "execution_count": 9,
   "metadata": {},
   "outputs": [
    {
     "data": {
      "text/plain": [
       "594200"
      ]
     },
     "execution_count": 9,
     "metadata": {},
     "output_type": "execute_result"
    }
   ],
   "source": [
    "len(df_news)"
   ]
  },
  {
   "cell_type": "code",
   "execution_count": 3,
   "metadata": {},
   "outputs": [],
   "source": [
    "df_news = df_news.drop_duplicates(subset='content')\n",
    "data = []\n",
    "\n",
    "for index, row in df_news.iterrows():\n",
    "    sentences = row['content'].split('&&')\n",
    "    for sentence in sentences:\n",
    "        if len(sentence) > 40:\n",
    "            data.append((row['company'], row['date'],row['url'], sentence))\n",
    "df_news = pd.DataFrame(data, columns=['Company','Date','URL', 'Sentence'])"
   ]
  },
  {
   "cell_type": "code",
   "execution_count": 4,
   "metadata": {},
   "outputs": [
    {
     "data": {
      "text/plain": [
       "5068917"
      ]
     },
     "execution_count": 4,
     "metadata": {},
     "output_type": "execute_result"
    }
   ],
   "source": [
    "len(df_news)"
   ]
  },
  {
   "cell_type": "code",
   "execution_count": 5,
   "metadata": {},
   "outputs": [],
   "source": [
    "df_news = df_news.drop_duplicates(subset='Sentence')"
   ]
  },
  {
   "cell_type": "code",
   "execution_count": 6,
   "metadata": {},
   "outputs": [
    {
     "data": {
      "text/plain": [
       "4571733"
      ]
     },
     "execution_count": 6,
     "metadata": {},
     "output_type": "execute_result"
    }
   ],
   "source": [
    "len(df_news)"
   ]
  },
  {
   "cell_type": "code",
   "execution_count": null,
   "metadata": {},
   "outputs": [],
   "source": [
    "job_df = pd.read_csv('./data/kosdaq_date_pros_cons_jobplanet_result.csv')"
   ]
  },
  {
   "cell_type": "code",
   "execution_count": null,
   "metadata": {},
   "outputs": [],
   "source": [
    "# 기업별 날짜별 문장을 담을 딕셔너리\n",
    "company_date_sentence = {}\n",
    "\n",
    "# 뉴스\n",
    "for _,token in df_news.iterrows():\n",
    "    company_name = token['Company']\n",
    "    sentences = token['Sentence']\n",
    "    year = token['Date'].split('.')[0]\n",
    "\n",
    "    if company_name not in company_date_sentence:\n",
    "        company_date_sentence[company_name] = {year: [sentences]}\n",
    "    else:\n",
    "        if year not in company_date_sentence[company_name]:\n",
    "            company_date_sentence[company_name][year] = [sentences]\n",
    "        else:\n",
    "            company_date_sentence[company_name][year].extend([sentences])\n",
    "\n",
    "# 잡플래닛\n",
    "for _, token in job_df.iterrows():\n",
    "    company_name = token['기업명']\n",
    "    pos_sentence = token['장점 리뷰']\n",
    "    neg_sentence = token['단점 리뷰']\n",
    "    year = token['날짜']\n",
    "    if company_name not in company_date_sentence:\n",
    "        company_date_sentence[company_name] = {year: [pos_sentence, neg_sentence]}\n",
    "    else:\n",
    "        if year not in company_date_sentence[company_name]:\n",
    "            company_date_sentence[company_name][year] = [pos_sentence, neg_sentence]\n",
    "        else:\n",
    "            company_date_sentence[company_name][year].extend([pos_sentence, neg_sentence])"
   ]
  },
  {
   "cell_type": "code",
   "execution_count": null,
   "metadata": {},
   "outputs": [],
   "source": [
    "# 잡플래닛 18년도 이하 데이터 제외\n",
    "for company in company_date_sentence:\n",
    "    for year in range(2014,2019):\n",
    "        if str(year) in company_date_sentence[company]:\n",
    "            del company_date_sentence[company][str(year)]"
   ]
  },
  {
   "cell_type": "code",
   "execution_count": null,
   "metadata": {},
   "outputs": [],
   "source": [
    "import json\n",
    "\n",
    "with open(\"total_kosdaq.json\", \"w\") as f:\n",
    "    json.dump(company_date_sentence, f)"
   ]
  }
 ],
 "metadata": {
  "kernelspec": {
   "display_name": "bok",
   "language": "python",
   "name": "python3"
  },
  "language_info": {
   "codemirror_mode": {
    "name": "ipython",
    "version": 3
   },
   "file_extension": ".py",
   "mimetype": "text/x-python",
   "name": "python",
   "nbconvert_exporter": "python",
   "pygments_lexer": "ipython3",
   "version": "3.11.8"
  }
 },
 "nbformat": 4,
 "nbformat_minor": 2
}
