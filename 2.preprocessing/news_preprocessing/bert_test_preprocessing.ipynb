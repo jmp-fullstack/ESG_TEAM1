{
 "cells": [
  {
   "cell_type": "markdown",
   "metadata": {},
   "source": [
    "### test_dataset preprocessing  \n",
    "1. 년도별 데이터셋 dict 형식으로 변경 dict[기업별][년도별][문장리스트]  \n",
    "2. 뉴스 19년도부터의 데이터로 인해 잡플래닛 19년도 이하의 데이터들 제외  "
   ]
  },
  {
   "cell_type": "code",
   "execution_count": 1,
   "metadata": {},
   "outputs": [],
   "source": [
    "import pandas as pd"
   ]
  },
  {
   "cell_type": "code",
   "execution_count": 2,
   "metadata": {},
   "outputs": [],
   "source": [
    "df_2019 = pd.read_csv('./kosdaq_data/2019_kosdaq.csv', on_bad_lines='skip')\n",
    "df_2020 = pd.read_csv('./kosdaq_data/2020_kosdaq.csv', on_bad_lines='skip')\n",
    "df_2021 = pd.read_csv('./kosdaq_data/2021_kosdaq.csv', on_bad_lines='skip')\n",
    "df_2022 = pd.read_csv('./kosdaq_data/2022_kosdaq.csv', on_bad_lines='skip')\n",
    "df_2023 = pd.read_csv('./kosdaq_data/2023_kosdaq.csv', on_bad_lines='skip')\n",
    "df_2024 = pd.read_csv('./kosdaq_data/2024_kosdaq.csv', on_bad_lines='skip')\n",
    "\n",
    "df_news = pd.concat([df_2019,df_2020,df_2021,df_2022,df_2023,df_2024])"
   ]
  },
  {
   "cell_type": "code",
   "execution_count": 3,
   "metadata": {},
   "outputs": [
    {
     "data": {
      "text/plain": [
       "594200"
      ]
     },
     "execution_count": 3,
     "metadata": {},
     "output_type": "execute_result"
    }
   ],
   "source": [
    "len(df_news)"
   ]
  },
  {
   "cell_type": "code",
   "execution_count": 4,
   "metadata": {},
   "outputs": [
    {
     "data": {
      "text/html": [
       "<div>\n",
       "<style scoped>\n",
       "    .dataframe tbody tr th:only-of-type {\n",
       "        vertical-align: middle;\n",
       "    }\n",
       "\n",
       "    .dataframe tbody tr th {\n",
       "        vertical-align: top;\n",
       "    }\n",
       "\n",
       "    .dataframe thead th {\n",
       "        text-align: right;\n",
       "    }\n",
       "</style>\n",
       "<table border=\"1\" class=\"dataframe\">\n",
       "  <thead>\n",
       "    <tr style=\"text-align: right;\">\n",
       "      <th></th>\n",
       "      <th>company</th>\n",
       "      <th>content</th>\n",
       "      <th>date</th>\n",
       "      <th>title</th>\n",
       "      <th>url</th>\n",
       "    </tr>\n",
       "  </thead>\n",
       "  <tbody>\n",
       "    <tr>\n",
       "      <th>0</th>\n",
       "      <td>오상헬스케어</td>\n",
       "      <td>기술력과 제품력을 갖춘 국내 중소벤처 바이오헬스케어 기업들이 세계 최대 가전IT 전...</td>\n",
       "      <td>2019.01.08</td>\n",
       "      <td>재활훈련·건강검진… 기술中企, 글로벌 시장 노크</td>\n",
       "      <td>https://n.news.naver.com/mnews/article/029/000...</td>\n",
       "    </tr>\n",
       "    <tr>\n",
       "      <th>1</th>\n",
       "      <td>오상헬스케어</td>\n",
       "      <td>오상헬스케어036220의 현재 거래량이 최근 5거래일 거래량의 최고치를 넘어섰다&amp;&amp;...</td>\n",
       "      <td>2019.01.09</td>\n",
       "      <td>[fnRASSI]오상헬스케어, 당일 거래량 증가하며 4거래일 하락세 지속</td>\n",
       "      <td>https://n.news.naver.com/mnews/article/014/000...</td>\n",
       "    </tr>\n",
       "    <tr>\n",
       "      <th>2</th>\n",
       "      <td>삼현</td>\n",
       "      <td>증시분석 전문기자 로봇 ET etbotetnews&amp;&amp;com&amp;&amp;전자신문과 금융AI전문...</td>\n",
       "      <td>2019.01.31</td>\n",
       "      <td>[ET투자뉴스]삼현철강 18년4분기 실적 발표, 당기순이익 4.3억원… 전년 동기 ...</td>\n",
       "      <td>https://n.news.naver.com/mnews/article/030/000...</td>\n",
       "    </tr>\n",
       "    <tr>\n",
       "      <th>3</th>\n",
       "      <td>삼현</td>\n",
       "      <td>삼현철강은 1월 30일 11시 38분 전일 대비 약 4 상승한 5290원에 거래되고...</td>\n",
       "      <td>2019.01.30</td>\n",
       "      <td>삼현철강, 전일 대비 약 4% 상승한 5,290원</td>\n",
       "      <td>https://n.news.naver.com/mnews/article/215/000...</td>\n",
       "    </tr>\n",
       "    <tr>\n",
       "      <th>4</th>\n",
       "      <td>삼현</td>\n",
       "      <td>전형진 기자   삼현철강은 보통주 1주당 150원의 현금배당을 실시하기로 했다고 ...</td>\n",
       "      <td>2019.01.31</td>\n",
       "      <td>삼현철강, 주당 150원 현금배당키로</td>\n",
       "      <td>https://n.news.naver.com/mnews/article/015/000...</td>\n",
       "    </tr>\n",
       "    <tr>\n",
       "      <th>...</th>\n",
       "      <td>...</td>\n",
       "      <td>...</td>\n",
       "      <td>...</td>\n",
       "      <td>...</td>\n",
       "      <td>...</td>\n",
       "    </tr>\n",
       "    <tr>\n",
       "      <th>35171</th>\n",
       "      <td>리더스 기술투자</td>\n",
       "      <td>세종뉴시스손차민 기자  산업통상자원부가 올해 우수 중견기업 80곳에 1조원 규모의 ...</td>\n",
       "      <td>2024.04.15</td>\n",
       "      <td>산업부, 올해 80개 중견기업에 1조 우대금융 지원</td>\n",
       "      <td>https://n.news.naver.com/mnews/article/003/001...</td>\n",
       "    </tr>\n",
       "    <tr>\n",
       "      <th>35172</th>\n",
       "      <td>리더스 기술투자</td>\n",
       "      <td>서울연합뉴스 김동규 기자  성장 잠재력이 높은 라이징 리더스로 선정된 중견기업에 올...</td>\n",
       "      <td>2024.04.15</td>\n",
       "      <td>'라이징 리더스' 중견기업 80곳에 1조원 규모 우대금융</td>\n",
       "      <td>https://n.news.naver.com/mnews/article/001/001...</td>\n",
       "    </tr>\n",
       "    <tr>\n",
       "      <th>35173</th>\n",
       "      <td>카스</td>\n",
       "      <td>이마트 이마트에브리데이 이마트24 3사가 맥주 수요가 높아지는 나들이 철을 맞아 대...</td>\n",
       "      <td>2024.04.17</td>\n",
       "      <td>50개 맥주 최대 35% 할인...이마트 3사, '슈퍼비어 페스타'</td>\n",
       "      <td>https://n.news.naver.com/mnews/article/008/000...</td>\n",
       "    </tr>\n",
       "    <tr>\n",
       "      <th>35174</th>\n",
       "      <td>카스</td>\n",
       "      <td>오비맥주는 2024 대한민국 국제 맥주 대회KIBA 2024에서 12관왕을 달성했다...</td>\n",
       "      <td>2024.04.15</td>\n",
       "      <td>오비맥주, ‘대한민국 국제 맥주 대회(KIBA 2024)’ 12관왕</td>\n",
       "      <td>https://n.news.naver.com/mnews/article/022/000...</td>\n",
       "    </tr>\n",
       "    <tr>\n",
       "      <th>35175</th>\n",
       "      <td>카스</td>\n",
       "      <td>이호승 기자  오비맥주는 2024 대한민국 국제 맥주 대회KIBA 2024에서 1...</td>\n",
       "      <td>2024.04.15</td>\n",
       "      <td>오비맥주, '대한민국 국제 맥주 대회(KIBA 2024)' 12관왕</td>\n",
       "      <td>https://n.news.naver.com/mnews/article/421/000...</td>\n",
       "    </tr>\n",
       "  </tbody>\n",
       "</table>\n",
       "<p>594200 rows × 5 columns</p>\n",
       "</div>"
      ],
      "text/plain": [
       "        company                                            content  \\\n",
       "0        오상헬스케어  기술력과 제품력을 갖춘 국내 중소벤처 바이오헬스케어 기업들이 세계 최대 가전IT 전...   \n",
       "1        오상헬스케어  오상헬스케어036220의 현재 거래량이 최근 5거래일 거래량의 최고치를 넘어섰다&&...   \n",
       "2            삼현  증시분석 전문기자 로봇 ET etbotetnews&&com&&전자신문과 금융AI전문...   \n",
       "3            삼현  삼현철강은 1월 30일 11시 38분 전일 대비 약 4 상승한 5290원에 거래되고...   \n",
       "4            삼현   전형진 기자   삼현철강은 보통주 1주당 150원의 현금배당을 실시하기로 했다고 ...   \n",
       "...         ...                                                ...   \n",
       "35171  리더스 기술투자  세종뉴시스손차민 기자  산업통상자원부가 올해 우수 중견기업 80곳에 1조원 규모의 ...   \n",
       "35172  리더스 기술투자  서울연합뉴스 김동규 기자  성장 잠재력이 높은 라이징 리더스로 선정된 중견기업에 올...   \n",
       "35173        카스  이마트 이마트에브리데이 이마트24 3사가 맥주 수요가 높아지는 나들이 철을 맞아 대...   \n",
       "35174        카스  오비맥주는 2024 대한민국 국제 맥주 대회KIBA 2024에서 12관왕을 달성했다...   \n",
       "35175        카스   이호승 기자  오비맥주는 2024 대한민국 국제 맥주 대회KIBA 2024에서 1...   \n",
       "\n",
       "             date                                              title  \\\n",
       "0      2019.01.08                         재활훈련·건강검진… 기술中企, 글로벌 시장 노크   \n",
       "1      2019.01.09           [fnRASSI]오상헬스케어, 당일 거래량 증가하며 4거래일 하락세 지속   \n",
       "2      2019.01.31  [ET투자뉴스]삼현철강 18년4분기 실적 발표, 당기순이익 4.3억원… 전년 동기 ...   \n",
       "3      2019.01.30                        삼현철강, 전일 대비 약 4% 상승한 5,290원   \n",
       "4      2019.01.31                               삼현철강, 주당 150원 현금배당키로   \n",
       "...           ...                                                ...   \n",
       "35171  2024.04.15                       산업부, 올해 80개 중견기업에 1조 우대금융 지원   \n",
       "35172  2024.04.15                    '라이징 리더스' 중견기업 80곳에 1조원 규모 우대금융   \n",
       "35173  2024.04.17              50개 맥주 최대 35% 할인...이마트 3사, '슈퍼비어 페스타'   \n",
       "35174  2024.04.15              오비맥주, ‘대한민국 국제 맥주 대회(KIBA 2024)’ 12관왕   \n",
       "35175  2024.04.15              오비맥주, '대한민국 국제 맥주 대회(KIBA 2024)' 12관왕   \n",
       "\n",
       "                                                     url  \n",
       "0      https://n.news.naver.com/mnews/article/029/000...  \n",
       "1      https://n.news.naver.com/mnews/article/014/000...  \n",
       "2      https://n.news.naver.com/mnews/article/030/000...  \n",
       "3      https://n.news.naver.com/mnews/article/215/000...  \n",
       "4      https://n.news.naver.com/mnews/article/015/000...  \n",
       "...                                                  ...  \n",
       "35171  https://n.news.naver.com/mnews/article/003/001...  \n",
       "35172  https://n.news.naver.com/mnews/article/001/001...  \n",
       "35173  https://n.news.naver.com/mnews/article/008/000...  \n",
       "35174  https://n.news.naver.com/mnews/article/022/000...  \n",
       "35175  https://n.news.naver.com/mnews/article/421/000...  \n",
       "\n",
       "[594200 rows x 5 columns]"
      ]
     },
     "execution_count": 4,
     "metadata": {},
     "output_type": "execute_result"
    }
   ],
   "source": [
    "df_news"
   ]
  },
  {
   "cell_type": "code",
   "execution_count": 5,
   "metadata": {},
   "outputs": [],
   "source": [
    "# df_news = df_news.drop_duplicates(subset='content')\n",
    "data = []\n",
    "\n",
    "\n",
    "for _, row in df_news.iterrows():\n",
    "    sentences = row['content'].split('&&')\n",
    "    for sentence in sentences:\n",
    "        if len(sentence) > 40:\n",
    "            data.append((row['company'], row['date'], row['url'], sentence))\n",
    "df_news = pd.DataFrame(data, columns=['Company','Date','URL', 'Sentence'])"
   ]
  },
  {
   "cell_type": "code",
   "execution_count": 11,
   "metadata": {},
   "outputs": [
    {
     "data": {
      "text/html": [
       "<div>\n",
       "<style scoped>\n",
       "    .dataframe tbody tr th:only-of-type {\n",
       "        vertical-align: middle;\n",
       "    }\n",
       "\n",
       "    .dataframe tbody tr th {\n",
       "        vertical-align: top;\n",
       "    }\n",
       "\n",
       "    .dataframe thead th {\n",
       "        text-align: right;\n",
       "    }\n",
       "</style>\n",
       "<table border=\"1\" class=\"dataframe\">\n",
       "  <thead>\n",
       "    <tr style=\"text-align: right;\">\n",
       "      <th></th>\n",
       "      <th>Company</th>\n",
       "      <th>Date</th>\n",
       "      <th>URL</th>\n",
       "      <th>Sentence</th>\n",
       "    </tr>\n",
       "  </thead>\n",
       "  <tbody>\n",
       "    <tr>\n",
       "      <th>0</th>\n",
       "      <td>오상헬스케어</td>\n",
       "      <td>2019.01.08</td>\n",
       "      <td>https://n.news.naver.com/mnews/article/029/000...</td>\n",
       "      <td>기술력과 제품력을 갖춘 국내 중소벤처 바이오헬스케어 기업들이 세계 최대 가전IT 전...</td>\n",
       "    </tr>\n",
       "    <tr>\n",
       "      <th>1</th>\n",
       "      <td>오상헬스케어</td>\n",
       "      <td>2019.01.08</td>\n",
       "      <td>https://n.news.naver.com/mnews/article/029/000...</td>\n",
       "      <td>8일 바이오헬스케어 업계에 따르면 약 20개 국내 중소벤처 바이오헬스케어 기업들이 ...</td>\n",
       "    </tr>\n",
       "    <tr>\n",
       "      <th>2</th>\n",
       "      <td>오상헬스케어</td>\n",
       "      <td>2019.01.08</td>\n",
       "      <td>https://n.news.naver.com/mnews/article/029/000...</td>\n",
       "      <td>이번 전시회에서 잠재 고객을 확보하고 글로벌 시장 진출 기회를 잡겠다는 전략이다</td>\n",
       "    </tr>\n",
       "  </tbody>\n",
       "</table>\n",
       "</div>"
      ],
      "text/plain": [
       "  Company        Date                                                URL  \\\n",
       "0  오상헬스케어  2019.01.08  https://n.news.naver.com/mnews/article/029/000...   \n",
       "1  오상헬스케어  2019.01.08  https://n.news.naver.com/mnews/article/029/000...   \n",
       "2  오상헬스케어  2019.01.08  https://n.news.naver.com/mnews/article/029/000...   \n",
       "\n",
       "                                            Sentence  \n",
       "0  기술력과 제품력을 갖춘 국내 중소벤처 바이오헬스케어 기업들이 세계 최대 가전IT 전...  \n",
       "1  8일 바이오헬스케어 업계에 따르면 약 20개 국내 중소벤처 바이오헬스케어 기업들이 ...  \n",
       "2       이번 전시회에서 잠재 고객을 확보하고 글로벌 시장 진출 기회를 잡겠다는 전략이다  "
      ]
     },
     "execution_count": 11,
     "metadata": {},
     "output_type": "execute_result"
    }
   ],
   "source": [
    "df_news[:3]"
   ]
  },
  {
   "cell_type": "code",
   "execution_count": 12,
   "metadata": {},
   "outputs": [],
   "source": [
    "df_news = df_news.drop_duplicates(subset='Sentence')"
   ]
  },
  {
   "cell_type": "code",
   "execution_count": 9,
   "metadata": {},
   "outputs": [
    {
     "data": {
      "text/plain": [
       "'기술력과 제품력을 갖춘 국내 중소벤처 바이오헬스케어 기업들이 세계 최대 가전IT 전시회인 CES 2019에 대거 출동한다'"
      ]
     },
     "execution_count": 9,
     "metadata": {},
     "output_type": "execute_result"
    }
   ],
   "source": [
    "df_news['Sentence'][0]"
   ]
  },
  {
   "cell_type": "code",
   "execution_count": 13,
   "metadata": {},
   "outputs": [
    {
     "name": "stderr",
     "output_type": "stream",
     "text": [
      "C:\\Users\\SDA10\\AppData\\Local\\Temp\\ipykernel_20888\\4136453136.py:1: SettingWithCopyWarning: \n",
      "A value is trying to be set on a copy of a slice from a DataFrame.\n",
      "Try using .loc[row_indexer,col_indexer] = value instead\n",
      "\n",
      "See the caveats in the documentation: https://pandas.pydata.org/pandas-docs/stable/user_guide/indexing.html#returning-a-view-versus-a-copy\n",
      "  df_news['Date'] = df_news['Date'].apply(lambda x:x.split('.')[0])\n"
     ]
    }
   ],
   "source": [
    "df_news['Date'] = df_news['Date'].apply(lambda x:x.split('.')[0])"
   ]
  },
  {
   "cell_type": "code",
   "execution_count": 14,
   "metadata": {},
   "outputs": [
    {
     "data": {
      "text/html": [
       "<div>\n",
       "<style scoped>\n",
       "    .dataframe tbody tr th:only-of-type {\n",
       "        vertical-align: middle;\n",
       "    }\n",
       "\n",
       "    .dataframe tbody tr th {\n",
       "        vertical-align: top;\n",
       "    }\n",
       "\n",
       "    .dataframe thead th {\n",
       "        text-align: right;\n",
       "    }\n",
       "</style>\n",
       "<table border=\"1\" class=\"dataframe\">\n",
       "  <thead>\n",
       "    <tr style=\"text-align: right;\">\n",
       "      <th></th>\n",
       "      <th>Company</th>\n",
       "      <th>Date</th>\n",
       "      <th>URL</th>\n",
       "      <th>Sentence</th>\n",
       "    </tr>\n",
       "  </thead>\n",
       "  <tbody>\n",
       "    <tr>\n",
       "      <th>0</th>\n",
       "      <td>오상헬스케어</td>\n",
       "      <td>2019</td>\n",
       "      <td>https://n.news.naver.com/mnews/article/029/000...</td>\n",
       "      <td>기술력과 제품력을 갖춘 국내 중소벤처 바이오헬스케어 기업들이 세계 최대 가전IT 전...</td>\n",
       "    </tr>\n",
       "    <tr>\n",
       "      <th>1</th>\n",
       "      <td>오상헬스케어</td>\n",
       "      <td>2019</td>\n",
       "      <td>https://n.news.naver.com/mnews/article/029/000...</td>\n",
       "      <td>8일 바이오헬스케어 업계에 따르면 약 20개 국내 중소벤처 바이오헬스케어 기업들이 ...</td>\n",
       "    </tr>\n",
       "    <tr>\n",
       "      <th>2</th>\n",
       "      <td>오상헬스케어</td>\n",
       "      <td>2019</td>\n",
       "      <td>https://n.news.naver.com/mnews/article/029/000...</td>\n",
       "      <td>이번 전시회에서 잠재 고객을 확보하고 글로벌 시장 진출 기회를 잡겠다는 전략이다</td>\n",
       "    </tr>\n",
       "    <tr>\n",
       "      <th>3</th>\n",
       "      <td>오상헬스케어</td>\n",
       "      <td>2019</td>\n",
       "      <td>https://n.news.naver.com/mnews/article/029/000...</td>\n",
       "      <td>AI를 접목한 홈 재활 서비스와 보조기기를 개발하는 네오펙트는 신제품 네오마노를 공개한다</td>\n",
       "    </tr>\n",
       "    <tr>\n",
       "      <th>4</th>\n",
       "      <td>오상헬스케어</td>\n",
       "      <td>2019</td>\n",
       "      <td>https://n.news.naver.com/mnews/article/029/000...</td>\n",
       "      <td>네오마노는 척수 손상 뇌졸중 루게릭 등 중추 신경 장애로 인해 손이 마비된 환자들이...</td>\n",
       "    </tr>\n",
       "  </tbody>\n",
       "</table>\n",
       "</div>"
      ],
      "text/plain": [
       "  Company  Date                                                URL  \\\n",
       "0  오상헬스케어  2019  https://n.news.naver.com/mnews/article/029/000...   \n",
       "1  오상헬스케어  2019  https://n.news.naver.com/mnews/article/029/000...   \n",
       "2  오상헬스케어  2019  https://n.news.naver.com/mnews/article/029/000...   \n",
       "3  오상헬스케어  2019  https://n.news.naver.com/mnews/article/029/000...   \n",
       "4  오상헬스케어  2019  https://n.news.naver.com/mnews/article/029/000...   \n",
       "\n",
       "                                            Sentence  \n",
       "0  기술력과 제품력을 갖춘 국내 중소벤처 바이오헬스케어 기업들이 세계 최대 가전IT 전...  \n",
       "1  8일 바이오헬스케어 업계에 따르면 약 20개 국내 중소벤처 바이오헬스케어 기업들이 ...  \n",
       "2       이번 전시회에서 잠재 고객을 확보하고 글로벌 시장 진출 기회를 잡겠다는 전략이다  \n",
       "3  AI를 접목한 홈 재활 서비스와 보조기기를 개발하는 네오펙트는 신제품 네오마노를 공개한다  \n",
       "4  네오마노는 척수 손상 뇌졸중 루게릭 등 중추 신경 장애로 인해 손이 마비된 환자들이...  "
      ]
     },
     "execution_count": 14,
     "metadata": {},
     "output_type": "execute_result"
    }
   ],
   "source": [
    "df_news.head()"
   ]
  },
  {
   "cell_type": "code",
   "execution_count": 15,
   "metadata": {},
   "outputs": [
    {
     "name": "stderr",
     "output_type": "stream",
     "text": [
      "C:\\Users\\SDA10\\AppData\\Local\\Temp\\ipykernel_20888\\17262033.py:2: SettingWithCopyWarning: \n",
      "A value is trying to be set on a copy of a slice from a DataFrame.\n",
      "Try using .loc[row_indexer,col_indexer] = value instead\n",
      "\n",
      "See the caveats in the documentation: https://pandas.pydata.org/pandas-docs/stable/user_guide/indexing.html#returning-a-view-versus-a-copy\n",
      "  df_news['Date'] = pd.to_numeric(df_news['Date'], errors='coerce')\n",
      "C:\\Users\\SDA10\\AppData\\Local\\Temp\\ipykernel_20888\\17262033.py:5: SettingWithCopyWarning: \n",
      "A value is trying to be set on a copy of a slice from a DataFrame\n",
      "\n",
      "See the caveats in the documentation: https://pandas.pydata.org/pandas-docs/stable/user_guide/indexing.html#returning-a-view-versus-a-copy\n",
      "  df_news.dropna(subset=['Date'], inplace=True)\n",
      "C:\\Users\\SDA10\\AppData\\Local\\Temp\\ipykernel_20888\\17262033.py:8: SettingWithCopyWarning: \n",
      "A value is trying to be set on a copy of a slice from a DataFrame.\n",
      "Try using .loc[row_indexer,col_indexer] = value instead\n",
      "\n",
      "See the caveats in the documentation: https://pandas.pydata.org/pandas-docs/stable/user_guide/indexing.html#returning-a-view-versus-a-copy\n",
      "  df_news['Date'] = df_news['Date'].astype(int)\n"
     ]
    }
   ],
   "source": [
    "# '년도' 열을 숫자로 변환하고 변환할 수 없는 값은 NaN으로 설정\n",
    "df_news['Date'] = pd.to_numeric(df_news['Date'], errors='coerce')\n",
    "\n",
    "# NaN 값을 제거\n",
    "df_news.dropna(subset=['Date'], inplace=True)\n",
    "\n",
    "# '년도' 열을 정수형으로 변환\n",
    "df_news['Date'] = df_news['Date'].astype(int)"
   ]
  },
  {
   "cell_type": "code",
   "execution_count": 16,
   "metadata": {},
   "outputs": [
    {
     "data": {
      "text/plain": [
       "4571733"
      ]
     },
     "execution_count": 16,
     "metadata": {},
     "output_type": "execute_result"
    }
   ],
   "source": [
    "len(df_news)"
   ]
  },
  {
   "cell_type": "code",
   "execution_count": 17,
   "metadata": {},
   "outputs": [
    {
     "data": {
      "text/plain": [
       "Company     0\n",
       "Date        0\n",
       "URL         0\n",
       "Sentence    0\n",
       "dtype: int64"
      ]
     },
     "execution_count": 17,
     "metadata": {},
     "output_type": "execute_result"
    }
   ],
   "source": [
    "df_news.isnull().sum()"
   ]
  },
  {
   "cell_type": "code",
   "execution_count": 28,
   "metadata": {},
   "outputs": [],
   "source": [
    "job_df = pd.read_csv('./data/kosdaq_date_pros_cons_jobplanet_result.csv')"
   ]
  },
  {
   "cell_type": "code",
   "execution_count": 29,
   "metadata": {},
   "outputs": [
    {
     "data": {
      "text/plain": [
       "56259"
      ]
     },
     "execution_count": 29,
     "metadata": {},
     "output_type": "execute_result"
    }
   ],
   "source": [
    "len(job_df)"
   ]
  },
  {
   "cell_type": "code",
   "execution_count": 20,
   "metadata": {},
   "outputs": [],
   "source": [
    "# '년도' 열을 숫자로 변환하고 변환할 수 없는 값은 NaN으로 설정\n",
    "job_df['날짜'] = pd.to_numeric(job_df['날짜'], errors='coerce')\n",
    "\n",
    "# NaN 값을 제거\n",
    "job_df.dropna(subset=['날짜'], inplace=True)\n",
    "job_df.dropna(inplace=True)\n",
    "# '년도' 열을 정수형으로 변환\n",
    "job_df['날짜'] = job_df['날짜'].astype(int)"
   ]
  },
  {
   "cell_type": "code",
   "execution_count": 26,
   "metadata": {},
   "outputs": [
    {
     "data": {
      "text/plain": [
       "55480"
      ]
     },
     "execution_count": 26,
     "metadata": {},
     "output_type": "execute_result"
    }
   ],
   "source": [
    "len(job_df)"
   ]
  },
  {
   "cell_type": "code",
   "execution_count": 25,
   "metadata": {},
   "outputs": [
    {
     "data": {
      "text/plain": [
       "Unnamed: 0    0\n",
       "기업명           0\n",
       "날짜            0\n",
       "장점 리뷰         0\n",
       "단점 리뷰         0\n",
       "dtype: int64"
      ]
     },
     "execution_count": 25,
     "metadata": {},
     "output_type": "execute_result"
    }
   ],
   "source": [
    "job_df.isnull().sum()"
   ]
  },
  {
   "cell_type": "code",
   "execution_count": 27,
   "metadata": {},
   "outputs": [],
   "source": [
    "# 기업별 날짜별 문장을 담을 딕셔너리\n",
    "company_date_sentence = {}\n",
    "\n",
    "# 뉴스\n",
    "for _,token in df_news.iterrows():\n",
    "    company_name = token['Company']\n",
    "    sentences = token['Sentence']\n",
    "    year = token['Date']\n",
    "\n",
    "    if company_name not in company_date_sentence:\n",
    "        company_date_sentence[company_name] = {year: [sentences]}\n",
    "    else:\n",
    "        if year not in company_date_sentence[company_name]:\n",
    "            company_date_sentence[company_name][year] = [sentences]\n",
    "        else:\n",
    "            company_date_sentence[company_name][year].extend([sentences])\n",
    "\n",
    "# 잡플래닛\n",
    "for _, token in job_df.iterrows():\n",
    "    company_name = token['기업명']\n",
    "    pos_sentence = token['장점 리뷰']\n",
    "    neg_sentence = token['단점 리뷰']\n",
    "    year = token['날짜']\n",
    "    if company_name not in company_date_sentence:\n",
    "        company_date_sentence[company_name] = {year: [pos_sentence, neg_sentence]}\n",
    "    else:\n",
    "        if year not in company_date_sentence[company_name]:\n",
    "            company_date_sentence[company_name][year] = [pos_sentence, neg_sentence]\n",
    "        else:\n",
    "            company_date_sentence[company_name][year].extend([pos_sentence, neg_sentence])"
   ]
  },
  {
   "cell_type": "code",
   "execution_count": 84,
   "metadata": {},
   "outputs": [],
   "source": [
    "to_delete = []  # 삭제할 (회사, 연도) 쌍을 저장할 리스트\n",
    "\n",
    "# 삭제할 항목 식별\n",
    "for company, years in company_date_sentence.items():\n",
    "    for year in range(2014, 2019):\n",
    "        if year in years:\n",
    "            to_delete.append((company, year))\n",
    "\n",
    "# 식별된 항목 삭제\n",
    "for company, year in to_delete:\n",
    "    del company_date_sentence[company][year]\n",
    "\n",
    "# 필요한 경우 회사 키도 삭제\n",
    "empty_companies = [company for company, years in company_date_sentence.items() if not years]\n",
    "for company in empty_companies:\n",
    "    del company_date_sentence[company]"
   ]
  },
  {
   "cell_type": "code",
   "execution_count": 85,
   "metadata": {},
   "outputs": [
    {
     "name": "stdout",
     "output_type": "stream",
     "text": [
      "2019\n",
      "2020\n",
      "2021\n",
      "2022\n",
      "2023\n",
      "2024\n"
     ]
    }
   ],
   "source": [
    "for i in company_date_sentence['삼현']:\n",
    "    print(i)\n",
    "    "
   ]
  },
  {
   "cell_type": "code",
   "execution_count": 87,
   "metadata": {},
   "outputs": [],
   "source": [
    "import json\n",
    "\n",
    "with open(\"total_kosdaq_result.json\", \"w\") as f:\n",
    "    json.dump(company_date_sentence, f)"
   ]
  },
  {
   "cell_type": "code",
   "execution_count": null,
   "metadata": {},
   "outputs": [],
   "source": []
  }
 ],
 "metadata": {
  "kernelspec": {
   "display_name": "bok",
   "language": "python",
   "name": "python3"
  },
  "language_info": {
   "codemirror_mode": {
    "name": "ipython",
    "version": 3
   },
   "file_extension": ".py",
   "mimetype": "text/x-python",
   "name": "python",
   "nbconvert_exporter": "python",
   "pygments_lexer": "ipython3",
   "version": "3.11.8"
  }
 },
 "nbformat": 4,
 "nbformat_minor": 2
}
