{
 "cells": [
  {
   "cell_type": "markdown",
   "metadata": {},
   "source": [
    "### test_dataset preprocessing  \n",
    "1. 년도별 데이터셋 dict 형식으로 변경 dict[기업별][년도별][문장리스트]  \n",
    "2. 뉴스 19년도부터의 데이터로 인해 잡플래닛 19년도 이하의 데이터들 제외  "
   ]
  },
  {
   "cell_type": "code",
   "execution_count": 1,
   "metadata": {},
   "outputs": [],
   "source": [
    "import pandas as pd"
   ]
  },
  {
   "cell_type": "code",
   "execution_count": 14,
   "metadata": {},
   "outputs": [],
   "source": [
    "df_2019 = pd.read_csv('./kosdaq_data/2019_kosdaq.csv', on_bad_lines='skip')\n",
    "df_2020 = pd.read_csv('./kosdaq_data/2020_kosdaq.csv', on_bad_lines='skip')\n",
    "df_2021 = pd.read_csv('./kosdaq_data/2021_kosdaq.csv', on_bad_lines='skip')\n",
    "df_2022 = pd.read_csv('./kosdaq_data/2022_kosdaq.csv', on_bad_lines='skip')\n",
    "df_2023 = pd.read_csv('./kosdaq_data/2023_kosdaq.csv', on_bad_lines='skip')\n",
    "df_2024 = pd.read_csv('./kosdaq_data/2024_kosdaq.csv', on_bad_lines='skip')\n",
    "\n",
    "df_news = pd.concat([df_2019,df_2020,df_2021,df_2022,df_2023,df_2024])"
   ]
  },
  {
   "cell_type": "code",
   "execution_count": 15,
   "metadata": {},
   "outputs": [
    {
     "data": {
      "text/plain": [
       "594200"
      ]
     },
     "execution_count": 15,
     "metadata": {},
     "output_type": "execute_result"
    }
   ],
   "source": [
    "len(df_news)"
   ]
  },
  {
   "cell_type": "code",
   "execution_count": 16,
   "metadata": {},
   "outputs": [
    {
     "data": {
      "text/html": [
       "<div>\n",
       "<style scoped>\n",
       "    .dataframe tbody tr th:only-of-type {\n",
       "        vertical-align: middle;\n",
       "    }\n",
       "\n",
       "    .dataframe tbody tr th {\n",
       "        vertical-align: top;\n",
       "    }\n",
       "\n",
       "    .dataframe thead th {\n",
       "        text-align: right;\n",
       "    }\n",
       "</style>\n",
       "<table border=\"1\" class=\"dataframe\">\n",
       "  <thead>\n",
       "    <tr style=\"text-align: right;\">\n",
       "      <th></th>\n",
       "      <th>company</th>\n",
       "      <th>content</th>\n",
       "      <th>date</th>\n",
       "      <th>title</th>\n",
       "      <th>url</th>\n",
       "    </tr>\n",
       "  </thead>\n",
       "  <tbody>\n",
       "    <tr>\n",
       "      <th>0</th>\n",
       "      <td>오상헬스케어</td>\n",
       "      <td>기술력과 제품력을 갖춘 국내 중소벤처 바이오헬스케어 기업들이 세계 최대 가전IT 전...</td>\n",
       "      <td>2019.01.08</td>\n",
       "      <td>재활훈련·건강검진… 기술中企, 글로벌 시장 노크</td>\n",
       "      <td>https://n.news.naver.com/mnews/article/029/000...</td>\n",
       "    </tr>\n",
       "    <tr>\n",
       "      <th>1</th>\n",
       "      <td>오상헬스케어</td>\n",
       "      <td>오상헬스케어036220의 현재 거래량이 최근 5거래일 거래량의 최고치를 넘어섰다&amp;&amp;...</td>\n",
       "      <td>2019.01.09</td>\n",
       "      <td>[fnRASSI]오상헬스케어, 당일 거래량 증가하며 4거래일 하락세 지속</td>\n",
       "      <td>https://n.news.naver.com/mnews/article/014/000...</td>\n",
       "    </tr>\n",
       "    <tr>\n",
       "      <th>2</th>\n",
       "      <td>삼현</td>\n",
       "      <td>증시분석 전문기자 로봇 ET etbotetnews&amp;&amp;com&amp;&amp;전자신문과 금융AI전문...</td>\n",
       "      <td>2019.01.31</td>\n",
       "      <td>[ET투자뉴스]삼현철강 18년4분기 실적 발표, 당기순이익 4.3억원… 전년 동기 ...</td>\n",
       "      <td>https://n.news.naver.com/mnews/article/030/000...</td>\n",
       "    </tr>\n",
       "  </tbody>\n",
       "</table>\n",
       "</div>"
      ],
      "text/plain": [
       "  company                                            content        date  \\\n",
       "0  오상헬스케어  기술력과 제품력을 갖춘 국내 중소벤처 바이오헬스케어 기업들이 세계 최대 가전IT 전...  2019.01.08   \n",
       "1  오상헬스케어  오상헬스케어036220의 현재 거래량이 최근 5거래일 거래량의 최고치를 넘어섰다&&...  2019.01.09   \n",
       "2      삼현  증시분석 전문기자 로봇 ET etbotetnews&&com&&전자신문과 금융AI전문...  2019.01.31   \n",
       "\n",
       "                                               title  \\\n",
       "0                         재활훈련·건강검진… 기술中企, 글로벌 시장 노크   \n",
       "1           [fnRASSI]오상헬스케어, 당일 거래량 증가하며 4거래일 하락세 지속   \n",
       "2  [ET투자뉴스]삼현철강 18년4분기 실적 발표, 당기순이익 4.3억원… 전년 동기 ...   \n",
       "\n",
       "                                                 url  \n",
       "0  https://n.news.naver.com/mnews/article/029/000...  \n",
       "1  https://n.news.naver.com/mnews/article/014/000...  \n",
       "2  https://n.news.naver.com/mnews/article/030/000...  "
      ]
     },
     "execution_count": 16,
     "metadata": {},
     "output_type": "execute_result"
    }
   ],
   "source": [
    "df_news[:3]"
   ]
  },
  {
   "cell_type": "code",
   "execution_count": 20,
   "metadata": {},
   "outputs": [],
   "source": [
    "# df_news = df_news.drop_duplicates(subset='content')\n",
    "data = []\n",
    "\n",
    "\n",
    "for index, row in df_news.iterrows():\n",
    "    sentences = row['content'].split('&&')\n",
    "\n",
    "    for sentence in sentences:\n",
    "        if len(sentence) > 40:\n",
    "            data.append((row['company'], row['date'], row['url'], sentence))\n",
    "df_news = pd.DataFrame(data, columns=['Company','Date','URL', 'Sentence'])"
   ]
  },
  {
   "cell_type": "code",
   "execution_count": 6,
   "metadata": {},
   "outputs": [
    {
     "data": {
      "text/html": [
       "<div>\n",
       "<style scoped>\n",
       "    .dataframe tbody tr th:only-of-type {\n",
       "        vertical-align: middle;\n",
       "    }\n",
       "\n",
       "    .dataframe tbody tr th {\n",
       "        vertical-align: top;\n",
       "    }\n",
       "\n",
       "    .dataframe thead th {\n",
       "        text-align: right;\n",
       "    }\n",
       "</style>\n",
       "<table border=\"1\" class=\"dataframe\">\n",
       "  <thead>\n",
       "    <tr style=\"text-align: right;\">\n",
       "      <th></th>\n",
       "      <th>Company</th>\n",
       "      <th>Date</th>\n",
       "      <th>URL</th>\n",
       "      <th>Sentence</th>\n",
       "    </tr>\n",
       "  </thead>\n",
       "  <tbody>\n",
       "    <tr>\n",
       "      <th>0</th>\n",
       "      <td>오상헬스케어</td>\n",
       "      <td>2019.01.08</td>\n",
       "      <td>https://n.news.naver.com/mnews/article/029/000...</td>\n",
       "      <td>기술력과 제품력을 갖춘 국내 중소벤처 바이오헬스케어 기업들이 세계 최대 가전IT 전...</td>\n",
       "    </tr>\n",
       "    <tr>\n",
       "      <th>1</th>\n",
       "      <td>오상헬스케어</td>\n",
       "      <td>2019.01.08</td>\n",
       "      <td>https://n.news.naver.com/mnews/article/029/000...</td>\n",
       "      <td>8일 바이오헬스케어 업계에 따르면 약 20개 국내 중소벤처 바이오헬스케어 기업들이 ...</td>\n",
       "    </tr>\n",
       "    <tr>\n",
       "      <th>2</th>\n",
       "      <td>오상헬스케어</td>\n",
       "      <td>2019.01.08</td>\n",
       "      <td>https://n.news.naver.com/mnews/article/029/000...</td>\n",
       "      <td>이번 전시회에서 잠재 고객을 확보하고 글로벌 시장 진출 기회를 잡겠다는 전략이다</td>\n",
       "    </tr>\n",
       "  </tbody>\n",
       "</table>\n",
       "</div>"
      ],
      "text/plain": [
       "  Company        Date                                                URL  \\\n",
       "0  오상헬스케어  2019.01.08  https://n.news.naver.com/mnews/article/029/000...   \n",
       "1  오상헬스케어  2019.01.08  https://n.news.naver.com/mnews/article/029/000...   \n",
       "2  오상헬스케어  2019.01.08  https://n.news.naver.com/mnews/article/029/000...   \n",
       "\n",
       "                                            Sentence  \n",
       "0  기술력과 제품력을 갖춘 국내 중소벤처 바이오헬스케어 기업들이 세계 최대 가전IT 전...  \n",
       "1  8일 바이오헬스케어 업계에 따르면 약 20개 국내 중소벤처 바이오헬스케어 기업들이 ...  \n",
       "2       이번 전시회에서 잠재 고객을 확보하고 글로벌 시장 진출 기회를 잡겠다는 전략이다  "
      ]
     },
     "execution_count": 6,
     "metadata": {},
     "output_type": "execute_result"
    }
   ],
   "source": [
    "df_news[:3]"
   ]
  },
  {
   "cell_type": "code",
   "execution_count": 7,
   "metadata": {},
   "outputs": [],
   "source": [
    "df_news = df_news.drop_duplicates(subset='Sentence')"
   ]
  },
  {
   "cell_type": "code",
   "execution_count": 8,
   "metadata": {},
   "outputs": [
    {
     "data": {
      "text/plain": [
       "4571733"
      ]
     },
     "execution_count": 8,
     "metadata": {},
     "output_type": "execute_result"
    }
   ],
   "source": [
    "len(df_news)"
   ]
  },
  {
   "cell_type": "code",
   "execution_count": 9,
   "metadata": {},
   "outputs": [],
   "source": [
    "df_news['Date'] = df_news['Date'].apply(lambda x:x.split('.')[0])"
   ]
  },
  {
   "cell_type": "code",
   "execution_count": 10,
   "metadata": {},
   "outputs": [
    {
     "data": {
      "text/html": [
       "<div>\n",
       "<style scoped>\n",
       "    .dataframe tbody tr th:only-of-type {\n",
       "        vertical-align: middle;\n",
       "    }\n",
       "\n",
       "    .dataframe tbody tr th {\n",
       "        vertical-align: top;\n",
       "    }\n",
       "\n",
       "    .dataframe thead th {\n",
       "        text-align: right;\n",
       "    }\n",
       "</style>\n",
       "<table border=\"1\" class=\"dataframe\">\n",
       "  <thead>\n",
       "    <tr style=\"text-align: right;\">\n",
       "      <th></th>\n",
       "      <th>Company</th>\n",
       "      <th>Date</th>\n",
       "      <th>URL</th>\n",
       "      <th>Sentence</th>\n",
       "    </tr>\n",
       "  </thead>\n",
       "  <tbody>\n",
       "    <tr>\n",
       "      <th>0</th>\n",
       "      <td>오상헬스케어</td>\n",
       "      <td>2019</td>\n",
       "      <td>https://n.news.naver.com/mnews/article/029/000...</td>\n",
       "      <td>기술력과 제품력을 갖춘 국내 중소벤처 바이오헬스케어 기업들이 세계 최대 가전IT 전...</td>\n",
       "    </tr>\n",
       "    <tr>\n",
       "      <th>1</th>\n",
       "      <td>오상헬스케어</td>\n",
       "      <td>2019</td>\n",
       "      <td>https://n.news.naver.com/mnews/article/029/000...</td>\n",
       "      <td>8일 바이오헬스케어 업계에 따르면 약 20개 국내 중소벤처 바이오헬스케어 기업들이 ...</td>\n",
       "    </tr>\n",
       "    <tr>\n",
       "      <th>2</th>\n",
       "      <td>오상헬스케어</td>\n",
       "      <td>2019</td>\n",
       "      <td>https://n.news.naver.com/mnews/article/029/000...</td>\n",
       "      <td>이번 전시회에서 잠재 고객을 확보하고 글로벌 시장 진출 기회를 잡겠다는 전략이다</td>\n",
       "    </tr>\n",
       "    <tr>\n",
       "      <th>3</th>\n",
       "      <td>오상헬스케어</td>\n",
       "      <td>2019</td>\n",
       "      <td>https://n.news.naver.com/mnews/article/029/000...</td>\n",
       "      <td>AI를 접목한 홈 재활 서비스와 보조기기를 개발하는 네오펙트는 신제품 네오마노를 공개한다</td>\n",
       "    </tr>\n",
       "    <tr>\n",
       "      <th>4</th>\n",
       "      <td>오상헬스케어</td>\n",
       "      <td>2019</td>\n",
       "      <td>https://n.news.naver.com/mnews/article/029/000...</td>\n",
       "      <td>네오마노는 척수 손상 뇌졸중 루게릭 등 중추 신경 장애로 인해 손이 마비된 환자들이...</td>\n",
       "    </tr>\n",
       "  </tbody>\n",
       "</table>\n",
       "</div>"
      ],
      "text/plain": [
       "  Company  Date                                                URL  \\\n",
       "0  오상헬스케어  2019  https://n.news.naver.com/mnews/article/029/000...   \n",
       "1  오상헬스케어  2019  https://n.news.naver.com/mnews/article/029/000...   \n",
       "2  오상헬스케어  2019  https://n.news.naver.com/mnews/article/029/000...   \n",
       "3  오상헬스케어  2019  https://n.news.naver.com/mnews/article/029/000...   \n",
       "4  오상헬스케어  2019  https://n.news.naver.com/mnews/article/029/000...   \n",
       "\n",
       "                                            Sentence  \n",
       "0  기술력과 제품력을 갖춘 국내 중소벤처 바이오헬스케어 기업들이 세계 최대 가전IT 전...  \n",
       "1  8일 바이오헬스케어 업계에 따르면 약 20개 국내 중소벤처 바이오헬스케어 기업들이 ...  \n",
       "2       이번 전시회에서 잠재 고객을 확보하고 글로벌 시장 진출 기회를 잡겠다는 전략이다  \n",
       "3  AI를 접목한 홈 재활 서비스와 보조기기를 개발하는 네오펙트는 신제품 네오마노를 공개한다  \n",
       "4  네오마노는 척수 손상 뇌졸중 루게릭 등 중추 신경 장애로 인해 손이 마비된 환자들이...  "
      ]
     },
     "execution_count": 10,
     "metadata": {},
     "output_type": "execute_result"
    }
   ],
   "source": [
    "df_news.head()"
   ]
  },
  {
   "cell_type": "code",
   "execution_count": 11,
   "metadata": {},
   "outputs": [],
   "source": [
    "# '년도' 열을 숫자로 변환하고 변환할 수 없는 값은 NaN으로 설정\n",
    "df_news['Date'] = pd.to_numeric(df_news['Date'], errors='coerce')\n",
    "\n",
    "# NaN 값을 제거\n",
    "df_news.dropna(subset=['Date'], inplace=True)\n",
    "\n",
    "# '년도' 열을 정수형으로 변환\n",
    "df_news['Date'] = df_news['Date'].astype(int)"
   ]
  },
  {
   "cell_type": "code",
   "execution_count": 12,
   "metadata": {},
   "outputs": [
    {
     "data": {
      "text/plain": [
       "4571733"
      ]
     },
     "execution_count": 12,
     "metadata": {},
     "output_type": "execute_result"
    }
   ],
   "source": [
    "len(df_news)"
   ]
  },
  {
   "cell_type": "code",
   "execution_count": 13,
   "metadata": {},
   "outputs": [
    {
     "data": {
      "text/plain": [
       "Company     0\n",
       "Date        0\n",
       "URL         0\n",
       "Sentence    0\n",
       "dtype: int64"
      ]
     },
     "execution_count": 13,
     "metadata": {},
     "output_type": "execute_result"
    }
   ],
   "source": [
    "df_news.isnull().sum()"
   ]
  },
  {
   "cell_type": "code",
   "execution_count": 64,
   "metadata": {},
   "outputs": [],
   "source": [
    "job_df = pd.read_csv('./data/kosdaq_date_pros_cons_jobplanet_result.csv')"
   ]
  },
  {
   "cell_type": "code",
   "execution_count": 65,
   "metadata": {},
   "outputs": [
    {
     "data": {
      "text/plain": [
       "(   Unnamed: 0      기업명    날짜  \\\n",
       " 0          28  하나32호스팩  2022   \n",
       " 1          29  하나32호스팩  2022   \n",
       " 2          30  하나32호스팩  2022   \n",
       " \n",
       "                                                장점 리뷰  \\\n",
       " 0  대화가 통하는 직원들이 몇명 있다. 일이 힘들지만 마음맞는 사람들과 버틸 수 있는 ...   \n",
       " 1       음.......... 1. 점심은 줍니다. 2. 월급을 줍니다. 뭐 이정도...   \n",
       " 2  열심히 일한 사람들한테 그만큼 보상을 해주고 , 업무를 같이 했던 동료들도 다 좋은...   \n",
       " \n",
       "                                                단점 리뷰  \n",
       " 0                기업 내 정치가 심하다. 대표와 직원들간의 소통이 안되는것같다.  \n",
       " 1  우선 1,000자 제한이 풀리기를 바라며. 1. 자칭 회장님의 지시만 잘 따르면 됩...  \n",
       " 2  사실 근무시간은 정확하게 지켜지지 않았으나, 그래도 체계를 잡아가보려고 했던 임직원...  ,\n",
       " 56259)"
      ]
     },
     "execution_count": 65,
     "metadata": {},
     "output_type": "execute_result"
    }
   ],
   "source": [
    "job_df[:3], len(job_df)"
   ]
  },
  {
   "cell_type": "code",
   "execution_count": 66,
   "metadata": {},
   "outputs": [],
   "source": [
    "# '년도' 열을 숫자로 변환하고 변환할 수 없는 값은 NaN으로 설정\n",
    "job_df['날짜'] = pd.to_numeric(job_df['날짜'], errors='coerce')\n",
    "\n",
    "# NaN 값을 제거\n",
    "job_df.dropna(subset=['날짜'], inplace=True)\n",
    "\n",
    "# '년도' 열을 정수형으로 변환\n",
    "job_df['날짜'] = job_df['날짜'].astype(int)"
   ]
  },
  {
   "cell_type": "code",
   "execution_count": 67,
   "metadata": {},
   "outputs": [
    {
     "data": {
      "text/plain": [
       "55484"
      ]
     },
     "execution_count": 67,
     "metadata": {},
     "output_type": "execute_result"
    }
   ],
   "source": [
    "len(job_df)"
   ]
  },
  {
   "cell_type": "code",
   "execution_count": 68,
   "metadata": {},
   "outputs": [],
   "source": [
    "# 기업별 날짜별 문장을 담을 딕셔너리\n",
    "company_date_sentence = {}\n",
    "\n",
    "# 뉴스\n",
    "for _,token in df_news.iterrows():\n",
    "    company_name = token['Company']\n",
    "    sentences = token['Sentence']\n",
    "    year = token['Date']\n",
    "\n",
    "    if company_name not in company_date_sentence:\n",
    "        company_date_sentence[company_name] = {year: [sentences]}\n",
    "    else:\n",
    "        if year not in company_date_sentence[company_name]:\n",
    "            company_date_sentence[company_name][year] = [sentences]\n",
    "        else:\n",
    "            company_date_sentence[company_name][year].extend([sentences])\n",
    "\n",
    "# 잡플래닛\n",
    "for _, token in job_df.iterrows():\n",
    "    company_name = token['기업명']\n",
    "    pos_sentence = token['장점 리뷰']\n",
    "    neg_sentence = token['단점 리뷰']\n",
    "    year = token['날짜']\n",
    "    if company_name not in company_date_sentence:\n",
    "        company_date_sentence[company_name] = {year: [pos_sentence, neg_sentence]}\n",
    "    else:\n",
    "        if year not in company_date_sentence[company_name]:\n",
    "            company_date_sentence[company_name][year] = [pos_sentence, neg_sentence]\n",
    "        else:\n",
    "            company_date_sentence[company_name][year].extend([pos_sentence, neg_sentence])"
   ]
  },
  {
   "cell_type": "code",
   "execution_count": 84,
   "metadata": {},
   "outputs": [],
   "source": [
    "to_delete = []  # 삭제할 (회사, 연도) 쌍을 저장할 리스트\n",
    "\n",
    "# 삭제할 항목 식별\n",
    "for company, years in company_date_sentence.items():\n",
    "    for year in range(2014, 2019):\n",
    "        if year in years:\n",
    "            to_delete.append((company, year))\n",
    "\n",
    "# 식별된 항목 삭제\n",
    "for company, year in to_delete:\n",
    "    del company_date_sentence[company][year]\n",
    "\n",
    "# 필요한 경우 회사 키도 삭제\n",
    "# 예를 들어, 모든 연도 정보가 삭제된 후 회사 키가 빈 딕셔너리가 되면 그 키도 삭제할 수 있습니다.\n",
    "empty_companies = [company for company, years in company_date_sentence.items() if not years]\n",
    "for company in empty_companies:\n",
    "    del company_date_sentence[company]"
   ]
  },
  {
   "cell_type": "code",
   "execution_count": 85,
   "metadata": {},
   "outputs": [
    {
     "name": "stdout",
     "output_type": "stream",
     "text": [
      "2019\n",
      "2020\n",
      "2021\n",
      "2022\n",
      "2023\n",
      "2024\n"
     ]
    }
   ],
   "source": [
    "for i in company_date_sentence['삼현']:\n",
    "    print(i)\n",
    "    "
   ]
  },
  {
   "cell_type": "code",
   "execution_count": 87,
   "metadata": {},
   "outputs": [],
   "source": [
    "import json\n",
    "\n",
    "with open(\"total_kosdaq_result.json\", \"w\") as f:\n",
    "    json.dump(company_date_sentence, f)"
   ]
  },
  {
   "cell_type": "code",
   "execution_count": null,
   "metadata": {},
   "outputs": [],
   "source": []
  }
 ],
 "metadata": {
  "kernelspec": {
   "display_name": "bok",
   "language": "python",
   "name": "python3"
  },
  "language_info": {
   "codemirror_mode": {
    "name": "ipython",
    "version": 3
   },
   "file_extension": ".py",
   "mimetype": "text/x-python",
   "name": "python",
   "nbconvert_exporter": "python",
   "pygments_lexer": "ipython3",
   "version": "3.11.8"
  }
 },
 "nbformat": 4,
 "nbformat_minor": 2
}
