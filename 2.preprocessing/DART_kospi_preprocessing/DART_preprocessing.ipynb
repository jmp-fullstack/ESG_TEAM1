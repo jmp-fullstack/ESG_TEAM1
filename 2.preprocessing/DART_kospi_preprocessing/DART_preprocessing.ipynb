{
 "cells": [
  {
   "cell_type": "code",
   "execution_count": 1,
   "metadata": {},
   "outputs": [],
   "source": [
    "import pandas as pd"
   ]
  },
  {
   "cell_type": "code",
   "execution_count": 2,
   "metadata": {},
   "outputs": [],
   "source": [
    "kospi = pd.read_excel(\"C:/Users/SDA08/Desktop/workspace/bobae_/0_프로젝트/0_ESG/preprocessing/kospi_report.xlsx\")"
   ]
  },
  {
   "cell_type": "code",
   "execution_count": 15,
   "metadata": {},
   "outputs": [
    {
     "data": {
      "text/plain": [
       "26"
      ]
     },
     "execution_count": 15,
     "metadata": {},
     "output_type": "execute_result"
    }
   ],
   "source": [
    "len(kospi.columns)"
   ]
  },
  {
   "cell_type": "code",
   "execution_count": 16,
   "metadata": {},
   "outputs": [
    {
     "data": {
      "text/plain": [
       "Index(['고유번호', '종목코드', '회사명', '업종', '주요제품', '상장일', '결산월', '대표자명', '홈페이지', '지역',\n",
       "       '최대주주_성명', '최대주주_관계', '최대주주_주식종류', '최대주주_기초주식수', '최대주주_기초주식지분율',\n",
       "       '최대주주_기말주식수', '최대주주_기말주식지분율', '소액주주수', '주주수', '소액주주비율', '소액주주_주식수',\n",
       "       '총주식수', '소액주주_주식지분율', '감사의견', '감사의견_강조사항', '감사의견_핵심감사사항'],\n",
       "      dtype='object')"
      ]
     },
     "execution_count": 16,
     "metadata": {},
     "output_type": "execute_result"
    }
   ],
   "source": [
    "kospi.columns"
   ]
  },
  {
   "cell_type": "code",
   "execution_count": 17,
   "metadata": {},
   "outputs": [
    {
     "data": {
      "text/plain": [
       "26"
      ]
     },
     "execution_count": 17,
     "metadata": {},
     "output_type": "execute_result"
    }
   ],
   "source": [
    "len(kospi.columns)"
   ]
  },
  {
   "cell_type": "code",
   "execution_count": 21,
   "metadata": {},
   "outputs": [
    {
     "name": "stdout",
     "output_type": "stream",
     "text": [
      "<class 'pandas.core.frame.DataFrame'>\n",
      "RangeIndex: 200 entries, 0 to 199\n",
      "Data columns (total 26 columns):\n",
      " #   Column        Non-Null Count  Dtype  \n",
      "---  ------        --------------  -----  \n",
      " 0   고유번호          200 non-null    int64  \n",
      " 1   종목코드          200 non-null    int64  \n",
      " 2   회사명           200 non-null    object \n",
      " 3   업종            200 non-null    object \n",
      " 4   주요제품          198 non-null    object \n",
      " 5   상장일           200 non-null    int64  \n",
      " 6   결산월           200 non-null    object \n",
      " 7   대표자명          200 non-null    object \n",
      " 8   홈페이지          192 non-null    object \n",
      " 9   지역            200 non-null    object \n",
      " 10  최대주주_성명       77 non-null     object \n",
      " 11  최대주주_관계       77 non-null     object \n",
      " 12  최대주주_주식종류     77 non-null     object \n",
      " 13  최대주주_기초주식수    77 non-null     object \n",
      " 14  최대주주_기초주식지분율  77 non-null     float64\n",
      " 15  최대주주_기말주식수    77 non-null     object \n",
      " 16  최대주주_기말주식지분율  77 non-null     float64\n",
      " 17  소액주주수         200 non-null    object \n",
      " 18  주주수           200 non-null    object \n",
      " 19  소액주주비율        200 non-null    object \n",
      " 20  소액주주_주식수      200 non-null    object \n",
      " 21  총주식수          200 non-null    object \n",
      " 22  소액주주_주식지분율    200 non-null    object \n",
      " 23  감사의견          200 non-null    object \n",
      " 24  감사의견_강조사항     200 non-null    object \n",
      " 25  감사의견_핵심감사사항   200 non-null    object \n",
      "dtypes: float64(2), int64(3), object(21)\n",
      "memory usage: 40.8+ KB\n"
     ]
    }
   ],
   "source": [
    "company_info = kospi.iloc[:,:26]\n",
    "company_info.info()"
   ]
  },
  {
   "cell_type": "code",
   "execution_count": 22,
   "metadata": {},
   "outputs": [
    {
     "name": "stdout",
     "output_type": "stream",
     "text": [
      "<class 'pandas.core.frame.DataFrame'>\n",
      "RangeIndex: 200 entries, 0 to 199\n",
      "Data columns (total 19 columns):\n",
      " #   Column        Non-Null Count  Dtype  \n",
      "---  ------        --------------  -----  \n",
      " 0   회사명           200 non-null    object \n",
      " 1   업종            200 non-null    object \n",
      " 2   대표자명          200 non-null    object \n",
      " 3   최대주주_성명       77 non-null     object \n",
      " 4   최대주주_관계       77 non-null     object \n",
      " 5   최대주주_주식종류     77 non-null     object \n",
      " 6   최대주주_기초주식수    77 non-null     object \n",
      " 7   최대주주_기초주식지분율  77 non-null     float64\n",
      " 8   최대주주_기말주식수    77 non-null     object \n",
      " 9   최대주주_기말주식지분율  77 non-null     float64\n",
      " 10  소액주주수         200 non-null    object \n",
      " 11  주주수           200 non-null    object \n",
      " 12  소액주주비율        200 non-null    object \n",
      " 13  소액주주_주식수      200 non-null    object \n",
      " 14  총주식수          200 non-null    object \n",
      " 15  소액주주_주식지분율    200 non-null    object \n",
      " 16  감사의견          200 non-null    object \n",
      " 17  감사의견_강조사항     200 non-null    object \n",
      " 18  감사의견_핵심감사사항   200 non-null    object \n",
      "dtypes: float64(2), object(17)\n",
      "memory usage: 29.8+ KB\n"
     ]
    }
   ],
   "source": [
    "company_info.drop(['고유번호', '종목코드', '주요제품', '상장일', '결산월', '홈페이지', '지역'], axis=1, inplace=True)\n",
    "company_info.info()"
   ]
  },
  {
   "cell_type": "code",
   "execution_count": 23,
   "metadata": {},
   "outputs": [],
   "source": [
    "company_info.to_excel('company_info.xlsx', index=False)"
   ]
  },
  {
   "cell_type": "code",
   "execution_count": null,
   "metadata": {},
   "outputs": [],
   "source": []
  },
  {
   "cell_type": "code",
   "execution_count": 37,
   "metadata": {},
   "outputs": [],
   "source": [
    "kospi['감사의견'] = kospi['감사의견'].str.replace('\\n', '')"
   ]
  },
  {
   "cell_type": "code",
   "execution_count": 28,
   "metadata": {},
   "outputs": [
    {
     "name": "stdout",
     "output_type": "stream",
     "text": [
      "<class 'pandas.core.frame.DataFrame'>\n",
      "RangeIndex: 200 entries, 0 to 199\n",
      "Data columns (total 19 columns):\n",
      " #   Column        Non-Null Count  Dtype  \n",
      "---  ------        --------------  -----  \n",
      " 0   회사명           200 non-null    object \n",
      " 1   업종            200 non-null    object \n",
      " 2   대표자명          200 non-null    object \n",
      " 3   최대주주_성명       77 non-null     object \n",
      " 4   최대주주_관계       77 non-null     object \n",
      " 5   최대주주_주식종류     77 non-null     object \n",
      " 6   최대주주_기초주식수    77 non-null     object \n",
      " 7   최대주주_기초주식지분율  77 non-null     float64\n",
      " 8   최대주주_기말주식수    77 non-null     object \n",
      " 9   최대주주_기말주식지분율  77 non-null     float64\n",
      " 10  소액주주수         200 non-null    object \n",
      " 11  주주수           200 non-null    object \n",
      " 12  소액주주비율        200 non-null    object \n",
      " 13  소액주주_주식수      200 non-null    object \n",
      " 14  총주식수          200 non-null    object \n",
      " 15  소액주주_주식지분율    200 non-null    object \n",
      " 16  감사의견          200 non-null    object \n",
      " 17  감사의견_강조사항     200 non-null    object \n",
      " 18  감사의견_핵심감사사항   200 non-null    object \n",
      "dtypes: float64(2), object(17)\n",
      "memory usage: 29.8+ KB\n"
     ]
    }
   ],
   "source": [
    "company_info.info()"
   ]
  },
  {
   "cell_type": "code",
   "execution_count": null,
   "metadata": {},
   "outputs": [],
   "source": [
    "kospi['감사의견'] = kospi['감사의견'].str.replace('\\n', '')"
   ]
  },
  {
   "cell_type": "markdown",
   "metadata": {},
   "source": [
    "소액주주 지분율(%) 실수화"
   ]
  },
  {
   "cell_type": "code",
   "execution_count": null,
   "metadata": {},
   "outputs": [],
   "source": [
    "kospi[['소액주주수', '주주수', '소액주주비율', '소액주주_주식수', '총주식수', '소액주주_주식지분율']] =kospi[['소액주주수', '주주수', '소액주주비율', '소액주주_주식수', '총주식수', '소액주주_주식지분율']].replace('%', '', regex=True)\n",
    "kospi[['소액주주수', '주주수', '소액주주비율', '소액주주_주식수', '총주식수', '소액주주_주식지분율']]  = kospi[['소액주주수', '주주수', '소액주주비율', '소액주주_주식수', '총주식수', '소액주주_주식지분율']] .replace('', 0)\n",
    "kospi[['감사의견', '감사의견_강조사항', '감사의견_핵심감사사항']] = kospi[['감사의견', '감사의견_강조사항', '감사의견_핵심감사사항']].str.replace('\\n', '')\n",
    "\n",
    "kospi[['소액주주수', '주주수', '소액주주_주식수', '총주식수']] = kospi[['소액주주수', '주주수', '소액주주_주식수', '총주식수']].astype('int')\n",
    "kospi[['소액주주비율', '소액주주_주식지분율']] = kospi[['소액주주비율', '소액주주_주식지분율']].astype('float')"
   ]
  },
  {
   "cell_type": "code",
   "execution_count": null,
   "metadata": {},
   "outputs": [],
   "source": []
  },
  {
   "cell_type": "code",
   "execution_count": null,
   "metadata": {},
   "outputs": [],
   "source": [
    "import pandas as pd\n",
    "\n",
    "# 쉼표 제거 및 NaN 값 처리\n",
    "숫자열 = ['소액주주수', '주주수', '소액주주_주식수', '총주식수']\n",
    "kospi[숫자열] = kospi[숫자열].replace({',': '', '-': pd.NA}, regex=True)\n",
    "\n",
    "# 빈 문자열이면 0으로 대체\n",
    "kospi[숫자열] = kospi[숫자열].fillna(0)\n",
    "\n",
    "# 정수형으로 변환\n",
    "kospi[['소액주주수', '주주수', '소액주주_주식수', '총주식수']] = kospi[['소액주주수', '주주수', '소액주주_주식수', '총주식수']].astype('Int64')\n",
    "\n",
    "# 소숫점이 있는 열은 실수형으로 변환\n",
    "kospi[['소액주주비율', '소액주주_주식지분율']] = kospi[['소액주주비율', '소액주주_주식지분율']].replace('-', pd.NA)\n",
    "kospi[['소액주주비율', '소액주주_주식지분율']] = kospi[['소액주주비율', '소액주주_주식지분율']].astype(float)\n",
    "\n",
    "# 감사의견 열에서 \\n 제거\n",
    "kospi[['감사의견', '감사의견_강조사항', '감사의견_핵심감사사항']] = kospi[['감사의견', '감사의견_강조사항', '감사의견_핵심감사사항']].replace('\\n', '', regex=True)\n",
    "\n",
    "# 소숫점이 있는 열은 실수형으로 변환\n",
    "kospi[['소액주주비율', '소액주주_주식지분율']] = kospi[['소액주주비율', '소액주주_주식지분율']].replace('-', pd.NA)\n",
    "\n",
    "# NaN 값을 평균값으로 대체\n",
    "mean_value = kospi[['소액주주비율', '소액주주_주식지분율']].mean()\n",
    "kospi[['소액주주비율', '소액주주_주식지분율']] = kospi[['소액주주비율', '소액주주_주식지분율']].fillna(mean_value)\n",
    "\n"
   ]
  },
  {
   "cell_type": "code",
   "execution_count": null,
   "metadata": {},
   "outputs": [],
   "source": [
    "# 소숫점이 있는 열은 실수형으로 변환\n",
    "kospi[['소액주주비율', '소액주주_주식지분율']] = kospi[['소액주주비율', '소액주주_주식지분율']].replace('-', pd.NA)\n",
    "\n",
    "# NaN 값을 평균값으로 대체\n",
    "mean_value = kospi[['소액주주비율', '소액주주_주식지분율']].mean()\n",
    "kospi[['소액주주비율', '소액주주_주식지분율']] = kospi[['소액주주비율', '소액주주_주식지분율']].fillna(mean_value)\n"
   ]
  },
  {
   "cell_type": "code",
   "execution_count": null,
   "metadata": {},
   "outputs": [],
   "source": []
  },
  {
   "cell_type": "code",
   "execution_count": 63,
   "metadata": {},
   "outputs": [],
   "source": [
    "kospi.to_excel('kospi_preprocessed.xlsx', index=False)"
   ]
  },
  {
   "cell_type": "code",
   "execution_count": 58,
   "metadata": {},
   "outputs": [
    {
     "name": "stdout",
     "output_type": "stream",
     "text": [
      "<class 'pandas.core.frame.DataFrame'>\n",
      "RangeIndex: 200 entries, 0 to 199\n",
      "Data columns (total 26 columns):\n",
      " #   Column        Non-Null Count  Dtype  \n",
      "---  ------        --------------  -----  \n",
      " 0   고유번호          200 non-null    int64  \n",
      " 1   종목코드          200 non-null    int64  \n",
      " 2   회사명           200 non-null    object \n",
      " 3   업종            200 non-null    object \n",
      " 4   주요제품          198 non-null    object \n",
      " 5   상장일           200 non-null    int64  \n",
      " 6   결산월           200 non-null    object \n",
      " 7   대표자명          200 non-null    object \n",
      " 8   홈페이지          192 non-null    object \n",
      " 9   지역            200 non-null    object \n",
      " 10  최대주주_성명       77 non-null     object \n",
      " 11  최대주주_관계       77 non-null     object \n",
      " 12  최대주주_주식종류     77 non-null     object \n",
      " 13  최대주주_기초주식수    77 non-null     object \n",
      " 14  최대주주_기초주식지분율  77 non-null     float64\n",
      " 15  최대주주_기말주식수    77 non-null     object \n",
      " 16  최대주주_기말주식지분율  77 non-null     float64\n",
      " 17  소액주주수         200 non-null    Int64  \n",
      " 18  주주수           200 non-null    Int64  \n",
      " 19  소액주주비율        197 non-null    object \n",
      " 20  소액주주_주식수      200 non-null    Int64  \n",
      " 21  총주식수          200 non-null    Int64  \n",
      " 22  소액주주_주식지분율    197 non-null    object \n",
      " 23  감사의견          200 non-null    object \n",
      " 24  감사의견_강조사항     200 non-null    object \n",
      " 25  감사의견_핵심감사사항   200 non-null    object \n",
      "dtypes: Int64(4), float64(2), int64(3), object(17)\n",
      "memory usage: 41.5+ KB\n"
     ]
    }
   ],
   "source": [
    "kospi.info()"
   ]
  },
  {
   "cell_type": "code",
   "execution_count": null,
   "metadata": {},
   "outputs": [],
   "source": []
  }
 ],
 "metadata": {
  "kernelspec": {
   "display_name": "study",
   "language": "python",
   "name": "python3"
  },
  "language_info": {
   "codemirror_mode": {
    "name": "ipython",
    "version": 3
   },
   "file_extension": ".py",
   "mimetype": "text/x-python",
   "name": "python",
   "nbconvert_exporter": "python",
   "pygments_lexer": "ipython3",
   "version": "3.10.13"
  }
 },
 "nbformat": 4,
 "nbformat_minor": 2
}
