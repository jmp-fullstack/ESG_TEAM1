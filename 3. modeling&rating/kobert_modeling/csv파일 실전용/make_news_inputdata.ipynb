{
 "cells": [
  {
   "cell_type": "code",
   "execution_count": 2,
   "metadata": {},
   "outputs": [],
   "source": [
    "from sklearn.model_selection import train_test_split\n",
    "import pandas as pd"
   ]
  },
  {
   "cell_type": "code",
   "execution_count": 3,
   "metadata": {},
   "outputs": [],
   "source": [
    "total_inputs = pd.read_csv('./input_sentence.csv')\n",
    "del total_inputs['Company']\n",
    "del total_inputs['Date']\n",
    "del total_inputs['URL']\n"
   ]
  },
  {
   "cell_type": "code",
   "execution_count": 4,
   "metadata": {},
   "outputs": [
    {
     "data": {
      "text/html": [
       "<div>\n",
       "<style scoped>\n",
       "    .dataframe tbody tr th:only-of-type {\n",
       "        vertical-align: middle;\n",
       "    }\n",
       "\n",
       "    .dataframe tbody tr th {\n",
       "        vertical-align: top;\n",
       "    }\n",
       "\n",
       "    .dataframe thead th {\n",
       "        text-align: right;\n",
       "    }\n",
       "</style>\n",
       "<table border=\"1\" class=\"dataframe\">\n",
       "  <thead>\n",
       "    <tr style=\"text-align: right;\">\n",
       "      <th></th>\n",
       "      <th>Sentence</th>\n",
       "      <th>E</th>\n",
       "      <th>S</th>\n",
       "      <th>G</th>\n",
       "      <th>조합</th>\n",
       "    </tr>\n",
       "  </thead>\n",
       "  <tbody>\n",
       "    <tr>\n",
       "      <th>0</th>\n",
       "      <td>DB하이텍 소액주주연대가 DB하이텍 주주 일부에 대해 대량 보유 보고 공시 누락을 ...</td>\n",
       "      <td>1</td>\n",
       "      <td>1</td>\n",
       "      <td>1</td>\n",
       "      <td>111</td>\n",
       "    </tr>\n",
       "    <tr>\n",
       "      <th>1</th>\n",
       "      <td>이에 따라 오는 28일로 예정된 DB하이텍 주주총회에서 KCGI자산운용과 소액주주연...</td>\n",
       "      <td>1</td>\n",
       "      <td>1</td>\n",
       "      <td>1</td>\n",
       "      <td>111</td>\n",
       "    </tr>\n",
       "    <tr>\n",
       "      <th>2</th>\n",
       "      <td>DB하이텍 소액주주연대는 DB하이텍 제71기 정기주총에서 DB Inc 삼동흥산 빌텍...</td>\n",
       "      <td>1</td>\n",
       "      <td>1</td>\n",
       "      <td>1</td>\n",
       "      <td>111</td>\n",
       "    </tr>\n",
       "    <tr>\n",
       "      <th>3</th>\n",
       "      <td>소액주주연대는 의결권행사금지를 DB하이텍 최대주주 전체에 대해 걸었기 때문에 법원 ...</td>\n",
       "      <td>0</td>\n",
       "      <td>0</td>\n",
       "      <td>1</td>\n",
       "      <td>1</td>\n",
       "    </tr>\n",
       "    <tr>\n",
       "      <th>4</th>\n",
       "      <td>지분 5 미만 보유라 공시에 드러나지 않은 기업 두 군데가 사실상 DB그룹의 숨겨진...</td>\n",
       "      <td>0</td>\n",
       "      <td>0</td>\n",
       "      <td>1</td>\n",
       "      <td>1</td>\n",
       "    </tr>\n",
       "    <tr>\n",
       "      <th>...</th>\n",
       "      <td>...</td>\n",
       "      <td>...</td>\n",
       "      <td>...</td>\n",
       "      <td>...</td>\n",
       "      <td>...</td>\n",
       "    </tr>\n",
       "    <tr>\n",
       "      <th>491740</th>\n",
       "      <td>여의도에서 직장을 다니다 퇴직했다는 70대 김씨는 10년 동안 삼성전자 주식만 모아...</td>\n",
       "      <td>0</td>\n",
       "      <td>1</td>\n",
       "      <td>0</td>\n",
       "      <td>10</td>\n",
       "    </tr>\n",
       "    <tr>\n",
       "      <th>491741</th>\n",
       "      <td>그는 벌어도 벌어도 부족하다며 주식 투자는 업무 특성상 회사 제한이 있어 잘 하지 ...</td>\n",
       "      <td>1</td>\n",
       "      <td>0</td>\n",
       "      <td>0</td>\n",
       "      <td>100</td>\n",
       "    </tr>\n",
       "    <tr>\n",
       "      <th>491742</th>\n",
       "      <td>IT기업에 다니는 30대 채씨는 덕성우 등 한동훈 국민의힘 비상대책위원장 테마주가 ...</td>\n",
       "      <td>0</td>\n",
       "      <td>0</td>\n",
       "      <td>1</td>\n",
       "      <td>1</td>\n",
       "    </tr>\n",
       "    <tr>\n",
       "      <th>491743</th>\n",
       "      <td>판매점을 오가는 여러 손님들을 취재하면서 복권을 산다고 해서 꼭 복권 성향의 주식을...</td>\n",
       "      <td>0</td>\n",
       "      <td>1</td>\n",
       "      <td>0</td>\n",
       "      <td>10</td>\n",
       "    </tr>\n",
       "    <tr>\n",
       "      <th>491744</th>\n",
       "      <td>우리 다음 주 월요일엔 보지 말자며 동료에게 건넨 농담이 현실화되길 기원하면서요</td>\n",
       "      <td>0</td>\n",
       "      <td>1</td>\n",
       "      <td>0</td>\n",
       "      <td>10</td>\n",
       "    </tr>\n",
       "  </tbody>\n",
       "</table>\n",
       "<p>491745 rows × 5 columns</p>\n",
       "</div>"
      ],
      "text/plain": [
       "                                                 Sentence  E  S  G   조합\n",
       "0       DB하이텍 소액주주연대가 DB하이텍 주주 일부에 대해 대량 보유 보고 공시 누락을 ...  1  1  1  111\n",
       "1       이에 따라 오는 28일로 예정된 DB하이텍 주주총회에서 KCGI자산운용과 소액주주연...  1  1  1  111\n",
       "2       DB하이텍 소액주주연대는 DB하이텍 제71기 정기주총에서 DB Inc 삼동흥산 빌텍...  1  1  1  111\n",
       "3       소액주주연대는 의결권행사금지를 DB하이텍 최대주주 전체에 대해 걸었기 때문에 법원 ...  0  0  1    1\n",
       "4       지분 5 미만 보유라 공시에 드러나지 않은 기업 두 군데가 사실상 DB그룹의 숨겨진...  0  0  1    1\n",
       "...                                                   ... .. .. ..  ...\n",
       "491740  여의도에서 직장을 다니다 퇴직했다는 70대 김씨는 10년 동안 삼성전자 주식만 모아...  0  1  0   10\n",
       "491741  그는 벌어도 벌어도 부족하다며 주식 투자는 업무 특성상 회사 제한이 있어 잘 하지 ...  1  0  0  100\n",
       "491742  IT기업에 다니는 30대 채씨는 덕성우 등 한동훈 국민의힘 비상대책위원장 테마주가 ...  0  0  1    1\n",
       "491743  판매점을 오가는 여러 손님들을 취재하면서 복권을 산다고 해서 꼭 복권 성향의 주식을...  0  1  0   10\n",
       "491744       우리 다음 주 월요일엔 보지 말자며 동료에게 건넨 농담이 현실화되길 기원하면서요  0  1  0   10\n",
       "\n",
       "[491745 rows x 5 columns]"
      ]
     },
     "execution_count": 4,
     "metadata": {},
     "output_type": "execute_result"
    }
   ],
   "source": [
    "total_inputs"
   ]
  },
  {
   "cell_type": "code",
   "execution_count": 64,
   "metadata": {},
   "outputs": [
    {
     "data": {
      "text/plain": [
       "조합\n",
       "1      143213\n",
       "100    102004\n",
       "10      75972\n",
       "111     55665\n",
       "11      55656\n",
       "110     35496\n",
       "101     23739\n",
       "Name: count, dtype: int64"
      ]
     },
     "execution_count": 64,
     "metadata": {},
     "output_type": "execute_result"
    }
   ],
   "source": [
    "total_inputs['조합'].value_counts()"
   ]
  },
  {
   "cell_type": "code",
   "execution_count": 6,
   "metadata": {},
   "outputs": [],
   "source": [
    "train_input, valid_input = train_test_split(total_inputs, test_size = 0.2, shuffle = True, random_state = 30, stratify = total_inputs['조합'])"
   ]
  },
  {
   "cell_type": "code",
   "execution_count": 70,
   "metadata": {},
   "outputs": [
    {
     "data": {
      "text/plain": [
       "조합\n",
       "1      114570\n",
       "100     81603\n",
       "10      60778\n",
       "111     44532\n",
       "11      44525\n",
       "110     28397\n",
       "101     18991\n",
       "Name: count, dtype: int64"
      ]
     },
     "execution_count": 70,
     "metadata": {},
     "output_type": "execute_result"
    }
   ],
   "source": [
    "train_input['조합'].value_counts()"
   ]
  },
  {
   "cell_type": "code",
   "execution_count": 7,
   "metadata": {},
   "outputs": [],
   "source": [
    "scale_num = train_input['조합'].value_counts().min()"
   ]
  },
  {
   "cell_type": "code",
   "execution_count": 11,
   "metadata": {},
   "outputs": [],
   "source": [
    "a= train_input.groupby('조합').head(scale_num)"
   ]
  },
  {
   "cell_type": "code",
   "execution_count": 9,
   "metadata": {},
   "outputs": [
    {
     "data": {
      "text/plain": [
       "18991"
      ]
     },
     "execution_count": 9,
     "metadata": {},
     "output_type": "execute_result"
    }
   ],
   "source": [
    "scale_num"
   ]
  },
  {
   "cell_type": "code",
   "execution_count": 12,
   "metadata": {},
   "outputs": [
    {
     "data": {
      "text/html": [
       "<div>\n",
       "<style scoped>\n",
       "    .dataframe tbody tr th:only-of-type {\n",
       "        vertical-align: middle;\n",
       "    }\n",
       "\n",
       "    .dataframe tbody tr th {\n",
       "        vertical-align: top;\n",
       "    }\n",
       "\n",
       "    .dataframe thead th {\n",
       "        text-align: right;\n",
       "    }\n",
       "</style>\n",
       "<table border=\"1\" class=\"dataframe\">\n",
       "  <thead>\n",
       "    <tr style=\"text-align: right;\">\n",
       "      <th></th>\n",
       "      <th>Sentence</th>\n",
       "      <th>E</th>\n",
       "      <th>S</th>\n",
       "      <th>G</th>\n",
       "      <th>조합</th>\n",
       "    </tr>\n",
       "  </thead>\n",
       "  <tbody>\n",
       "    <tr>\n",
       "      <th>218675</th>\n",
       "      <td>지난해 한미약품은 매출액 1조4690억원 영업이익 2130억원으로 전년 동기 대비 ...</td>\n",
       "      <td>0</td>\n",
       "      <td>0</td>\n",
       "      <td>1</td>\n",
       "      <td>1</td>\n",
       "    </tr>\n",
       "    <tr>\n",
       "      <th>125985</th>\n",
       "      <td>이 경우 심사 기간 단축임상비용 세액 공제신약 허가 심사비용 면제시판 후 미국 시장...</td>\n",
       "      <td>0</td>\n",
       "      <td>1</td>\n",
       "      <td>0</td>\n",
       "      <td>10</td>\n",
       "    </tr>\n",
       "    <tr>\n",
       "      <th>273701</th>\n",
       "      <td>PCA는 지난해 6월에는 우리 정부가 미국계 헤지펀드 엘리엇 매니지먼트에 5천358...</td>\n",
       "      <td>0</td>\n",
       "      <td>0</td>\n",
       "      <td>1</td>\n",
       "      <td>1</td>\n",
       "    </tr>\n",
       "    <tr>\n",
       "      <th>29780</th>\n",
       "      <td>허윤경 한국건설산업연구원 연구위원은 착공 및 분양 감소에 따른 주택공급 감소는 23...</td>\n",
       "      <td>0</td>\n",
       "      <td>0</td>\n",
       "      <td>1</td>\n",
       "      <td>1</td>\n",
       "    </tr>\n",
       "    <tr>\n",
       "      <th>40802</th>\n",
       "      <td>전날 현지에서 열린 계약식에는 허윤홍 GS건설 대표가 직접 참석하기도 했다</td>\n",
       "      <td>0</td>\n",
       "      <td>0</td>\n",
       "      <td>1</td>\n",
       "      <td>1</td>\n",
       "    </tr>\n",
       "    <tr>\n",
       "      <th>...</th>\n",
       "      <td>...</td>\n",
       "      <td>...</td>\n",
       "      <td>...</td>\n",
       "      <td>...</td>\n",
       "      <td>...</td>\n",
       "    </tr>\n",
       "    <tr>\n",
       "      <th>189606</th>\n",
       "      <td>신석환 대신투자증권 연구원은 AI로 시작된 메모리 반도체 산업이 업사이클에 진입했다...</td>\n",
       "      <td>1</td>\n",
       "      <td>0</td>\n",
       "      <td>1</td>\n",
       "      <td>101</td>\n",
       "    </tr>\n",
       "    <tr>\n",
       "      <th>239122</th>\n",
       "      <td>전세계 전력의 약 23를 생산하는 가스발전소 연료를 수소로 전환하면 탄소배출을 크게...</td>\n",
       "      <td>1</td>\n",
       "      <td>0</td>\n",
       "      <td>1</td>\n",
       "      <td>101</td>\n",
       "    </tr>\n",
       "    <tr>\n",
       "      <th>178037</th>\n",
       "      <td>이들은 유해 화학물질을 이용한 가습기살균제 제품 가습기메이트를 안전성을 검증하지 않...</td>\n",
       "      <td>1</td>\n",
       "      <td>0</td>\n",
       "      <td>1</td>\n",
       "      <td>101</td>\n",
       "    </tr>\n",
       "    <tr>\n",
       "      <th>386205</th>\n",
       "      <td>코스맥스 관계자는 글로벌 공급망 업계 최고 수준의 연구개발 역량과 시너지로 고품질의...</td>\n",
       "      <td>1</td>\n",
       "      <td>0</td>\n",
       "      <td>1</td>\n",
       "      <td>101</td>\n",
       "    </tr>\n",
       "    <tr>\n",
       "      <th>271751</th>\n",
       "      <td>P6는 양극재의 니켈 비중을 91로 높이고 음극재에 실리콘 소재를 적용해 기존 5세...</td>\n",
       "      <td>1</td>\n",
       "      <td>0</td>\n",
       "      <td>1</td>\n",
       "      <td>101</td>\n",
       "    </tr>\n",
       "  </tbody>\n",
       "</table>\n",
       "<p>132937 rows × 5 columns</p>\n",
       "</div>"
      ],
      "text/plain": [
       "                                                 Sentence  E  S  G   조합\n",
       "218675  지난해 한미약품은 매출액 1조4690억원 영업이익 2130억원으로 전년 동기 대비 ...  0  0  1    1\n",
       "125985  이 경우 심사 기간 단축임상비용 세액 공제신약 허가 심사비용 면제시판 후 미국 시장...  0  1  0   10\n",
       "273701  PCA는 지난해 6월에는 우리 정부가 미국계 헤지펀드 엘리엇 매니지먼트에 5천358...  0  0  1    1\n",
       "29780   허윤경 한국건설산업연구원 연구위원은 착공 및 분양 감소에 따른 주택공급 감소는 23...  0  0  1    1\n",
       "40802           전날 현지에서 열린 계약식에는 허윤홍 GS건설 대표가 직접 참석하기도 했다  0  0  1    1\n",
       "...                                                   ... .. .. ..  ...\n",
       "189606  신석환 대신투자증권 연구원은 AI로 시작된 메모리 반도체 산업이 업사이클에 진입했다...  1  0  1  101\n",
       "239122  전세계 전력의 약 23를 생산하는 가스발전소 연료를 수소로 전환하면 탄소배출을 크게...  1  0  1  101\n",
       "178037  이들은 유해 화학물질을 이용한 가습기살균제 제품 가습기메이트를 안전성을 검증하지 않...  1  0  1  101\n",
       "386205  코스맥스 관계자는 글로벌 공급망 업계 최고 수준의 연구개발 역량과 시너지로 고품질의...  1  0  1  101\n",
       "271751  P6는 양극재의 니켈 비중을 91로 높이고 음극재에 실리콘 소재를 적용해 기존 5세...  1  0  1  101\n",
       "\n",
       "[132937 rows x 5 columns]"
      ]
     },
     "execution_count": 12,
     "metadata": {},
     "output_type": "execute_result"
    }
   ],
   "source": [
    "a"
   ]
  },
  {
   "cell_type": "code",
   "execution_count": null,
   "metadata": {},
   "outputs": [],
   "source": [
    "\n",
    "esg_data_list = [[str(sent), (str(e_label), str(s_label), str(g_label))] for sent, e_label, s_label, g_label in zip(esg_data['문장'], esg_data['E'], esg_data['S'], esg_data['G'])]\n",
    " "
   ]
  }
 ],
 "metadata": {
  "kernelspec": {
   "display_name": "study",
   "language": "python",
   "name": "python3"
  },
  "language_info": {
   "codemirror_mode": {
    "name": "ipython",
    "version": 3
   },
   "file_extension": ".py",
   "mimetype": "text/x-python",
   "name": "python",
   "nbconvert_exporter": "python",
   "pygments_lexer": "ipython3",
   "version": "3.10.13"
  }
 },
 "nbformat": 4,
 "nbformat_minor": 2
}
