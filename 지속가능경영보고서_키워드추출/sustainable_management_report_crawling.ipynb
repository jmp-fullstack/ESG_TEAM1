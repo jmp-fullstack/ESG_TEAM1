{
 "cells": [
  {
   "cell_type": "markdown",
   "metadata": {},
   "source": [
    "크롤링 사이트 : https://esg.krx.co.kr/contents/02/02030000/ESG02030000.jsp"
   ]
  },
  {
   "cell_type": "markdown",
   "metadata": {},
   "source": [
    "1. 기업 별 지속가능경영보고서 접속링크 크롤링"
   ]
  },
  {
   "cell_type": "code",
   "execution_count": 2,
   "metadata": {},
   "outputs": [],
   "source": [
    "import pandas as pd\n",
    "import requests\n",
    "import json\n",
    "\n",
    "# 크롤링할 년도 범위 및 페이지 범위 설정\n",
    "years = range(2013, 2024)\n",
    "pages = range(1, 19)  # 예시로 1부터 18페이지까지 크롤링\n",
    "\n",
    "# 결과를 저장할 리스트 초기화\n",
    "data_df = []\n",
    "\n",
    "# 년도와 페이지를 모두 반복하며 크롤링 수행\n",
    "for year in years:\n",
    "    for page in pages:\n",
    "        url = 'https://esg.krx.co.kr/contents/99/ESG99000001.jspx'\n",
    "        payload = {\n",
    "            'sch_yy': year,\n",
    "            'sch_tp': 'N', \n",
    "            'pagePath': '/contents/02/02030000/ESG02030000.jsp', \n",
    "            'code': '02/02030000/esg02030000_01', \n",
    "            'curPage': page\n",
    "        }\n",
    "\n",
    "        response = requests.post(url, data=payload, headers={'User-Agent':'Mozilla/5.0 (Windows NT 10.0; Win64; x64) AppleWebKit/537.36 (KHTML, like Gecko) Chrome/123.0.0.0 Safari/537.36'})\n",
    "\n",
    "        # 응답 확인\n",
    "        if response.status_code == 200:\n",
    "            python_data = json.loads(response.text)\n",
    "            for ele in python_data['result']:\n",
    "                data_df.append([ele['com_abbrv'], ele['yy'], ele['save_file_nm']])\n",
    "        else:\n",
    "            print(f\"페이지 {page}, 년도 {year} 크롤링 실패\")\n",
    "\n",
    "# 데이터프레임 생성\n",
    "columns = ['회사명', '발행년도', '코드']\n",
    "df = pd.DataFrame(data_df, columns=columns)\n",
    "df['페이지접속링크'] = 'https://kind.krx.co.kr/common/disclsviewer.do?method=search&acptno='+df['코드']+'&docno=&viewerhost=&viewerport='\n",
    "\n",
    "# 코스피 200 기업명 리스트 가져오기\n",
    "f = open('top200_name_list.csv','r',encoding='utf-8')\n",
    "data = f.read().split('\\n')\n",
    "\n",
    "# 데이터프레임의 조직명과 코스피 200 리스트의 회사명을 비교하여 코스피 200에 속하는 행만 추출\n",
    "kospi200_companies_df = df[df['회사명'].isin(data)]"
   ]
  },
  {
   "cell_type": "markdown",
   "metadata": {},
   "source": [
    "2. pdf링크 크롤링"
   ]
  },
  {
   "cell_type": "code",
   "execution_count": 3,
   "metadata": {},
   "outputs": [
    {
     "name": "stderr",
     "output_type": "stream",
     "text": [
      "C:\\Users\\SDA05\\AppData\\Local\\Temp\\ipykernel_3200\\1754232515.py:13: SettingWithCopyWarning: \n",
      "A value is trying to be set on a copy of a slice from a DataFrame.\n",
      "Try using .loc[row_indexer,col_indexer] = value instead\n",
      "\n",
      "See the caveats in the documentation: https://pandas.pydata.org/pandas-docs/stable/user_guide/indexing.html#returning-a-view-versus-a-copy\n",
      "  kospi200_companies_df['pdf다운로드링크'] = ''\n"
     ]
    },
    {
     "name": "stdout",
     "output_type": "stream",
     "text": [
      "PDF 다운로드 링크를 찾을 수 없습니다.\n"
     ]
    }
   ],
   "source": [
    "from selenium import webdriver\n",
    "from selenium.webdriver.chrome.service import Service\n",
    "from webdriver_manager.chrome import ChromeDriverManager\n",
    "from selenium.webdriver.common.by import By\n",
    "from selenium.webdriver.support.ui import WebDriverWait\n",
    "from selenium.webdriver.support import expected_conditions as EC\n",
    "import pandas as pd\n",
    "\n",
    "# 웹 드라이버 초기화\n",
    "driver = webdriver.Chrome(service=Service(ChromeDriverManager().install()))\n",
    "\n",
    "# 새로운 열 생성 및 초기화\n",
    "kospi200_companies_df['pdf다운로드링크'] = ''\n",
    "\n",
    "# 데이터프레임 반복문\n",
    "for index, row in kospi200_companies_df.iterrows():\n",
    "    # 웹사이트에 접속\n",
    "    driver.get(row['페이지접속링크'])\n",
    "\n",
    "    # 요소 클릭\n",
    "    try:\n",
    "        WebDriverWait(driver, 10).until(EC.element_to_be_clickable((By.ID, 'attachedDoc'))).click()\n",
    "    except:\n",
    "        print(\"요소를 찾을 수 없습니다.\")\n",
    "        print(index, row)\n",
    "        print(row['페이지접속링크'])\n",
    "        continue\n",
    "\n",
    "    # 두 번째 옵션 클릭\n",
    "    try:\n",
    "        options = WebDriverWait(driver, 10).until(EC.visibility_of_all_elements_located((By.XPATH, \"//select[@id='attachedDoc']/option\")))\n",
    "        if len(options) > 1:\n",
    "            options[1].click()  # 두 번째 옵션 선택\n",
    "    except:\n",
    "        print(\"옵션을 찾을 수 없습니다.\")\n",
    "        continue\n",
    "\n",
    "    # iframe 전환\n",
    "    try:\n",
    "        driver.switch_to.frame('docViewFrm')\n",
    "    except:\n",
    "        print(\"iframe을 찾을 수 없습니다.\")\n",
    "        continue\n",
    "\n",
    "    # PDF 다운로드 링크 가져오기\n",
    "    try:\n",
    "        pdf_download_link = WebDriverWait(driver, 10).until(EC.presence_of_element_located((By.XPATH, \"/html/body/div/div/a\"))).get_attribute('href')\n",
    "        # 데이터프레임에 저장\n",
    "        kospi200_companies_df.at[index, 'pdf다운로드링크'] = pdf_download_link\n",
    "    except:\n",
    "        print(\"PDF 다운로드 링크를 찾을 수 없습니다.\")\n",
    "        kospi200_companies_df.at[index, 'pdf다운로드링크'] = None\n",
    "\n",
    "# 웹 드라이버 종료\n",
    "driver.close()\n",
    "driver.quit()"
   ]
  },
  {
   "cell_type": "markdown",
   "metadata": {},
   "source": [
    "3. 결측치"
   ]
  },
  {
   "cell_type": "markdown",
   "metadata": {},
   "source": [
    "3-1. pdf 링크 추가로 작성"
   ]
  },
  {
   "cell_type": "code",
   "execution_count": 33,
   "metadata": {},
   "outputs": [
    {
     "name": "stdout",
     "output_type": "stream",
     "text": [
      "회사명                                                    DGB금융지주\n",
      "발행년도                                                      2019\n",
      "코드                                              20190725000147\n",
      "페이지접속링크      https://kind.krx.co.kr/common/disclsviewer.do?...\n",
      "pdf다운로드링크                                                     \n",
      "Name: 81, dtype: object\n",
      "회사명                                                    DGB금융지주\n",
      "발행년도                                                      2019\n",
      "코드                                              20190725000147\n",
      "페이지접속링크      https://kind.krx.co.kr/common/disclsviewer.do?...\n",
      "pdf다운로드링크    https://kind.krx.co.kr/external/2019/07/25/000...\n",
      "Name: 81, dtype: object\n"
     ]
    }
   ],
   "source": [
    "print(kospi200_companies_df.iloc[72])\n",
    "company = 'DGB금융지주'\n",
    "year = '2019'\n",
    "content = 'https://kind.krx.co.kr/external/2019/07/25/000147/20190725000368/DGB%EA%B8%88%EC%9C%B5%EA%B7%B8%EB%A3%B9%202018-2019%20%EC%A7%80%EC%86%8D%EA%B0%80%EB%8A%A5%EA%B2%BD%EC%98%81%EB%B3%B4%EA%B3%A0%EC%84%9C.pdf'\n",
    "\n",
    "kospi200_companies_df.loc[(kospi200_companies_df['회사명'] == company) & (kospi200_companies_df['발행년도'] == year), 'pdf다운로드링크'] = content\n",
    "print(kospi200_companies_df.iloc[72])"
   ]
  },
  {
   "cell_type": "code",
   "execution_count": 44,
   "metadata": {},
   "outputs": [
    {
     "name": "stdout",
     "output_type": "stream",
     "text": [
      "회사명                                                       삼성전자\n",
      "발행년도                                                      2020\n",
      "코드                                              20200715000250\n",
      "페이지접속링크      https://kind.krx.co.kr/common/disclsviewer.do?...\n",
      "pdf다운로드링크                                                     \n",
      "Name: 111, dtype: object\n",
      "회사명                                                       삼성전자\n",
      "발행년도                                                      2020\n",
      "코드                                              20200715000250\n",
      "페이지접속링크      https://kind.krx.co.kr/common/disclsviewer.do?...\n",
      "pdf다운로드링크    https://kind.krx.co.kr/external/2020/07/15/000...\n",
      "Name: 111, dtype: object\n"
     ]
    }
   ],
   "source": [
    "print(kospi200_companies_df.iloc[99])\n",
    "company = '삼성전자'\n",
    "year = '2020'\n",
    "content = 'https://kind.krx.co.kr/external/2020/07/15/000250/20200715000308/%EC%82%BC%EC%84%B1%EC%A0%84%EC%9E%90%20%EC%A7%80%EC%86%8D%EA%B0%80%EB%8A%A5%EA%B2%BD%EC%98%81%EB%B3%B4%EA%B3%A0%EC%84%9C%202020.pdf'\n",
    "\n",
    "kospi200_companies_df.loc[(kospi200_companies_df['회사명'] == company) & (kospi200_companies_df['발행년도'] == year), 'pdf다운로드링크'] = content\n",
    "print(kospi200_companies_df.iloc[99])"
   ]
  },
  {
   "cell_type": "code",
   "execution_count": 45,
   "metadata": {},
   "outputs": [
    {
     "name": "stdout",
     "output_type": "stream",
     "text": [
      "회사명                                                       삼성증권\n",
      "발행년도                                                      2022\n",
      "코드                                              20220826000347\n",
      "페이지접속링크      https://kind.krx.co.kr/common/disclsviewer.do?...\n",
      "pdf다운로드링크                                                     \n",
      "Name: 222, dtype: object\n",
      "회사명                                                       삼성증권\n",
      "발행년도                                                      2022\n",
      "코드                                              20220826000347\n",
      "페이지접속링크      https://kind.krx.co.kr/common/disclsviewer.do?...\n",
      "pdf다운로드링크    https://kind.krx.co.kr/external/2022/08/26/000...\n",
      "Name: 222, dtype: object\n"
     ]
    }
   ],
   "source": [
    "print(kospi200_companies_df.iloc[179])\n",
    "company = '삼성증권'\n",
    "year = '2022'\n",
    "content = 'https://kind.krx.co.kr/external/2022/08/26/000347/20220826000968/2021%20%EC%82%BC%EC%84%B1%EC%A6%9D%EA%B6%8C%20%ED%86%B5%ED%95%A9%EB%B3%B4%EA%B3%A0%EC%84%9C%28%EA%B5%AD%EB%AC%B8%29.pdf'\n",
    "\n",
    "kospi200_companies_df.loc[(kospi200_companies_df['회사명'] == company) & (kospi200_companies_df['발행년도'] == year), 'pdf다운로드링크'] = content\n",
    "print(kospi200_companies_df.iloc[179])"
   ]
  },
  {
   "cell_type": "markdown",
   "metadata": {},
   "source": [
    "3-2. pdf가 없는 경우는 제거"
   ]
  },
  {
   "cell_type": "code",
   "execution_count": 4,
   "metadata": {},
   "outputs": [
    {
     "data": {
      "text/plain": [
       "29    None\n",
       "Name: pdf다운로드링크, dtype: object"
      ]
     },
     "execution_count": 4,
     "metadata": {},
     "output_type": "execute_result"
    }
   ],
   "source": [
    "# 결측치인 행의 인덱스 반환\n",
    "kospi200_companies_df['pdf다운로드링크'][kospi200_companies_df['pdf다운로드링크'].isnull()]"
   ]
  },
  {
   "cell_type": "code",
   "execution_count": 5,
   "metadata": {},
   "outputs": [],
   "source": [
    "kospi200_companies_df.iloc[29]#['페이지접속링크'] #-> pdf 파일 존재하지 않음 == 당연히 pdf 다운로드 링크 없음\n",
    "# 결측치가 존재하는 행  제거\n",
    "kospi200_companies_df = kospi200_companies_df.drop(29)"
   ]
  },
  {
   "cell_type": "markdown",
   "metadata": {},
   "source": [
    "4. pdf 다운로드"
   ]
  },
  {
   "cell_type": "code",
   "execution_count": 6,
   "metadata": {},
   "outputs": [
    {
     "name": "stdout",
     "output_type": "stream",
     "text": [
      "pdf 다운로드 시작\n",
      "pdf 다운로드 진행률 : 100/362\n",
      "pdf 다운로드 진행률 : 200/362\n",
      "pdf 다운로드 진행률 : 300/362\n",
      "완료\n"
     ]
    }
   ],
   "source": [
    "# pdf 다운로드\n",
    "import os\n",
    "import urllib.request\n",
    "import traceback\n",
    "\n",
    "total_info = [tuple(row) for row in kospi200_companies_df.values] # 데이터프레임을 리스트 안의 튜플 데이터 형태로 변환\n",
    "\n",
    "dir = './pdf/' # pdf 파일 저장할 경로 설정\n",
    "if not os.path.exists(dir): # 폴더 없는 경우에 생성하는 코드\n",
    "    os.makedirs(dir)\n",
    "\n",
    "for i in range(len(total_info)):\n",
    "    if i==0:\n",
    "        print('pdf 다운로드 시작')\n",
    "    try:\n",
    "        file_name = total_info[i][0]+'_'+str(total_info[i][1])+'.pdf'\n",
    "        urllib.request.urlretrieve(total_info[i][4], dir+file_name)\n",
    "    except:\n",
    "        print(f\"error : {total_info[i][0]}\")\n",
    "        print(traceback.format_exc())\n",
    "        i += 1 # 에러가 발생한 경우, 해당 항목부터 다시 크롤링할 수 있도록 i를 1 증가시킴\n",
    "    if i!=0 and i%100==0:\n",
    "        print(f'pdf 다운로드 진행률 : {i}/{len(total_info)}') # 100개 다운로드마다 알림\n",
    "print('완료')"
   ]
  },
  {
   "cell_type": "markdown",
   "metadata": {},
   "source": [
    "5. 데이터프레임에 pdf 내용 저장 (전처리X)"
   ]
  },
  {
   "cell_type": "code",
   "execution_count": 7,
   "metadata": {},
   "outputs": [
    {
     "name": "stderr",
     "output_type": "stream",
     "text": [
      "[Kss]: Oh! You have mecab in your environment. Kss will take this as a backend! :D\n",
      "\n"
     ]
    },
    {
     "name": "stdout",
     "output_type": "stream",
     "text": [
      "해당파일 제외 : c:\\Users\\SDA05\\Desktop\\ESG_TEAM1\\지속가능경영보고서_키워드추출용\\sustainable_management_report_crawling\\pdf\\LG유플러스_2015.pdf\n",
      "해당파일 제외 : c:\\Users\\SDA05\\Desktop\\ESG_TEAM1\\지속가능경영보고서_키워드추출용\\sustainable_management_report_crawling\\pdf\\한화시스템_2021.pdf\n"
     ]
    },
    {
     "data": {
      "text/html": [
       "<div>\n",
       "<style scoped>\n",
       "    .dataframe tbody tr th:only-of-type {\n",
       "        vertical-align: middle;\n",
       "    }\n",
       "\n",
       "    .dataframe tbody tr th {\n",
       "        vertical-align: top;\n",
       "    }\n",
       "\n",
       "    .dataframe thead th {\n",
       "        text-align: right;\n",
       "    }\n",
       "</style>\n",
       "<table border=\"1\" class=\"dataframe\">\n",
       "  <thead>\n",
       "    <tr style=\"text-align: right;\">\n",
       "      <th></th>\n",
       "      <th>회사명</th>\n",
       "      <th>발행년도</th>\n",
       "      <th>코드</th>\n",
       "      <th>페이지접속링크</th>\n",
       "      <th>pdf다운로드링크</th>\n",
       "      <th>내용</th>\n",
       "    </tr>\n",
       "  </thead>\n",
       "  <tbody>\n",
       "    <tr>\n",
       "      <th>0</th>\n",
       "      <td>삼성물산</td>\n",
       "      <td>2013</td>\n",
       "      <td>20131224000500</td>\n",
       "      <td>https://kind.krx.co.kr/common/disclsviewer.do?...</td>\n",
       "      <td>https://kind.krx.co.kr/external/2013/12/24/000...</td>\n",
       "      <td>[Samsung C&amp;T Corporation Sustainability Report...</td>\n",
       "    </tr>\n",
       "    <tr>\n",
       "      <th>1</th>\n",
       "      <td>LG생활건강</td>\n",
       "      <td>2013</td>\n",
       "      <td>20131023000180</td>\n",
       "      <td>https://kind.krx.co.kr/common/disclsviewer.do?...</td>\n",
       "      <td>https://kind.krx.co.kr/external/2013/10/23/000...</td>\n",
       "      <td>[2012 LG생활건강 CSR 보고서보고서 개요LG생활건강은 2010년 첫 지속가능...</td>\n",
       "    </tr>\n",
       "    <tr>\n",
       "      <th>2</th>\n",
       "      <td>LG유플러스</td>\n",
       "      <td>2013</td>\n",
       "      <td>20131002000021</td>\n",
       "      <td>https://kind.krx.co.kr/common/disclsviewer.do?...</td>\n",
       "      <td>https://kind.krx.co.kr/external/2013/10/02/000...</td>\n",
       "      <td>[LG U+2012 지속가능경영보고서About this Report본 보고서는 LG...</td>\n",
       "    </tr>\n",
       "    <tr>\n",
       "      <th>3</th>\n",
       "      <td>한화솔루션</td>\n",
       "      <td>2013</td>\n",
       "      <td>20131001000469</td>\n",
       "      <td>https://kind.krx.co.kr/common/disclsviewer.do?...</td>\n",
       "      <td>https://kind.krx.co.kr/external/2013/10/01/000...</td>\n",
       "      <td>[Sustainability Report본 지속가능성보고서는 FSC로부터 인증받은 ...</td>\n",
       "    </tr>\n",
       "    <tr>\n",
       "      <th>6</th>\n",
       "      <td>두산에너빌리티</td>\n",
       "      <td>2013</td>\n",
       "      <td>20130729000019</td>\n",
       "      <td>https://kind.krx.co.kr/common/disclsviewer.do?...</td>\n",
       "      <td>https://kind.krx.co.kr/external/2013/07/29/000...</td>\n",
       "      <td>[Building Your Tomorrow Today본사·창원 공장 경상남도 창원시...</td>\n",
       "    </tr>\n",
       "    <tr>\n",
       "      <th>...</th>\n",
       "      <td>...</td>\n",
       "      <td>...</td>\n",
       "      <td>...</td>\n",
       "      <td>...</td>\n",
       "      <td>...</td>\n",
       "      <td>...</td>\n",
       "    </tr>\n",
       "    <tr>\n",
       "      <th>490</th>\n",
       "      <td>한화솔루션</td>\n",
       "      <td>2023</td>\n",
       "      <td>20230530000639</td>\n",
       "      <td>https://kind.krx.co.kr/common/disclsviewer.do?...</td>\n",
       "      <td>https://kind.krx.co.kr/external/2023/06/23/000...</td>\n",
       "      <td>[Hanwha Solutions Sustainability Report 2023Su...</td>\n",
       "    </tr>\n",
       "    <tr>\n",
       "      <th>491</th>\n",
       "      <td>카카오페이</td>\n",
       "      <td>2023</td>\n",
       "      <td>20230530000636</td>\n",
       "      <td>https://kind.krx.co.kr/common/disclsviewer.do?...</td>\n",
       "      <td>https://kind.krx.co.kr/external/2023/05/30/000...</td>\n",
       "      <td>[이로운 흐름, 유연한 금융2023ESGReport보고서 개요카카오페이는 당사의 서...</td>\n",
       "    </tr>\n",
       "    <tr>\n",
       "      <th>492</th>\n",
       "      <td>카카오</td>\n",
       "      <td>2023</td>\n",
       "      <td>20230530000517</td>\n",
       "      <td>https://kind.krx.co.kr/common/disclsviewer.do?...</td>\n",
       "      <td>https://kind.krx.co.kr/external/2023/05/30/000...</td>\n",
       "      <td>[보고서 개요카카오는 더 나은 세상을 만들기 위한 회사의 약속과 책임 활동을 담은 ...</td>\n",
       "    </tr>\n",
       "    <tr>\n",
       "      <th>493</th>\n",
       "      <td>에스엘</td>\n",
       "      <td>2023</td>\n",
       "      <td>20230530000487</td>\n",
       "      <td>https://kind.krx.co.kr/common/disclsviewer.do?...</td>\n",
       "      <td>https://kind.krx.co.kr/external/2023/05/31/000...</td>\n",
       "      <td>[ENVIRONMENTAL SOCIAL GOVERNANCECORPORATION202...</td>\n",
       "    </tr>\n",
       "    <tr>\n",
       "      <th>494</th>\n",
       "      <td>OCI홀딩스</td>\n",
       "      <td>2023</td>\n",
       "      <td>20230526000247</td>\n",
       "      <td>https://kind.krx.co.kr/common/disclsviewer.do?...</td>\n",
       "      <td>https://kind.krx.co.kr/external/2023/05/26/000...</td>\n",
       "      <td>[EXPANDING POSSIBILITIES., UNLOCKING VALUE., I...</td>\n",
       "    </tr>\n",
       "  </tbody>\n",
       "</table>\n",
       "<p>362 rows × 6 columns</p>\n",
       "</div>"
      ],
      "text/plain": [
       "         회사명  발행년도              코드  \\\n",
       "0       삼성물산  2013  20131224000500   \n",
       "1     LG생활건강  2013  20131023000180   \n",
       "2     LG유플러스  2013  20131002000021   \n",
       "3      한화솔루션  2013  20131001000469   \n",
       "6    두산에너빌리티  2013  20130729000019   \n",
       "..       ...   ...             ...   \n",
       "490    한화솔루션  2023  20230530000639   \n",
       "491    카카오페이  2023  20230530000636   \n",
       "492      카카오  2023  20230530000517   \n",
       "493      에스엘  2023  20230530000487   \n",
       "494   OCI홀딩스  2023  20230526000247   \n",
       "\n",
       "                                               페이지접속링크  \\\n",
       "0    https://kind.krx.co.kr/common/disclsviewer.do?...   \n",
       "1    https://kind.krx.co.kr/common/disclsviewer.do?...   \n",
       "2    https://kind.krx.co.kr/common/disclsviewer.do?...   \n",
       "3    https://kind.krx.co.kr/common/disclsviewer.do?...   \n",
       "6    https://kind.krx.co.kr/common/disclsviewer.do?...   \n",
       "..                                                 ...   \n",
       "490  https://kind.krx.co.kr/common/disclsviewer.do?...   \n",
       "491  https://kind.krx.co.kr/common/disclsviewer.do?...   \n",
       "492  https://kind.krx.co.kr/common/disclsviewer.do?...   \n",
       "493  https://kind.krx.co.kr/common/disclsviewer.do?...   \n",
       "494  https://kind.krx.co.kr/common/disclsviewer.do?...   \n",
       "\n",
       "                                             pdf다운로드링크  \\\n",
       "0    https://kind.krx.co.kr/external/2013/12/24/000...   \n",
       "1    https://kind.krx.co.kr/external/2013/10/23/000...   \n",
       "2    https://kind.krx.co.kr/external/2013/10/02/000...   \n",
       "3    https://kind.krx.co.kr/external/2013/10/01/000...   \n",
       "6    https://kind.krx.co.kr/external/2013/07/29/000...   \n",
       "..                                                 ...   \n",
       "490  https://kind.krx.co.kr/external/2023/06/23/000...   \n",
       "491  https://kind.krx.co.kr/external/2023/05/30/000...   \n",
       "492  https://kind.krx.co.kr/external/2023/05/30/000...   \n",
       "493  https://kind.krx.co.kr/external/2023/05/31/000...   \n",
       "494  https://kind.krx.co.kr/external/2023/05/26/000...   \n",
       "\n",
       "                                                    내용  \n",
       "0    [Samsung C&T Corporation Sustainability Report...  \n",
       "1    [2012 LG생활건강 CSR 보고서보고서 개요LG생활건강은 2010년 첫 지속가능...  \n",
       "2    [LG U+2012 지속가능경영보고서About this Report본 보고서는 LG...  \n",
       "3    [Sustainability Report본 지속가능성보고서는 FSC로부터 인증받은 ...  \n",
       "6    [Building Your Tomorrow Today본사·창원 공장 경상남도 창원시...  \n",
       "..                                                 ...  \n",
       "490  [Hanwha Solutions Sustainability Report 2023Su...  \n",
       "491  [이로운 흐름, 유연한 금융2023ESGReport보고서 개요카카오페이는 당사의 서...  \n",
       "492  [보고서 개요카카오는 더 나은 세상을 만들기 위한 회사의 약속과 책임 활동을 담은 ...  \n",
       "493  [ENVIRONMENTAL SOCIAL GOVERNANCECORPORATION202...  \n",
       "494  [EXPANDING POSSIBILITIES., UNLOCKING VALUE., I...  \n",
       "\n",
       "[362 rows x 6 columns]"
      ]
     },
     "execution_count": 7,
     "metadata": {},
     "output_type": "execute_result"
    }
   ],
   "source": [
    "import pandas as pd\n",
    "import os\n",
    "import fitz\n",
    "import kss\n",
    "import pandas as pd\n",
    "\n",
    "pdf_path = os.getcwd() + '\\\\pdf\\\\'\n",
    "\n",
    "final_list = []\n",
    "for idx, row in kospi200_companies_df.iterrows():\n",
    "    pdf_file_path = pdf_path + row['회사명'] + '_' + str(row['발행년도']) + '.pdf'\n",
    "    try:\n",
    "        with fitz.open(pdf_file_path) as doc:\n",
    "            contents = ''\n",
    "            for page in doc:\n",
    "                contents += page.get_text()\n",
    "            sents = kss.split_sentences(contents)\n",
    "            sents = [sent.replace('\\n', '') for sent in sents]\n",
    "            final_list.append(sents)\n",
    "\n",
    "    except:\n",
    "        print('해당파일 제외 :', pdf_file_path)\n",
    "        # 파일을 열 수 없는 경우 None 값을 추가합니다.\n",
    "        final_list.append(None)\n",
    "\n",
    "# 데이터프레임을 복제하여 새로운 데이터프레임을 생성합니다.\n",
    "new_df = kospi200_companies_df.copy()\n",
    "\n",
    "# '내용' 열을 final_list의 각 항목으로 설정합니다.\n",
    "new_df['내용'] = final_list\n",
    "\n",
    "# 수정된 데이터프레임을 저장 및 출력합니다.\n",
    "new_df.to_csv('지속가능경영보고서전처리전내용.csv',index=False)\n",
    "new_df"
   ]
  }
 ],
 "metadata": {
  "kernelspec": {
   "display_name": "esg",
   "language": "python",
   "name": "python3"
  },
  "language_info": {
   "codemirror_mode": {
    "name": "ipython",
    "version": 3
   },
   "file_extension": ".py",
   "mimetype": "text/x-python",
   "name": "python",
   "nbconvert_exporter": "python",
   "pygments_lexer": "ipython3",
   "version": "3.9.19"
  }
 },
 "nbformat": 4,
 "nbformat_minor": 2
}
